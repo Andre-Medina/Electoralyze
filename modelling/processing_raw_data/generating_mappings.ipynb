{
 "cells": [
  {
   "cell_type": "markdown",
   "metadata": {},
   "source": [
    "### Generate region mapping files\n",
    "\n",
    "This notebook can be used to generate the region mapping files used to redistribute between different regions. Will store the data locally."
   ]
  },
  {
   "cell_type": "code",
   "execution_count": 1,
   "metadata": {},
   "outputs": [],
   "source": [
    "from electoralyze import region\n",
    "from electoralyze.region.redistribute.mapping import get_region_mapping_base"
   ]
  },
  {
   "cell_type": "code",
   "execution_count": 2,
   "metadata": {},
   "outputs": [
    {
     "name": "stdout",
     "output_type": "stream",
     "text": [
      "Extracting...\n",
      "Transforming...\n",
      "Extracting...\n",
      "Transforming...\n"
     ]
    }
   ],
   "source": [
    "get_region_mapping_base(\n",
    "    region_from=region.Federal2022,\n",
    "    region_to=region.SA1_2021,\n",
    "    mapping_method=\"intersection_area\",\n",
    "    force_new=True,\n",
    "    save_data=True,\n",
    "    redistribute_with_full=True,\n",
    ")"
   ]
  },
  {
   "cell_type": "code",
   "execution_count": null,
   "metadata": {},
   "outputs": [
    {
     "name": "stdout",
     "output_type": "stream",
     "text": [
      "Extracting...\n",
      "Transforming...\n",
      "Extracting...\n",
      "Transforming...\n"
     ]
    }
   ],
   "source": [
    "get_region_mapping_base(\n",
    "    region_from=region.SA2_2021,\n",
    "    region_to=region.SA1_2021,\n",
    "    mapping_method=\"intersection_area\",\n",
    "    force_new=True,\n",
    "    save_data=True,\n",
    "    redistribute_with_full=True,\n",
    ")"
   ]
  }
 ],
 "metadata": {
  "kernelspec": {
   "display_name": "Python 3",
   "language": "python",
   "name": "python3"
  },
  "language_info": {
   "codemirror_mode": {
    "name": "ipython",
    "version": 3
   },
   "file_extension": ".py",
   "mimetype": "text/x-python",
   "name": "python",
   "nbconvert_exporter": "python",
   "pygments_lexer": "ipython3",
   "version": "3.13.0"
  }
 },
 "nbformat": 4,
 "nbformat_minor": 2
}
