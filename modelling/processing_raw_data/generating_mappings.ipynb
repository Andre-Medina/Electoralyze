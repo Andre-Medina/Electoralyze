{
 "cells": [
  {
   "cell_type": "markdown",
   "metadata": {},
   "source": [
    "### Generate region mapping files\n",
    "\n",
    "This notebook can be used to generate the region mapping files used to redistribute between different regions. Will store the data locally."
   ]
  },
  {
   "cell_type": "code",
   "execution_count": 1,
   "metadata": {},
   "outputs": [
    {
     "ename": "",
     "evalue": "",
     "output_type": "error",
     "traceback": [
      "\u001b[1;31mThe Kernel crashed while executing code in the current cell or a previous cell. \n",
      "\u001b[1;31mPlease review the code in the cell(s) to identify a possible cause of the failure. \n",
      "\u001b[1;31mClick <a href='https://aka.ms/vscodeJupyterKernelCrash'>here</a> for more info. \n",
      "\u001b[1;31mView Jupyter <a href='command:jupyter.viewOutput'>log</a> for further details."
     ]
    }
   ],
   "source": [
    "from electoralyze import region\n",
    "from electoralyze.region.redistribute.mapping import get_region_mapping_base"
   ]
  },
  {
   "cell_type": "code",
   "execution_count": 4,
   "metadata": {},
   "outputs": [
    {
     "name": "stdout",
     "output_type": "stream",
     "text": [
      "Extracting...\n",
      "Transforming...\n",
      "Extracting...\n",
      "Transforming...\n"
     ]
    },
    {
     "name": "stderr",
     "output_type": "stream",
     "text": [
      "/home/andre/git/private/electoralyze/packages/electoralyze/electoralyze/region/redistribute/mapping.py:199: UserWarning: Geometry is in a geographic CRS. Results from 'area' are likely incorrect. Use 'GeoSeries.to_crs()' to re-project geometries to a projected CRS before this operation.\n",
      "\n",
      "  geometry_combined.assign(intersection_area=lambda df: df[\"geometry_from\"].intersection(df[\"geometry_to\"]).area)\n"
     ]
    },
    {
     "data": {
      "text/html": [
       "<div><style>\n",
       ".dataframe > thead > tr,\n",
       ".dataframe > tbody > tr {\n",
       "  text-align: right;\n",
       "  white-space: pre-wrap;\n",
       "}\n",
       "</style>\n",
       "<small>shape: (93_158, 3)</small><table border=\"1\" class=\"dataframe\"><thead><tr><th>federal_2022</th><th>SA1_2021</th><th>mapping</th></tr><tr><td>str</td><td>i64</td><td>f64</td></tr></thead><tbody><tr><td>&quot;Banks&quot;</td><td>11901135801</td><td>0.000011</td></tr><tr><td>&quot;Banks&quot;</td><td>11901135802</td><td>0.000007</td></tr><tr><td>&quot;Banks&quot;</td><td>11901135803</td><td>0.000016</td></tr><tr><td>&quot;Banks&quot;</td><td>11901135804</td><td>0.000017</td></tr><tr><td>&quot;Banks&quot;</td><td>11901135805</td><td>0.000011</td></tr><tr><td>&hellip;</td><td>&hellip;</td><td>&hellip;</td></tr><tr><td>null</td><td>12003168029</td><td>1.6941e-21</td></tr><tr><td>null</td><td>30402108816</td><td>1.3553e-20</td></tr><tr><td>null</td><td>11703164618</td><td>1.0588e-22</td></tr><tr><td>null</td><td>40104101608</td><td>3.3881e-21</td></tr><tr><td>null</td><td>20802118207</td><td>6.4036e-19</td></tr></tbody></table></div>"
      ],
      "text/plain": [
       "shape: (93_158, 3)\n",
       "┌──────────────┬─────────────┬────────────┐\n",
       "│ federal_2022 ┆ SA1_2021    ┆ mapping    │\n",
       "│ ---          ┆ ---         ┆ ---        │\n",
       "│ str          ┆ i64         ┆ f64        │\n",
       "╞══════════════╪═════════════╪════════════╡\n",
       "│ Banks        ┆ 11901135801 ┆ 0.000011   │\n",
       "│ Banks        ┆ 11901135802 ┆ 0.000007   │\n",
       "│ Banks        ┆ 11901135803 ┆ 0.000016   │\n",
       "│ Banks        ┆ 11901135804 ┆ 0.000017   │\n",
       "│ Banks        ┆ 11901135805 ┆ 0.000011   │\n",
       "│ …            ┆ …           ┆ …          │\n",
       "│ null         ┆ 12003168029 ┆ 1.6941e-21 │\n",
       "│ null         ┆ 30402108816 ┆ 1.3553e-20 │\n",
       "│ null         ┆ 11703164618 ┆ 1.0588e-22 │\n",
       "│ null         ┆ 40104101608 ┆ 3.3881e-21 │\n",
       "│ null         ┆ 20802118207 ┆ 6.4036e-19 │\n",
       "└──────────────┴─────────────┴────────────┘"
      ]
     },
     "execution_count": 4,
     "metadata": {},
     "output_type": "execute_result"
    },
    {
     "ename": "",
     "evalue": "",
     "output_type": "error",
     "traceback": [
      "\u001b[1;31mThe Kernel crashed while executing code in the current cell or a previous cell. \n",
      "\u001b[1;31mPlease review the code in the cell(s) to identify a possible cause of the failure. \n",
      "\u001b[1;31mClick <a href='https://aka.ms/vscodeJupyterKernelCrash'>here</a> for more info. \n",
      "\u001b[1;31mView Jupyter <a href='command:jupyter.viewOutput'>log</a> for further details."
     ]
    }
   ],
   "source": [
    "get_region_mapping_base(\n",
    "    region_from=region.Federal2022,\n",
    "    region_to=region.SA1_2021,\n",
    "    mapping_method=\"intersection_area\",\n",
    "    force_new=True,\n",
    "    save_data=True,\n",
    "    redistribute_with_full=True,\n",
    ")"
   ]
  },
  {
   "cell_type": "code",
   "execution_count": 2,
   "metadata": {},
   "outputs": [
    {
     "name": "stdout",
     "output_type": "stream",
     "text": [
      "Extracting...\n",
      "Transforming...\n",
      "Extracting...\n",
      "Transforming...\n"
     ]
    }
   ],
   "source": [
    "get_region_mapping_base(\n",
    "    region_from=region.SA2_2021,\n",
    "    region_to=region.SA1_2021,\n",
    "    mapping_method=\"intersection_area\",\n",
    "    force_new=True,\n",
    "    save_data=True,\n",
    "    redistribute_with_full=True,\n",
    ")"
   ]
  }
 ],
 "metadata": {
  "kernelspec": {
   "display_name": "Python 3",
   "language": "python",
   "name": "python3"
  },
  "language_info": {
   "codemirror_mode": {
    "name": "ipython",
    "version": 3
   },
   "file_extension": ".py",
   "mimetype": "text/x-python",
   "name": "python",
   "nbconvert_exporter": "python",
   "pygments_lexer": "ipython3",
   "version": "3.13.0"
  }
 },
 "nbformat": 4,
 "nbformat_minor": 2
}
