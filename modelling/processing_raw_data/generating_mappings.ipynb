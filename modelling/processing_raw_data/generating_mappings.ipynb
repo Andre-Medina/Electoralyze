{
 "cells": [
  {
   "cell_type": "markdown",
   "metadata": {},
   "source": [
    "### Generate region mapping files\n",
    "\n",
    "This notebook can be used to generate the region mapping files used to redistribute between different regions. Will store the data locally."
   ]
  },
  {
   "cell_type": "code",
   "execution_count": 1,
   "metadata": {},
   "outputs": [],
   "source": [
    "from electoralyze import region\n",
    "from electoralyze.region.redistribute.mapping import get_region_mapping_base"
   ]
  },
  {
   "cell_type": "code",
   "execution_count": 2,
   "metadata": {},
   "outputs": [
    {
     "name": "stdout",
     "output_type": "stream",
     "text": [
      "Extracting...\n",
      "Transforming...\n",
      "Extracting...\n",
      "Transforming...\n"
     ]
    },
    {
     "name": "stderr",
     "output_type": "stream",
     "text": [
      "/home/andre/git/private/electoralyze/packages/electoralyze/electoralyze/region/redistribute/mapping.py:208: UserWarning: Geometry is in a geographic CRS. Results from 'area' are likely incorrect. Use 'GeoSeries.to_crs()' to re-project geometries to a projected CRS before this operation.\n",
      "\n",
      "  intersections.assign(intersection_area=lambda df: df[\"geometry\"].area)\n"
     ]
    },
    {
     "data": {
      "text/html": [
       "<div><style>\n",
       ".dataframe > thead > tr,\n",
       ".dataframe > tbody > tr {\n",
       "  text-align: right;\n",
       "  white-space: pre-wrap;\n",
       "}\n",
       "</style>\n",
       "<small>shape: (93_158, 3)</small><table border=\"1\" class=\"dataframe\"><thead><tr><th>federal_2022</th><th>SA1_2021</th><th>mapping</th></tr><tr><td>str</td><td>i64</td><td>f64</td></tr></thead><tbody><tr><td>&quot;banks&quot;</td><td>11901135801</td><td>0.000011</td></tr><tr><td>&quot;banks&quot;</td><td>11901135802</td><td>0.000007</td></tr><tr><td>&quot;banks&quot;</td><td>11901135803</td><td>0.000016</td></tr><tr><td>&quot;banks&quot;</td><td>11901135804</td><td>0.000017</td></tr><tr><td>&quot;banks&quot;</td><td>11901135805</td><td>0.000011</td></tr><tr><td>&hellip;</td><td>&hellip;</td><td>&hellip;</td></tr><tr><td>null</td><td>90104100404</td><td>2.7661e-7</td></tr><tr><td>null</td><td>90104100405</td><td>1.0842e-19</td></tr><tr><td>null</td><td>90104100406</td><td>2.8787e-7</td></tr><tr><td>null</td><td>90104100407</td><td>5.4723e-7</td></tr><tr><td>null</td><td>90104100408</td><td>6.0929e-7</td></tr></tbody></table></div>"
      ],
      "text/plain": [
       "shape: (93_158, 3)\n",
       "┌──────────────┬─────────────┬────────────┐\n",
       "│ federal_2022 ┆ SA1_2021    ┆ mapping    │\n",
       "│ ---          ┆ ---         ┆ ---        │\n",
       "│ str          ┆ i64         ┆ f64        │\n",
       "╞══════════════╪═════════════╪════════════╡\n",
       "│ banks        ┆ 11901135801 ┆ 0.000011   │\n",
       "│ banks        ┆ 11901135802 ┆ 0.000007   │\n",
       "│ banks        ┆ 11901135803 ┆ 0.000016   │\n",
       "│ banks        ┆ 11901135804 ┆ 0.000017   │\n",
       "│ banks        ┆ 11901135805 ┆ 0.000011   │\n",
       "│ …            ┆ …           ┆ …          │\n",
       "│ null         ┆ 90104100404 ┆ 2.7661e-7  │\n",
       "│ null         ┆ 90104100405 ┆ 1.0842e-19 │\n",
       "│ null         ┆ 90104100406 ┆ 2.8787e-7  │\n",
       "│ null         ┆ 90104100407 ┆ 5.4723e-7  │\n",
       "│ null         ┆ 90104100408 ┆ 6.0929e-7  │\n",
       "└──────────────┴─────────────┴────────────┘"
      ]
     },
     "execution_count": 2,
     "metadata": {},
     "output_type": "execute_result"
    }
   ],
   "source": [
    "mapping = get_region_mapping_base(\n",
    "    region_from=region.Federal2022,\n",
    "    region_to=region.SA1_2021,\n",
    "    mapping_method=\"intersection_area\",\n",
    "    force_new=True,\n",
    "    save_data=True,\n",
    "    redistribute_with_full=True,\n",
    ")\n",
    "mapping"
   ]
  },
  {
   "cell_type": "code",
   "execution_count": 3,
   "metadata": {},
   "outputs": [
    {
     "data": {
      "text/html": [
       "<div><style>\n",
       ".dataframe > thead > tr,\n",
       ".dataframe > tbody > tr {\n",
       "  text-align: right;\n",
       "  white-space: pre-wrap;\n",
       "}\n",
       "</style>\n",
       "<small>shape: (86_608, 3)</small><table border=\"1\" class=\"dataframe\"><thead><tr><th>SA2_2021</th><th>SA1_2021</th><th>mapping</th></tr><tr><td>i64</td><td>i64</td><td>f64</td></tr></thead><tbody><tr><td>209041432</td><td>20904143201</td><td>0.000016</td></tr><tr><td>209041432</td><td>20904143202</td><td>0.000018</td></tr><tr><td>209041432</td><td>20904143203</td><td>0.000009</td></tr><tr><td>209041432</td><td>20904143204</td><td>0.000008</td></tr><tr><td>209041432</td><td>20904143205</td><td>0.000005</td></tr><tr><td>&hellip;</td><td>&hellip;</td><td>&hellip;</td></tr><tr><td>null</td><td>90104100403</td><td>7.5894e-19</td></tr><tr><td>null</td><td>90104100404</td><td>5.4210e-20</td></tr><tr><td>null</td><td>90104100405</td><td>1.0842e-19</td></tr><tr><td>null</td><td>90104100406</td><td>3.7947e-19</td></tr><tr><td>null</td><td>90104100407</td><td>2.1684e-18</td></tr></tbody></table></div>"
      ],
      "text/plain": [
       "shape: (86_608, 3)\n",
       "┌───────────┬─────────────┬────────────┐\n",
       "│ SA2_2021  ┆ SA1_2021    ┆ mapping    │\n",
       "│ ---       ┆ ---         ┆ ---        │\n",
       "│ i64       ┆ i64         ┆ f64        │\n",
       "╞═══════════╪═════════════╪════════════╡\n",
       "│ 209041432 ┆ 20904143201 ┆ 0.000016   │\n",
       "│ 209041432 ┆ 20904143202 ┆ 0.000018   │\n",
       "│ 209041432 ┆ 20904143203 ┆ 0.000009   │\n",
       "│ 209041432 ┆ 20904143204 ┆ 0.000008   │\n",
       "│ 209041432 ┆ 20904143205 ┆ 0.000005   │\n",
       "│ …         ┆ …           ┆ …          │\n",
       "│ null      ┆ 90104100403 ┆ 7.5894e-19 │\n",
       "│ null      ┆ 90104100404 ┆ 5.4210e-20 │\n",
       "│ null      ┆ 90104100405 ┆ 1.0842e-19 │\n",
       "│ null      ┆ 90104100406 ┆ 3.7947e-19 │\n",
       "│ null      ┆ 90104100407 ┆ 2.1684e-18 │\n",
       "└───────────┴─────────────┴────────────┘"
      ]
     },
     "execution_count": 3,
     "metadata": {},
     "output_type": "execute_result"
    }
   ],
   "source": [
    "mapping = get_region_mapping_base(\n",
    "    region_from=region.SA2_2021,\n",
    "    region_to=region.SA1_2021,\n",
    "    mapping_method=\"intersection_area\",\n",
    "    # force_new=True,\n",
    "    # save_data=True,\n",
    "    # redistribute_with_full=True,\n",
    ")\n",
    "mapping"
   ]
  }
 ],
 "metadata": {
  "kernelspec": {
   "display_name": "Python 3",
   "language": "python",
   "name": "python3"
  },
  "language_info": {
   "codemirror_mode": {
    "name": "ipython",
    "version": 3
   },
   "file_extension": ".py",
   "mimetype": "text/x-python",
   "name": "python",
   "nbconvert_exporter": "python",
   "pygments_lexer": "ipython3",
   "version": "3.13.0"
  }
 },
 "nbformat": 4,
 "nbformat_minor": 2
}
