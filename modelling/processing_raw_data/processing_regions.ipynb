{
 "cells": [
  {
   "cell_type": "markdown",
   "metadata": {},
   "source": [
    "### Download and process key regions\n",
    "\n",
    "Use this notebook to download and process key regions and store the data locally."
   ]
  },
  {
   "cell_type": "code",
   "execution_count": 1,
   "metadata": {},
   "outputs": [],
   "source": [
    "from electoralyze import region\n",
    "from electoralyze.common.geometry import to_geopandas  # noqa: F401"
   ]
  },
  {
   "cell_type": "code",
   "execution_count": null,
   "metadata": {},
   "outputs": [],
   "source": [
    "region.SA1_2021.process_raw(download=True, force_new=True)"
   ]
  },
  {
   "cell_type": "code",
   "execution_count": null,
   "metadata": {},
   "outputs": [],
   "source": [
    "region.SA1_2021.geometry  # noqa: B018\n",
    "region.SA1_2021.metadata  # noqa: B018\n",
    "# region.SA1_2021.geometry.pipe(to_geopandas).explore()"
   ]
  },
  {
   "cell_type": "code",
   "execution_count": null,
   "metadata": {},
   "outputs": [],
   "source": [
    "region.SA2_2021.process_raw(download=True, force_new=True)"
   ]
  },
  {
   "cell_type": "code",
   "execution_count": null,
   "metadata": {},
   "outputs": [],
   "source": [
    "region.SA2_2021.geometry  # noqa: B018\n",
    "region.SA2_2021.metadata  # noqa: B018\n",
    "# region.SA2_2021.geometry.pipe(to_geopandas).explore()"
   ]
  },
  {
   "cell_type": "code",
   "execution_count": 2,
   "metadata": {},
   "outputs": [
    {
     "name": "stdout",
     "output_type": "stream",
     "text": [
      "Downloading raw...\n",
      "Loading raw...\n",
      "Extracting...\n",
      "Transforming...\n",
      "Saving...\n",
      "Done!\n"
     ]
    }
   ],
   "source": [
    "region.Federal2022.process_raw(download=True, force_new=True)"
   ]
  },
  {
   "cell_type": "code",
   "execution_count": 3,
   "metadata": {},
   "outputs": [
    {
     "data": {
      "text/html": [
       "<div><style>\n",
       ".dataframe > thead > tr,\n",
       ".dataframe > tbody > tr {\n",
       "  text-align: right;\n",
       "  white-space: pre-wrap;\n",
       "}\n",
       "</style>\n",
       "<small>shape: (151, 5)</small><table border=\"1\" class=\"dataframe\"><thead><tr><th>federal_2022</th><th>federal_2022_name</th><th>short_name</th><th>area_sqkm</th><th>actual</th></tr><tr><td>str</td><td>str</td><td>str</td><td>f64</td><td>i64</td></tr></thead><tbody><tr><td>&quot;adelaide&quot;</td><td>&quot;Adelaide&quot;</td><td>&quot;Adelaide&quot;</td><td>86.4</td><td>0</td></tr><tr><td>&quot;aston&quot;</td><td>&quot;Aston&quot;</td><td>&quot;Aston&quot;</td><td>113.79</td><td>111098</td></tr><tr><td>&quot;ballarat&quot;</td><td>&quot;Ballarat&quot;</td><td>&quot;Ballarat&quot;</td><td>5398.86</td><td>106745</td></tr><tr><td>&quot;banks&quot;</td><td>&quot;Banks&quot;</td><td>&quot;Banks&quot;</td><td>49.47</td><td>0</td></tr><tr><td>&quot;barker&quot;</td><td>&quot;Barker&quot;</td><td>&quot;Barker&quot;</td><td>65204.13</td><td>0</td></tr><tr><td>&hellip;</td><td>&hellip;</td><td>&hellip;</td><td>&hellip;</td><td>&hellip;</td></tr><tr><td>&quot;werriwa&quot;</td><td>&quot;Werriwa&quot;</td><td>&quot;Werriwa&quot;</td><td>171.49</td><td>0</td></tr><tr><td>&quot;whitlam&quot;</td><td>&quot;Whitlam&quot;</td><td>&quot;Whitlam&quot;</td><td>1295.54</td><td>0</td></tr><tr><td>&quot;wide_bay&quot;</td><td>&quot;Wide&nbsp;Bay&quot;</td><td>&quot;WIDE&nbsp;BAY&quot;</td><td>14224.83</td><td>0</td></tr><tr><td>&quot;wills&quot;</td><td>&quot;Wills&quot;</td><td>&quot;Wills&quot;</td><td>46.44</td><td>108904</td></tr><tr><td>&quot;wright&quot;</td><td>&quot;Wright&quot;</td><td>&quot;Wright&quot;</td><td>7577.19</td><td>0</td></tr></tbody></table></div>"
      ],
      "text/plain": [
       "shape: (151, 5)\n",
       "┌──────────────┬───────────────────┬────────────┬───────────┬────────┐\n",
       "│ federal_2022 ┆ federal_2022_name ┆ short_name ┆ area_sqkm ┆ actual │\n",
       "│ ---          ┆ ---               ┆ ---        ┆ ---       ┆ ---    │\n",
       "│ str          ┆ str               ┆ str        ┆ f64       ┆ i64    │\n",
       "╞══════════════╪═══════════════════╪════════════╪═══════════╪════════╡\n",
       "│ adelaide     ┆ Adelaide          ┆ Adelaide   ┆ 86.4      ┆ 0      │\n",
       "│ aston        ┆ Aston             ┆ Aston      ┆ 113.79    ┆ 111098 │\n",
       "│ ballarat     ┆ Ballarat          ┆ Ballarat   ┆ 5398.86   ┆ 106745 │\n",
       "│ banks        ┆ Banks             ┆ Banks      ┆ 49.47     ┆ 0      │\n",
       "│ barker       ┆ Barker            ┆ Barker     ┆ 65204.13  ┆ 0      │\n",
       "│ …            ┆ …                 ┆ …          ┆ …         ┆ …      │\n",
       "│ werriwa      ┆ Werriwa           ┆ Werriwa    ┆ 171.49    ┆ 0      │\n",
       "│ whitlam      ┆ Whitlam           ┆ Whitlam    ┆ 1295.54   ┆ 0      │\n",
       "│ wide_bay     ┆ Wide Bay          ┆ WIDE BAY   ┆ 14224.83  ┆ 0      │\n",
       "│ wills        ┆ Wills             ┆ Wills      ┆ 46.44     ┆ 108904 │\n",
       "│ wright       ┆ Wright            ┆ Wright     ┆ 7577.19   ┆ 0      │\n",
       "└──────────────┴───────────────────┴────────────┴───────────┴────────┘"
      ]
     },
     "execution_count": 3,
     "metadata": {},
     "output_type": "execute_result"
    }
   ],
   "source": [
    "region.Federal2022.geometry  # noqa: B018\n",
    "region.Federal2022.metadata  # noqa: B018"
   ]
  }
 ],
 "metadata": {
  "kernelspec": {
   "display_name": "Python 3",
   "language": "python",
   "name": "python3"
  },
  "language_info": {
   "codemirror_mode": {
    "name": "ipython",
    "version": 3
   },
   "file_extension": ".py",
   "mimetype": "text/x-python",
   "name": "python",
   "nbconvert_exporter": "python",
   "pygments_lexer": "ipython3",
   "version": "3.13.0"
  }
 },
 "nbformat": 4,
 "nbformat_minor": 2
}
