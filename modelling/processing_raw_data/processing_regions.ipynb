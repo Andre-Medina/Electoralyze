{
 "cells": [
  {
   "cell_type": "markdown",
   "metadata": {},
   "source": [
    "### Download and process key regions\n",
    "\n",
    "Use this notebook to download and process key regions and store the data locally."
   ]
  },
  {
   "cell_type": "code",
   "execution_count": 1,
   "metadata": {},
   "outputs": [],
   "source": [
    "from electoralyze import region\n",
    "from electoralyze.common.geometry import to_geopandas  # noqa: F401"
   ]
  },
  {
   "cell_type": "code",
   "execution_count": 2,
   "metadata": {},
   "outputs": [
    {
     "name": "stdout",
     "output_type": "stream",
     "text": [
      "Downloading raw...\n",
      "Loading raw...\n",
      "Extracting...\n",
      "Transforming...\n",
      "Saving...\n",
      "Done!\n"
     ]
    }
   ],
   "source": [
    "region.SA1_2021.process_raw(download=True, force_new=True)"
   ]
  },
  {
   "cell_type": "code",
   "execution_count": 3,
   "metadata": {},
   "outputs": [
    {
     "data": {
      "text/html": [
       "<div><style>\n",
       ".dataframe > thead > tr,\n",
       ".dataframe > tbody > tr {\n",
       "  text-align: right;\n",
       "  white-space: pre-wrap;\n",
       "}\n",
       "</style>\n",
       "<small>shape: (61_844, 2)</small><table border=\"1\" class=\"dataframe\"><thead><tr><th>SA1_2021</th><th>SA1_2021_name</th></tr><tr><td>i64</td><td>str</td></tr></thead><tbody><tr><td>10102100701</td><td>&quot;10102100701&quot;</td></tr><tr><td>10102100702</td><td>&quot;10102100702&quot;</td></tr><tr><td>10102100703</td><td>&quot;10102100703&quot;</td></tr><tr><td>10102100704</td><td>&quot;10102100704&quot;</td></tr><tr><td>10102100705</td><td>&quot;10102100705&quot;</td></tr><tr><td>&hellip;</td><td>&hellip;</td></tr><tr><td>90104100406</td><td>&quot;90104100406&quot;</td></tr><tr><td>90104100407</td><td>&quot;90104100407&quot;</td></tr><tr><td>90104100408</td><td>&quot;90104100408&quot;</td></tr><tr><td>99797979993</td><td>&quot;99797979993&quot;</td></tr><tr><td>99999949999</td><td>&quot;99999949999&quot;</td></tr></tbody></table></div>"
      ],
      "text/plain": [
       "shape: (61_844, 2)\n",
       "┌─────────────┬───────────────┐\n",
       "│ SA1_2021    ┆ SA1_2021_name │\n",
       "│ ---         ┆ ---           │\n",
       "│ i64         ┆ str           │\n",
       "╞═════════════╪═══════════════╡\n",
       "│ 10102100701 ┆ 10102100701   │\n",
       "│ 10102100702 ┆ 10102100702   │\n",
       "│ 10102100703 ┆ 10102100703   │\n",
       "│ 10102100704 ┆ 10102100704   │\n",
       "│ 10102100705 ┆ 10102100705   │\n",
       "│ …           ┆ …             │\n",
       "│ 90104100406 ┆ 90104100406   │\n",
       "│ 90104100407 ┆ 90104100407   │\n",
       "│ 90104100408 ┆ 90104100408   │\n",
       "│ 99797979993 ┆ 99797979993   │\n",
       "│ 99999949999 ┆ 99999949999   │\n",
       "└─────────────┴───────────────┘"
      ]
     },
     "execution_count": 3,
     "metadata": {},
     "output_type": "execute_result"
    }
   ],
   "source": [
    "region.SA1_2021.geometry  # noqa: B018\n",
    "region.SA1_2021.metadata  # noqa: B018\n",
    "# region.SA1_2021.geometry.pipe(to_geopandas).explore()"
   ]
  },
  {
   "cell_type": "code",
   "execution_count": 4,
   "metadata": {},
   "outputs": [
    {
     "name": "stdout",
     "output_type": "stream",
     "text": [
      "Downloading raw...\n",
      "Loading raw...\n",
      "Extracting...\n",
      "Transforming...\n",
      "Saving...\n",
      "Done!\n"
     ]
    }
   ],
   "source": [
    "region.SA2_2021.process_raw(download=True, force_new=True)"
   ]
  },
  {
   "cell_type": "code",
   "execution_count": 5,
   "metadata": {},
   "outputs": [
    {
     "data": {
      "text/html": [
       "<div><style>\n",
       ".dataframe > thead > tr,\n",
       ".dataframe > tbody > tr {\n",
       "  text-align: right;\n",
       "  white-space: pre-wrap;\n",
       "}\n",
       "</style>\n",
       "<small>shape: (2_472, 2)</small><table border=\"1\" class=\"dataframe\"><thead><tr><th>SA2_2021</th><th>SA2_2021_name</th></tr><tr><td>i64</td><td>str</td></tr></thead><tbody><tr><td>101021007</td><td>&quot;Braidwood&quot;</td></tr><tr><td>101021008</td><td>&quot;Karabar&quot;</td></tr><tr><td>101021009</td><td>&quot;Queanbeyan&quot;</td></tr><tr><td>101021010</td><td>&quot;Queanbeyan&nbsp;-&nbsp;East&quot;</td></tr><tr><td>101021012</td><td>&quot;Queanbeyan&nbsp;West&nbsp;-&nbsp;Jerrabomberr…</td></tr><tr><td>&hellip;</td><td>&hellip;</td></tr><tr><td>901021002</td><td>&quot;Cocos&nbsp;(Keeling)&nbsp;Islands&quot;</td></tr><tr><td>901031003</td><td>&quot;Jervis&nbsp;Bay&quot;</td></tr><tr><td>901041004</td><td>&quot;Norfolk&nbsp;Island&quot;</td></tr><tr><td>997979799</td><td>&quot;Migratory&nbsp;-&nbsp;Offshore&nbsp;-&nbsp;Shippin…</td></tr><tr><td>999999499</td><td>&quot;No&nbsp;usual&nbsp;address&nbsp;(OT)&quot;</td></tr></tbody></table></div>"
      ],
      "text/plain": [
       "shape: (2_472, 2)\n",
       "┌───────────┬─────────────────────────────────┐\n",
       "│ SA2_2021  ┆ SA2_2021_name                   │\n",
       "│ ---       ┆ ---                             │\n",
       "│ i64       ┆ str                             │\n",
       "╞═══════════╪═════════════════════════════════╡\n",
       "│ 101021007 ┆ Braidwood                       │\n",
       "│ 101021008 ┆ Karabar                         │\n",
       "│ 101021009 ┆ Queanbeyan                      │\n",
       "│ 101021010 ┆ Queanbeyan - East               │\n",
       "│ 101021012 ┆ Queanbeyan West - Jerrabomberr… │\n",
       "│ …         ┆ …                               │\n",
       "│ 901021002 ┆ Cocos (Keeling) Islands         │\n",
       "│ 901031003 ┆ Jervis Bay                      │\n",
       "│ 901041004 ┆ Norfolk Island                  │\n",
       "│ 997979799 ┆ Migratory - Offshore - Shippin… │\n",
       "│ 999999499 ┆ No usual address (OT)           │\n",
       "└───────────┴─────────────────────────────────┘"
      ]
     },
     "execution_count": 5,
     "metadata": {},
     "output_type": "execute_result"
    }
   ],
   "source": [
    "region.SA2_2021.geometry  # noqa: B018\n",
    "region.SA2_2021.metadata  # noqa: B018\n",
    "# region.SA2_2021.geometry.pipe(to_geopandas).explore()"
   ]
  },
  {
   "cell_type": "code",
   "execution_count": 6,
   "metadata": {},
   "outputs": [
    {
     "name": "stdout",
     "output_type": "stream",
     "text": [
      "Downloading raw...\n",
      "Loading raw...\n",
      "Extracting...\n",
      "Transforming...\n",
      "Saving...\n",
      "Done!\n"
     ]
    }
   ],
   "source": [
    "region.Federal2022.process_raw(download=True, force_new=True)"
   ]
  },
  {
   "cell_type": "code",
   "execution_count": 7,
   "metadata": {},
   "outputs": [
    {
     "data": {
      "text/html": [
       "<div><style>\n",
       ".dataframe > thead > tr,\n",
       ".dataframe > tbody > tr {\n",
       "  text-align: right;\n",
       "  white-space: pre-wrap;\n",
       "}\n",
       "</style>\n",
       "<small>shape: (151, 5)</small><table border=\"1\" class=\"dataframe\"><thead><tr><th>federal_2022</th><th>federal_2022_name</th><th>short_name</th><th>area_sqkm</th><th>actual</th></tr><tr><td>str</td><td>str</td><td>str</td><td>f64</td><td>i64</td></tr></thead><tbody><tr><td>&quot;adelaide&quot;</td><td>&quot;Adelaide&quot;</td><td>&quot;Adelaide&quot;</td><td>86.4</td><td>0</td></tr><tr><td>&quot;aston&quot;</td><td>&quot;Aston&quot;</td><td>&quot;Aston&quot;</td><td>113.79</td><td>111098</td></tr><tr><td>&quot;ballarat&quot;</td><td>&quot;Ballarat&quot;</td><td>&quot;Ballarat&quot;</td><td>5398.86</td><td>106745</td></tr><tr><td>&quot;banks&quot;</td><td>&quot;Banks&quot;</td><td>&quot;Banks&quot;</td><td>49.47</td><td>0</td></tr><tr><td>&quot;barker&quot;</td><td>&quot;Barker&quot;</td><td>&quot;Barker&quot;</td><td>65204.13</td><td>0</td></tr><tr><td>&hellip;</td><td>&hellip;</td><td>&hellip;</td><td>&hellip;</td><td>&hellip;</td></tr><tr><td>&quot;werriwa&quot;</td><td>&quot;Werriwa&quot;</td><td>&quot;Werriwa&quot;</td><td>171.49</td><td>0</td></tr><tr><td>&quot;whitlam&quot;</td><td>&quot;Whitlam&quot;</td><td>&quot;Whitlam&quot;</td><td>1295.54</td><td>0</td></tr><tr><td>&quot;wide_bay&quot;</td><td>&quot;Wide&nbsp;Bay&quot;</td><td>&quot;WIDE&nbsp;BAY&quot;</td><td>14224.83</td><td>0</td></tr><tr><td>&quot;wills&quot;</td><td>&quot;Wills&quot;</td><td>&quot;Wills&quot;</td><td>46.44</td><td>108904</td></tr><tr><td>&quot;wright&quot;</td><td>&quot;Wright&quot;</td><td>&quot;Wright&quot;</td><td>7577.19</td><td>0</td></tr></tbody></table></div>"
      ],
      "text/plain": [
       "shape: (151, 5)\n",
       "┌──────────────┬───────────────────┬────────────┬───────────┬────────┐\n",
       "│ federal_2022 ┆ federal_2022_name ┆ short_name ┆ area_sqkm ┆ actual │\n",
       "│ ---          ┆ ---               ┆ ---        ┆ ---       ┆ ---    │\n",
       "│ str          ┆ str               ┆ str        ┆ f64       ┆ i64    │\n",
       "╞══════════════╪═══════════════════╪════════════╪═══════════╪════════╡\n",
       "│ adelaide     ┆ Adelaide          ┆ Adelaide   ┆ 86.4      ┆ 0      │\n",
       "│ aston        ┆ Aston             ┆ Aston      ┆ 113.79    ┆ 111098 │\n",
       "│ ballarat     ┆ Ballarat          ┆ Ballarat   ┆ 5398.86   ┆ 106745 │\n",
       "│ banks        ┆ Banks             ┆ Banks      ┆ 49.47     ┆ 0      │\n",
       "│ barker       ┆ Barker            ┆ Barker     ┆ 65204.13  ┆ 0      │\n",
       "│ …            ┆ …                 ┆ …          ┆ …         ┆ …      │\n",
       "│ werriwa      ┆ Werriwa           ┆ Werriwa    ┆ 171.49    ┆ 0      │\n",
       "│ whitlam      ┆ Whitlam           ┆ Whitlam    ┆ 1295.54   ┆ 0      │\n",
       "│ wide_bay     ┆ Wide Bay          ┆ WIDE BAY   ┆ 14224.83  ┆ 0      │\n",
       "│ wills        ┆ Wills             ┆ Wills      ┆ 46.44     ┆ 108904 │\n",
       "│ wright       ┆ Wright            ┆ Wright     ┆ 7577.19   ┆ 0      │\n",
       "└──────────────┴───────────────────┴────────────┴───────────┴────────┘"
      ]
     },
     "execution_count": 7,
     "metadata": {},
     "output_type": "execute_result"
    }
   ],
   "source": [
    "region.Federal2022.geometry  # noqa: B018\n",
    "region.Federal2022.metadata  # noqa: B018"
   ]
  }
 ],
 "metadata": {
  "kernelspec": {
   "display_name": "Python 3",
   "language": "python",
   "name": "python3"
  },
  "language_info": {
   "codemirror_mode": {
    "name": "ipython",
    "version": 3
   },
   "file_extension": ".py",
   "mimetype": "text/x-python",
   "name": "python",
   "nbconvert_exporter": "python",
   "pygments_lexer": "ipython3",
   "version": "3.13.0"
  }
 },
 "nbformat": 4,
 "nbformat_minor": 2
}
