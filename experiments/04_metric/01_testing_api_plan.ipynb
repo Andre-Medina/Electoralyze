{
 "cells": [
  {
   "cell_type": "code",
   "execution_count": 1,
   "metadata": {},
   "outputs": [],
   "source": [
    "import polars as pl"
   ]
  },
  {
   "cell_type": "code",
   "execution_count": 2,
   "metadata": {},
   "outputs": [
    {
     "name": "stdout",
     "output_type": "stream",
     "text": [
      "shape: (4, 3)\n",
      "┌──────────┬──────┬────────────┐\n",
      "│ SA1_2021 ┆ year ┆ population │\n",
      "│ ---      ┆ ---  ┆ ---        │\n",
      "│ str      ┆ i64  ┆ f64        │\n",
      "╞══════════╪══════╪════════════╡\n",
      "│ A        ┆ 2020 ┆ 10.0       │\n",
      "│ A        ┆ 2021 ┆ 20.0       │\n",
      "│ B        ┆ 2020 ┆ 30.0       │\n",
      "│ B        ┆ 2021 ┆ 40.0       │\n",
      "└──────────┴──────┴────────────┘\n"
     ]
    }
   ],
   "source": [
    "pl.DataFrame({\"SA1_2021\": [\"A\", \"A\", \"B\", \"B\"], \"year\": [2020, 2021] * 2, \"population\": [10.0, 20.0, 30.0, 40.0]}).pipe(\n",
    "    print\n",
    ")"
   ]
  },
  {
   "cell_type": "code",
   "execution_count": 49,
   "metadata": {},
   "outputs": [],
   "source": [
    "import os\n",
    "from functools import cached_property\n",
    "from typing import Callable, Literal, Optional, Union\n",
    "\n",
    "from cachetools import LRUCache, TTLCache, cached\n",
    "from electoralyze import region\n",
    "from electoralyze.common.constants import ROOT_DIR\n",
    "from electoralyze.region.region_abc import RegionABC\n",
    "from pydantic import BaseModel, ConfigDict\n",
    "\n",
    "##### ABSTRACT ###########\n",
    "\n",
    "METRIC_DATA_TYPES = Literal[\"categorical\", \"ordinal\", \"numeric\", \"single\"]\n",
    "\n",
    "\n",
    "class MetricRegion(BaseModel):\n",
    "    # region: Union[tuple(RegionABC.__subclasses__())]\n",
    "    region: type[RegionABC]\n",
    "    # redistribute_from:  Union[tuple(RegionABC.__subclasses__())] | None = None\n",
    "    redistribute_from: type[RegionABC] | None = None\n",
    "    redistribute_kwargs: dict | None = None\n",
    "    process_raw: Callable | None = None\n",
    "    process_raw_kwargs: dict | None = None\n",
    "\n",
    "    model_config = ConfigDict(arbitrary_types_allowed=True)\n",
    "\n",
    "\n",
    "class Metric(BaseModel):\n",
    "    allowed_regions: list[MetricRegion]\n",
    "    name: str\n",
    "    data_type: METRIC_DATA_TYPES\n",
    "    name_suffix: str | None = None\n",
    "    file: str\n",
    "\n",
    "    def by(self, region: RegionABC):\n",
    "        if region.id not in self.allowed_regions_map:\n",
    "            raise KeyError(f\"Region {region.id!r} not found for metric: {self.full_name!r}\")\n",
    "\n",
    "        region_metric = self.allowed_regions_map[region.id]\n",
    "\n",
    "        if region_metric.redistribute_from:\n",
    "            metric_data = self.get_redistributed_data(region)\n",
    "        else:\n",
    "            metric_data = self.get_stored_data(region)\n",
    "\n",
    "        return metric_data\n",
    "\n",
    "    def get_stored_data(self, region: RegionABC) -> pl.DataFrame:\n",
    "        file = self.get_file().format(region=region.id)\n",
    "        metric_data = pl.read_parquet(file)\n",
    "\n",
    "        return metric_data\n",
    "\n",
    "    def get_redistributed_data(self, region: RegionABC) -> pl.DataFrame:\n",
    "        raise NotImplementedError(\"Not read yet\")\n",
    "\n",
    "    def process_raw(self):\n",
    "        for metric_region in self.allowed_regions:\n",
    "            if metric_region.process_raw is not None:\n",
    "                kwargs = metric_region.process_raw_kwargs or {}\n",
    "                metric_region.process_raw(\n",
    "                    parent_metric=self,\n",
    "                    **kwargs,\n",
    "                )\n",
    "\n",
    "    @cached_property\n",
    "    def full_name(self):\n",
    "        full_name = f\"{self.name}_{self.name_suffix}\" if self.name_suffix else f\"{self.name}\"\n",
    "        return full_name\n",
    "\n",
    "    @cached_property\n",
    "    def allowed_regions_map(self) -> dict[str, MetricRegion]:\n",
    "        allowed_regions = {}\n",
    "        for metric_region in self.allowed_regions:\n",
    "            allowed_regions[metric_region.region.id] = metric_region\n",
    "\n",
    "        return allowed_regions\n",
    "\n",
    "    def get_file(self) -> str:\n",
    "        file = self.file\n",
    "        return file\n",
    "\n",
    "\n",
    "###### Creating group of metrics ########\n",
    "\n",
    "PROCESSED_FILE = os.path.join(ROOT_DIR, \"data/census/{census}/{metric}/{region}.parquet\")\n",
    "\n",
    "\n",
    "class National2021Metric(Metric):\n",
    "    name_suffix: str = \"national_2021\"\n",
    "    file: None = None\n",
    "\n",
    "    def get_file(self) -> str:\n",
    "        file = PROCESSED_FILE.format(\n",
    "            census=self.name_suffix,\n",
    "            metric=self.name,\n",
    "            region=\"{region}\",\n",
    "        )\n",
    "        return file\n",
    "\n",
    "\n",
    "####### Creating specific metric ###########\n",
    "\n",
    "\n",
    "RAW_POPULATION_FILE = os.path.join(ROOT_DIR, \"data/raw/...\")\n",
    "\n",
    "\n",
    "def process_raw_population(**_kwargs):\n",
    "    RAW_POPULATION_FILE\n",
    "\n",
    "    print(\"doing something...\")\n",
    "\n",
    "\n",
    "population = National2021Metric(\n",
    "    name=\"population\",\n",
    "    data_type=\"categorical\",\n",
    "    allowed_regions=[\n",
    "        MetricRegion(region=region.SA1_2021, process_raw=process_raw_population),\n",
    "        MetricRegion(region=region.SA2_2021, redistribute_from=region.SA1_2021),\n",
    "    ],\n",
    ")"
   ]
  },
  {
   "cell_type": "code",
   "execution_count": 52,
   "metadata": {},
   "outputs": [
    {
     "data": {
      "text/plain": [
       "'/home/andre/git/private/electoralyze/packages/electoralyze/electoralyze/common/../../../../data/census/national_2021/population/{region}.parquet'"
      ]
     },
     "execution_count": 52,
     "metadata": {},
     "output_type": "execute_result"
    }
   ],
   "source": [
    "population.get_file()"
   ]
  },
  {
   "cell_type": "code",
   "execution_count": 53,
   "metadata": {},
   "outputs": [
    {
     "data": {
      "text/plain": [
       "[MetricRegion(region=<class 'electoralyze.region.regions.SA1_2021.SA1_2021'>, redistribute_from=None, redistribute_kwargs=None, process_raw=<function process_raw_population at 0x7f34b4d9cd60>, process_raw_kwargs=None),\n",
       " MetricRegion(region=<class 'electoralyze.region.regions.SA2_2021.SA2_2021'>, redistribute_from=<class 'electoralyze.region.regions.SA1_2021.SA1_2021'>, redistribute_kwargs=None, process_raw=None, process_raw_kwargs=None)]"
      ]
     },
     "execution_count": 53,
     "metadata": {},
     "output_type": "execute_result"
    }
   ],
   "source": [
    "population.allowed_regions"
   ]
  },
  {
   "cell_type": "code",
   "execution_count": 54,
   "metadata": {},
   "outputs": [
    {
     "data": {
      "text/plain": [
       "{'SA1_2021': MetricRegion(region=<class 'electoralyze.region.regions.SA1_2021.SA1_2021'>, redistribute_from=None, redistribute_kwargs=None, process_raw=<function process_raw_population at 0x7f34b4d9cd60>, process_raw_kwargs=None),\n",
       " 'SA2_2021': MetricRegion(region=<class 'electoralyze.region.regions.SA2_2021.SA2_2021'>, redistribute_from=<class 'electoralyze.region.regions.SA1_2021.SA1_2021'>, redistribute_kwargs=None, process_raw=None, process_raw_kwargs=None)}"
      ]
     },
     "execution_count": 54,
     "metadata": {},
     "output_type": "execute_result"
    }
   ],
   "source": [
    "population.allowed_regions_map"
   ]
  },
  {
   "cell_type": "code",
   "execution_count": 55,
   "metadata": {},
   "outputs": [
    {
     "name": "stdout",
     "output_type": "stream",
     "text": [
      "doing something...\n"
     ]
    }
   ],
   "source": [
    "population.process_raw()"
   ]
  },
  {
   "cell_type": "code",
   "execution_count": 56,
   "metadata": {},
   "outputs": [
    {
     "ename": "FileNotFoundError",
     "evalue": "No such file or directory (os error 2): ...ze/electoralyze/common/../../../../data/census/national_2021/population/SA1_2021.parquet",
     "output_type": "error",
     "traceback": [
      "\u001b[0;31m---------------------------------------------------------------------------\u001b[0m",
      "\u001b[0;31mFileNotFoundError\u001b[0m                         Traceback (most recent call last)",
      "Cell \u001b[0;32mIn[56], line 1\u001b[0m\n\u001b[0;32m----> 1\u001b[0m \u001b[43mpopulation\u001b[49m\u001b[38;5;241;43m.\u001b[39;49m\u001b[43mby\u001b[49m\u001b[43m(\u001b[49m\u001b[43mregion\u001b[49m\u001b[38;5;241;43m.\u001b[39;49m\u001b[43mSA1_2021\u001b[49m\u001b[43m)\u001b[49m\n",
      "Cell \u001b[0;32mIn[49], line 45\u001b[0m, in \u001b[0;36mMetric.by\u001b[0;34m(self, region)\u001b[0m\n\u001b[1;32m     43\u001b[0m     metric_data \u001b[38;5;241m=\u001b[39m \u001b[38;5;28mself\u001b[39m\u001b[38;5;241m.\u001b[39mget_redistributed_data(region)\n\u001b[1;32m     44\u001b[0m \u001b[38;5;28;01melse\u001b[39;00m:\n\u001b[0;32m---> 45\u001b[0m     metric_data \u001b[38;5;241m=\u001b[39m \u001b[38;5;28;43mself\u001b[39;49m\u001b[38;5;241;43m.\u001b[39;49m\u001b[43mget_stored_data\u001b[49m\u001b[43m(\u001b[49m\u001b[43mregion\u001b[49m\u001b[43m)\u001b[49m\n\u001b[1;32m     47\u001b[0m \u001b[38;5;28;01mreturn\u001b[39;00m metric_data\n",
      "Cell \u001b[0;32mIn[49], line 51\u001b[0m, in \u001b[0;36mMetric.get_stored_data\u001b[0;34m(self, region)\u001b[0m\n\u001b[1;32m     49\u001b[0m \u001b[38;5;28;01mdef\u001b[39;00m \u001b[38;5;21mget_stored_data\u001b[39m(\u001b[38;5;28mself\u001b[39m, region: RegionABC) \u001b[38;5;241m-\u001b[39m\u001b[38;5;241m>\u001b[39m pl\u001b[38;5;241m.\u001b[39mDataFrame:\n\u001b[1;32m     50\u001b[0m     file \u001b[38;5;241m=\u001b[39m \u001b[38;5;28mself\u001b[39m\u001b[38;5;241m.\u001b[39mget_file()\u001b[38;5;241m.\u001b[39mformat(region \u001b[38;5;241m=\u001b[39m region\u001b[38;5;241m.\u001b[39mid)\n\u001b[0;32m---> 51\u001b[0m     metric_data \u001b[38;5;241m=\u001b[39m \u001b[43mpl\u001b[49m\u001b[38;5;241;43m.\u001b[39;49m\u001b[43mread_parquet\u001b[49m\u001b[43m(\u001b[49m\u001b[43mfile\u001b[49m\u001b[43m)\u001b[49m\n\u001b[1;32m     53\u001b[0m     \u001b[38;5;28;01mreturn\u001b[39;00m metric_data\n",
      "File \u001b[0;32m~/git/private/electoralyze/.pixi/envs/default/lib/python3.13/site-packages/polars/_utils/deprecation.py:92\u001b[0m, in \u001b[0;36mdeprecate_renamed_parameter.<locals>.decorate.<locals>.wrapper\u001b[0;34m(*args, **kwargs)\u001b[0m\n\u001b[1;32m     87\u001b[0m \u001b[38;5;129m@wraps\u001b[39m(function)\n\u001b[1;32m     88\u001b[0m \u001b[38;5;28;01mdef\u001b[39;00m \u001b[38;5;21mwrapper\u001b[39m(\u001b[38;5;241m*\u001b[39margs: P\u001b[38;5;241m.\u001b[39margs, \u001b[38;5;241m*\u001b[39m\u001b[38;5;241m*\u001b[39mkwargs: P\u001b[38;5;241m.\u001b[39mkwargs) \u001b[38;5;241m-\u001b[39m\u001b[38;5;241m>\u001b[39m T:\n\u001b[1;32m     89\u001b[0m     _rename_keyword_argument(\n\u001b[1;32m     90\u001b[0m         old_name, new_name, kwargs, function\u001b[38;5;241m.\u001b[39m\u001b[38;5;18m__qualname__\u001b[39m, version\n\u001b[1;32m     91\u001b[0m     )\n\u001b[0;32m---> 92\u001b[0m     \u001b[38;5;28;01mreturn\u001b[39;00m \u001b[43mfunction\u001b[49m\u001b[43m(\u001b[49m\u001b[38;5;241;43m*\u001b[39;49m\u001b[43margs\u001b[49m\u001b[43m,\u001b[49m\u001b[43m \u001b[49m\u001b[38;5;241;43m*\u001b[39;49m\u001b[38;5;241;43m*\u001b[39;49m\u001b[43mkwargs\u001b[49m\u001b[43m)\u001b[49m\n",
      "File \u001b[0;32m~/git/private/electoralyze/.pixi/envs/default/lib/python3.13/site-packages/polars/_utils/deprecation.py:92\u001b[0m, in \u001b[0;36mdeprecate_renamed_parameter.<locals>.decorate.<locals>.wrapper\u001b[0;34m(*args, **kwargs)\u001b[0m\n\u001b[1;32m     87\u001b[0m \u001b[38;5;129m@wraps\u001b[39m(function)\n\u001b[1;32m     88\u001b[0m \u001b[38;5;28;01mdef\u001b[39;00m \u001b[38;5;21mwrapper\u001b[39m(\u001b[38;5;241m*\u001b[39margs: P\u001b[38;5;241m.\u001b[39margs, \u001b[38;5;241m*\u001b[39m\u001b[38;5;241m*\u001b[39mkwargs: P\u001b[38;5;241m.\u001b[39mkwargs) \u001b[38;5;241m-\u001b[39m\u001b[38;5;241m>\u001b[39m T:\n\u001b[1;32m     89\u001b[0m     _rename_keyword_argument(\n\u001b[1;32m     90\u001b[0m         old_name, new_name, kwargs, function\u001b[38;5;241m.\u001b[39m\u001b[38;5;18m__qualname__\u001b[39m, version\n\u001b[1;32m     91\u001b[0m     )\n\u001b[0;32m---> 92\u001b[0m     \u001b[38;5;28;01mreturn\u001b[39;00m \u001b[43mfunction\u001b[49m\u001b[43m(\u001b[49m\u001b[38;5;241;43m*\u001b[39;49m\u001b[43margs\u001b[49m\u001b[43m,\u001b[49m\u001b[43m \u001b[49m\u001b[38;5;241;43m*\u001b[39;49m\u001b[38;5;241;43m*\u001b[39;49m\u001b[43mkwargs\u001b[49m\u001b[43m)\u001b[49m\n",
      "File \u001b[0;32m~/git/private/electoralyze/.pixi/envs/default/lib/python3.13/site-packages/polars/io/parquet/functions.py:241\u001b[0m, in \u001b[0;36mread_parquet\u001b[0;34m(source, columns, n_rows, row_index_name, row_index_offset, parallel, use_statistics, hive_partitioning, glob, schema, hive_schema, try_parse_hive_dates, rechunk, low_memory, storage_options, credential_provider, retries, use_pyarrow, pyarrow_options, memory_map, include_file_paths, allow_missing_columns)\u001b[0m\n\u001b[1;32m    238\u001b[0m     \u001b[38;5;28;01melse\u001b[39;00m:\n\u001b[1;32m    239\u001b[0m         lf \u001b[38;5;241m=\u001b[39m lf\u001b[38;5;241m.\u001b[39mselect(columns)\n\u001b[0;32m--> 241\u001b[0m \u001b[38;5;28;01mreturn\u001b[39;00m \u001b[43mlf\u001b[49m\u001b[38;5;241;43m.\u001b[39;49m\u001b[43mcollect\u001b[49m\u001b[43m(\u001b[49m\u001b[43m)\u001b[49m\n",
      "File \u001b[0;32m~/git/private/electoralyze/.pixi/envs/default/lib/python3.13/site-packages/polars/lazyframe/frame.py:2029\u001b[0m, in \u001b[0;36mLazyFrame.collect\u001b[0;34m(self, type_coercion, predicate_pushdown, projection_pushdown, simplify_expression, slice_pushdown, comm_subplan_elim, comm_subexpr_elim, cluster_with_columns, collapse_joins, no_optimization, streaming, engine, background, _eager, **_kwargs)\u001b[0m\n\u001b[1;32m   2027\u001b[0m \u001b[38;5;66;03m# Only for testing purposes\u001b[39;00m\n\u001b[1;32m   2028\u001b[0m callback \u001b[38;5;241m=\u001b[39m _kwargs\u001b[38;5;241m.\u001b[39mget(\u001b[38;5;124m\"\u001b[39m\u001b[38;5;124mpost_opt_callback\u001b[39m\u001b[38;5;124m\"\u001b[39m, callback)\n\u001b[0;32m-> 2029\u001b[0m \u001b[38;5;28;01mreturn\u001b[39;00m wrap_df(\u001b[43mldf\u001b[49m\u001b[38;5;241;43m.\u001b[39;49m\u001b[43mcollect\u001b[49m\u001b[43m(\u001b[49m\u001b[43mcallback\u001b[49m\u001b[43m)\u001b[49m)\n",
      "\u001b[0;31mFileNotFoundError\u001b[0m: No such file or directory (os error 2): ...ze/electoralyze/common/../../../../data/census/national_2021/population/SA1_2021.parquet"
     ]
    }
   ],
   "source": [
    "population.by(region.SA1_2021)"
   ]
  },
  {
   "cell_type": "code",
   "execution_count": 58,
   "metadata": {},
   "outputs": [
    {
     "ename": "NotImplementedError",
     "evalue": "Not read yet",
     "output_type": "error",
     "traceback": [
      "\u001b[0;31m---------------------------------------------------------------------------\u001b[0m",
      "\u001b[0;31mNotImplementedError\u001b[0m                       Traceback (most recent call last)",
      "Cell \u001b[0;32mIn[58], line 1\u001b[0m\n\u001b[0;32m----> 1\u001b[0m \u001b[43mpopulation\u001b[49m\u001b[38;5;241;43m.\u001b[39;49m\u001b[43mby\u001b[49m\u001b[43m(\u001b[49m\u001b[43mregion\u001b[49m\u001b[38;5;241;43m.\u001b[39;49m\u001b[43mSA2_2021\u001b[49m\u001b[43m)\u001b[49m\n",
      "Cell \u001b[0;32mIn[49], line 43\u001b[0m, in \u001b[0;36mMetric.by\u001b[0;34m(self, region)\u001b[0m\n\u001b[1;32m     40\u001b[0m region_metric \u001b[38;5;241m=\u001b[39m \u001b[38;5;28mself\u001b[39m\u001b[38;5;241m.\u001b[39mallowed_regions_map[region\u001b[38;5;241m.\u001b[39mid]\n\u001b[1;32m     42\u001b[0m \u001b[38;5;28;01mif\u001b[39;00m region_metric\u001b[38;5;241m.\u001b[39mredistribute_from:\n\u001b[0;32m---> 43\u001b[0m     metric_data \u001b[38;5;241m=\u001b[39m \u001b[38;5;28;43mself\u001b[39;49m\u001b[38;5;241;43m.\u001b[39;49m\u001b[43mget_redistributed_data\u001b[49m\u001b[43m(\u001b[49m\u001b[43mregion\u001b[49m\u001b[43m)\u001b[49m\n\u001b[1;32m     44\u001b[0m \u001b[38;5;28;01melse\u001b[39;00m:\n\u001b[1;32m     45\u001b[0m     metric_data \u001b[38;5;241m=\u001b[39m \u001b[38;5;28mself\u001b[39m\u001b[38;5;241m.\u001b[39mget_stored_data(region)\n",
      "Cell \u001b[0;32mIn[49], line 57\u001b[0m, in \u001b[0;36mMetric.get_redistributed_data\u001b[0;34m(self, region)\u001b[0m\n\u001b[1;32m     55\u001b[0m \u001b[38;5;28;01mdef\u001b[39;00m \u001b[38;5;21mget_redistributed_data\u001b[39m(\u001b[38;5;28mself\u001b[39m, region: RegionABC) \u001b[38;5;241m-\u001b[39m\u001b[38;5;241m>\u001b[39m pl\u001b[38;5;241m.\u001b[39mDataFrame:\n\u001b[0;32m---> 57\u001b[0m     \u001b[38;5;28;01mraise\u001b[39;00m \u001b[38;5;167;01mNotImplementedError\u001b[39;00m(\u001b[38;5;124m\"\u001b[39m\u001b[38;5;124mNot read yet\u001b[39m\u001b[38;5;124m\"\u001b[39m)\n",
      "\u001b[0;31mNotImplementedError\u001b[0m: Not read yet"
     ]
    }
   ],
   "source": [
    "population.by(region.SA2_2021)"
   ]
  },
  {
   "cell_type": "code",
   "execution_count": 57,
   "metadata": {},
   "outputs": [
    {
     "ename": "KeyError",
     "evalue": "\"Region None not found for metric: 'population_national_2021'\"",
     "output_type": "error",
     "traceback": [
      "\u001b[0;31m---------------------------------------------------------------------------\u001b[0m",
      "\u001b[0;31mKeyError\u001b[0m                                  Traceback (most recent call last)",
      "Cell \u001b[0;32mIn[57], line 1\u001b[0m\n\u001b[0;32m----> 1\u001b[0m \u001b[43mpopulation\u001b[49m\u001b[38;5;241;43m.\u001b[39;49m\u001b[43mby\u001b[49m\u001b[43m(\u001b[49m\u001b[43mRegionABC\u001b[49m\u001b[43m)\u001b[49m\n",
      "Cell \u001b[0;32mIn[49], line 38\u001b[0m, in \u001b[0;36mMetric.by\u001b[0;34m(self, region)\u001b[0m\n\u001b[1;32m     35\u001b[0m \u001b[38;5;28;01mdef\u001b[39;00m \u001b[38;5;21mby\u001b[39m(\u001b[38;5;28mself\u001b[39m, region: RegionABC):\n\u001b[1;32m     37\u001b[0m     \u001b[38;5;28;01mif\u001b[39;00m region\u001b[38;5;241m.\u001b[39mid \u001b[38;5;129;01mnot\u001b[39;00m \u001b[38;5;129;01min\u001b[39;00m \u001b[38;5;28mself\u001b[39m\u001b[38;5;241m.\u001b[39mallowed_regions_map:\n\u001b[0;32m---> 38\u001b[0m         \u001b[38;5;28;01mraise\u001b[39;00m \u001b[38;5;167;01mKeyError\u001b[39;00m(\u001b[38;5;124mf\u001b[39m\u001b[38;5;124m\"\u001b[39m\u001b[38;5;124mRegion \u001b[39m\u001b[38;5;132;01m{\u001b[39;00mregion\u001b[38;5;241m.\u001b[39mid\u001b[38;5;132;01m!r}\u001b[39;00m\u001b[38;5;124m not found for metric: \u001b[39m\u001b[38;5;132;01m{\u001b[39;00m\u001b[38;5;28mself\u001b[39m\u001b[38;5;241m.\u001b[39mfull_name\u001b[38;5;132;01m!r}\u001b[39;00m\u001b[38;5;124m\"\u001b[39m)\n\u001b[1;32m     40\u001b[0m     region_metric \u001b[38;5;241m=\u001b[39m \u001b[38;5;28mself\u001b[39m\u001b[38;5;241m.\u001b[39mallowed_regions_map[region\u001b[38;5;241m.\u001b[39mid]\n\u001b[1;32m     42\u001b[0m     \u001b[38;5;28;01mif\u001b[39;00m region_metric\u001b[38;5;241m.\u001b[39mredistribute_from:\n",
      "\u001b[0;31mKeyError\u001b[0m: \"Region None not found for metric: 'population_national_2021'\""
     ]
    }
   ],
   "source": [
    "population.by(RegionABC)"
   ]
  },
  {
   "cell_type": "code",
   "execution_count": null,
   "metadata": {},
   "outputs": [],
   "source": []
  }
 ],
 "metadata": {
  "kernelspec": {
   "display_name": "Python 3",
   "language": "python",
   "name": "python3"
  },
  "language_info": {
   "codemirror_mode": {
    "name": "ipython",
    "version": 3
   },
   "file_extension": ".py",
   "mimetype": "text/x-python",
   "name": "python",
   "nbconvert_exporter": "python",
   "pygments_lexer": "ipython3",
   "version": "3.13.0"
  }
 },
 "nbformat": 4,
 "nbformat_minor": 2
}
