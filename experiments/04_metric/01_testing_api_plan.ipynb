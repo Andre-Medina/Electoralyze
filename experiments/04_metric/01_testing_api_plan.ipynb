{
 "cells": [
  {
   "cell_type": "code",
   "execution_count": 1,
   "metadata": {},
   "outputs": [],
   "source": [
    "import polars as pl"
   ]
  },
  {
   "cell_type": "code",
   "execution_count": 2,
   "metadata": {},
   "outputs": [
    {
     "name": "stdout",
     "output_type": "stream",
     "text": [
      "shape: (4, 3)\n",
      "┌──────────┬──────┬────────────┐\n",
      "│ SA1_2021 ┆ year ┆ population │\n",
      "│ ---      ┆ ---  ┆ ---        │\n",
      "│ str      ┆ i64  ┆ f64        │\n",
      "╞══════════╪══════╪════════════╡\n",
      "│ A        ┆ 2020 ┆ 10.0       │\n",
      "│ A        ┆ 2021 ┆ 20.0       │\n",
      "│ B        ┆ 2020 ┆ 30.0       │\n",
      "│ B        ┆ 2021 ┆ 40.0       │\n",
      "└──────────┴──────┴────────────┘\n"
     ]
    }
   ],
   "source": [
    "pl.DataFrame({\"SA1_2021\": [\"A\", \"A\", \"B\", \"B\"], \"year\": [2020, 2021] * 2, \"population\": [10.0, 20.0, 30.0, 40.0]}).pipe(\n",
    "    print\n",
    ")"
   ]
  },
  {
   "cell_type": "code",
   "execution_count": 8,
   "metadata": {},
   "outputs": [],
   "source": [
    "import os\n",
    "\n",
    "from electoralyze import region\n",
    "from electoralyze.common.constants import ROOT_DIR\n",
    "from electoralyze.common.metric import Metric, MetricRegion\n",
    "from electoralyze.region.region_abc import RegionABC\n",
    "\n",
    "###### Creating group of metrics ########\n",
    "\n",
    "PROCESSED_FILE = os.path.join(ROOT_DIR, \"data/census/temp/{census}/{metric}/{region}.parquet\")\n",
    "\n",
    "\n",
    "class National2021Metric(Metric):\n",
    "    name_suffix: str = \"national_2021\"\n",
    "    file: None = None\n",
    "\n",
    "    def get_file(self) -> str:\n",
    "        file = PROCESSED_FILE.format(\n",
    "            census=self.name_suffix,\n",
    "            metric=self.name,\n",
    "            region=\"{region}\",\n",
    "        )\n",
    "        return file\n",
    "\n",
    "\n",
    "####### Creating specific metric ###########\n",
    "\n",
    "\n",
    "RAW_POPULATION_FILE = os.path.join(ROOT_DIR, \"data/raw/...\")\n",
    "\n",
    "\n",
    "def process_raw_population(**_kwargs) -> pl.DataFrame:\n",
    "    data = pl.DataFrame(\n",
    "        {\"SA1_2021\": [\"A\", \"A\", \"B\", \"B\"], \"year\": [2020, 2021] * 2, \"population\": [10.0, 20.0, 30.0, 40.0]}\n",
    "    )\n",
    "\n",
    "    return data\n",
    "\n",
    "\n",
    "population = National2021Metric(\n",
    "    name=\"population\",\n",
    "    data_type=\"categorical\",\n",
    "    category_column=\"year\",\n",
    "    data_column=\"population\",\n",
    "    allowed_regions=[\n",
    "        MetricRegion(region=region.SA1_2021, process_raw=process_raw_population),\n",
    "        MetricRegion(region=region.SA2_2021, redistribute_from=region.SA1_2021),\n",
    "    ],\n",
    "    schema=lambda region: pl.Schema({region.id: pl.String, \"year\": pl.Int64, \"population\": pl.Float64}),\n",
    ")"
   ]
  },
  {
   "cell_type": "code",
   "execution_count": 9,
   "metadata": {},
   "outputs": [
    {
     "data": {
      "text/plain": [
       "'/home/andre/git/private/electoralyze/packages/electoralyze/electoralyze/common/../../../../data/census/temp/national_2021/population/{region}.parquet'"
      ]
     },
     "execution_count": 9,
     "metadata": {},
     "output_type": "execute_result"
    }
   ],
   "source": [
    "population.get_file()"
   ]
  },
  {
   "cell_type": "code",
   "execution_count": 10,
   "metadata": {},
   "outputs": [
    {
     "data": {
      "text/plain": [
       "[MetricRegion(region=<class 'electoralyze.region.regions.SA1_2021.SA1_2021'>, redistribute_from=None, redistribute_kwargs=None, process_raw=<function process_raw_population at 0x7f7be6d41080>, process_raw_kwargs=None),\n",
       " MetricRegion(region=<class 'electoralyze.region.regions.SA2_2021.SA2_2021'>, redistribute_from=<class 'electoralyze.region.regions.SA1_2021.SA1_2021'>, redistribute_kwargs=None, process_raw=None, process_raw_kwargs=None)]"
      ]
     },
     "execution_count": 10,
     "metadata": {},
     "output_type": "execute_result"
    }
   ],
   "source": [
    "population.allowed_regions"
   ]
  },
  {
   "cell_type": "code",
   "execution_count": 11,
   "metadata": {},
   "outputs": [
    {
     "data": {
      "text/plain": [
       "{'SA1_2021': MetricRegion(region=<class 'electoralyze.region.regions.SA1_2021.SA1_2021'>, redistribute_from=None, redistribute_kwargs=None, process_raw=<function process_raw_population at 0x7f7be6d41080>, process_raw_kwargs=None),\n",
       " 'SA2_2021': MetricRegion(region=<class 'electoralyze.region.regions.SA2_2021.SA2_2021'>, redistribute_from=<class 'electoralyze.region.regions.SA1_2021.SA1_2021'>, redistribute_kwargs=None, process_raw=None, process_raw_kwargs=None)}"
      ]
     },
     "execution_count": 11,
     "metadata": {},
     "output_type": "execute_result"
    }
   ],
   "source": [
    "population.allowed_regions_map"
   ]
  },
  {
   "cell_type": "code",
   "execution_count": 14,
   "metadata": {},
   "outputs": [],
   "source": [
    "population.process_raw()"
   ]
  },
  {
   "cell_type": "code",
   "execution_count": 16,
   "metadata": {},
   "outputs": [
    {
     "data": {
      "text/html": [
       "<div><style>\n",
       ".dataframe > thead > tr,\n",
       ".dataframe > tbody > tr {\n",
       "  text-align: right;\n",
       "  white-space: pre-wrap;\n",
       "}\n",
       "</style>\n",
       "<small>shape: (4, 3)</small><table border=\"1\" class=\"dataframe\"><thead><tr><th>SA1_2021</th><th>year</th><th>population</th></tr><tr><td>str</td><td>i64</td><td>f64</td></tr></thead><tbody><tr><td>&quot;A&quot;</td><td>2020</td><td>10.0</td></tr><tr><td>&quot;A&quot;</td><td>2021</td><td>20.0</td></tr><tr><td>&quot;B&quot;</td><td>2020</td><td>30.0</td></tr><tr><td>&quot;B&quot;</td><td>2021</td><td>40.0</td></tr></tbody></table></div>"
      ],
      "text/plain": [
       "shape: (4, 3)\n",
       "┌──────────┬──────┬────────────┐\n",
       "│ SA1_2021 ┆ year ┆ population │\n",
       "│ ---      ┆ ---  ┆ ---        │\n",
       "│ str      ┆ i64  ┆ f64        │\n",
       "╞══════════╪══════╪════════════╡\n",
       "│ A        ┆ 2020 ┆ 10.0       │\n",
       "│ A        ┆ 2021 ┆ 20.0       │\n",
       "│ B        ┆ 2020 ┆ 30.0       │\n",
       "│ B        ┆ 2021 ┆ 40.0       │\n",
       "└──────────┴──────┴────────────┘"
      ]
     },
     "execution_count": 16,
     "metadata": {},
     "output_type": "execute_result"
    }
   ],
   "source": [
    "population.by(region.SA1_2021)"
   ]
  },
  {
   "cell_type": "code",
   "execution_count": 17,
   "metadata": {},
   "outputs": [
    {
     "ename": "NotImplementedError",
     "evalue": "Not read yet",
     "output_type": "error",
     "traceback": [
      "\u001b[0;31m---------------------------------------------------------------------------\u001b[0m",
      "\u001b[0;31mNotImplementedError\u001b[0m                       Traceback (most recent call last)",
      "Cell \u001b[0;32mIn[17], line 1\u001b[0m\n\u001b[0;32m----> 1\u001b[0m \u001b[43mpopulation\u001b[49m\u001b[38;5;241;43m.\u001b[39;49m\u001b[43mby\u001b[49m\u001b[43m(\u001b[49m\u001b[43mregion\u001b[49m\u001b[38;5;241;43m.\u001b[39;49m\u001b[43mSA2_2021\u001b[49m\u001b[43m)\u001b[49m\n",
      "File \u001b[0;32m~/git/private/electoralyze/packages/electoralyze/electoralyze/common/metric.py:178\u001b[0m, in \u001b[0;36mMetric.by\u001b[0;34m(self, region)\u001b[0m\n\u001b[1;32m    175\u001b[0m region_metric \u001b[38;5;241m=\u001b[39m \u001b[38;5;28mself\u001b[39m\u001b[38;5;241m.\u001b[39mallowed_regions_map[region\u001b[38;5;241m.\u001b[39mid]\n\u001b[1;32m    177\u001b[0m \u001b[38;5;28;01mif\u001b[39;00m region_metric\u001b[38;5;241m.\u001b[39mredistribute_from:\n\u001b[0;32m--> 178\u001b[0m     metric_data \u001b[38;5;241m=\u001b[39m \u001b[38;5;28;43mself\u001b[39;49m\u001b[38;5;241;43m.\u001b[39;49m\u001b[43m_get_redistributed_data\u001b[49m\u001b[43m(\u001b[49m\u001b[43mregion\u001b[49m\u001b[43m)\u001b[49m\n\u001b[1;32m    179\u001b[0m \u001b[38;5;28;01melse\u001b[39;00m:\n\u001b[1;32m    180\u001b[0m     metric_data \u001b[38;5;241m=\u001b[39m \u001b[38;5;28mself\u001b[39m\u001b[38;5;241m.\u001b[39m_get_stored_data(region)\n",
      "File \u001b[0;32m~/git/private/electoralyze/packages/electoralyze/electoralyze/common/metric.py:197\u001b[0m, in \u001b[0;36mMetric._get_redistributed_data\u001b[0;34m(self, region)\u001b[0m\n\u001b[1;32m    195\u001b[0m \u001b[38;5;28;01mdef\u001b[39;00m \u001b[38;5;21m_get_redistributed_data\u001b[39m(\u001b[38;5;28mself\u001b[39m, region: RegionABC) \u001b[38;5;241m-\u001b[39m\u001b[38;5;241m>\u001b[39m pl\u001b[38;5;241m.\u001b[39mDataFrame:\n\u001b[1;32m    196\u001b[0m \u001b[38;5;250m    \u001b[39m\u001b[38;5;124;03m\"\"\"Get data by redistributing from another region.\"\"\"\u001b[39;00m\n\u001b[0;32m--> 197\u001b[0m     \u001b[38;5;28;01mraise\u001b[39;00m \u001b[38;5;167;01mNotImplementedError\u001b[39;00m(\u001b[38;5;124m\"\u001b[39m\u001b[38;5;124mNot read yet\u001b[39m\u001b[38;5;124m\"\u001b[39m)\n",
      "\u001b[0;31mNotImplementedError\u001b[0m: Not read yet"
     ]
    }
   ],
   "source": [
    "population.by(region.SA2_2021)"
   ]
  },
  {
   "cell_type": "code",
   "execution_count": null,
   "metadata": {},
   "outputs": [
    {
     "ename": "KeyError",
     "evalue": "\"Region None not found for metric: 'population_national_2021'\"",
     "output_type": "error",
     "traceback": [
      "\u001b[0;31m---------------------------------------------------------------------------\u001b[0m",
      "\u001b[0;31mKeyError\u001b[0m                                  Traceback (most recent call last)",
      "Cell \u001b[0;32mIn[57], line 1\u001b[0m\n\u001b[0;32m----> 1\u001b[0m \u001b[43mpopulation\u001b[49m\u001b[38;5;241;43m.\u001b[39;49m\u001b[43mby\u001b[49m\u001b[43m(\u001b[49m\u001b[43mRegionABC\u001b[49m\u001b[43m)\u001b[49m\n",
      "Cell \u001b[0;32mIn[49], line 38\u001b[0m, in \u001b[0;36mMetric.by\u001b[0;34m(self, region)\u001b[0m\n\u001b[1;32m     35\u001b[0m \u001b[38;5;28;01mdef\u001b[39;00m \u001b[38;5;21mby\u001b[39m(\u001b[38;5;28mself\u001b[39m, region: RegionABC):\n\u001b[1;32m     37\u001b[0m     \u001b[38;5;28;01mif\u001b[39;00m region\u001b[38;5;241m.\u001b[39mid \u001b[38;5;129;01mnot\u001b[39;00m \u001b[38;5;129;01min\u001b[39;00m \u001b[38;5;28mself\u001b[39m\u001b[38;5;241m.\u001b[39mallowed_regions_map:\n\u001b[0;32m---> 38\u001b[0m         \u001b[38;5;28;01mraise\u001b[39;00m \u001b[38;5;167;01mKeyError\u001b[39;00m(\u001b[38;5;124mf\u001b[39m\u001b[38;5;124m\"\u001b[39m\u001b[38;5;124mRegion \u001b[39m\u001b[38;5;132;01m{\u001b[39;00mregion\u001b[38;5;241m.\u001b[39mid\u001b[38;5;132;01m!r}\u001b[39;00m\u001b[38;5;124m not found for metric: \u001b[39m\u001b[38;5;132;01m{\u001b[39;00m\u001b[38;5;28mself\u001b[39m\u001b[38;5;241m.\u001b[39mfull_name\u001b[38;5;132;01m!r}\u001b[39;00m\u001b[38;5;124m\"\u001b[39m)\n\u001b[1;32m     40\u001b[0m     region_metric \u001b[38;5;241m=\u001b[39m \u001b[38;5;28mself\u001b[39m\u001b[38;5;241m.\u001b[39mallowed_regions_map[region\u001b[38;5;241m.\u001b[39mid]\n\u001b[1;32m     42\u001b[0m     \u001b[38;5;28;01mif\u001b[39;00m region_metric\u001b[38;5;241m.\u001b[39mredistribute_from:\n",
      "\u001b[0;31mKeyError\u001b[0m: \"Region None not found for metric: 'population_national_2021'\""
     ]
    }
   ],
   "source": [
    "population.by(RegionABC)"
   ]
  },
  {
   "cell_type": "code",
   "execution_count": null,
   "metadata": {},
   "outputs": [
    {
     "name": "stdout",
     "output_type": "stream",
     "text": [
      "shape: (4, 3)\n",
      "┌──────────┬──────┬────────────┐\n",
      "│ SA1_2021 ┆ year ┆ population │\n",
      "│ ---      ┆ ---  ┆ ---        │\n",
      "│ str      ┆ i64  ┆ f64        │\n",
      "╞══════════╪══════╪════════════╡\n",
      "│ A        ┆ 2020 ┆ 10.0       │\n",
      "│ A        ┆ 2021 ┆ 20.0       │\n",
      "│ B        ┆ 2020 ┆ 30.0       │\n",
      "│ B        ┆ 2021 ┆ 40.0       │\n",
      "└──────────┴──────┴────────────┘\n"
     ]
    }
   ],
   "source": [
    "pl.DataFrame({\"SA1_2021\": [\"A\", \"A\", \"B\", \"B\"], \"year\": [2020, 2021] * 2, \"population\": [10.0, 20.0, 30.0, 40.0]}).pipe(\n",
    "    print\n",
    ")"
   ]
  },
  {
   "cell_type": "code",
   "execution_count": null,
   "metadata": {},
   "outputs": [],
   "source": []
  }
 ],
 "metadata": {
  "kernelspec": {
   "display_name": "Python 3",
   "language": "python",
   "name": "python3"
  },
  "language_info": {
   "codemirror_mode": {
    "name": "ipython",
    "version": 3
   },
   "file_extension": ".py",
   "mimetype": "text/x-python",
   "name": "python",
   "nbconvert_exporter": "python",
   "pygments_lexer": "ipython3",
   "version": "3.13.0"
  }
 },
 "nbformat": 4,
 "nbformat_minor": 2
}
