{
 "cells": [
  {
   "cell_type": "code",
   "execution_count": 1,
   "metadata": {},
   "outputs": [],
   "source": [
    "import polars as pl"
   ]
  },
  {
   "cell_type": "code",
   "execution_count": 2,
   "metadata": {},
   "outputs": [
    {
     "name": "stderr",
     "output_type": "stream",
     "text": [
      "/home/andre/git/private/electoralyze/.pixi/envs/default/lib/python3.13/site-packages/pydantic/_internal/_fields.py:172: UserWarning: Field name \"schema\" in \"Metric\" shadows an attribute in parent \"BaseModel\"\n",
      "  warnings.warn(\n"
     ]
    }
   ],
   "source": [
    "import os\n",
    "\n",
    "from electoralyze import region\n",
    "from electoralyze.common.constants import ROOT_DIR\n",
    "from electoralyze.common.metric import Metric, MetricRegion\n",
    "from electoralyze.region.region_abc import RegionABC\n",
    "\n",
    "###### Creating group of metrics ########\n",
    "\n",
    "PROCESSED_FILE = os.path.join(ROOT_DIR, \"data/census/temp/{census}/{metric}/{region}.parquet\")\n",
    "\n",
    "\n",
    "class National2021Metric(Metric):\n",
    "    name_suffix: str = \"national_2021\"\n",
    "    file: None = None\n",
    "\n",
    "    def get_file(self) -> str:\n",
    "        file = PROCESSED_FILE.format(\n",
    "            census=self.name_suffix,\n",
    "            metric=self.name,\n",
    "            region=\"{region}\",\n",
    "        )\n",
    "        return file\n",
    "\n",
    "\n",
    "####### Creating specific metric ###########\n",
    "\n",
    "\n",
    "RAW_POPULATION_FILE = os.path.join(ROOT_DIR, \"data/raw/...\")\n",
    "\n",
    "\n",
    "def process_raw_population(**_kwargs) -> pl.DataFrame:\n",
    "    data = pl.DataFrame(\n",
    "        {\"SA1_2021\": [\"A\", \"A\", \"B\", \"B\"], \"year\": [2020, 2021] * 2, \"population\": [10.0, 20.0, 30.0, 40.0]}\n",
    "    )\n",
    "\n",
    "    return data\n",
    "\n",
    "\n",
    "population = National2021Metric(\n",
    "    name=\"population\",\n",
    "    data_type=\"categorical\",\n",
    "    category_column=\"year\",\n",
    "    data_column=\"population\",\n",
    "    allowed_regions=[\n",
    "        MetricRegion(region=region.SA1_2021, process_raw=process_raw_population),\n",
    "        MetricRegion(region=region.SA2_2021, redistribute_from=region.SA1_2021),\n",
    "    ],\n",
    "    schema=lambda region: pl.Schema({region.id: pl.String, \"year\": pl.Int64, \"population\": pl.Float64}),\n",
    ")"
   ]
  },
  {
   "cell_type": "code",
   "execution_count": null,
   "metadata": {},
   "outputs": [],
   "source": []
  },
  {
   "cell_type": "code",
   "execution_count": 3,
   "metadata": {},
   "outputs": [],
   "source": [
    "import tempfile\n",
    "# from electoralyze.common.testing.region_fixture import\n",
    "\n",
    "# region ="
   ]
  },
  {
   "cell_type": "code",
   "execution_count": null,
   "metadata": {},
   "outputs": [],
   "source": []
  }
 ],
 "metadata": {
  "kernelspec": {
   "display_name": "default",
   "language": "python",
   "name": "python3"
  },
  "language_info": {
   "codemirror_mode": {
    "name": "ipython",
    "version": 3
   },
   "file_extension": ".py",
   "mimetype": "text/x-python",
   "name": "python",
   "nbconvert_exporter": "python",
   "pygments_lexer": "ipython3",
   "version": "3.13.0"
  }
 },
 "nbformat": 4,
 "nbformat_minor": 2
}
