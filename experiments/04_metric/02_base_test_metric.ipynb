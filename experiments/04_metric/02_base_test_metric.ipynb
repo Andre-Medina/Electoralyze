{
 "cells": [
  {
   "cell_type": "code",
   "execution_count": 1,
   "metadata": {},
   "outputs": [],
   "source": [
    "import polars as pl"
   ]
  },
  {
   "cell_type": "code",
   "execution_count": 2,
   "metadata": {},
   "outputs": [
    {
     "ename": "ValidationError",
     "evalue": "1 validation error for MetricRegion\n  Value error, Errors with `process_raw` & possibly `process_raw_kwargs`:\n\n`process_raw` kwargs/ returns must align for `parent_metric`types: <class 'electoralyze.common.metric.Metric'> and None.\n`process_raw` kwargs/ returns must align for `region`types: <class 'electoralyze.region.region_abc.RegionABC'> and None.\n`process_raw` & `process_raw_kwargs` kwargs must align: `['return']` != `['parent_metric', 'region', 'return']`. [type=value_error, input_value={'region': <class 'electo...tion at 0x7f6b36ea4ea0>}, input_type=dict]\n    For further information visit https://errors.pydantic.dev/2.9/v/value_error",
     "output_type": "error",
     "traceback": [
      "\u001b[0;31m---------------------------------------------------------------------------\u001b[0m",
      "\u001b[0;31mValidationError\u001b[0m                           Traceback (most recent call last)",
      "Cell \u001b[0;32mIn[2], line 46\u001b[0m\n\u001b[1;32m     33\u001b[0m     data \u001b[38;5;241m=\u001b[39m pl\u001b[38;5;241m.\u001b[39mDataFrame(\n\u001b[1;32m     34\u001b[0m         {\u001b[38;5;124m\"\u001b[39m\u001b[38;5;124mSA1_2021\u001b[39m\u001b[38;5;124m\"\u001b[39m: [\u001b[38;5;124m\"\u001b[39m\u001b[38;5;124mA\u001b[39m\u001b[38;5;124m\"\u001b[39m, \u001b[38;5;124m\"\u001b[39m\u001b[38;5;124mA\u001b[39m\u001b[38;5;124m\"\u001b[39m, \u001b[38;5;124m\"\u001b[39m\u001b[38;5;124mB\u001b[39m\u001b[38;5;124m\"\u001b[39m, \u001b[38;5;124m\"\u001b[39m\u001b[38;5;124mB\u001b[39m\u001b[38;5;124m\"\u001b[39m], \u001b[38;5;124m\"\u001b[39m\u001b[38;5;124myear\u001b[39m\u001b[38;5;124m\"\u001b[39m: [\u001b[38;5;241m2020\u001b[39m, \u001b[38;5;241m2021\u001b[39m] \u001b[38;5;241m*\u001b[39m \u001b[38;5;241m2\u001b[39m, \u001b[38;5;124m\"\u001b[39m\u001b[38;5;124mpopulation\u001b[39m\u001b[38;5;124m\"\u001b[39m: [\u001b[38;5;241m10.0\u001b[39m, \u001b[38;5;241m20.0\u001b[39m, \u001b[38;5;241m30.0\u001b[39m, \u001b[38;5;241m40.0\u001b[39m]}\n\u001b[1;32m     35\u001b[0m     )\n\u001b[1;32m     37\u001b[0m     \u001b[38;5;28;01mreturn\u001b[39;00m data\n\u001b[1;32m     40\u001b[0m population \u001b[38;5;241m=\u001b[39m National2021Metric(\n\u001b[1;32m     41\u001b[0m     name\u001b[38;5;241m=\u001b[39m\u001b[38;5;124m\"\u001b[39m\u001b[38;5;124mpopulation\u001b[39m\u001b[38;5;124m\"\u001b[39m,\n\u001b[1;32m     42\u001b[0m     data_type\u001b[38;5;241m=\u001b[39m\u001b[38;5;124m\"\u001b[39m\u001b[38;5;124mcategorical\u001b[39m\u001b[38;5;124m\"\u001b[39m,\n\u001b[1;32m     43\u001b[0m     category_column\u001b[38;5;241m=\u001b[39m\u001b[38;5;124m\"\u001b[39m\u001b[38;5;124myear\u001b[39m\u001b[38;5;124m\"\u001b[39m,\n\u001b[1;32m     44\u001b[0m     data_column\u001b[38;5;241m=\u001b[39m\u001b[38;5;124m\"\u001b[39m\u001b[38;5;124mpopulation\u001b[39m\u001b[38;5;124m\"\u001b[39m,\n\u001b[1;32m     45\u001b[0m     allowed_regions\u001b[38;5;241m=\u001b[39m[\n\u001b[0;32m---> 46\u001b[0m         \u001b[43mMetricRegion\u001b[49m\u001b[43m(\u001b[49m\u001b[43mregion\u001b[49m\u001b[38;5;241;43m=\u001b[39;49m\u001b[43mregion\u001b[49m\u001b[38;5;241;43m.\u001b[39;49m\u001b[43mSA1_2021\u001b[49m\u001b[43m,\u001b[49m\u001b[43m \u001b[49m\u001b[43mprocess_raw\u001b[49m\u001b[38;5;241;43m=\u001b[39;49m\u001b[43mprocess_raw_population\u001b[49m\u001b[43m)\u001b[49m,\n\u001b[1;32m     47\u001b[0m         MetricRegion(region\u001b[38;5;241m=\u001b[39mregion\u001b[38;5;241m.\u001b[39mSA2_2021, redistribute_from\u001b[38;5;241m=\u001b[39mregion\u001b[38;5;241m.\u001b[39mSA1_2021),\n\u001b[1;32m     48\u001b[0m     ],\n\u001b[1;32m     49\u001b[0m     schema\u001b[38;5;241m=\u001b[39m\u001b[38;5;28;01mlambda\u001b[39;00m region: pl\u001b[38;5;241m.\u001b[39mSchema({region\u001b[38;5;241m.\u001b[39mid: pl\u001b[38;5;241m.\u001b[39mString, \u001b[38;5;124m\"\u001b[39m\u001b[38;5;124myear\u001b[39m\u001b[38;5;124m\"\u001b[39m: pl\u001b[38;5;241m.\u001b[39mInt64, \u001b[38;5;124m\"\u001b[39m\u001b[38;5;124mpopulation\u001b[39m\u001b[38;5;124m\"\u001b[39m: pl\u001b[38;5;241m.\u001b[39mFloat64}),\n\u001b[1;32m     50\u001b[0m )\n",
      "File \u001b[0;32m~/git/private/electoralyze/.pixi/envs/default/lib/python3.13/site-packages/pydantic/main.py:212\u001b[0m, in \u001b[0;36mBaseModel.__init__\u001b[0;34m(self, **data)\u001b[0m\n\u001b[1;32m    210\u001b[0m \u001b[38;5;66;03m# `__tracebackhide__` tells pytest and some other tools to omit this function from tracebacks\u001b[39;00m\n\u001b[1;32m    211\u001b[0m __tracebackhide__ \u001b[38;5;241m=\u001b[39m \u001b[38;5;28;01mTrue\u001b[39;00m\n\u001b[0;32m--> 212\u001b[0m validated_self \u001b[38;5;241m=\u001b[39m \u001b[38;5;28;43mself\u001b[39;49m\u001b[38;5;241;43m.\u001b[39;49m\u001b[43m__pydantic_validator__\u001b[49m\u001b[38;5;241;43m.\u001b[39;49m\u001b[43mvalidate_python\u001b[49m\u001b[43m(\u001b[49m\u001b[43mdata\u001b[49m\u001b[43m,\u001b[49m\u001b[43m \u001b[49m\u001b[43mself_instance\u001b[49m\u001b[38;5;241;43m=\u001b[39;49m\u001b[38;5;28;43mself\u001b[39;49m\u001b[43m)\u001b[49m\n\u001b[1;32m    213\u001b[0m \u001b[38;5;28;01mif\u001b[39;00m \u001b[38;5;28mself\u001b[39m \u001b[38;5;129;01mis\u001b[39;00m \u001b[38;5;129;01mnot\u001b[39;00m validated_self:\n\u001b[1;32m    214\u001b[0m     warnings\u001b[38;5;241m.\u001b[39mwarn(\n\u001b[1;32m    215\u001b[0m         \u001b[38;5;124m'\u001b[39m\u001b[38;5;124mA custom validator is returning a value other than `self`.\u001b[39m\u001b[38;5;130;01m\\n\u001b[39;00m\u001b[38;5;124m'\u001b[39m\n\u001b[1;32m    216\u001b[0m         \u001b[38;5;124m\"\u001b[39m\u001b[38;5;124mReturning anything other than `self` from a top level model validator isn\u001b[39m\u001b[38;5;124m'\u001b[39m\u001b[38;5;124mt supported when validating via `__init__`.\u001b[39m\u001b[38;5;130;01m\\n\u001b[39;00m\u001b[38;5;124m\"\u001b[39m\n\u001b[1;32m    217\u001b[0m         \u001b[38;5;124m'\u001b[39m\u001b[38;5;124mSee the `model_validator` docs (https://docs.pydantic.dev/latest/concepts/validators/#model-validators) for more details.\u001b[39m\u001b[38;5;124m'\u001b[39m,\n\u001b[1;32m    218\u001b[0m         category\u001b[38;5;241m=\u001b[39m\u001b[38;5;28;01mNone\u001b[39;00m,\n\u001b[1;32m    219\u001b[0m     )\n",
      "\u001b[0;31mValidationError\u001b[0m: 1 validation error for MetricRegion\n  Value error, Errors with `process_raw` & possibly `process_raw_kwargs`:\n\n`process_raw` kwargs/ returns must align for `parent_metric`types: <class 'electoralyze.common.metric.Metric'> and None.\n`process_raw` kwargs/ returns must align for `region`types: <class 'electoralyze.region.region_abc.RegionABC'> and None.\n`process_raw` & `process_raw_kwargs` kwargs must align: `['return']` != `['parent_metric', 'region', 'return']`. [type=value_error, input_value={'region': <class 'electo...tion at 0x7f6b36ea4ea0>}, input_type=dict]\n    For further information visit https://errors.pydantic.dev/2.9/v/value_error"
     ]
    }
   ],
   "source": [
    "import os\n",
    "\n",
    "from electoralyze import region\n",
    "from electoralyze.common.constants import ROOT_DIR\n",
    "from electoralyze.common.metric import Metric, MetricRegion\n",
    "from electoralyze.region.region_abc import RegionABC\n",
    "\n",
    "###### Creating group of metrics ########\n",
    "\n",
    "PROCESSED_FILE = os.path.join(ROOT_DIR, \"data/census/temp/{census}/{metric}/{region}.parquet\")\n",
    "\n",
    "\n",
    "class National2021Metric(Metric):\n",
    "    name_suffix: str = \"national_2021\"\n",
    "    file: None = None\n",
    "\n",
    "    def get_file(self) -> str:\n",
    "        file = PROCESSED_FILE.format(\n",
    "            census=self.name_suffix,\n",
    "            metric=self.name,\n",
    "            region=\"{region}\",\n",
    "        )\n",
    "        return file\n",
    "\n",
    "\n",
    "####### Creating specific metric ###########\n",
    "\n",
    "\n",
    "RAW_POPULATION_FILE = os.path.join(ROOT_DIR, \"data/raw/...\")\n",
    "\n",
    "\n",
    "def process_raw_population(**_kwargs) -> pl.DataFrame:\n",
    "    data = pl.DataFrame(\n",
    "        {\"SA1_2021\": [\"A\", \"A\", \"B\", \"B\"], \"year\": [2020, 2021] * 2, \"population\": [10.0, 20.0, 30.0, 40.0]}\n",
    "    )\n",
    "\n",
    "    return data\n",
    "\n",
    "\n",
    "population = National2021Metric(\n",
    "    name=\"population\",\n",
    "    data_type=\"categorical\",\n",
    "    category_column=\"year\",\n",
    "    data_column=\"population\",\n",
    "    allowed_regions=[\n",
    "        MetricRegion(region=region.SA1_2021, process_raw=process_raw_population),\n",
    "        MetricRegion(region=region.SA2_2021, redistribute_from=region.SA1_2021),\n",
    "    ],\n",
    "    schema=lambda region: pl.Schema({region.id: pl.String, \"year\": pl.Int64, \"population\": pl.Float64}),\n",
    ")"
   ]
  },
  {
   "cell_type": "code",
   "execution_count": 3,
   "metadata": {},
   "outputs": [
    {
     "data": {
      "text/plain": [
       "{'input': str, 'reee': int, '_kwargs': dict}"
      ]
     },
     "execution_count": 3,
     "metadata": {},
     "output_type": "execute_result"
    }
   ],
   "source": [
    "from typing import get_type_hints\n",
    "\n",
    "\n",
    "def function(input: str, reee: int, **_kwargs: dict):  # -> pl.DataFrame:\n",
    "    # def function(input: str, reee: int) -> pl.DataFrame:\n",
    "    pass\n",
    "\n",
    "\n",
    "get_type_hints(function)  # .get('input')"
   ]
  },
  {
   "cell_type": "code",
   "execution_count": 3,
   "metadata": {},
   "outputs": [],
   "source": [
    "import tempfile\n",
    "# from electoralyze.common.testing.region_fixture import\n",
    "\n",
    "# region ="
   ]
  },
  {
   "cell_type": "code",
   "execution_count": null,
   "metadata": {},
   "outputs": [],
   "source": []
  }
 ],
 "metadata": {
  "kernelspec": {
   "display_name": "default",
   "language": "python",
   "name": "python3"
  },
  "language_info": {
   "codemirror_mode": {
    "name": "ipython",
    "version": 3
   },
   "file_extension": ".py",
   "mimetype": "text/x-python",
   "name": "python",
   "nbconvert_exporter": "python",
   "pygments_lexer": "ipython3",
   "version": "3.13.0"
  }
 },
 "nbformat": 4,
 "nbformat_minor": 2
}
