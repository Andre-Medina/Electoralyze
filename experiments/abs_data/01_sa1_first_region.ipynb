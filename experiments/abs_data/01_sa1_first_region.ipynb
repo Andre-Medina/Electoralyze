{
 "cells": [
  {
   "cell_type": "code",
   "execution_count": 1,
   "metadata": {},
   "outputs": [],
   "source": [
    "%load_ext autoreload\n",
    "%autoreload 2\n",
    "\n",
    "import geopandas as gpd\n",
    "import pandas as pd\n",
    "import polars as pl\n",
    "import polars_st as st\n",
    "import pyogrio\n",
    "from electoralyze import region\n",
    "from electoralyze.common import constants\n",
    "from electoralyze.common.geometry import to_gpd_gdf, to_st_gdf"
   ]
  },
  {
   "cell_type": "code",
   "execution_count": 2,
   "metadata": {},
   "outputs": [
    {
     "data": {
      "text/plain": [
       "'asdfasdfsasdf'"
      ]
     },
     "execution_count": 2,
     "metadata": {},
     "output_type": "execute_result"
    }
   ],
   "source": [
    "\"{hello}asdfs{hello}\".format(hello=\"asdf\")"
   ]
  },
  {
   "cell_type": "code",
   "execution_count": 3,
   "metadata": {},
   "outputs": [
    {
     "data": {
      "text/plain": [
       "'/home/andre/git/private/electoralyze/packages/electoralyze/electoralyze/common/..'"
      ]
     },
     "execution_count": 3,
     "metadata": {},
     "output_type": "execute_result"
    }
   ],
   "source": [
    "constants.ELECTORALYZE_DIR"
   ]
  },
  {
   "cell_type": "code",
   "execution_count": 4,
   "metadata": {},
   "outputs": [
    {
     "data": {
      "text/plain": [
       "'/home/andre/git/private/electoralyze/packages/electoralyze/electoralyze/common/../../../..'"
      ]
     },
     "execution_count": 4,
     "metadata": {},
     "output_type": "execute_result"
    }
   ],
   "source": [
    "constants.ROOT_DIR"
   ]
  },
  {
   "cell_type": "code",
   "execution_count": 5,
   "metadata": {},
   "outputs": [
    {
     "data": {
      "text/plain": [
       "'SA1_2021_name'"
      ]
     },
     "execution_count": 5,
     "metadata": {},
     "output_type": "execute_result"
    }
   ],
   "source": [
    "region.SA1_2021.name"
   ]
  },
  {
   "cell_type": "code",
   "execution_count": 6,
   "metadata": {},
   "outputs": [
    {
     "data": {
      "text/plain": [
       "'/home/andre/git/private/electoralyze/packages/electoralyze/electoralyze/common/../region/regions/SA1_2021/geometry/SA1_2021.parquet'"
      ]
     },
     "execution_count": 6,
     "metadata": {},
     "output_type": "execute_result"
    }
   ],
   "source": [
    "region.SA1_2021.geometry_file"
   ]
  },
  {
   "cell_type": "code",
   "execution_count": 7,
   "metadata": {},
   "outputs": [],
   "source": [
    "# region.SA1_2021.geometry"
   ]
  },
  {
   "cell_type": "code",
   "execution_count": 8,
   "metadata": {},
   "outputs": [
    {
     "data": {
      "text/plain": [
       "'SA1_2021_name'"
      ]
     },
     "execution_count": 8,
     "metadata": {},
     "output_type": "execute_result"
    }
   ],
   "source": [
    "region.SA1_2021.name"
   ]
  },
  {
   "cell_type": "code",
   "execution_count": 9,
   "metadata": {},
   "outputs": [
    {
     "data": {
      "text/plain": [
       "'/home/andre/git/private/electoralyze/packages/electoralyze/electoralyze/common/../../../../data/raw/ASGA/2021/SA1/SA1_2021_AUST_GDA2020.shp'"
      ]
     },
     "execution_count": 9,
     "metadata": {},
     "output_type": "execute_result"
    }
   ],
   "source": [
    "region.SA1_2021.raw_geometry_file"
   ]
  },
  {
   "cell_type": "markdown",
   "metadata": {},
   "source": [
    "## Combined processing"
   ]
  },
  {
   "cell_type": "code",
   "execution_count": 10,
   "metadata": {},
   "outputs": [
    {
     "name": "stdout",
     "output_type": "stream",
     "text": [
      "Extracting...\n"
     ]
    },
    {
     "name": "stderr",
     "output_type": "stream",
     "text": [
      "WARNING:root:Couldn't find a matching crs for \"EPSG:4326\". The geometries SRID will be set to 0.\n",
      "proj_create: Cannot find proj.db\n",
      "proj_create: no database context specified\n"
     ]
    },
    {
     "name": "stdout",
     "output_type": "stream",
     "text": [
      "Saving...\n",
      "Done!\n"
     ]
    }
   ],
   "source": [
    "region.SA1_2021.process_raw()"
   ]
  },
  {
   "cell_type": "code",
   "execution_count": 11,
   "metadata": {},
   "outputs": [
    {
     "name": "stdout",
     "output_type": "stream",
     "text": [
      "Extracting...\n"
     ]
    },
    {
     "name": "stderr",
     "output_type": "stream",
     "text": [
      "WARNING:root:Couldn't find a matching crs for \"EPSG:4326\". The geometries SRID will be set to 0.\n",
      "proj_create: Cannot find proj.db\n",
      "proj_create: no database context specified\n"
     ]
    },
    {
     "name": "stdout",
     "output_type": "stream",
     "text": [
      "Saving...\n",
      "Done!\n"
     ]
    }
   ],
   "source": [
    "region.SA2_2021.process_raw()"
   ]
  },
  {
   "cell_type": "code",
   "execution_count": 12,
   "metadata": {},
   "outputs": [
    {
     "data": {
      "text/html": [
       "<div><style>\n",
       ".dataframe > thead > tr,\n",
       ".dataframe > tbody > tr {\n",
       "  text-align: right;\n",
       "  white-space: pre-wrap;\n",
       "}\n",
       "</style>\n",
       "<small>shape: (61_844, 2)</small><table border=\"1\" class=\"dataframe\"><thead><tr><th>SA1_2021</th><th>geometry</th></tr><tr><td>i64</td><td>binary</td></tr></thead><tbody><tr><td>10102100701</td><td>b&quot;\\x01\\x03\\x00\\x00\\x20\\xe6\\x10\\x00\\x00\\x01\\x00\\x00\\x00\\x97\\x07\\x00\\x00\\x1a\\x11\\x03\\xf8\\x83\\xbcb@\\x90\\xb1\\xebt\\x81\\x8bA\\xc0K\\x07\\x81\\xbe\\x89\\xbcb@\\x98\\xe7[Du\\x8bA\\xc02\\xce\\x161\\x8f\\xbcb@\\xfc\\xa6\\x1d&quot;…</td></tr><tr><td>10102100702</td><td>b&quot;\\x01\\x03\\x00\\x00\\x20\\xe6\\x10\\x00\\x00\\x02\\x00\\x00\\x00E\\x03\\x00\\x00Y\\xdc\\xe9\\xa6~\\xb7b@\\x9e\\xfb\\xe0\\x81\\x0c\\xafA\\xc0)\\x8b)\\x05\\xd5\\xb7b@\\xcb\\xe0\\xbd\\xd2=\\xafA\\xc0\\xa7T\\xa3\\xd7\\x09\\xb8b@\\xe5%\\xec&quot;…</td></tr><tr><td>10102100703</td><td>b&quot;\\x01\\x03\\x00\\x00\\x20\\xe6\\x10\\x00\\x00\\x01\\x00\\x00\\x00o\\x00\\x00\\x00\\x0f\\xf0N\\x9b\\xf5\\xb8b@\\xd60\\xf1\\x91g\\xb8A\\xc0g\\xd4_\\x7f\\xf5\\xb8b@\\x87\\xca\\xcc?b\\xb8A\\xc01\\x1eIR\\xf5\\xb8b@?bY&quot;…</td></tr><tr><td>10102100704</td><td>b&quot;\\x01\\x03\\x00\\x00\\x20\\xe6\\x10\\x00\\x00\\x01\\x00\\x00\\x00]\\x00\\x00\\x00\\x06:\\xf2\\xa5\\x84\\xb9b@\\xfe\\xecyB\\x82\\xb8A\\xc0JEcw\\x87\\xb9b@\\xf6\\x08c\\x13O\\xb8A\\xc0iw\\x18^\\x88\\xb9b@\\xadX\\xab&quot;…</td></tr><tr><td>10102100705</td><td>b&quot;\\x01\\x03\\x00\\x00\\x20\\xe6\\x10\\x00\\x00\\x01\\x00\\x00\\x00g\\x00\\x00\\x00\\xdc\\xbc\\x02\\x88p\\xb9b@\\xfe\\x05l#y\\xb9A\\xc0g\\x10R\\x1cr\\xb9b@X.\\x07\\x8cy\\xb9A\\xc0\\xc1\\xfd\\xda$s\\xb9b@I{\\xf7&quot;…</td></tr><tr><td>&hellip;</td><td>&hellip;</td></tr><tr><td>90104100406</td><td>b&quot;\\x01\\x06\\x00\\x00\\x20\\xe6\\x10\\x00\\x00\\x07\\x00\\x00\\x00\\x01\\x03\\x00\\x00\\x00\\x01\\x00\\x00\\x000\\x00\\x00\\x00\\xe2\\x11J\\xca\\xa8\\xfed@)\\xbd\\x94\\x953\\x01=\\xc0\\x82\\xc7f\\xa2\\xa8\\xfed@\\x1d\\x9e\\xb6\\xb67\\x01=\\xc0\\x09M&quot;…</td></tr><tr><td>90104100407</td><td>b&quot;\\x01\\x06\\x00\\x00\\x20\\xe6\\x10\\x00\\x00\\x09\\x00\\x00\\x00\\x01\\x03\\x00\\x00\\x00\\x01\\x00\\x00\\x00\\x0f\\x00\\x00\\x00\\x88\\x8d\\x9c\\xebT\\xfdd@\\x06\\xf8)\\xe8t\\x02=\\xc0\\xf2\\x07t\\xbdT\\xfdd@*\\x9e\\x87^q\\x02=\\xc0\\x9a\\xb3&quot;…</td></tr><tr><td>90104100408</td><td>b&quot;\\x01\\x06\\x00\\x00\\x20\\xe6\\x10\\x00\\x00\\x06\\x00\\x00\\x00\\x01\\x03\\x00\\x00\\x00\\x01\\x00\\x00\\x00\\xfb\\x02\\x00\\x00\\xe3!t\\xf8\\xd2\\xfed@`O\\xc8Hv\\x12=\\xc0\\x89\\xd7l\\x0d\\xd3\\xfed@=\\xa9\\x9e\\xb1u\\x12=\\xc0^\\xb6&quot;…</td></tr><tr><td>99797979993</td><td>null</td></tr><tr><td>99999949999</td><td>null</td></tr></tbody></table></div>"
      ],
      "text/plain": [
       "shape: (61_844, 2)\n",
       "┌─────────────┬─────────────────────────────────┐\n",
       "│ SA1_2021    ┆ geometry                        │\n",
       "│ ---         ┆ ---                             │\n",
       "│ i64         ┆ binary                          │\n",
       "╞═════════════╪═════════════════════════════════╡\n",
       "│ 10102100701 ┆ b\"\\x01\\x03\\x00\\x00\\x20\\xe6\\x10… │\n",
       "│ 10102100702 ┆ b\"\\x01\\x03\\x00\\x00\\x20\\xe6\\x10… │\n",
       "│ 10102100703 ┆ b\"\\x01\\x03\\x00\\x00\\x20\\xe6\\x10… │\n",
       "│ 10102100704 ┆ b\"\\x01\\x03\\x00\\x00\\x20\\xe6\\x10… │\n",
       "│ 10102100705 ┆ b\"\\x01\\x03\\x00\\x00\\x20\\xe6\\x10… │\n",
       "│ …           ┆ …                               │\n",
       "│ 90104100406 ┆ b\"\\x01\\x06\\x00\\x00\\x20\\xe6\\x10… │\n",
       "│ 90104100407 ┆ b\"\\x01\\x06\\x00\\x00\\x20\\xe6\\x10… │\n",
       "│ 90104100408 ┆ b\"\\x01\\x06\\x00\\x00\\x20\\xe6\\x10… │\n",
       "│ 99797979993 ┆ null                            │\n",
       "│ 99999949999 ┆ null                            │\n",
       "└─────────────┴─────────────────────────────────┘"
      ]
     },
     "execution_count": 12,
     "metadata": {},
     "output_type": "execute_result"
    }
   ],
   "source": [
    "region.SA1_2021.get_raw_geometry()"
   ]
  },
  {
   "cell_type": "code",
   "execution_count": 13,
   "metadata": {},
   "outputs": [
    {
     "data": {
      "text/html": [
       "<div><style>\n",
       ".dataframe > thead > tr,\n",
       ".dataframe > tbody > tr {\n",
       "  text-align: right;\n",
       "  white-space: pre-wrap;\n",
       "}\n",
       "</style>\n",
       "<small>shape: (61_844, 2)</small><table border=\"1\" class=\"dataframe\"><thead><tr><th>SA1_2021</th><th>SA1_2021_name</th></tr><tr><td>i64</td><td>str</td></tr></thead><tbody><tr><td>10102100701</td><td>&quot;10102100701&quot;</td></tr><tr><td>10102100702</td><td>&quot;10102100702&quot;</td></tr><tr><td>10102100703</td><td>&quot;10102100703&quot;</td></tr><tr><td>10102100704</td><td>&quot;10102100704&quot;</td></tr><tr><td>10102100705</td><td>&quot;10102100705&quot;</td></tr><tr><td>&hellip;</td><td>&hellip;</td></tr><tr><td>90104100406</td><td>&quot;90104100406&quot;</td></tr><tr><td>90104100407</td><td>&quot;90104100407&quot;</td></tr><tr><td>90104100408</td><td>&quot;90104100408&quot;</td></tr><tr><td>99797979993</td><td>&quot;99797979993&quot;</td></tr><tr><td>99999949999</td><td>&quot;99999949999&quot;</td></tr></tbody></table></div>"
      ],
      "text/plain": [
       "shape: (61_844, 2)\n",
       "┌─────────────┬───────────────┐\n",
       "│ SA1_2021    ┆ SA1_2021_name │\n",
       "│ ---         ┆ ---           │\n",
       "│ i64         ┆ str           │\n",
       "╞═════════════╪═══════════════╡\n",
       "│ 10102100701 ┆ 10102100701   │\n",
       "│ 10102100702 ┆ 10102100702   │\n",
       "│ 10102100703 ┆ 10102100703   │\n",
       "│ 10102100704 ┆ 10102100704   │\n",
       "│ 10102100705 ┆ 10102100705   │\n",
       "│ …           ┆ …             │\n",
       "│ 90104100406 ┆ 90104100406   │\n",
       "│ 90104100407 ┆ 90104100407   │\n",
       "│ 90104100408 ┆ 90104100408   │\n",
       "│ 99797979993 ┆ 99797979993   │\n",
       "│ 99999949999 ┆ 99999949999   │\n",
       "└─────────────┴───────────────┘"
      ]
     },
     "execution_count": 13,
     "metadata": {},
     "output_type": "execute_result"
    }
   ],
   "source": [
    "region.SA1_2021.get_raw_metadata()"
   ]
  },
  {
   "cell_type": "code",
   "execution_count": 14,
   "metadata": {},
   "outputs": [
    {
     "data": {
      "text/html": [
       "<div><style>\n",
       ".dataframe > thead > tr,\n",
       ".dataframe > tbody > tr {\n",
       "  text-align: right;\n",
       "  white-space: pre-wrap;\n",
       "}\n",
       "</style>\n",
       "<small>shape: (61_844, 2)</small><table border=\"1\" class=\"dataframe\"><thead><tr><th>SA1_2021</th><th>SA1_2021_name</th></tr><tr><td>i64</td><td>str</td></tr></thead><tbody><tr><td>10102100701</td><td>&quot;10102100701&quot;</td></tr><tr><td>10102100702</td><td>&quot;10102100702&quot;</td></tr><tr><td>10102100703</td><td>&quot;10102100703&quot;</td></tr><tr><td>10102100704</td><td>&quot;10102100704&quot;</td></tr><tr><td>10102100705</td><td>&quot;10102100705&quot;</td></tr><tr><td>&hellip;</td><td>&hellip;</td></tr><tr><td>90104100406</td><td>&quot;90104100406&quot;</td></tr><tr><td>90104100407</td><td>&quot;90104100407&quot;</td></tr><tr><td>90104100408</td><td>&quot;90104100408&quot;</td></tr><tr><td>99797979993</td><td>&quot;99797979993&quot;</td></tr><tr><td>99999949999</td><td>&quot;99999949999&quot;</td></tr></tbody></table></div>"
      ],
      "text/plain": [
       "shape: (61_844, 2)\n",
       "┌─────────────┬───────────────┐\n",
       "│ SA1_2021    ┆ SA1_2021_name │\n",
       "│ ---         ┆ ---           │\n",
       "│ i64         ┆ str           │\n",
       "╞═════════════╪═══════════════╡\n",
       "│ 10102100701 ┆ 10102100701   │\n",
       "│ 10102100702 ┆ 10102100702   │\n",
       "│ 10102100703 ┆ 10102100703   │\n",
       "│ 10102100704 ┆ 10102100704   │\n",
       "│ 10102100705 ┆ 10102100705   │\n",
       "│ …           ┆ …             │\n",
       "│ 90104100406 ┆ 90104100406   │\n",
       "│ 90104100407 ┆ 90104100407   │\n",
       "│ 90104100408 ┆ 90104100408   │\n",
       "│ 99797979993 ┆ 99797979993   │\n",
       "│ 99999949999 ┆ 99999949999   │\n",
       "└─────────────┴───────────────┘"
      ]
     },
     "execution_count": 14,
     "metadata": {},
     "output_type": "execute_result"
    }
   ],
   "source": [
    "region.SA1_2021.metadata"
   ]
  },
  {
   "cell_type": "code",
   "execution_count": 17,
   "metadata": {},
   "outputs": [
    {
     "data": {
      "text/html": [
       "<div><style>\n",
       ".dataframe > thead > tr,\n",
       ".dataframe > tbody > tr {\n",
       "  text-align: right;\n",
       "  white-space: pre-wrap;\n",
       "}\n",
       "</style>\n",
       "<small>shape: (61_844, 2)</small><table border=\"1\" class=\"dataframe\"><thead><tr><th>SA1_2021</th><th>geometry</th></tr><tr><td>i64</td><td>binary</td></tr></thead><tbody><tr><td>10102100701</td><td>b&quot;\\x01\\x03\\x00\\x00\\x20\\xe6\\x10\\x00\\x00\\x01\\x00\\x00\\x00\\xc9\\x02\\x00\\x00]\\x16V\\xf6\\x80\\xbcb@`j&quot;\\xe5\\x88\\x8bA\\xc0K\\x07\\x81\\xbe\\x89\\xbcb@\\x98\\xe7[Du\\x8bA\\xc0\\xdc\\x8d\\x1c;\\x92\\xbcb@\\xa9X\\x94&quot;…</td></tr><tr><td>10102100702</td><td>b&quot;\\x01\\x03\\x00\\x00\\x20\\xe6\\x10\\x00\\x00\\x02\\x00\\x00\\x00\\x08\\x01\\x00\\x00Y\\xdc\\xe9\\xa6~\\xb7b@\\x9e\\xfb\\xe0\\x81\\x0c\\xafA\\xc0\\xb5Q\\xabKL\\xb8b@y\\x87\\xa0!}\\xafA\\xc0\\xdc\\xeb1\\x0bW\\xb8b@A\\xb6\\x8d&quot;…</td></tr><tr><td>10102100703</td><td>b&quot;\\x01\\x03\\x00\\x00\\x20\\xe6\\x10\\x00\\x00\\x01\\x00\\x00\\x00\\x1a\\x00\\x00\\x00\\x0f\\xf0N\\x9b\\xf5\\xb8b@\\xd60\\xf1\\x91g\\xb8A\\xc0u\\xc3C\\xa7\\xf2\\xb8b@G8\\xcb\\xb4+\\xb8A\\xc0B6\\xc1\\xac\\xfb\\xb8b@^p\\xe5&quot;…</td></tr><tr><td>10102100704</td><td>b&quot;\\x01\\x03\\x00\\x00\\x20\\xe6\\x10\\x00\\x00\\x01\\x00\\x00\\x00\\x1e\\x00\\x00\\x00\\x95\\x92\\x10&lt;}\\xb9b@7J\\xbb\\x9f\\x09\\xb9A\\xc0\\xca1\\xac\\xee\\x89\\xb9b@j\\x94\\xfc\\x020\\xb8A\\xc0RI\\xbet\\x8b\\xb9b@\\xc1\\xe3\\xb4&quot;…</td></tr><tr><td>10102100705</td><td>b&quot;\\x01\\x03\\x00\\x00\\x20\\xe6\\x10\\x00\\x00\\x01\\x00\\x00\\x00&quot;\\x00\\x00\\x00\\xdc\\xbc\\x02\\x88p\\xb9b@\\xfe\\x05l#y\\xb9A\\xc0g\\x10R\\x1cr\\xb9b@X.\\x07\\x8cy\\xb9A\\xc0\\x93\\xecfnt\\xb9b@Pc\\x1f&quot;…</td></tr><tr><td>&hellip;</td><td>&hellip;</td></tr><tr><td>90104100406</td><td>b&quot;\\x01\\x06\\x00\\x00\\x20\\xe6\\x10\\x00\\x00\\x07\\x00\\x00\\x00\\x01\\x03\\x00\\x00\\x00\\x01\\x00\\x00\\x00\\x09\\x00\\x00\\x00^\\xa0\\xef\\xd6\\xa7\\xfed@\\xc6\\x1c\\xf6c\\x14\\x01=\\xc0H+\\x9d\\xbf\\xa9\\xfed@\\xb5P\\x14|T\\x01=\\xc0\\x08X&quot;…</td></tr><tr><td>90104100407</td><td>b&quot;\\x01\\x06\\x00\\x00\\x20\\xe6\\x10\\x00\\x00\\x09\\x00\\x00\\x00\\x01\\x03\\x00\\x00\\x00\\x01\\x00\\x00\\x00\\x05\\x00\\x00\\x00\\x88\\x8d\\x9c\\xebT\\xfdd@\\x06\\xf8)\\xe8t\\x02=\\xc0\\xb7:\\x13\\xc7Z\\xfdd@z\\xce\\x1d\\xf6m\\x02=\\xc0\\x13T&quot;…</td></tr><tr><td>90104100408</td><td>b&quot;\\x01\\x06\\x00\\x00\\x20\\xe6\\x10\\x00\\x00\\x06\\x00\\x00\\x00\\x01\\x03\\x00\\x00\\x00\\x01\\x00\\x00\\x00&gt;\\x00\\x00\\x00\\x8d\\x8b\\xd7\\x9b\\xd4\\xfed@\\x95\\xcf\\x8e\\x96\\x83\\x12=\\xc0L\\xe0\\xf2\\xc1\\xd2\\xfed@\\xe1\\x95\\xdf\\xaak\\x12=\\xc0\\x89\\xcc&quot;…</td></tr><tr><td>99797979993</td><td>null</td></tr><tr><td>99999949999</td><td>null</td></tr></tbody></table></div>"
      ],
      "text/plain": [
       "shape: (61_844, 2)\n",
       "┌─────────────┬─────────────────────────────────┐\n",
       "│ SA1_2021    ┆ geometry                        │\n",
       "│ ---         ┆ ---                             │\n",
       "│ i64         ┆ binary                          │\n",
       "╞═════════════╪═════════════════════════════════╡\n",
       "│ 10102100701 ┆ b\"\\x01\\x03\\x00\\x00\\x20\\xe6\\x10… │\n",
       "│ 10102100702 ┆ b\"\\x01\\x03\\x00\\x00\\x20\\xe6\\x10… │\n",
       "│ 10102100703 ┆ b\"\\x01\\x03\\x00\\x00\\x20\\xe6\\x10… │\n",
       "│ 10102100704 ┆ b\"\\x01\\x03\\x00\\x00\\x20\\xe6\\x10… │\n",
       "│ 10102100705 ┆ b\"\\x01\\x03\\x00\\x00\\x20\\xe6\\x10… │\n",
       "│ …           ┆ …                               │\n",
       "│ 90104100406 ┆ b\"\\x01\\x06\\x00\\x00\\x20\\xe6\\x10… │\n",
       "│ 90104100407 ┆ b\"\\x01\\x06\\x00\\x00\\x20\\xe6\\x10… │\n",
       "│ 90104100408 ┆ b\"\\x01\\x06\\x00\\x00\\x20\\xe6\\x10… │\n",
       "│ 99797979993 ┆ null                            │\n",
       "│ 99999949999 ┆ null                            │\n",
       "└─────────────┴─────────────────────────────────┘"
      ]
     },
     "execution_count": 17,
     "metadata": {},
     "output_type": "execute_result"
    }
   ],
   "source": [
    "region.SA1_2021.geometry"
   ]
  }
 ],
 "metadata": {
  "kernelspec": {
   "display_name": "Python 3",
   "language": "python",
   "name": "python3"
  },
  "language_info": {
   "codemirror_mode": {
    "name": "ipython",
    "version": 3
   },
   "file_extension": ".py",
   "mimetype": "text/x-python",
   "name": "python",
   "nbconvert_exporter": "python",
   "pygments_lexer": "ipython3",
   "version": "3.13.0"
  }
 },
 "nbformat": 4,
 "nbformat_minor": 2
}
