{
 "cells": [
  {
   "cell_type": "code",
   "execution_count": 1,
   "metadata": {},
   "outputs": [],
   "source": [
    "%load_ext autoreload\n",
    "%autoreload 2\n",
    "\n",
    "from electoralyze import Region\n",
    "from electoralyze.common import constants\n",
    "import pyogrio\n",
    "import polars_st as st\n",
    "import polars as pl\n"
   ]
  },
  {
   "cell_type": "code",
   "execution_count": 2,
   "metadata": {},
   "outputs": [
    {
     "data": {
      "text/plain": [
       "'asdfasdfsasdf'"
      ]
     },
     "execution_count": 2,
     "metadata": {},
     "output_type": "execute_result"
    }
   ],
   "source": [
    "\"{hello}asdfs{hello}\".format(hello = 'asdf')"
   ]
  },
  {
   "cell_type": "code",
   "execution_count": 3,
   "metadata": {},
   "outputs": [
    {
     "data": {
      "text/plain": [
       "'/home/andre/git/private/electoralyze/packages/electoralyze/electoralyze'"
      ]
     },
     "execution_count": 3,
     "metadata": {},
     "output_type": "execute_result"
    }
   ],
   "source": [
    "constants.ELECTORALYZE_DIR"
   ]
  },
  {
   "cell_type": "code",
   "execution_count": 4,
   "metadata": {},
   "outputs": [
    {
     "data": {
      "text/plain": [
       "'/home/andre/git/private/electoralyze/packages/electoralyze/electoralyze/../../..'"
      ]
     },
     "execution_count": 4,
     "metadata": {},
     "output_type": "execute_result"
    }
   ],
   "source": [
    "constants.ROOT_DIR"
   ]
  },
  {
   "cell_type": "code",
   "execution_count": 5,
   "metadata": {},
   "outputs": [
    {
     "data": {
      "text/plain": [
       "'SA1_2021'"
      ]
     },
     "execution_count": 5,
     "metadata": {},
     "output_type": "execute_result"
    }
   ],
   "source": [
    "Region.SA1_2021.value"
   ]
  },
  {
   "cell_type": "code",
   "execution_count": 6,
   "metadata": {},
   "outputs": [
    {
     "data": {
      "text/plain": [
       "'SA1_2021_name'"
      ]
     },
     "execution_count": 6,
     "metadata": {},
     "output_type": "execute_result"
    }
   ],
   "source": [
    "Region.SA1_2021.name"
   ]
  },
  {
   "cell_type": "code",
   "execution_count": 8,
   "metadata": {},
   "outputs": [
    {
     "data": {
      "text/plain": [
       "'/home/andre/git/private/electoralyze/packages/electoralyze/electoralyze/../../../data/raw/ASGA/2021/SA1/SA1_2021_AUST_GDA2020.shp'"
      ]
     },
     "execution_count": 8,
     "metadata": {},
     "output_type": "execute_result"
    }
   ],
   "source": [
    "Region.SA1_2021.raw_data_file"
   ]
  },
  {
   "cell_type": "code",
   "execution_count": 9,
   "metadata": {},
   "outputs": [
    {
     "data": {
      "text/html": [
       "<div>\n",
       "<style scoped>\n",
       "    .dataframe tbody tr th:only-of-type {\n",
       "        vertical-align: middle;\n",
       "    }\n",
       "\n",
       "    .dataframe tbody tr th {\n",
       "        vertical-align: top;\n",
       "    }\n",
       "\n",
       "    .dataframe thead th {\n",
       "        text-align: right;\n",
       "    }\n",
       "</style>\n",
       "<table border=\"1\" class=\"dataframe\">\n",
       "  <thead>\n",
       "    <tr style=\"text-align: right;\">\n",
       "      <th></th>\n",
       "      <th>SA1_CODE21</th>\n",
       "      <th>CHG_FLAG21</th>\n",
       "      <th>CHG_LBL21</th>\n",
       "      <th>SA2_CODE21</th>\n",
       "      <th>SA2_NAME21</th>\n",
       "      <th>SA3_CODE21</th>\n",
       "      <th>SA3_NAME21</th>\n",
       "      <th>SA4_CODE21</th>\n",
       "      <th>SA4_NAME21</th>\n",
       "      <th>GCC_CODE21</th>\n",
       "      <th>GCC_NAME21</th>\n",
       "      <th>STE_CODE21</th>\n",
       "      <th>STE_NAME21</th>\n",
       "      <th>AUS_CODE21</th>\n",
       "      <th>AUS_NAME21</th>\n",
       "      <th>AREASQKM21</th>\n",
       "      <th>LOCI_URI21</th>\n",
       "      <th>geometry</th>\n",
       "    </tr>\n",
       "  </thead>\n",
       "  <tbody>\n",
       "    <tr>\n",
       "      <th>0</th>\n",
       "      <td>10102100701</td>\n",
       "      <td>0</td>\n",
       "      <td>No change</td>\n",
       "      <td>101021007</td>\n",
       "      <td>Braidwood</td>\n",
       "      <td>10102</td>\n",
       "      <td>Queanbeyan</td>\n",
       "      <td>101</td>\n",
       "      <td>Capital Region</td>\n",
       "      <td>1RNSW</td>\n",
       "      <td>Rest of NSW</td>\n",
       "      <td>1</td>\n",
       "      <td>New South Wales</td>\n",
       "      <td>AUS</td>\n",
       "      <td>Australia</td>\n",
       "      <td>362.8727</td>\n",
       "      <td>http://linked.data.gov.au/dataset/asgsed3/SA1/...</td>\n",
       "      <td>POLYGON ((149.89111 -35.08989, 149.89181 -35.0...</td>\n",
       "    </tr>\n",
       "    <tr>\n",
       "      <th>1</th>\n",
       "      <td>10102100702</td>\n",
       "      <td>0</td>\n",
       "      <td>No change</td>\n",
       "      <td>101021007</td>\n",
       "      <td>Braidwood</td>\n",
       "      <td>10102</td>\n",
       "      <td>Queanbeyan</td>\n",
       "      <td>101</td>\n",
       "      <td>Capital Region</td>\n",
       "      <td>1RNSW</td>\n",
       "      <td>Rest of NSW</td>\n",
       "      <td>1</td>\n",
       "      <td>New South Wales</td>\n",
       "      <td>AUS</td>\n",
       "      <td>Australia</td>\n",
       "      <td>229.7459</td>\n",
       "      <td>http://linked.data.gov.au/dataset/asgsed3/SA1/...</td>\n",
       "      <td>POLYGON ((149.73421 -35.36757, 149.74475 -35.3...</td>\n",
       "    </tr>\n",
       "    <tr>\n",
       "      <th>2</th>\n",
       "      <td>10102100703</td>\n",
       "      <td>0</td>\n",
       "      <td>No change</td>\n",
       "      <td>101021007</td>\n",
       "      <td>Braidwood</td>\n",
       "      <td>10102</td>\n",
       "      <td>Queanbeyan</td>\n",
       "      <td>101</td>\n",
       "      <td>Capital Region</td>\n",
       "      <td>1RNSW</td>\n",
       "      <td>Rest of NSW</td>\n",
       "      <td>1</td>\n",
       "      <td>New South Wales</td>\n",
       "      <td>AUS</td>\n",
       "      <td>Australia</td>\n",
       "      <td>2.3910</td>\n",
       "      <td>http://linked.data.gov.au/dataset/asgsed3/SA1/...</td>\n",
       "      <td>POLYGON ((149.77998 -35.44066, 149.77997 -35.4...</td>\n",
       "    </tr>\n",
       "    <tr>\n",
       "      <th>3</th>\n",
       "      <td>10102100704</td>\n",
       "      <td>0</td>\n",
       "      <td>No change</td>\n",
       "      <td>101021007</td>\n",
       "      <td>Braidwood</td>\n",
       "      <td>10102</td>\n",
       "      <td>Queanbeyan</td>\n",
       "      <td>101</td>\n",
       "      <td>Capital Region</td>\n",
       "      <td>1RNSW</td>\n",
       "      <td>Rest of NSW</td>\n",
       "      <td>1</td>\n",
       "      <td>New South Wales</td>\n",
       "      <td>AUS</td>\n",
       "      <td>Australia</td>\n",
       "      <td>1.2816</td>\n",
       "      <td>http://linked.data.gov.au/dataset/asgsed3/SA1/...</td>\n",
       "      <td>POLYGON ((149.79744 -35.44148, 149.79779 -35.4...</td>\n",
       "    </tr>\n",
       "    <tr>\n",
       "      <th>4</th>\n",
       "      <td>10102100705</td>\n",
       "      <td>0</td>\n",
       "      <td>No change</td>\n",
       "      <td>101021007</td>\n",
       "      <td>Braidwood</td>\n",
       "      <td>10102</td>\n",
       "      <td>Queanbeyan</td>\n",
       "      <td>101</td>\n",
       "      <td>Capital Region</td>\n",
       "      <td>1RNSW</td>\n",
       "      <td>Rest of NSW</td>\n",
       "      <td>1</td>\n",
       "      <td>New South Wales</td>\n",
       "      <td>AUS</td>\n",
       "      <td>Australia</td>\n",
       "      <td>1.1978</td>\n",
       "      <td>http://linked.data.gov.au/dataset/asgsed3/SA1/...</td>\n",
       "      <td>POLYGON ((149.79499 -35.44901, 149.79518 -35.4...</td>\n",
       "    </tr>\n",
       "    <tr>\n",
       "      <th>...</th>\n",
       "      <td>...</td>\n",
       "      <td>...</td>\n",
       "      <td>...</td>\n",
       "      <td>...</td>\n",
       "      <td>...</td>\n",
       "      <td>...</td>\n",
       "      <td>...</td>\n",
       "      <td>...</td>\n",
       "      <td>...</td>\n",
       "      <td>...</td>\n",
       "      <td>...</td>\n",
       "      <td>...</td>\n",
       "      <td>...</td>\n",
       "      <td>...</td>\n",
       "      <td>...</td>\n",
       "      <td>...</td>\n",
       "      <td>...</td>\n",
       "      <td>...</td>\n",
       "    </tr>\n",
       "    <tr>\n",
       "      <th>61840</th>\n",
       "      <td>90104100407</td>\n",
       "      <td>0</td>\n",
       "      <td>No change</td>\n",
       "      <td>901041004</td>\n",
       "      <td>Norfolk Island</td>\n",
       "      <td>90104</td>\n",
       "      <td>Norfolk Island</td>\n",
       "      <td>901</td>\n",
       "      <td>Other Territories</td>\n",
       "      <td>9OTER</td>\n",
       "      <td>Other Territories</td>\n",
       "      <td>9</td>\n",
       "      <td>Other Territories</td>\n",
       "      <td>AUS</td>\n",
       "      <td>Australia</td>\n",
       "      <td>10.5956</td>\n",
       "      <td>http://linked.data.gov.au/dataset/asgsed3/SA1/...</td>\n",
       "      <td>MULTIPOLYGON (((167.91662 -29.0096, 167.91659 ...</td>\n",
       "    </tr>\n",
       "    <tr>\n",
       "      <th>61841</th>\n",
       "      <td>90104100408</td>\n",
       "      <td>0</td>\n",
       "      <td>No change</td>\n",
       "      <td>901041004</td>\n",
       "      <td>Norfolk Island</td>\n",
       "      <td>90104</td>\n",
       "      <td>Norfolk Island</td>\n",
       "      <td>901</td>\n",
       "      <td>Other Territories</td>\n",
       "      <td>9OTER</td>\n",
       "      <td>Other Territories</td>\n",
       "      <td>9</td>\n",
       "      <td>Other Territories</td>\n",
       "      <td>AUS</td>\n",
       "      <td>Australia</td>\n",
       "      <td>2.3801</td>\n",
       "      <td>http://linked.data.gov.au/dataset/asgsed3/SA1/...</td>\n",
       "      <td>MULTIPOLYGON (((167.96325 -29.07212, 167.96326...</td>\n",
       "    </tr>\n",
       "    <tr>\n",
       "      <th>61842</th>\n",
       "      <td>99797979993</td>\n",
       "      <td>0</td>\n",
       "      <td>No change</td>\n",
       "      <td>997979799</td>\n",
       "      <td>Migratory - Offshore - Shipping (OT)</td>\n",
       "      <td>99797</td>\n",
       "      <td>Migratory - Offshore - Shipping (OT)</td>\n",
       "      <td>997</td>\n",
       "      <td>Migratory - Offshore - Shipping (OT)</td>\n",
       "      <td>99799</td>\n",
       "      <td>Migratory - Offshore - Shipping (OT)</td>\n",
       "      <td>9</td>\n",
       "      <td>Other Territories</td>\n",
       "      <td>AUS</td>\n",
       "      <td>Australia</td>\n",
       "      <td>NaN</td>\n",
       "      <td>http://linked.data.gov.au/dataset/asgsed3/SA1/...</td>\n",
       "      <td>None</td>\n",
       "    </tr>\n",
       "    <tr>\n",
       "      <th>61843</th>\n",
       "      <td>99999949999</td>\n",
       "      <td>0</td>\n",
       "      <td>No change</td>\n",
       "      <td>999999499</td>\n",
       "      <td>No usual address (OT)</td>\n",
       "      <td>99999</td>\n",
       "      <td>No usual address (OT)</td>\n",
       "      <td>999</td>\n",
       "      <td>No usual address (OT)</td>\n",
       "      <td>99499</td>\n",
       "      <td>No usual address (OT)</td>\n",
       "      <td>9</td>\n",
       "      <td>Other Territories</td>\n",
       "      <td>AUS</td>\n",
       "      <td>Australia</td>\n",
       "      <td>NaN</td>\n",
       "      <td>http://linked.data.gov.au/dataset/asgsed3/SA1/...</td>\n",
       "      <td>None</td>\n",
       "    </tr>\n",
       "    <tr>\n",
       "      <th>61844</th>\n",
       "      <td>ZZZZZZZZZZZ</td>\n",
       "      <td>0</td>\n",
       "      <td>No change</td>\n",
       "      <td>ZZZZZZZZZ</td>\n",
       "      <td>Outside Australia</td>\n",
       "      <td>ZZZZZ</td>\n",
       "      <td>Outside Australia</td>\n",
       "      <td>ZZZ</td>\n",
       "      <td>Outside Australia</td>\n",
       "      <td>ZZZZZ</td>\n",
       "      <td>Outside Australia</td>\n",
       "      <td>Z</td>\n",
       "      <td>Outside Australia</td>\n",
       "      <td>ZZZ</td>\n",
       "      <td>Outside Australia</td>\n",
       "      <td>NaN</td>\n",
       "      <td>http://linked.data.gov.au/dataset/asgsed3/SA1/...</td>\n",
       "      <td>None</td>\n",
       "    </tr>\n",
       "  </tbody>\n",
       "</table>\n",
       "<p>61845 rows × 18 columns</p>\n",
       "</div>"
      ],
      "text/plain": [
       "        SA1_CODE21 CHG_FLAG21  CHG_LBL21 SA2_CODE21  \\\n",
       "0      10102100701          0  No change  101021007   \n",
       "1      10102100702          0  No change  101021007   \n",
       "2      10102100703          0  No change  101021007   \n",
       "3      10102100704          0  No change  101021007   \n",
       "4      10102100705          0  No change  101021007   \n",
       "...            ...        ...        ...        ...   \n",
       "61840  90104100407          0  No change  901041004   \n",
       "61841  90104100408          0  No change  901041004   \n",
       "61842  99797979993          0  No change  997979799   \n",
       "61843  99999949999          0  No change  999999499   \n",
       "61844  ZZZZZZZZZZZ          0  No change  ZZZZZZZZZ   \n",
       "\n",
       "                                 SA2_NAME21 SA3_CODE21  \\\n",
       "0                                 Braidwood      10102   \n",
       "1                                 Braidwood      10102   \n",
       "2                                 Braidwood      10102   \n",
       "3                                 Braidwood      10102   \n",
       "4                                 Braidwood      10102   \n",
       "...                                     ...        ...   \n",
       "61840                        Norfolk Island      90104   \n",
       "61841                        Norfolk Island      90104   \n",
       "61842  Migratory - Offshore - Shipping (OT)      99797   \n",
       "61843                 No usual address (OT)      99999   \n",
       "61844                     Outside Australia      ZZZZZ   \n",
       "\n",
       "                                 SA3_NAME21 SA4_CODE21  \\\n",
       "0                                Queanbeyan        101   \n",
       "1                                Queanbeyan        101   \n",
       "2                                Queanbeyan        101   \n",
       "3                                Queanbeyan        101   \n",
       "4                                Queanbeyan        101   \n",
       "...                                     ...        ...   \n",
       "61840                        Norfolk Island        901   \n",
       "61841                        Norfolk Island        901   \n",
       "61842  Migratory - Offshore - Shipping (OT)        997   \n",
       "61843                 No usual address (OT)        999   \n",
       "61844                     Outside Australia        ZZZ   \n",
       "\n",
       "                                 SA4_NAME21 GCC_CODE21  \\\n",
       "0                            Capital Region      1RNSW   \n",
       "1                            Capital Region      1RNSW   \n",
       "2                            Capital Region      1RNSW   \n",
       "3                            Capital Region      1RNSW   \n",
       "4                            Capital Region      1RNSW   \n",
       "...                                     ...        ...   \n",
       "61840                     Other Territories      9OTER   \n",
       "61841                     Other Territories      9OTER   \n",
       "61842  Migratory - Offshore - Shipping (OT)      99799   \n",
       "61843                 No usual address (OT)      99499   \n",
       "61844                     Outside Australia      ZZZZZ   \n",
       "\n",
       "                                 GCC_NAME21 STE_CODE21         STE_NAME21  \\\n",
       "0                               Rest of NSW          1    New South Wales   \n",
       "1                               Rest of NSW          1    New South Wales   \n",
       "2                               Rest of NSW          1    New South Wales   \n",
       "3                               Rest of NSW          1    New South Wales   \n",
       "4                               Rest of NSW          1    New South Wales   \n",
       "...                                     ...        ...                ...   \n",
       "61840                     Other Territories          9  Other Territories   \n",
       "61841                     Other Territories          9  Other Territories   \n",
       "61842  Migratory - Offshore - Shipping (OT)          9  Other Territories   \n",
       "61843                 No usual address (OT)          9  Other Territories   \n",
       "61844                     Outside Australia          Z  Outside Australia   \n",
       "\n",
       "      AUS_CODE21         AUS_NAME21  AREASQKM21  \\\n",
       "0            AUS          Australia    362.8727   \n",
       "1            AUS          Australia    229.7459   \n",
       "2            AUS          Australia      2.3910   \n",
       "3            AUS          Australia      1.2816   \n",
       "4            AUS          Australia      1.1978   \n",
       "...          ...                ...         ...   \n",
       "61840        AUS          Australia     10.5956   \n",
       "61841        AUS          Australia      2.3801   \n",
       "61842        AUS          Australia         NaN   \n",
       "61843        AUS          Australia         NaN   \n",
       "61844        ZZZ  Outside Australia         NaN   \n",
       "\n",
       "                                              LOCI_URI21  \\\n",
       "0      http://linked.data.gov.au/dataset/asgsed3/SA1/...   \n",
       "1      http://linked.data.gov.au/dataset/asgsed3/SA1/...   \n",
       "2      http://linked.data.gov.au/dataset/asgsed3/SA1/...   \n",
       "3      http://linked.data.gov.au/dataset/asgsed3/SA1/...   \n",
       "4      http://linked.data.gov.au/dataset/asgsed3/SA1/...   \n",
       "...                                                  ...   \n",
       "61840  http://linked.data.gov.au/dataset/asgsed3/SA1/...   \n",
       "61841  http://linked.data.gov.au/dataset/asgsed3/SA1/...   \n",
       "61842  http://linked.data.gov.au/dataset/asgsed3/SA1/...   \n",
       "61843  http://linked.data.gov.au/dataset/asgsed3/SA1/...   \n",
       "61844  http://linked.data.gov.au/dataset/asgsed3/SA1/...   \n",
       "\n",
       "                                                geometry  \n",
       "0      POLYGON ((149.89111 -35.08989, 149.89181 -35.0...  \n",
       "1      POLYGON ((149.73421 -35.36757, 149.74475 -35.3...  \n",
       "2      POLYGON ((149.77998 -35.44066, 149.77997 -35.4...  \n",
       "3      POLYGON ((149.79744 -35.44148, 149.79779 -35.4...  \n",
       "4      POLYGON ((149.79499 -35.44901, 149.79518 -35.4...  \n",
       "...                                                  ...  \n",
       "61840  MULTIPOLYGON (((167.91662 -29.0096, 167.91659 ...  \n",
       "61841  MULTIPOLYGON (((167.96325 -29.07212, 167.96326...  \n",
       "61842                                               None  \n",
       "61843                                               None  \n",
       "61844                                               None  \n",
       "\n",
       "[61845 rows x 18 columns]"
      ]
     },
     "execution_count": 9,
     "metadata": {},
     "output_type": "execute_result"
    }
   ],
   "source": [
    "pyogrio.read_dataframe(Region.SA1_2021.raw_data_file)"
   ]
  },
  {
   "cell_type": "code",
   "execution_count": 12,
   "metadata": {},
   "outputs": [
    {
     "name": "stdout",
     "output_type": "stream",
     "text": [
      "processing\n"
     ]
    }
   ],
   "source": [
    "Region.SA1_2021.process_raw()"
   ]
  },
  {
   "cell_type": "code",
   "execution_count": 11,
   "metadata": {},
   "outputs": [
    {
     "name": "stdout",
     "output_type": "stream",
     "text": [
      "processing\n"
     ]
    }
   ],
   "source": [
    "import importlib\n",
    "\n",
    "from electoralyze.region.regions.SA1_2021 import process_raw\n",
    "process_raw()"
   ]
  }
 ],
 "metadata": {
  "kernelspec": {
   "display_name": "Python 3",
   "language": "python",
   "name": "python3"
  },
  "language_info": {
   "codemirror_mode": {
    "name": "ipython",
    "version": 3
   },
   "file_extension": ".py",
   "mimetype": "text/x-python",
   "name": "python",
   "nbconvert_exporter": "python",
   "pygments_lexer": "ipython3",
   "version": "3.13.0"
  }
 },
 "nbformat": 4,
 "nbformat_minor": 2
}
