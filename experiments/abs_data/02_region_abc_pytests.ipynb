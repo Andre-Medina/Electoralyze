{
 "cells": [
  {
   "cell_type": "code",
   "execution_count": 1,
   "metadata": {},
   "outputs": [],
   "source": [
    "%load_ext autoreload\n",
    "%autoreload 2\n",
    "\n",
    "import geopandas as gpd\n",
    "import pandas as pd\n",
    "import polars as pl\n",
    "import polars_st as st\n",
    "import pyogrio\n",
    "from electoralyze import region\n",
    "from electoralyze.common import constants\n",
    "from electoralyze.common.geometry import to_gpd_gdf, to_st_gdf\n",
    "from electoralyze.region.region_abc import RegionABC"
   ]
  },
  {
   "cell_type": "code",
   "execution_count": 7,
   "metadata": {},
   "outputs": [
    {
     "name": "stdout",
     "output_type": "stream",
     "text": [
      "shape: (2_472, 2)\n",
      "┌───────────┬────────────────────────────┐\n",
      "│ SA2_2021  ┆ SA2_2021_name              │\n",
      "│ ---       ┆ ---                        │\n",
      "│ i64       ┆ str                        │\n",
      "╞═══════════╪════════════════════════════╡\n",
      "│ 305031128 ┆ Newstead - Bowen Hills     │\n",
      "│ 511041289 ┆ Irwin                      │\n",
      "│ 211051285 ┆ Wandin - Seville           │\n",
      "│ 110011188 ┆ Armidale Surrounds - South │\n",
      "│ 121011687 ┆ Willoughby                 │\n",
      "│ …         ┆ …                          │\n",
      "│ 212031458 ┆ Narre Warren South - West  │\n",
      "│ 307011178 ┆ Tara                       │\n",
      "│ 316071546 ┆ Diddillibah - Rosemount    │\n",
      "│ 202021026 ┆ Bendigo Surrounds - South  │\n",
      "│ 208021181 ┆ Murrumbeena                │\n",
      "└───────────┴────────────────────────────┘\n"
     ]
    }
   ],
   "source": [
    "region.SA2_2021.metadata.pipe(print)"
   ]
  },
  {
   "cell_type": "code",
   "execution_count": 5,
   "metadata": {},
   "outputs": [
    {
     "name": "stdout",
     "output_type": "stream",
     "text": [
      "shape: (2_472, 2)\n",
      "┌───────────┬─────────────────────────────────┐\n",
      "│ SA2_2021  ┆ geometry                        │\n",
      "│ ---       ┆ ---                             │\n",
      "│ i64       ┆ str                             │\n",
      "╞═══════════╪═════════════════════════════════╡\n",
      "│ 305031128 ┆ POLYGON ((153.040413 -27.44932… │\n",
      "│ 511041289 ┆ POLYGON ((114.921946 -29.27032… │\n",
      "│ 211051285 ┆ POLYGON ((145.411636 -37.79203… │\n",
      "│ 110011188 ┆ POLYGON ((151.135773 -30.28397… │\n",
      "│ 121011687 ┆ POLYGON ((151.209539 -33.80446… │\n",
      "│ …         ┆ …                               │\n",
      "│ 212031458 ┆ POLYGON ((145.279819 -38.06734… │\n",
      "│ 307011178 ┆ POLYGON ((150.400255 -26.97881… │\n",
      "│ 316071546 ┆ POLYGON ((152.976155 -26.61877… │\n",
      "│ 202021026 ┆ POLYGON ((144.421959 -36.81470… │\n",
      "│ 208021181 ┆ POLYGON ((145.078188 -37.88713… │\n",
      "└───────────┴─────────────────────────────────┘\n"
     ]
    }
   ],
   "source": [
    "region.SA2_2021.geometry.with_columns(st.geom(\"geometry\").st.to_wkt()).pipe(print)"
   ]
  },
  {
   "cell_type": "code",
   "execution_count": 3,
   "metadata": {},
   "outputs": [
    {
     "name": "stderr",
     "output_type": "stream",
     "text": [
      "/tmp/ipykernel_32034/2838255810.py:26: UserWarning: Column names longer than 10 characters will be truncated when saved to ESRI Shapefile.\n",
      "  gdf.pipe(to_gpd_gdf).to_file(shapefile_path)\n",
      "/home/andre/git/private/electoralyze/.pixi/envs/default/lib/python3.13/site-packages/pyogrio/raw.py:723: RuntimeWarning: Normalized/laundered field name: 'region_b_name' to 'region_b_n'\n",
      "  ogr_write(\n"
     ]
    }
   ],
   "source": [
    "import shutil\n",
    "import tempfile\n",
    "\n",
    "from shapely import wkt\n",
    "\n",
    "region_json = {\n",
    "    \"region_b\": [\"A\", \"B\", \"C\"],\n",
    "    \"region_b_name\": [\"Alpha\", \"Bravo\", \"Charlie\"],\n",
    "    \"extra\": [\"1\", \"2\", \"3\"],\n",
    "    \"geometry\": [\n",
    "        \"POLYGON ((-1 -1, 0 1, 1 -1, -1 -1))\",\n",
    "        \"POLYGON ((-1 -1, 0 1, -2 1, -1 -1))\",\n",
    "        \"POLYGON ((1 -1, 0 1, 2 1, 1 -1))\",\n",
    "    ],\n",
    "}\n",
    "\n",
    "# Create the GeoDataFrame\n",
    "gdf = pl.DataFrame(region_json).with_columns(geometry=st.from_wkt(\"geometry\"))\n",
    "\n",
    "\n",
    "# Create a temporary directory for the shapefile\n",
    "temp_dir = tempfile.TemporaryDirectory(delete=False)\n",
    "shapefile_path = f\"{temp_dir.name}/data.shp\"\n",
    "\n",
    "# Write to a shapefile\n",
    "gdf.pipe(to_gpd_gdf).to_file(shapefile_path)"
   ]
  },
  {
   "cell_type": "code",
   "execution_count": 4,
   "metadata": {},
   "outputs": [
    {
     "name": "stdout",
     "output_type": "stream",
     "text": [
      "  region_b region_b_n extra                             geometry\n",
      "0        A      Alpha     1  POLYGON ((-1 -1, 0 1, 1 -1, -1 -1))\n",
      "1        B      Bravo     2  POLYGON ((-1 -1, -2 1, 0 1, -1 -1))\n",
      "2        C    Charlie     3     POLYGON ((1 -1, 0 1, 2 1, 1 -1))\n"
     ]
    }
   ],
   "source": [
    "# Read back the shapefile with Pyogrio\n",
    "read_gdf = pyogrio.read_dataframe(shapefile_path)\n",
    "\n",
    "# Print the read GeoDataFrame\n",
    "print(read_gdf)"
   ]
  },
  {
   "cell_type": "code",
   "execution_count": 5,
   "metadata": {},
   "outputs": [],
   "source": [
    "from electoralyze.common.functools import classproperty\n",
    "\n",
    "\n",
    "class RegionMocked(RegionABC):\n",
    "    @classproperty\n",
    "    def raw_geometry_file(self) -> str:\n",
    "        return shapefile_path"
   ]
  },
  {
   "cell_type": "code",
   "execution_count": 6,
   "metadata": {},
   "outputs": [
    {
     "data": {
      "text/plain": [
       "'/tmp/tmpzv20mo3i/data.shp'"
      ]
     },
     "execution_count": 6,
     "metadata": {},
     "output_type": "execute_result"
    }
   ],
   "source": [
    "RegionMocked.raw_geometry_file"
   ]
  },
  {
   "cell_type": "code",
   "execution_count": 7,
   "metadata": {},
   "outputs": [
    {
     "name": "stderr",
     "output_type": "stream",
     "text": [
      "WARNING:root:Couldn't find a matching crs for \"EPSG:4326\". The geometries SRID will be set to 0.\n",
      "proj_create: Cannot find proj.db\n"
     ]
    },
    {
     "name": "stdout",
     "output_type": "stream",
     "text": [
      "Extracting...\n"
     ]
    },
    {
     "name": "stderr",
     "output_type": "stream",
     "text": [
      "proj_create: no database context specified\n"
     ]
    },
    {
     "data": {
      "text/html": [
       "<div><style>\n",
       ".dataframe > thead > tr,\n",
       ".dataframe > tbody > tr {\n",
       "  text-align: right;\n",
       "  white-space: pre-wrap;\n",
       "}\n",
       "</style>\n",
       "<small>shape: (3, 4)</small><table border=\"1\" class=\"dataframe\"><thead><tr><th>region_b</th><th>region_b_n</th><th>extra</th><th>geometry</th></tr><tr><td>str</td><td>str</td><td>str</td><td>f64</td></tr></thead><tbody><tr><td>&quot;A&quot;</td><td>&quot;Alpha&quot;</td><td>&quot;1&quot;</td><td>2.0</td></tr><tr><td>&quot;B&quot;</td><td>&quot;Bravo&quot;</td><td>&quot;2&quot;</td><td>2.0</td></tr><tr><td>&quot;C&quot;</td><td>&quot;Charlie&quot;</td><td>&quot;3&quot;</td><td>2.0</td></tr></tbody></table></div>"
      ],
      "text/plain": [
       "shape: (3, 4)\n",
       "┌──────────┬────────────┬───────┬──────────┐\n",
       "│ region_b ┆ region_b_n ┆ extra ┆ geometry │\n",
       "│ ---      ┆ ---        ┆ ---   ┆ ---      │\n",
       "│ str      ┆ str        ┆ str   ┆ f64      │\n",
       "╞══════════╪════════════╪═══════╪══════════╡\n",
       "│ A        ┆ Alpha      ┆ 1     ┆ 2.0      │\n",
       "│ B        ┆ Bravo      ┆ 2     ┆ 2.0      │\n",
       "│ C        ┆ Charlie    ┆ 3     ┆ 2.0      │\n",
       "└──────────┴────────────┴───────┴──────────┘"
      ]
     },
     "execution_count": 7,
     "metadata": {},
     "output_type": "execute_result"
    }
   ],
   "source": [
    "RegionMocked._get_geometry_raw().with_columns(st.geom(\"geometry\").st.area())"
   ]
  },
  {
   "cell_type": "markdown",
   "metadata": {},
   "source": []
  },
  {
   "cell_type": "code",
   "execution_count": 8,
   "metadata": {},
   "outputs": [],
   "source": [
    "# RegionABC.metadata"
   ]
  },
  {
   "cell_type": "code",
   "execution_count": 9,
   "metadata": {},
   "outputs": [],
   "source": [
    "shutil.rmtree(temp_dir.name)"
   ]
  },
  {
   "cell_type": "markdown",
   "metadata": {},
   "source": [
    "# Reading fake regions"
   ]
  },
  {
   "cell_type": "code",
   "execution_count": 29,
   "metadata": {},
   "outputs": [],
   "source": [
    "from electoralyze.common.testing.region_fixture import REGION_A_JSON, read_true_geometry, read_true_metadata\n",
    "from electoralyze.region.region_abc import REDISTRIBUTE_FILE"
   ]
  },
  {
   "cell_type": "code",
   "execution_count": 30,
   "metadata": {},
   "outputs": [
    {
     "data": {
      "text/plain": [
       "0.0001"
      ]
     },
     "execution_count": 30,
     "metadata": {},
     "output_type": "execute_result"
    }
   ],
   "source": [
    "from electoralyze.common.constants import REGION_SIMPLIFY_TOLERANCE\n",
    "\n",
    "REGION_SIMPLIFY_TOLERANCE"
   ]
  },
  {
   "cell_type": "code",
   "execution_count": 36,
   "metadata": {},
   "outputs": [
    {
     "data": {
      "text/html": [
       "<div><style>\n",
       ".dataframe > thead > tr,\n",
       ".dataframe > tbody > tr {\n",
       "  text-align: right;\n",
       "  white-space: pre-wrap;\n",
       "}\n",
       "</style>\n",
       "<small>shape: (3, 2)</small><table border=\"1\" class=\"dataframe\"><thead><tr><th>region_b</th><th>geometry</th></tr><tr><td>str</td><td>binary</td></tr></thead><tbody><tr><td>&quot;A&quot;</td><td>b&quot;\\x01\\x03\\x00\\x00\\x00\\x01\\x00\\x00\\x00\\x04\\x00\\x00\\x00\\x00\\x00\\x00\\x00\\x00\\x00\\xf0\\xbf\\x00\\x00\\x00\\x00\\x00\\x00\\xf0\\xbf\\x00\\x00\\x00\\x00\\x00\\x00\\x00\\x00\\x00\\x00\\x00\\x00\\x00\\x00\\xf0?\\x00\\x00\\x00\\x00\\x00\\x00\\xf0?\\x00\\x00\\x00\\x00\\x00\\x00\\xf0&quot;…</td></tr><tr><td>&quot;B&quot;</td><td>b&quot;\\x01\\x03\\x00\\x00\\x00\\x01\\x00\\x00\\x00\\x04\\x00\\x00\\x00\\x00\\x00\\x00\\x00\\x00\\x00\\xf0\\xbf\\x00\\x00\\x00\\x00\\x00\\x00\\xf0\\xbf\\x00\\x00\\x00\\x00\\x00\\x00\\x00\\x00\\x00\\x00\\x00\\x00\\x00\\x00\\xf0?\\x00\\x00\\x00\\x00\\x00\\x00\\x00\\xc0\\x00\\x00\\x00\\x00\\x00\\x00\\xf0&quot;…</td></tr><tr><td>&quot;C&quot;</td><td>b&quot;\\x01\\x03\\x00\\x00\\x00\\x01\\x00\\x00\\x00\\x04\\x00\\x00\\x00\\x00\\x00\\x00\\x00\\x00\\x00\\xf0?\\x00\\x00\\x00\\x00\\x00\\x00\\xf0\\xbf\\x00\\x00\\x00\\x00\\x00\\x00\\x00\\x00\\x00\\x00\\x00\\x00\\x00\\x00\\xf0?\\x00\\x00\\x00\\x00\\x00\\x00\\x00@\\x00\\x00\\x00\\x00\\x00\\x00\\xf0&quot;…</td></tr></tbody></table></div>"
      ],
      "text/plain": [
       "shape: (3, 2)\n",
       "┌──────────┬─────────────────────────────────┐\n",
       "│ region_b ┆ geometry                        │\n",
       "│ ---      ┆ ---                             │\n",
       "│ str      ┆ binary                          │\n",
       "╞══════════╪═════════════════════════════════╡\n",
       "│ A        ┆ b\"\\x01\\x03\\x00\\x00\\x00\\x01\\x00… │\n",
       "│ B        ┆ b\"\\x01\\x03\\x00\\x00\\x00\\x01\\x00… │\n",
       "│ C        ┆ b\"\\x01\\x03\\x00\\x00\\x00\\x01\\x00… │\n",
       "└──────────┴─────────────────────────────────┘"
      ]
     },
     "execution_count": 36,
     "metadata": {},
     "output_type": "execute_result"
    }
   ],
   "source": [
    "read_true_geometry(\"region_b\")\n",
    "read_true_geometry(\"region_b\")"
   ]
  },
  {
   "cell_type": "code",
   "execution_count": 37,
   "metadata": {},
   "outputs": [
    {
     "data": {
      "text/html": [
       "<div><style>\n",
       ".dataframe > thead > tr,\n",
       ".dataframe > tbody > tr {\n",
       "  text-align: right;\n",
       "  white-space: pre-wrap;\n",
       "}\n",
       "</style>\n",
       "<small>shape: (4, 3)</small><table border=\"1\" class=\"dataframe\"><thead><tr><th>region_a</th><th>region_a_name</th><th>extra</th></tr><tr><td>str</td><td>str</td><td>str</td></tr></thead><tbody><tr><td>&quot;M&quot;</td><td>&quot;Mew&quot;</td><td>&quot;1&quot;</td></tr><tr><td>&quot;N&quot;</td><td>&quot;New&quot;</td><td>&quot;2&quot;</td></tr><tr><td>&quot;O&quot;</td><td>&quot;Omega&quot;</td><td>&quot;3&quot;</td></tr><tr><td>&quot;P&quot;</td><td>&quot;Phi&quot;</td><td>&quot;4&quot;</td></tr></tbody></table></div>"
      ],
      "text/plain": [
       "shape: (4, 3)\n",
       "┌──────────┬───────────────┬───────┐\n",
       "│ region_a ┆ region_a_name ┆ extra │\n",
       "│ ---      ┆ ---           ┆ ---   │\n",
       "│ str      ┆ str           ┆ str   │\n",
       "╞══════════╪═══════════════╪═══════╡\n",
       "│ M        ┆ Mew           ┆ 1     │\n",
       "│ N        ┆ New           ┆ 2     │\n",
       "│ O        ┆ Omega         ┆ 3     │\n",
       "│ P        ┆ Phi           ┆ 4     │\n",
       "└──────────┴───────────────┴───────┘"
      ]
     },
     "execution_count": 37,
     "metadata": {},
     "output_type": "execute_result"
    }
   ],
   "source": [
    "read_true_metadata(\"region_b\")\n",
    "read_true_metadata(\"region_a\")"
   ]
  },
  {
   "cell_type": "markdown",
   "metadata": {},
   "source": [
    "# Trying to clear cache"
   ]
  },
  {
   "cell_type": "code",
   "execution_count": 50,
   "metadata": {},
   "outputs": [
    {
     "ename": "FileNotFoundError",
     "evalue": "[Errno 2] Failed to open local file '/home/andre/git/private/electoralyze/packages/electoralyze/electoralyze/common/../region/regions/None/geometry/None.parquet'. Detail: [errno 2] No such file or directory",
     "output_type": "error",
     "traceback": [
      "\u001b[0;31m---------------------------------------------------------------------------\u001b[0m",
      "\u001b[0;31mFileNotFoundError\u001b[0m                         Traceback (most recent call last)",
      "File \u001b[0;32m~/git/private/electoralyze/.pixi/envs/default/lib/python3.13/site-packages/geopandas/io/arrow.py:653\u001b[0m, in \u001b[0;36m_read_parquet_schema_and_metadata\u001b[0;34m(path, filesystem)\u001b[0m\n\u001b[1;32m    652\u001b[0m \u001b[38;5;28;01mtry\u001b[39;00m:\n\u001b[0;32m--> 653\u001b[0m     schema \u001b[38;5;241m=\u001b[39m \u001b[43mparquet\u001b[49m\u001b[38;5;241;43m.\u001b[39;49m\u001b[43mParquetDataset\u001b[49m\u001b[43m(\u001b[49m\u001b[43mpath\u001b[49m\u001b[43m,\u001b[49m\u001b[43m \u001b[49m\u001b[43mfilesystem\u001b[49m\u001b[38;5;241;43m=\u001b[39;49m\u001b[43mfilesystem\u001b[49m\u001b[43m,\u001b[49m\u001b[43m \u001b[49m\u001b[38;5;241;43m*\u001b[39;49m\u001b[38;5;241;43m*\u001b[39;49m\u001b[43mkwargs\u001b[49m\u001b[43m)\u001b[49m\u001b[38;5;241m.\u001b[39mschema\n\u001b[1;32m    654\u001b[0m \u001b[38;5;28;01mexcept\u001b[39;00m \u001b[38;5;167;01mException\u001b[39;00m:\n",
      "File \u001b[0;32m~/git/private/electoralyze/.pixi/envs/default/lib/python3.13/site-packages/pyarrow/parquet/core.py:1371\u001b[0m, in \u001b[0;36mParquetDataset.__init__\u001b[0;34m(self, path_or_paths, filesystem, schema, filters, read_dictionary, memory_map, buffer_size, partitioning, ignore_prefixes, pre_buffer, coerce_int96_timestamp_unit, decryption_properties, thrift_string_size_limit, thrift_container_size_limit, page_checksum_verification, use_legacy_dataset)\u001b[0m\n\u001b[1;32m   1368\u001b[0m     partitioning \u001b[38;5;241m=\u001b[39m ds\u001b[38;5;241m.\u001b[39mHivePartitioning\u001b[38;5;241m.\u001b[39mdiscover(\n\u001b[1;32m   1369\u001b[0m         infer_dictionary\u001b[38;5;241m=\u001b[39m\u001b[38;5;28;01mTrue\u001b[39;00m)\n\u001b[0;32m-> 1371\u001b[0m \u001b[38;5;28mself\u001b[39m\u001b[38;5;241m.\u001b[39m_dataset \u001b[38;5;241m=\u001b[39m \u001b[43mds\u001b[49m\u001b[38;5;241;43m.\u001b[39;49m\u001b[43mdataset\u001b[49m\u001b[43m(\u001b[49m\u001b[43mpath_or_paths\u001b[49m\u001b[43m,\u001b[49m\u001b[43m \u001b[49m\u001b[43mfilesystem\u001b[49m\u001b[38;5;241;43m=\u001b[39;49m\u001b[43mfilesystem\u001b[49m\u001b[43m,\u001b[49m\n\u001b[1;32m   1372\u001b[0m \u001b[43m                           \u001b[49m\u001b[43mschema\u001b[49m\u001b[38;5;241;43m=\u001b[39;49m\u001b[43mschema\u001b[49m\u001b[43m,\u001b[49m\u001b[43m \u001b[49m\u001b[38;5;28;43mformat\u001b[39;49m\u001b[38;5;241;43m=\u001b[39;49m\u001b[43mparquet_format\u001b[49m\u001b[43m,\u001b[49m\n\u001b[1;32m   1373\u001b[0m \u001b[43m                           \u001b[49m\u001b[43mpartitioning\u001b[49m\u001b[38;5;241;43m=\u001b[39;49m\u001b[43mpartitioning\u001b[49m\u001b[43m,\u001b[49m\n\u001b[1;32m   1374\u001b[0m \u001b[43m                           \u001b[49m\u001b[43mignore_prefixes\u001b[49m\u001b[38;5;241;43m=\u001b[39;49m\u001b[43mignore_prefixes\u001b[49m\u001b[43m)\u001b[49m\n",
      "File \u001b[0;32m~/git/private/electoralyze/.pixi/envs/default/lib/python3.13/site-packages/pyarrow/dataset.py:794\u001b[0m, in \u001b[0;36mdataset\u001b[0;34m(source, schema, format, filesystem, partitioning, partition_base_dir, exclude_invalid_files, ignore_prefixes)\u001b[0m\n\u001b[1;32m    793\u001b[0m \u001b[38;5;28;01mif\u001b[39;00m _is_path_like(source):\n\u001b[0;32m--> 794\u001b[0m     \u001b[38;5;28;01mreturn\u001b[39;00m \u001b[43m_filesystem_dataset\u001b[49m\u001b[43m(\u001b[49m\u001b[43msource\u001b[49m\u001b[43m,\u001b[49m\u001b[43m \u001b[49m\u001b[38;5;241;43m*\u001b[39;49m\u001b[38;5;241;43m*\u001b[39;49m\u001b[43mkwargs\u001b[49m\u001b[43m)\u001b[49m\n\u001b[1;32m    795\u001b[0m \u001b[38;5;28;01melif\u001b[39;00m \u001b[38;5;28misinstance\u001b[39m(source, (\u001b[38;5;28mtuple\u001b[39m, \u001b[38;5;28mlist\u001b[39m)):\n",
      "File \u001b[0;32m~/git/private/electoralyze/.pixi/envs/default/lib/python3.13/site-packages/pyarrow/dataset.py:476\u001b[0m, in \u001b[0;36m_filesystem_dataset\u001b[0;34m(source, schema, filesystem, partitioning, format, partition_base_dir, exclude_invalid_files, selector_ignore_prefixes)\u001b[0m\n\u001b[1;32m    475\u001b[0m \u001b[38;5;28;01melse\u001b[39;00m:\n\u001b[0;32m--> 476\u001b[0m     fs, paths_or_selector \u001b[38;5;241m=\u001b[39m \u001b[43m_ensure_single_source\u001b[49m\u001b[43m(\u001b[49m\u001b[43msource\u001b[49m\u001b[43m,\u001b[49m\u001b[43m \u001b[49m\u001b[43mfilesystem\u001b[49m\u001b[43m)\u001b[49m\n\u001b[1;32m    478\u001b[0m options \u001b[38;5;241m=\u001b[39m FileSystemFactoryOptions(\n\u001b[1;32m    479\u001b[0m     partitioning\u001b[38;5;241m=\u001b[39mpartitioning,\n\u001b[1;32m    480\u001b[0m     partition_base_dir\u001b[38;5;241m=\u001b[39mpartition_base_dir,\n\u001b[1;32m    481\u001b[0m     exclude_invalid_files\u001b[38;5;241m=\u001b[39mexclude_invalid_files,\n\u001b[1;32m    482\u001b[0m     selector_ignore_prefixes\u001b[38;5;241m=\u001b[39mselector_ignore_prefixes\n\u001b[1;32m    483\u001b[0m )\n",
      "File \u001b[0;32m~/git/private/electoralyze/.pixi/envs/default/lib/python3.13/site-packages/pyarrow/dataset.py:441\u001b[0m, in \u001b[0;36m_ensure_single_source\u001b[0;34m(path, filesystem)\u001b[0m\n\u001b[1;32m    440\u001b[0m \u001b[38;5;28;01melse\u001b[39;00m:\n\u001b[0;32m--> 441\u001b[0m     \u001b[38;5;28;01mraise\u001b[39;00m \u001b[38;5;167;01mFileNotFoundError\u001b[39;00m(path)\n\u001b[1;32m    443\u001b[0m \u001b[38;5;28;01mreturn\u001b[39;00m filesystem, paths_or_selector\n",
      "\u001b[0;31mFileNotFoundError\u001b[0m: /home/andre/git/private/electoralyze/packages/electoralyze/electoralyze/common/../region/regions/None/geometry/None.parquet",
      "\nDuring handling of the above exception, another exception occurred:\n",
      "\u001b[0;31mFileNotFoundError\u001b[0m                         Traceback (most recent call last)",
      "Cell \u001b[0;32mIn[50], line 3\u001b[0m\n\u001b[1;32m      1\u001b[0m \u001b[38;5;28;01mfrom\u001b[39;00m \u001b[38;5;21;01melectoralyze\u001b[39;00m\u001b[38;5;21;01m.\u001b[39;00m\u001b[38;5;21;01mregion\u001b[39;00m\u001b[38;5;21;01m.\u001b[39;00m\u001b[38;5;21;01mregion_abc\u001b[39;00m \u001b[38;5;28;01mimport\u001b[39;00m RegionABC\n\u001b[0;32m----> 3\u001b[0m \u001b[43mRegionABC\u001b[49m\u001b[38;5;241;43m.\u001b[39;49m\u001b[43mgeometry\u001b[49m\n",
      "File \u001b[0;32m~/git/private/electoralyze/packages/electoralyze/electoralyze/common/functools.py:10\u001b[0m, in \u001b[0;36mclassproperty.__get__\u001b[0;34m(self, _object, owner)\u001b[0m\n\u001b[1;32m      8\u001b[0m \u001b[38;5;28;01mdef\u001b[39;00m \u001b[38;5;21m__get__\u001b[39m(\u001b[38;5;28mself\u001b[39m, _object, owner):\n\u001b[1;32m      9\u001b[0m \u001b[38;5;250m    \u001b[39m\u001b[38;5;124;03m\"\"\"Calls the function.\"\"\"\u001b[39;00m\n\u001b[0;32m---> 10\u001b[0m     \u001b[38;5;28;01mreturn\u001b[39;00m \u001b[38;5;28;43mself\u001b[39;49m\u001b[38;5;241;43m.\u001b[39;49m\u001b[43mfunction\u001b[49m\u001b[43m(\u001b[49m\u001b[43mowner\u001b[49m\u001b[43m)\u001b[49m\n",
      "File \u001b[0;32m~/git/private/electoralyze/.pixi/envs/default/lib/python3.13/site-packages/cachetools/__init__.py:752\u001b[0m, in \u001b[0;36mcached.<locals>.decorator.<locals>.wrapper\u001b[0;34m(*args, **kwargs)\u001b[0m\n\u001b[1;32m    750\u001b[0m \u001b[38;5;28;01mexcept\u001b[39;00m \u001b[38;5;167;01mKeyError\u001b[39;00m:\n\u001b[1;32m    751\u001b[0m     \u001b[38;5;28;01mpass\u001b[39;00m  \u001b[38;5;66;03m# key not found\u001b[39;00m\n\u001b[0;32m--> 752\u001b[0m v \u001b[38;5;241m=\u001b[39m \u001b[43mfunc\u001b[49m\u001b[43m(\u001b[49m\u001b[38;5;241;43m*\u001b[39;49m\u001b[43margs\u001b[49m\u001b[43m,\u001b[49m\u001b[43m \u001b[49m\u001b[38;5;241;43m*\u001b[39;49m\u001b[38;5;241;43m*\u001b[39;49m\u001b[43mkwargs\u001b[49m\u001b[43m)\u001b[49m\n\u001b[1;32m    753\u001b[0m \u001b[38;5;28;01mtry\u001b[39;00m:\n\u001b[1;32m    754\u001b[0m     cache[k] \u001b[38;5;241m=\u001b[39m v\n",
      "File \u001b[0;32m~/git/private/electoralyze/packages/electoralyze/electoralyze/region/region_abc.py:50\u001b[0m, in \u001b[0;36mRegionABC.geometry\u001b[0;34m(self)\u001b[0m\n\u001b[1;32m     48\u001b[0m \u001b[38;5;250m\u001b[39m\u001b[38;5;124;03m\"\"\"Read the simplified local geometry.\"\"\"\u001b[39;00m\n\u001b[1;32m     49\u001b[0m \u001b[38;5;66;03m# geometry_read = pyogrio.read_dataframe(self.geometry_file)\u001b[39;00m\n\u001b[0;32m---> 50\u001b[0m geometry_read \u001b[38;5;241m=\u001b[39m \u001b[43mgpd\u001b[49m\u001b[38;5;241;43m.\u001b[39;49m\u001b[43mread_parquet\u001b[49m\u001b[43m(\u001b[49m\u001b[38;5;28;43mself\u001b[39;49m\u001b[38;5;241;43m.\u001b[39;49m\u001b[43mgeometry_file\u001b[49m\u001b[43m)\u001b[49m\n\u001b[1;32m     51\u001b[0m geometry \u001b[38;5;241m=\u001b[39m geometry_read\u001b[38;5;241m.\u001b[39mpipe(to_st_gdf)\n\u001b[1;32m     52\u001b[0m \u001b[38;5;28;01mreturn\u001b[39;00m geometry\n",
      "File \u001b[0;32m~/git/private/electoralyze/.pixi/envs/default/lib/python3.13/site-packages/geopandas/io/arrow.py:751\u001b[0m, in \u001b[0;36m_read_parquet\u001b[0;34m(path, columns, storage_options, bbox, **kwargs)\u001b[0m\n\u001b[1;32m    747\u001b[0m filesystem, path \u001b[38;5;241m=\u001b[39m _get_filesystem_path(\n\u001b[1;32m    748\u001b[0m     path, filesystem\u001b[38;5;241m=\u001b[39mfilesystem, storage_options\u001b[38;5;241m=\u001b[39mstorage_options\n\u001b[1;32m    749\u001b[0m )\n\u001b[1;32m    750\u001b[0m path \u001b[38;5;241m=\u001b[39m _expand_user(path)\n\u001b[0;32m--> 751\u001b[0m schema, metadata \u001b[38;5;241m=\u001b[39m \u001b[43m_read_parquet_schema_and_metadata\u001b[49m\u001b[43m(\u001b[49m\u001b[43mpath\u001b[49m\u001b[43m,\u001b[49m\u001b[43m \u001b[49m\u001b[43mfilesystem\u001b[49m\u001b[43m)\u001b[49m\n\u001b[1;32m    753\u001b[0m geo_metadata \u001b[38;5;241m=\u001b[39m _validate_and_decode_metadata(metadata)\n\u001b[1;32m    755\u001b[0m bbox_filter \u001b[38;5;241m=\u001b[39m (\n\u001b[1;32m    756\u001b[0m     _get_parquet_bbox_filter(geo_metadata, bbox) \u001b[38;5;28;01mif\u001b[39;00m bbox \u001b[38;5;129;01mis\u001b[39;00m \u001b[38;5;129;01mnot\u001b[39;00m \u001b[38;5;28;01mNone\u001b[39;00m \u001b[38;5;28;01melse\u001b[39;00m \u001b[38;5;28;01mNone\u001b[39;00m\n\u001b[1;32m    757\u001b[0m )\n",
      "File \u001b[0;32m~/git/private/electoralyze/.pixi/envs/default/lib/python3.13/site-packages/geopandas/io/arrow.py:655\u001b[0m, in \u001b[0;36m_read_parquet_schema_and_metadata\u001b[0;34m(path, filesystem)\u001b[0m\n\u001b[1;32m    653\u001b[0m     schema \u001b[38;5;241m=\u001b[39m parquet\u001b[38;5;241m.\u001b[39mParquetDataset(path, filesystem\u001b[38;5;241m=\u001b[39mfilesystem, \u001b[38;5;241m*\u001b[39m\u001b[38;5;241m*\u001b[39mkwargs)\u001b[38;5;241m.\u001b[39mschema\n\u001b[1;32m    654\u001b[0m \u001b[38;5;28;01mexcept\u001b[39;00m \u001b[38;5;167;01mException\u001b[39;00m:\n\u001b[0;32m--> 655\u001b[0m     schema \u001b[38;5;241m=\u001b[39m \u001b[43mparquet\u001b[49m\u001b[38;5;241;43m.\u001b[39;49m\u001b[43mread_schema\u001b[49m\u001b[43m(\u001b[49m\u001b[43mpath\u001b[49m\u001b[43m,\u001b[49m\u001b[43m \u001b[49m\u001b[43mfilesystem\u001b[49m\u001b[38;5;241;43m=\u001b[39;49m\u001b[43mfilesystem\u001b[49m\u001b[43m)\u001b[49m\n\u001b[1;32m    657\u001b[0m metadata \u001b[38;5;241m=\u001b[39m schema\u001b[38;5;241m.\u001b[39mmetadata\n\u001b[1;32m    659\u001b[0m \u001b[38;5;66;03m# read metadata separately to get the raw Parquet FileMetaData metadata\u001b[39;00m\n\u001b[1;32m    660\u001b[0m \u001b[38;5;66;03m# (pyarrow doesn't properly exposes those in schema.metadata for files\u001b[39;00m\n\u001b[1;32m    661\u001b[0m \u001b[38;5;66;03m# created by GDAL - https://issues.apache.org/jira/browse/ARROW-16688)\u001b[39;00m\n",
      "File \u001b[0;32m~/git/private/electoralyze/.pixi/envs/default/lib/python3.13/site-packages/pyarrow/parquet/core.py:2342\u001b[0m, in \u001b[0;36mread_schema\u001b[0;34m(where, memory_map, decryption_properties, filesystem)\u001b[0m\n\u001b[1;32m   2340\u001b[0m file_ctx \u001b[38;5;241m=\u001b[39m nullcontext()\n\u001b[1;32m   2341\u001b[0m \u001b[38;5;28;01mif\u001b[39;00m filesystem \u001b[38;5;129;01mis\u001b[39;00m \u001b[38;5;129;01mnot\u001b[39;00m \u001b[38;5;28;01mNone\u001b[39;00m:\n\u001b[0;32m-> 2342\u001b[0m     file_ctx \u001b[38;5;241m=\u001b[39m where \u001b[38;5;241m=\u001b[39m \u001b[43mfilesystem\u001b[49m\u001b[38;5;241;43m.\u001b[39;49m\u001b[43mopen_input_file\u001b[49m\u001b[43m(\u001b[49m\u001b[43mwhere\u001b[49m\u001b[43m)\u001b[49m\n\u001b[1;32m   2344\u001b[0m \u001b[38;5;28;01mwith\u001b[39;00m file_ctx:\n\u001b[1;32m   2345\u001b[0m     file \u001b[38;5;241m=\u001b[39m ParquetFile(\n\u001b[1;32m   2346\u001b[0m         where, memory_map\u001b[38;5;241m=\u001b[39mmemory_map,\n\u001b[1;32m   2347\u001b[0m         decryption_properties\u001b[38;5;241m=\u001b[39mdecryption_properties)\n",
      "File \u001b[0;32m~/git/private/electoralyze/.pixi/envs/default/lib/python3.13/site-packages/pyarrow/_fs.pyx:789\u001b[0m, in \u001b[0;36mpyarrow._fs.FileSystem.open_input_file\u001b[0;34m()\u001b[0m\n",
      "File \u001b[0;32m~/git/private/electoralyze/.pixi/envs/default/lib/python3.13/site-packages/pyarrow/error.pxi:155\u001b[0m, in \u001b[0;36mpyarrow.lib.pyarrow_internal_check_status\u001b[0;34m()\u001b[0m\n",
      "File \u001b[0;32m~/git/private/electoralyze/.pixi/envs/default/lib/python3.13/site-packages/pyarrow/error.pxi:92\u001b[0m, in \u001b[0;36mpyarrow.lib.check_status\u001b[0;34m()\u001b[0m\n",
      "\u001b[0;31mFileNotFoundError\u001b[0m: [Errno 2] Failed to open local file '/home/andre/git/private/electoralyze/packages/electoralyze/electoralyze/common/../region/regions/None/geometry/None.parquet'. Detail: [errno 2] No such file or directory"
     ]
    }
   ],
   "source": [
    "from electoralyze.region.region_abc import RegionABC\n",
    "\n",
    "RegionABC.geometry"
   ]
  },
  {
   "cell_type": "code",
   "execution_count": 48,
   "metadata": {},
   "outputs": [
    {
     "ename": "AttributeError",
     "evalue": "'DataFrame' object has no attribute 'cache_clear'",
     "output_type": "error",
     "traceback": [
      "\u001b[0;31m---------------------------------------------------------------------------\u001b[0m",
      "\u001b[0;31mAttributeError\u001b[0m                            Traceback (most recent call last)",
      "Cell \u001b[0;32mIn[48], line 1\u001b[0m\n\u001b[0;32m----> 1\u001b[0m \u001b[43mregion\u001b[49m\u001b[38;5;241;43m.\u001b[39;49m\u001b[43mSA1_2021\u001b[49m\u001b[38;5;241;43m.\u001b[39;49m\u001b[43mgeometry\u001b[49m\u001b[38;5;241;43m.\u001b[39;49m\u001b[43mcache_clear\u001b[49m()\n",
      "\u001b[0;31mAttributeError\u001b[0m: 'DataFrame' object has no attribute 'cache_clear'"
     ]
    }
   ],
   "source": [
    "region.SA1_2021.geometry.cache_clear()"
   ]
  }
 ],
 "metadata": {
  "kernelspec": {
   "display_name": "Python 3",
   "language": "python",
   "name": "python3"
  },
  "language_info": {
   "codemirror_mode": {
    "name": "ipython",
    "version": 3
   },
   "file_extension": ".py",
   "mimetype": "text/x-python",
   "name": "python",
   "nbconvert_exporter": "python",
   "pygments_lexer": "ipython3",
   "version": "3.13.0"
  }
 },
 "nbformat": 4,
 "nbformat_minor": 2
}
