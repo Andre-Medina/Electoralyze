{
 "cells": [
  {
   "cell_type": "code",
   "execution_count": 1,
   "metadata": {},
   "outputs": [],
   "source": [
    "%load_ext autoreload\n",
    "%autoreload 2\n",
    "\n",
    "import geopandas as gpd\n",
    "import pandas as pd\n",
    "import polars as pl\n",
    "import polars_st as st\n",
    "import pyogrio\n",
    "from electoralyze import region\n",
    "from electoralyze.common import constants\n",
    "from electoralyze.common.geometry import to_gpd_gdf, to_st_gdf\n",
    "from electoralyze.region.region_abc import RegionABC"
   ]
  },
  {
   "cell_type": "code",
   "execution_count": 2,
   "metadata": {},
   "outputs": [
    {
     "data": {
      "text/html": [
       "<div><style>\n",
       ".dataframe > thead > tr,\n",
       ".dataframe > tbody > tr {\n",
       "  text-align: right;\n",
       "  white-space: pre-wrap;\n",
       "}\n",
       "</style>\n",
       "<small>shape: (61_844, 2)</small><table border=\"1\" class=\"dataframe\"><thead><tr><th>SA1_2021</th><th>SA1_2021_name</th></tr><tr><td>i64</td><td>str</td></tr></thead><tbody><tr><td>10102100701</td><td>&quot;10102100701&quot;</td></tr><tr><td>10102100702</td><td>&quot;10102100702&quot;</td></tr><tr><td>10102100703</td><td>&quot;10102100703&quot;</td></tr><tr><td>10102100704</td><td>&quot;10102100704&quot;</td></tr><tr><td>10102100705</td><td>&quot;10102100705&quot;</td></tr><tr><td>&hellip;</td><td>&hellip;</td></tr><tr><td>90104100406</td><td>&quot;90104100406&quot;</td></tr><tr><td>90104100407</td><td>&quot;90104100407&quot;</td></tr><tr><td>90104100408</td><td>&quot;90104100408&quot;</td></tr><tr><td>99797979993</td><td>&quot;99797979993&quot;</td></tr><tr><td>99999949999</td><td>&quot;99999949999&quot;</td></tr></tbody></table></div>"
      ],
      "text/plain": [
       "shape: (61_844, 2)\n",
       "┌─────────────┬───────────────┐\n",
       "│ SA1_2021    ┆ SA1_2021_name │\n",
       "│ ---         ┆ ---           │\n",
       "│ i64         ┆ str           │\n",
       "╞═════════════╪═══════════════╡\n",
       "│ 10102100701 ┆ 10102100701   │\n",
       "│ 10102100702 ┆ 10102100702   │\n",
       "│ 10102100703 ┆ 10102100703   │\n",
       "│ 10102100704 ┆ 10102100704   │\n",
       "│ 10102100705 ┆ 10102100705   │\n",
       "│ …           ┆ …             │\n",
       "│ 90104100406 ┆ 90104100406   │\n",
       "│ 90104100407 ┆ 90104100407   │\n",
       "│ 90104100408 ┆ 90104100408   │\n",
       "│ 99797979993 ┆ 99797979993   │\n",
       "│ 99999949999 ┆ 99999949999   │\n",
       "└─────────────┴───────────────┘"
      ]
     },
     "execution_count": 2,
     "metadata": {},
     "output_type": "execute_result"
    }
   ],
   "source": [
    "region.SA1_2021.metadata"
   ]
  },
  {
   "cell_type": "code",
   "execution_count": 3,
   "metadata": {},
   "outputs": [
    {
     "name": "stderr",
     "output_type": "stream",
     "text": [
      "/tmp/ipykernel_32034/2838255810.py:26: UserWarning: Column names longer than 10 characters will be truncated when saved to ESRI Shapefile.\n",
      "  gdf.pipe(to_gpd_gdf).to_file(shapefile_path)\n",
      "/home/andre/git/private/electoralyze/.pixi/envs/default/lib/python3.13/site-packages/pyogrio/raw.py:723: RuntimeWarning: Normalized/laundered field name: 'region_b_name' to 'region_b_n'\n",
      "  ogr_write(\n"
     ]
    }
   ],
   "source": [
    "import shutil\n",
    "import tempfile\n",
    "\n",
    "from shapely import wkt\n",
    "\n",
    "region_json = {\n",
    "    \"region_b\": [\"A\", \"B\", \"C\"],\n",
    "    \"region_b_name\": [\"Alpha\", \"Bravo\", \"Charlie\"],\n",
    "    \"extra\": [\"1\", \"2\", \"3\"],\n",
    "    \"geometry\": [\n",
    "        \"POLYGON ((-1 -1, 0 1, 1 -1, -1 -1))\",\n",
    "        \"POLYGON ((-1 -1, 0 1, -2 1, -1 -1))\",\n",
    "        \"POLYGON ((1 -1, 0 1, 2 1, 1 -1))\",\n",
    "    ],\n",
    "}\n",
    "\n",
    "# Create the GeoDataFrame\n",
    "gdf = pl.DataFrame(region_json).with_columns(geometry=st.from_wkt(\"geometry\"))\n",
    "\n",
    "\n",
    "# Create a temporary directory for the shapefile\n",
    "temp_dir = tempfile.TemporaryDirectory(delete=False)\n",
    "shapefile_path = f\"{temp_dir.name}/data.shp\"\n",
    "\n",
    "# Write to a shapefile\n",
    "gdf.pipe(to_gpd_gdf).to_file(shapefile_path)"
   ]
  },
  {
   "cell_type": "code",
   "execution_count": 4,
   "metadata": {},
   "outputs": [
    {
     "name": "stdout",
     "output_type": "stream",
     "text": [
      "  region_b region_b_n extra                             geometry\n",
      "0        A      Alpha     1  POLYGON ((-1 -1, 0 1, 1 -1, -1 -1))\n",
      "1        B      Bravo     2  POLYGON ((-1 -1, -2 1, 0 1, -1 -1))\n",
      "2        C    Charlie     3     POLYGON ((1 -1, 0 1, 2 1, 1 -1))\n"
     ]
    }
   ],
   "source": [
    "# Read back the shapefile with Pyogrio\n",
    "read_gdf = pyogrio.read_dataframe(shapefile_path)\n",
    "\n",
    "# Print the read GeoDataFrame\n",
    "print(read_gdf)"
   ]
  },
  {
   "cell_type": "code",
   "execution_count": 5,
   "metadata": {},
   "outputs": [],
   "source": [
    "from electoralyze.common.functools import classproperty\n",
    "\n",
    "\n",
    "class RegionMocked(RegionABC):\n",
    "    @classproperty\n",
    "    def raw_geometry_file(self) -> str:\n",
    "        return shapefile_path"
   ]
  },
  {
   "cell_type": "code",
   "execution_count": 6,
   "metadata": {},
   "outputs": [
    {
     "data": {
      "text/plain": [
       "'/tmp/tmpzv20mo3i/data.shp'"
      ]
     },
     "execution_count": 6,
     "metadata": {},
     "output_type": "execute_result"
    }
   ],
   "source": [
    "RegionMocked.raw_geometry_file"
   ]
  },
  {
   "cell_type": "code",
   "execution_count": 7,
   "metadata": {},
   "outputs": [
    {
     "name": "stderr",
     "output_type": "stream",
     "text": [
      "WARNING:root:Couldn't find a matching crs for \"EPSG:4326\". The geometries SRID will be set to 0.\n",
      "proj_create: Cannot find proj.db\n"
     ]
    },
    {
     "name": "stdout",
     "output_type": "stream",
     "text": [
      "Extracting...\n"
     ]
    },
    {
     "name": "stderr",
     "output_type": "stream",
     "text": [
      "proj_create: no database context specified\n"
     ]
    },
    {
     "data": {
      "text/html": [
       "<div><style>\n",
       ".dataframe > thead > tr,\n",
       ".dataframe > tbody > tr {\n",
       "  text-align: right;\n",
       "  white-space: pre-wrap;\n",
       "}\n",
       "</style>\n",
       "<small>shape: (3, 4)</small><table border=\"1\" class=\"dataframe\"><thead><tr><th>region_b</th><th>region_b_n</th><th>extra</th><th>geometry</th></tr><tr><td>str</td><td>str</td><td>str</td><td>f64</td></tr></thead><tbody><tr><td>&quot;A&quot;</td><td>&quot;Alpha&quot;</td><td>&quot;1&quot;</td><td>2.0</td></tr><tr><td>&quot;B&quot;</td><td>&quot;Bravo&quot;</td><td>&quot;2&quot;</td><td>2.0</td></tr><tr><td>&quot;C&quot;</td><td>&quot;Charlie&quot;</td><td>&quot;3&quot;</td><td>2.0</td></tr></tbody></table></div>"
      ],
      "text/plain": [
       "shape: (3, 4)\n",
       "┌──────────┬────────────┬───────┬──────────┐\n",
       "│ region_b ┆ region_b_n ┆ extra ┆ geometry │\n",
       "│ ---      ┆ ---        ┆ ---   ┆ ---      │\n",
       "│ str      ┆ str        ┆ str   ┆ f64      │\n",
       "╞══════════╪════════════╪═══════╪══════════╡\n",
       "│ A        ┆ Alpha      ┆ 1     ┆ 2.0      │\n",
       "│ B        ┆ Bravo      ┆ 2     ┆ 2.0      │\n",
       "│ C        ┆ Charlie    ┆ 3     ┆ 2.0      │\n",
       "└──────────┴────────────┴───────┴──────────┘"
      ]
     },
     "execution_count": 7,
     "metadata": {},
     "output_type": "execute_result"
    }
   ],
   "source": [
    "RegionMocked._get_geometry_raw().with_columns(st.geom(\"geometry\").st.area())"
   ]
  },
  {
   "cell_type": "code",
   "execution_count": 8,
   "metadata": {},
   "outputs": [],
   "source": [
    "# RegionABC.metadata"
   ]
  },
  {
   "cell_type": "code",
   "execution_count": 9,
   "metadata": {},
   "outputs": [],
   "source": [
    "shutil.rmtree(temp_dir.name)"
   ]
  },
  {
   "cell_type": "markdown",
   "metadata": {},
   "source": [
    "# Reading fake regions"
   ]
  },
  {
   "cell_type": "code",
   "execution_count": 29,
   "metadata": {},
   "outputs": [],
   "source": [
    "from electoralyze.common.testing.region_fixture import REGION_A_JSON, read_true_geometry, read_true_metadata\n",
    "from electoralyze.region.region_abc import REDISTRIBUTE_FILE"
   ]
  },
  {
   "cell_type": "code",
   "execution_count": 30,
   "metadata": {},
   "outputs": [
    {
     "data": {
      "text/plain": [
       "0.0001"
      ]
     },
     "execution_count": 30,
     "metadata": {},
     "output_type": "execute_result"
    }
   ],
   "source": [
    "from electoralyze.common.constants import REGION_SIMPLIFY_TOLERANCE\n",
    "\n",
    "REGION_SIMPLIFY_TOLERANCE"
   ]
  },
  {
   "cell_type": "code",
   "execution_count": 36,
   "metadata": {},
   "outputs": [
    {
     "data": {
      "text/html": [
       "<div><style>\n",
       ".dataframe > thead > tr,\n",
       ".dataframe > tbody > tr {\n",
       "  text-align: right;\n",
       "  white-space: pre-wrap;\n",
       "}\n",
       "</style>\n",
       "<small>shape: (3, 2)</small><table border=\"1\" class=\"dataframe\"><thead><tr><th>region_b</th><th>geometry</th></tr><tr><td>str</td><td>binary</td></tr></thead><tbody><tr><td>&quot;A&quot;</td><td>b&quot;\\x01\\x03\\x00\\x00\\x00\\x01\\x00\\x00\\x00\\x04\\x00\\x00\\x00\\x00\\x00\\x00\\x00\\x00\\x00\\xf0\\xbf\\x00\\x00\\x00\\x00\\x00\\x00\\xf0\\xbf\\x00\\x00\\x00\\x00\\x00\\x00\\x00\\x00\\x00\\x00\\x00\\x00\\x00\\x00\\xf0?\\x00\\x00\\x00\\x00\\x00\\x00\\xf0?\\x00\\x00\\x00\\x00\\x00\\x00\\xf0&quot;…</td></tr><tr><td>&quot;B&quot;</td><td>b&quot;\\x01\\x03\\x00\\x00\\x00\\x01\\x00\\x00\\x00\\x04\\x00\\x00\\x00\\x00\\x00\\x00\\x00\\x00\\x00\\xf0\\xbf\\x00\\x00\\x00\\x00\\x00\\x00\\xf0\\xbf\\x00\\x00\\x00\\x00\\x00\\x00\\x00\\x00\\x00\\x00\\x00\\x00\\x00\\x00\\xf0?\\x00\\x00\\x00\\x00\\x00\\x00\\x00\\xc0\\x00\\x00\\x00\\x00\\x00\\x00\\xf0&quot;…</td></tr><tr><td>&quot;C&quot;</td><td>b&quot;\\x01\\x03\\x00\\x00\\x00\\x01\\x00\\x00\\x00\\x04\\x00\\x00\\x00\\x00\\x00\\x00\\x00\\x00\\x00\\xf0?\\x00\\x00\\x00\\x00\\x00\\x00\\xf0\\xbf\\x00\\x00\\x00\\x00\\x00\\x00\\x00\\x00\\x00\\x00\\x00\\x00\\x00\\x00\\xf0?\\x00\\x00\\x00\\x00\\x00\\x00\\x00@\\x00\\x00\\x00\\x00\\x00\\x00\\xf0&quot;…</td></tr></tbody></table></div>"
      ],
      "text/plain": [
       "shape: (3, 2)\n",
       "┌──────────┬─────────────────────────────────┐\n",
       "│ region_b ┆ geometry                        │\n",
       "│ ---      ┆ ---                             │\n",
       "│ str      ┆ binary                          │\n",
       "╞══════════╪═════════════════════════════════╡\n",
       "│ A        ┆ b\"\\x01\\x03\\x00\\x00\\x00\\x01\\x00… │\n",
       "│ B        ┆ b\"\\x01\\x03\\x00\\x00\\x00\\x01\\x00… │\n",
       "│ C        ┆ b\"\\x01\\x03\\x00\\x00\\x00\\x01\\x00… │\n",
       "└──────────┴─────────────────────────────────┘"
      ]
     },
     "execution_count": 36,
     "metadata": {},
     "output_type": "execute_result"
    }
   ],
   "source": [
    "read_true_geometry(\"region_b\")\n",
    "read_true_geometry(\"region_b\")"
   ]
  },
  {
   "cell_type": "code",
   "execution_count": 37,
   "metadata": {},
   "outputs": [
    {
     "data": {
      "text/html": [
       "<div><style>\n",
       ".dataframe > thead > tr,\n",
       ".dataframe > tbody > tr {\n",
       "  text-align: right;\n",
       "  white-space: pre-wrap;\n",
       "}\n",
       "</style>\n",
       "<small>shape: (4, 3)</small><table border=\"1\" class=\"dataframe\"><thead><tr><th>region_a</th><th>region_a_name</th><th>extra</th></tr><tr><td>str</td><td>str</td><td>str</td></tr></thead><tbody><tr><td>&quot;M&quot;</td><td>&quot;Mew&quot;</td><td>&quot;1&quot;</td></tr><tr><td>&quot;N&quot;</td><td>&quot;New&quot;</td><td>&quot;2&quot;</td></tr><tr><td>&quot;O&quot;</td><td>&quot;Omega&quot;</td><td>&quot;3&quot;</td></tr><tr><td>&quot;P&quot;</td><td>&quot;Phi&quot;</td><td>&quot;4&quot;</td></tr></tbody></table></div>"
      ],
      "text/plain": [
       "shape: (4, 3)\n",
       "┌──────────┬───────────────┬───────┐\n",
       "│ region_a ┆ region_a_name ┆ extra │\n",
       "│ ---      ┆ ---           ┆ ---   │\n",
       "│ str      ┆ str           ┆ str   │\n",
       "╞══════════╪═══════════════╪═══════╡\n",
       "│ M        ┆ Mew           ┆ 1     │\n",
       "│ N        ┆ New           ┆ 2     │\n",
       "│ O        ┆ Omega         ┆ 3     │\n",
       "│ P        ┆ Phi           ┆ 4     │\n",
       "└──────────┴───────────────┴───────┘"
      ]
     },
     "execution_count": 37,
     "metadata": {},
     "output_type": "execute_result"
    }
   ],
   "source": [
    "read_true_metadata(\"region_b\")\n",
    "read_true_metadata(\"region_a\")"
   ]
  },
  {
   "cell_type": "code",
   "execution_count": null,
   "metadata": {},
   "outputs": [],
   "source": []
  }
 ],
 "metadata": {
  "kernelspec": {
   "display_name": "Python 3",
   "language": "python",
   "name": "python3"
  },
  "language_info": {
   "codemirror_mode": {
    "name": "ipython",
    "version": 3
   },
   "file_extension": ".py",
   "mimetype": "text/x-python",
   "name": "python",
   "nbconvert_exporter": "python",
   "pygments_lexer": "ipython3",
   "version": "3.13.0"
  }
 },
 "nbformat": 4,
 "nbformat_minor": 2
}
