{
 "cells": [
  {
   "cell_type": "code",
   "execution_count": 1,
   "metadata": {},
   "outputs": [],
   "source": [
    "%load_ext autoreload\n",
    "%autoreload 2\n",
    "\n",
    "import geopandas as gpd\n",
    "import pandas as pd\n",
    "import polars as pl\n",
    "import polars_st as st\n",
    "import pyogrio\n",
    "from electoralyze import region\n",
    "from electoralyze.common import constants\n",
    "from electoralyze.common.geometry import to_gpd_gdf, to_st_gdf\n",
    "from electoralyze.region.region_abc import RegionABC"
   ]
  },
  {
   "cell_type": "code",
   "execution_count": 2,
   "metadata": {},
   "outputs": [
    {
     "data": {
      "text/html": [
       "<div><style>\n",
       ".dataframe > thead > tr,\n",
       ".dataframe > tbody > tr {\n",
       "  text-align: right;\n",
       "  white-space: pre-wrap;\n",
       "}\n",
       "</style>\n",
       "<small>shape: (61_844, 2)</small><table border=\"1\" class=\"dataframe\"><thead><tr><th>SA1_2021</th><th>geometry</th></tr><tr><td>i64</td><td>binary</td></tr></thead><tbody><tr><td>10102100701</td><td>b&quot;\\x01\\x03\\x00\\x00\\x20\\xe6\\x10\\x00\\x00\\x01\\x00\\x00\\x00\\x97\\x07\\x00\\x00\\x1a\\x11\\x03\\xf8\\x83\\xbcb@\\x90\\xb1\\xebt\\x81\\x8bA\\xc0K\\x07\\x81\\xbe\\x89\\xbcb@\\x98\\xe7[Du\\x8bA\\xc02\\xce\\x161\\x8f\\xbcb@\\xfc\\xa6\\x1d&quot;…</td></tr><tr><td>10102100702</td><td>b&quot;\\x01\\x03\\x00\\x00\\x20\\xe6\\x10\\x00\\x00\\x02\\x00\\x00\\x00E\\x03\\x00\\x00Y\\xdc\\xe9\\xa6~\\xb7b@\\x9e\\xfb\\xe0\\x81\\x0c\\xafA\\xc0)\\x8b)\\x05\\xd5\\xb7b@\\xcb\\xe0\\xbd\\xd2=\\xafA\\xc0\\xa7T\\xa3\\xd7\\x09\\xb8b@\\xe5%\\xec&quot;…</td></tr><tr><td>10102100703</td><td>b&quot;\\x01\\x03\\x00\\x00\\x20\\xe6\\x10\\x00\\x00\\x01\\x00\\x00\\x00o\\x00\\x00\\x00\\x0f\\xf0N\\x9b\\xf5\\xb8b@\\xd60\\xf1\\x91g\\xb8A\\xc0g\\xd4_\\x7f\\xf5\\xb8b@\\x87\\xca\\xcc?b\\xb8A\\xc01\\x1eIR\\xf5\\xb8b@?bY&quot;…</td></tr><tr><td>10102100704</td><td>b&quot;\\x01\\x03\\x00\\x00\\x20\\xe6\\x10\\x00\\x00\\x01\\x00\\x00\\x00]\\x00\\x00\\x00\\x06:\\xf2\\xa5\\x84\\xb9b@\\xfe\\xecyB\\x82\\xb8A\\xc0JEcw\\x87\\xb9b@\\xf6\\x08c\\x13O\\xb8A\\xc0iw\\x18^\\x88\\xb9b@\\xadX\\xab&quot;…</td></tr><tr><td>10102100705</td><td>b&quot;\\x01\\x03\\x00\\x00\\x20\\xe6\\x10\\x00\\x00\\x01\\x00\\x00\\x00g\\x00\\x00\\x00\\xdc\\xbc\\x02\\x88p\\xb9b@\\xfe\\x05l#y\\xb9A\\xc0g\\x10R\\x1cr\\xb9b@X.\\x07\\x8cy\\xb9A\\xc0\\xc1\\xfd\\xda$s\\xb9b@I{\\xf7&quot;…</td></tr><tr><td>&hellip;</td><td>&hellip;</td></tr><tr><td>90104100406</td><td>b&quot;\\x01\\x06\\x00\\x00\\x20\\xe6\\x10\\x00\\x00\\x07\\x00\\x00\\x00\\x01\\x03\\x00\\x00\\x00\\x01\\x00\\x00\\x000\\x00\\x00\\x00\\xe2\\x11J\\xca\\xa8\\xfed@)\\xbd\\x94\\x953\\x01=\\xc0\\x82\\xc7f\\xa2\\xa8\\xfed@\\x1d\\x9e\\xb6\\xb67\\x01=\\xc0\\x09M&quot;…</td></tr><tr><td>90104100407</td><td>b&quot;\\x01\\x06\\x00\\x00\\x20\\xe6\\x10\\x00\\x00\\x09\\x00\\x00\\x00\\x01\\x03\\x00\\x00\\x00\\x01\\x00\\x00\\x00\\x0f\\x00\\x00\\x00\\x88\\x8d\\x9c\\xebT\\xfdd@\\x06\\xf8)\\xe8t\\x02=\\xc0\\xf2\\x07t\\xbdT\\xfdd@*\\x9e\\x87^q\\x02=\\xc0\\x9a\\xb3&quot;…</td></tr><tr><td>90104100408</td><td>b&quot;\\x01\\x06\\x00\\x00\\x20\\xe6\\x10\\x00\\x00\\x06\\x00\\x00\\x00\\x01\\x03\\x00\\x00\\x00\\x01\\x00\\x00\\x00\\xfb\\x02\\x00\\x00\\xe3!t\\xf8\\xd2\\xfed@`O\\xc8Hv\\x12=\\xc0\\x89\\xd7l\\x0d\\xd3\\xfed@=\\xa9\\x9e\\xb1u\\x12=\\xc0^\\xb6&quot;…</td></tr><tr><td>99797979993</td><td>null</td></tr><tr><td>99999949999</td><td>null</td></tr></tbody></table></div>"
      ],
      "text/plain": [
       "shape: (61_844, 2)\n",
       "┌─────────────┬─────────────────────────────────┐\n",
       "│ SA1_2021    ┆ geometry                        │\n",
       "│ ---         ┆ ---                             │\n",
       "│ i64         ┆ binary                          │\n",
       "╞═════════════╪═════════════════════════════════╡\n",
       "│ 10102100701 ┆ b\"\\x01\\x03\\x00\\x00\\x20\\xe6\\x10… │\n",
       "│ 10102100702 ┆ b\"\\x01\\x03\\x00\\x00\\x20\\xe6\\x10… │\n",
       "│ 10102100703 ┆ b\"\\x01\\x03\\x00\\x00\\x20\\xe6\\x10… │\n",
       "│ 10102100704 ┆ b\"\\x01\\x03\\x00\\x00\\x20\\xe6\\x10… │\n",
       "│ 10102100705 ┆ b\"\\x01\\x03\\x00\\x00\\x20\\xe6\\x10… │\n",
       "│ …           ┆ …                               │\n",
       "│ 90104100406 ┆ b\"\\x01\\x06\\x00\\x00\\x20\\xe6\\x10… │\n",
       "│ 90104100407 ┆ b\"\\x01\\x06\\x00\\x00\\x20\\xe6\\x10… │\n",
       "│ 90104100408 ┆ b\"\\x01\\x06\\x00\\x00\\x20\\xe6\\x10… │\n",
       "│ 99797979993 ┆ null                            │\n",
       "│ 99999949999 ┆ null                            │\n",
       "└─────────────┴─────────────────────────────────┘"
      ]
     },
     "execution_count": 2,
     "metadata": {},
     "output_type": "execute_result"
    }
   ],
   "source": [
    "region.SA1_2021.metadata"
   ]
  },
  {
   "cell_type": "code",
   "execution_count": 25,
   "metadata": {},
   "outputs": [
    {
     "name": "stderr",
     "output_type": "stream",
     "text": [
      "/tmp/ipykernel_7087/1189847169.py:27: UserWarning: Column names longer than 10 characters will be truncated when saved to ESRI Shapefile.\n",
      "  gdf.pipe(to_gpd_gdf).to_file(shapefile_path)\n",
      "/home/andre/git/private/electoralyze/.pixi/envs/default/lib/python3.13/site-packages/pyogrio/raw.py:723: RuntimeWarning: Normalized/laundered field name: 'region_b_name' to 'region_b_n'\n",
      "  ogr_write(\n"
     ]
    }
   ],
   "source": [
    "import shutil\n",
    "import tempfile\n",
    "\n",
    "from shapely import wkt\n",
    "\n",
    "region_json = {\n",
    "    \"region_b\": [\"A\", \"B\", \"C\"],\n",
    "    \"region_b_name\": [\"Alpha\", \"Bravo\", \"Charlie\"],\n",
    "    \"extra\": [\"1\", \"2\", \"3\"],\n",
    "    \"geometry\": [\n",
    "        \"POLYGON ((-1 -1, 0 1, 1 -1, -1 -1))\",\n",
    "        \"POLYGON ((-1 -1, 0 1, -2 1, -1 -1))\",\n",
    "        \"POLYGON ((1 -1, 0 1, 2 1, 1 -1))\",\n",
    "    ],\n",
    "}\n",
    "\n",
    "# Create the GeoDataFrame\n",
    "gdf = pl.DataFrame(region_json).with_columns(geometry=st.from_wkt(\"geometry\"))\n",
    "\n",
    "\n",
    "# Create a temporary directory for the shapefile\n",
    "temp_dir = tempfile.TemporaryDirectory(delete=False)\n",
    "shapefile_path = f\"{temp_dir.name}/data.shp\"\n",
    "\n",
    "# Write to a shapefile\n",
    "gdf.pipe(to_gpd_gdf).to_file(shapefile_path)"
   ]
  },
  {
   "cell_type": "code",
   "execution_count": 27,
   "metadata": {},
   "outputs": [
    {
     "name": "stdout",
     "output_type": "stream",
     "text": [
      "  region_b region_b_n extra                             geometry\n",
      "0        A      Alpha     1  POLYGON ((-1 -1, 0 1, 1 -1, -1 -1))\n",
      "1        B      Bravo     2  POLYGON ((-1 -1, -2 1, 0 1, -1 -1))\n",
      "2        C    Charlie     3     POLYGON ((1 -1, 0 1, 2 1, 1 -1))\n"
     ]
    }
   ],
   "source": [
    "# Read back the shapefile with Pyogrio\n",
    "read_gdf = pyogrio.read_dataframe(shapefile_path)\n",
    "\n",
    "# Print the read GeoDataFrame\n",
    "print(read_gdf)"
   ]
  },
  {
   "cell_type": "code",
   "execution_count": 28,
   "metadata": {},
   "outputs": [],
   "source": [
    "from electoralyze.common.functools import classproperty\n",
    "\n",
    "\n",
    "class RegionMocked(RegionABC):\n",
    "    @classproperty\n",
    "    def raw_geometry_file(self) -> str:\n",
    "        return shapefile_path"
   ]
  },
  {
   "cell_type": "code",
   "execution_count": 29,
   "metadata": {},
   "outputs": [
    {
     "data": {
      "text/plain": [
       "'/tmp/tmphy8cxqy1/data.shp'"
      ]
     },
     "execution_count": 29,
     "metadata": {},
     "output_type": "execute_result"
    }
   ],
   "source": [
    "RegionMocked.raw_geometry_file"
   ]
  },
  {
   "cell_type": "code",
   "execution_count": 30,
   "metadata": {},
   "outputs": [
    {
     "name": "stderr",
     "output_type": "stream",
     "text": [
      "WARNING:root:Couldn't find a matching crs for \"EPSG:4326\". The geometries SRID will be set to 0.\n",
      "proj_create: Cannot find proj.db\n",
      "proj_create: no database context specified\n"
     ]
    },
    {
     "name": "stdout",
     "output_type": "stream",
     "text": [
      "Extracting...\n"
     ]
    },
    {
     "data": {
      "text/html": [
       "<div><style>\n",
       ".dataframe > thead > tr,\n",
       ".dataframe > tbody > tr {\n",
       "  text-align: right;\n",
       "  white-space: pre-wrap;\n",
       "}\n",
       "</style>\n",
       "<small>shape: (3, 4)</small><table border=\"1\" class=\"dataframe\"><thead><tr><th>region_b</th><th>region_b_n</th><th>extra</th><th>geometry</th></tr><tr><td>str</td><td>str</td><td>str</td><td>f64</td></tr></thead><tbody><tr><td>&quot;A&quot;</td><td>&quot;Alpha&quot;</td><td>&quot;1&quot;</td><td>2.0</td></tr><tr><td>&quot;B&quot;</td><td>&quot;Bravo&quot;</td><td>&quot;2&quot;</td><td>2.0</td></tr><tr><td>&quot;C&quot;</td><td>&quot;Charlie&quot;</td><td>&quot;3&quot;</td><td>2.0</td></tr></tbody></table></div>"
      ],
      "text/plain": [
       "shape: (3, 4)\n",
       "┌──────────┬────────────┬───────┬──────────┐\n",
       "│ region_b ┆ region_b_n ┆ extra ┆ geometry │\n",
       "│ ---      ┆ ---        ┆ ---   ┆ ---      │\n",
       "│ str      ┆ str        ┆ str   ┆ f64      │\n",
       "╞══════════╪════════════╪═══════╪══════════╡\n",
       "│ A        ┆ Alpha      ┆ 1     ┆ 2.0      │\n",
       "│ B        ┆ Bravo      ┆ 2     ┆ 2.0      │\n",
       "│ C        ┆ Charlie    ┆ 3     ┆ 2.0      │\n",
       "└──────────┴────────────┴───────┴──────────┘"
      ]
     },
     "execution_count": 30,
     "metadata": {},
     "output_type": "execute_result"
    }
   ],
   "source": [
    "RegionMocked._get_geometry_raw().with_columns(st.geom(\"geometry\").st.area())"
   ]
  },
  {
   "cell_type": "code",
   "execution_count": 5,
   "metadata": {},
   "outputs": [
    {
     "data": {
      "text/plain": [
       "<functools.cached_property at 0x7f22605086e0>"
      ]
     },
     "execution_count": 5,
     "metadata": {},
     "output_type": "execute_result"
    }
   ],
   "source": [
    "RegionABC.metadata"
   ]
  },
  {
   "cell_type": "code",
   "execution_count": 13,
   "metadata": {},
   "outputs": [],
   "source": [
    "shutil.rmtree(temp_dir.name)"
   ]
  },
  {
   "cell_type": "code",
   "execution_count": null,
   "metadata": {},
   "outputs": [],
   "source": []
  }
 ],
 "metadata": {
  "kernelspec": {
   "display_name": "Python 3",
   "language": "python",
   "name": "python3"
  },
  "language_info": {
   "codemirror_mode": {
    "name": "ipython",
    "version": 3
   },
   "file_extension": ".py",
   "mimetype": "text/x-python",
   "name": "python",
   "nbconvert_exporter": "python",
   "pygments_lexer": "ipython3",
   "version": "3.13.0"
  }
 },
 "nbformat": 4,
 "nbformat_minor": 2
}
