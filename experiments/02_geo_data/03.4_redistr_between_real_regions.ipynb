{
 "cells": [
  {
   "cell_type": "code",
   "execution_count": 1,
   "metadata": {},
   "outputs": [],
   "source": [
    "%load_ext autoreload\n",
    "%autoreload 2\n",
    "\n",
    "import geopandas as gpd\n",
    "import pandas as pd\n",
    "import polars as pl\n",
    "import polars_st as st\n",
    "import pyogrio\n",
    "from electoralyze import region\n",
    "from electoralyze.common import constants\n",
    "from electoralyze.common.geometry import to_geopandas, to_geopolars\n",
    "from electoralyze.common.testing.region_fixture import (\n",
    "    RegionMocked,\n",
    "    create_fake_regions,\n",
    "    read_true_geometry,\n",
    "    read_true_metadata,\n",
    ")\n",
    "from electoralyze.region.redistribute import redistribute\n",
    "from electoralyze.region.redistribute.mapping import (\n",
    "    _create_intersection_area_mapping,\n",
    "    _get_remaining_area,\n",
    "    get_region_mapping_base,\n",
    ")\n",
    "from polars import testing"
   ]
  },
  {
   "cell_type": "code",
   "execution_count": 2,
   "metadata": {},
   "outputs": [
    {
     "data": {
      "text/plain": [
       "electoralyze.region.regions.federal_2022.Federal2022"
      ]
     },
     "execution_count": 2,
     "metadata": {},
     "output_type": "execute_result"
    }
   ],
   "source": [
    "region.Federal2022"
   ]
  },
  {
   "cell_type": "code",
   "execution_count": 3,
   "metadata": {},
   "outputs": [
    {
     "data": {
      "text/plain": [
       "electoralyze.region.regions.SA1_2021.SA1_2021"
      ]
     },
     "execution_count": 3,
     "metadata": {},
     "output_type": "execute_result"
    }
   ],
   "source": [
    "region.SA1_2021"
   ]
  },
  {
   "cell_type": "code",
   "execution_count": 4,
   "metadata": {},
   "outputs": [
    {
     "data": {
      "text/html": [
       "<div><style>\n",
       ".dataframe > thead > tr,\n",
       ".dataframe > tbody > tr {\n",
       "  text-align: right;\n",
       "  white-space: pre-wrap;\n",
       "}\n",
       "</style>\n",
       "<small>shape: (151, 2)</small><table border=\"1\" class=\"dataframe\"><thead><tr><th>federal_2022</th><th>geometry</th></tr><tr><td>str</td><td>binary</td></tr></thead><tbody><tr><td>&quot;Adelaide&quot;</td><td>b&quot;\\x01\\x03\\x00\\x00\\xa0\\xe6\\x10\\x00\\x00\\x01\\x00\\x00\\x00W\\x00\\x00\\x00u\\x8e\\x01\\xd9kTa@\\x82\\xfd\\xd7\\xb9ioA\\xc0\\x00\\x00\\x00\\x00\\x00\\x00\\x00\\x00\\xd0\\x98I\\xd4\\x0bTa@\\x0a\\xd68\\x9b\\x8epA\\xc0\\x00\\x00\\x00&quot;…</td></tr><tr><td>&quot;Aston&quot;</td><td>b&quot;\\x01\\x03\\x00\\x00\\xa0\\xe6\\x10\\x00\\x00\\x01\\x00\\x00\\x00\\xd0\\x02\\x00\\x00\\xfc\\x8e\\xe1\\xb1\\x1f+b@|\\xed\\x99%\\x01\\xeeB\\xc0\\x00\\x00\\x00\\x00\\x00\\x00\\x00\\x00;8\\xd8\\x9b\\x18+b@-\\xe8\\xbd1\\x04\\xeeB\\xc0\\x00\\x00\\x00&quot;…</td></tr><tr><td>&quot;Ballarat&quot;</td><td>b&quot;\\x01\\x03\\x00\\x00\\xa0\\xe6\\x10\\x00\\x00\\x01\\x00\\x00\\x00D\\x09\\x00\\x00J\\xb2\\x0eGW\\xfaa@p\\xb071$\\x07C\\xc0\\x00\\x00\\x00\\x00\\x00\\x00\\x00\\x00\\x05\\xc0x\\x06\\x8d\\xfaa@\\xfa\\xd1p\\xca\\xdc\\x02C\\xc0\\x00\\x00\\x00&quot;…</td></tr><tr><td>&quot;Banks&quot;</td><td>b&quot;\\x01\\x03\\x00\\x00\\xa0\\xe6\\x10\\x00\\x00\\x01\\x00\\x00\\x00\\x9b\\x00\\x00\\x00\\xab\\x07\\xccC&amp;\\xe4b@\\x96\\xaf\\xcb\\xf0\\x9f\\xfc@\\xc0\\x00\\x00\\x00\\x00\\x00\\x00\\x00\\x006#\\x83\\xdc\\xc5\\xe3b@\\xfc\\xdf\\x11\\x15\\xaa\\xfd@\\xc0\\x00\\x00\\x00&quot;…</td></tr><tr><td>&quot;Barker&quot;</td><td>b&quot;\\x01\\x06\\x00\\x00\\xa0\\xe6\\x10\\x00\\x00\\x1b\\x00\\x00\\x00\\x01\\x03\\x00\\x00\\x80\\x01\\x00\\x00\\x00M\\x0d\\x00\\x00wj.7\\x18\\xa0a@\\xa3\\x05h[\\xcd\\x02A\\xc0\\x00\\x00\\x00\\x00\\x00\\x00\\x00\\x00\\xa0PO\\x1f\\x01\\xa0a@r7&quot;…</td></tr><tr><td>&hellip;</td><td>&hellip;</td></tr><tr><td>&quot;Werriwa&quot;</td><td>b&quot;\\x01\\x03\\x00\\x00\\xa0\\xe6\\x10\\x00\\x00\\x01\\x00\\x00\\x00\\x1d\\x01\\x00\\x00*\\x8d\\x98\\xd9g\\xddb@\\xf7\\xe67L4\\xf8@\\xc0\\x00\\x00\\x00\\x00\\x00\\x00\\x00\\x00\\x1a\\x17\\x0e\\x84d\\xddb@G\\xc8@\\x9e]\\xf8@\\xc0\\x00\\x00\\x00&quot;…</td></tr><tr><td>&quot;Whitlam&quot;</td><td>b&quot;\\x01\\x06\\x00\\x00\\xa0\\xe6\\x10\\x00\\x00\\x02\\x00\\x00\\x00\\x01\\x03\\x00\\x00\\x80\\x01\\x00\\x00\\x00\\xd9\\x04\\x00\\x00y\\x95\\xb5M\\xf1\\xdcb@\\x17a\\x8ariLA\\xc0\\x00\\x00\\x00\\x00\\x00\\x00\\x00\\x00\\xaf\\xb1KT\\xef\\xdcb@u\\x1e&quot;…</td></tr><tr><td>&quot;Wide&nbsp;Bay&quot;</td><td>b&quot;\\x01\\x03\\x00\\x00\\xa0\\xe6\\x10\\x00\\x00\\x01\\x00\\x00\\x00d\\x0e\\x00\\x00\\x8b\\xe1\\xea\\x00\\x88+c@\\x01L\\x198\\xa0\\x019\\xc0\\x00\\x00\\x00\\x00\\x00\\x00\\x00\\x00\\xf7\\xb1\\x82\\xdf\\x86+c@6\\x93o\\xb6\\xb9\\x019\\xc0\\x00\\x00\\x00&quot;…</td></tr><tr><td>&quot;Wills&quot;</td><td>b&quot;\\x01\\x03\\x00\\x00\\xa0\\xe6\\x10\\x00\\x00\\x01\\x00\\x00\\x00D\\x01\\x00\\x00\\x16\\x16\\xdc\\x0fx\\x1fb@\\xce\\xe2\\xc5\\xc2\\x10\\xe3B\\xc0\\x00\\x00\\x00\\x00\\x00\\x00\\x00\\x00\\x0c\\x02+\\x87\\x16\\x1fb@\\x84\\xf2&gt;\\x8e\\xe6\\xe2B\\xc0\\x00\\x00\\x00&quot;…</td></tr><tr><td>&quot;Wright&quot;</td><td>b&quot;\\x01\\x03\\x00\\x00\\xa0\\xe6\\x10\\x00\\x00\\x01\\x00\\x00\\x00(\\x0b\\x00\\x00\\xf7\\xb0\\x17\\x0a\\xd8+c@\\x1c\\:\\xe6&lt;\\x1b&lt;\\xc0\\x00\\x00\\x00\\x00\\x00\\x00\\x00\\x00\\xab\\x087\\x19\\xd5+c@t\\xd0%\\x1cz\\x1b&lt;\\xc0\\x00\\x00\\x00&quot;…</td></tr></tbody></table></div>"
      ],
      "text/plain": [
       "shape: (151, 2)\n",
       "┌──────────────┬─────────────────────────────────┐\n",
       "│ federal_2022 ┆ geometry                        │\n",
       "│ ---          ┆ ---                             │\n",
       "│ str          ┆ binary                          │\n",
       "╞══════════════╪═════════════════════════════════╡\n",
       "│ Adelaide     ┆ b\"\\x01\\x03\\x00\\x00\\xa0\\xe6\\x10… │\n",
       "│ Aston        ┆ b\"\\x01\\x03\\x00\\x00\\xa0\\xe6\\x10… │\n",
       "│ Ballarat     ┆ b\"\\x01\\x03\\x00\\x00\\xa0\\xe6\\x10… │\n",
       "│ Banks        ┆ b\"\\x01\\x03\\x00\\x00\\xa0\\xe6\\x10… │\n",
       "│ Barker       ┆ b\"\\x01\\x06\\x00\\x00\\xa0\\xe6\\x10… │\n",
       "│ …            ┆ …                               │\n",
       "│ Werriwa      ┆ b\"\\x01\\x03\\x00\\x00\\xa0\\xe6\\x10… │\n",
       "│ Whitlam      ┆ b\"\\x01\\x06\\x00\\x00\\xa0\\xe6\\x10… │\n",
       "│ Wide Bay     ┆ b\"\\x01\\x03\\x00\\x00\\xa0\\xe6\\x10… │\n",
       "│ Wills        ┆ b\"\\x01\\x03\\x00\\x00\\xa0\\xe6\\x10… │\n",
       "│ Wright       ┆ b\"\\x01\\x03\\x00\\x00\\xa0\\xe6\\x10… │\n",
       "└──────────────┴─────────────────────────────────┘"
      ]
     },
     "execution_count": 4,
     "metadata": {},
     "output_type": "execute_result"
    }
   ],
   "source": [
    "region.Federal2022.geometry"
   ]
  },
  {
   "cell_type": "code",
   "execution_count": 5,
   "metadata": {},
   "outputs": [
    {
     "data": {
      "text/html": [
       "<div><style>\n",
       ".dataframe > thead > tr,\n",
       ".dataframe > tbody > tr {\n",
       "  text-align: right;\n",
       "  white-space: pre-wrap;\n",
       "}\n",
       "</style>\n",
       "<small>shape: (100, 2)</small><table border=\"1\" class=\"dataframe\"><thead><tr><th>SA1_2021</th><th>geometry</th></tr><tr><td>i64</td><td>binary</td></tr></thead><tbody><tr><td>10102100701</td><td>b&quot;\\x01\\x03\\x00\\x00\\x20\\xe6\\x10\\x00\\x00\\x01\\x00\\x00\\x00\\xc9\\x02\\x00\\x00]\\x16V\\xf6\\x80\\xbcb@`j&quot;\\xe5\\x88\\x8bA\\xc0K\\x07\\x81\\xbe\\x89\\xbcb@\\x98\\xe7[Du\\x8bA\\xc0\\xdc\\x8d\\x1c;\\x92\\xbcb@\\xa9X\\x94&quot;…</td></tr><tr><td>10102100702</td><td>b&quot;\\x01\\x03\\x00\\x00\\x20\\xe6\\x10\\x00\\x00\\x02\\x00\\x00\\x00\\x08\\x01\\x00\\x00Y\\xdc\\xe9\\xa6~\\xb7b@\\x9e\\xfb\\xe0\\x81\\x0c\\xafA\\xc0\\xb5Q\\xabKL\\xb8b@y\\x87\\xa0!}\\xafA\\xc0\\xdc\\xeb1\\x0bW\\xb8b@A\\xb6\\x8d&quot;…</td></tr><tr><td>10102100703</td><td>b&quot;\\x01\\x03\\x00\\x00\\x20\\xe6\\x10\\x00\\x00\\x01\\x00\\x00\\x00\\x1a\\x00\\x00\\x00\\x0f\\xf0N\\x9b\\xf5\\xb8b@\\xd60\\xf1\\x91g\\xb8A\\xc0u\\xc3C\\xa7\\xf2\\xb8b@G8\\xcb\\xb4+\\xb8A\\xc0B6\\xc1\\xac\\xfb\\xb8b@^p\\xe5&quot;…</td></tr><tr><td>10102100704</td><td>b&quot;\\x01\\x03\\x00\\x00\\x20\\xe6\\x10\\x00\\x00\\x01\\x00\\x00\\x00\\x1e\\x00\\x00\\x00\\x95\\x92\\x10&lt;}\\xb9b@7J\\xbb\\x9f\\x09\\xb9A\\xc0\\xca1\\xac\\xee\\x89\\xb9b@j\\x94\\xfc\\x020\\xb8A\\xc0RI\\xbet\\x8b\\xb9b@\\xc1\\xe3\\xb4&quot;…</td></tr><tr><td>10102100705</td><td>b&quot;\\x01\\x03\\x00\\x00\\x20\\xe6\\x10\\x00\\x00\\x01\\x00\\x00\\x00&quot;\\x00\\x00\\x00\\xdc\\xbc\\x02\\x88p\\xb9b@\\xfe\\x05l#y\\xb9A\\xc0g\\x10R\\x1cr\\xb9b@X.\\x07\\x8cy\\xb9A\\xc0\\x93\\xecfnt\\xb9b@Pc\\x1f&quot;…</td></tr><tr><td>&hellip;</td><td>&hellip;</td></tr><tr><td>10102101221</td><td>b&quot;\\x01\\x03\\x00\\x00\\x20\\xe6\\x10\\x00\\x00\\x01\\x00\\x00\\x00\\x10\\x00\\x00\\x005[\\xf6\\xe7\\x8d\\xa6b@\\xcb\\x87\\xf1u\\x05\\xaeA\\xc0\\xbbC\\x9a\\xa8\\x94\\xa6b@\\xb2K\\xa5Z\\xfb\\xadA\\xc0F\\xfd\\x19\\xd2\\x99\\xa6b@\\x03\\xaf\\xc8&quot;…</td></tr><tr><td>10102101222</td><td>b&quot;\\x01\\x03\\x00\\x00\\x20\\xe6\\x10\\x00\\x00\\x01\\x00\\x00\\x00\\x0e\\x00\\x00\\x00=\\xdaAU\\x91\\xa6b@s_\\xc0h)\\xb1A\\xc0\\x0d`\\xa0T\\x94\\xa6b@\\xbe\\xa4\\xab\\x17\\xf1\\xb0A\\xc0\\xc3\\xae@\\xbb\\xbe\\xa6b@@O\\x8a&quot;…</td></tr><tr><td>10102101223</td><td>b&quot;\\x01\\x03\\x00\\x00\\x20\\xe6\\x10\\x00\\x00\\x01\\x00\\x00\\x00\\x13\\x00\\x00\\x00\\x91\\x96\\xa2KN\\xa6b@y:\\\\xa0\\x8c\\xb1A\\xc0\\x9a\\xba\\xda\\xe8V\\xa6b@\\x02\\x17\\xdd@\\xe1\\xb0A\\xc0\\x00&amp;\\x14\\xe0d\\xa6b@r\\xdd\\xf7&quot;…</td></tr><tr><td>10102101224</td><td>b&quot;\\x01\\x03\\x00\\x00\\x20\\xe6\\x10\\x00\\x00\\x01\\x00\\x00\\x00\\x16\\x00\\x00\\x00NH\\xf4\\xec\\x9e\\xa6b@\\x9aY\\xbb\\xc8\\x15\\xb2A\\xc0B)\\xb7\\x0d\\x9a\\xa6b@\\xde1k\\xaf\\xf5\\xb1A\\xc0s\\xa8\\xce\\x8a\\x9f\\xa6b@@\\xfe\\xac&quot;…</td></tr><tr><td>10102101225</td><td>b&quot;\\x01\\x03\\x00\\x00\\x20\\xe6\\x10\\x00\\x00\\x01\\x00\\x00\\x00*\\x00\\x00\\x0074\\xcc\\xed\\xd9\\xa6b@&quot;$\\x14bX\\xb0A\\xc0j\\xcd\\xb2\\xaa\\xcb\\xa6b@\\xd6\\xf5\\x94pd\\xb0A\\xc0\\xe5R,\\xdf\\xc5\\xa6b@@Z\\xd1&quot;…</td></tr></tbody></table></div>"
      ],
      "text/plain": [
       "shape: (100, 2)\n",
       "┌─────────────┬─────────────────────────────────┐\n",
       "│ SA1_2021    ┆ geometry                        │\n",
       "│ ---         ┆ ---                             │\n",
       "│ i64         ┆ binary                          │\n",
       "╞═════════════╪═════════════════════════════════╡\n",
       "│ 10102100701 ┆ b\"\\x01\\x03\\x00\\x00\\x20\\xe6\\x10… │\n",
       "│ 10102100702 ┆ b\"\\x01\\x03\\x00\\x00\\x20\\xe6\\x10… │\n",
       "│ 10102100703 ┆ b\"\\x01\\x03\\x00\\x00\\x20\\xe6\\x10… │\n",
       "│ 10102100704 ┆ b\"\\x01\\x03\\x00\\x00\\x20\\xe6\\x10… │\n",
       "│ 10102100705 ┆ b\"\\x01\\x03\\x00\\x00\\x20\\xe6\\x10… │\n",
       "│ …           ┆ …                               │\n",
       "│ 10102101221 ┆ b\"\\x01\\x03\\x00\\x00\\x20\\xe6\\x10… │\n",
       "│ 10102101222 ┆ b\"\\x01\\x03\\x00\\x00\\x20\\xe6\\x10… │\n",
       "│ 10102101223 ┆ b\"\\x01\\x03\\x00\\x00\\x20\\xe6\\x10… │\n",
       "│ 10102101224 ┆ b\"\\x01\\x03\\x00\\x00\\x20\\xe6\\x10… │\n",
       "│ 10102101225 ┆ b\"\\x01\\x03\\x00\\x00\\x20\\xe6\\x10… │\n",
       "└─────────────┴─────────────────────────────────┘"
      ]
     },
     "execution_count": 5,
     "metadata": {},
     "output_type": "execute_result"
    }
   ],
   "source": [
    "region.SA1_2021.geometry.head(100)"
   ]
  },
  {
   "cell_type": "code",
   "execution_count": 6,
   "metadata": {},
   "outputs": [],
   "source": [
    "from electoralyze.region.redistribute.mapping import _get_intersection_area"
   ]
  },
  {
   "cell_type": "code",
   "execution_count": 26,
   "metadata": {},
   "outputs": [],
   "source": [
    "geometry_from = region.Federal2022.geometry\n",
    "geometry_to = region.SA1_2021.geometry.head(1000)"
   ]
  },
  {
   "cell_type": "code",
   "execution_count": 8,
   "metadata": {},
   "outputs": [
    {
     "data": {
      "text/html": [
       "<div><style>\n",
       ".dataframe > thead > tr,\n",
       ".dataframe > tbody > tr {\n",
       "  text-align: right;\n",
       "  white-space: pre-wrap;\n",
       "}\n",
       "</style>\n",
       "<small>shape: (15_100, 3)</small><table border=\"1\" class=\"dataframe\"><thead><tr><th>federal_2022</th><th>SA1_2021</th><th>intersection_area</th></tr><tr><td>str</td><td>i64</td><td>f64</td></tr></thead><tbody><tr><td>&quot;Adelaide&quot;</td><td>10102100701</td><td>0.0</td></tr><tr><td>&quot;Adelaide&quot;</td><td>10102100702</td><td>0.0</td></tr><tr><td>&quot;Adelaide&quot;</td><td>10102100703</td><td>0.0</td></tr><tr><td>&quot;Adelaide&quot;</td><td>10102100704</td><td>0.0</td></tr><tr><td>&quot;Adelaide&quot;</td><td>10102100705</td><td>0.0</td></tr><tr><td>&hellip;</td><td>&hellip;</td><td>&hellip;</td></tr><tr><td>&quot;Wright&quot;</td><td>10102101221</td><td>0.0</td></tr><tr><td>&quot;Wright&quot;</td><td>10102101222</td><td>0.0</td></tr><tr><td>&quot;Wright&quot;</td><td>10102101223</td><td>0.0</td></tr><tr><td>&quot;Wright&quot;</td><td>10102101224</td><td>0.0</td></tr><tr><td>&quot;Wright&quot;</td><td>10102101225</td><td>0.0</td></tr></tbody></table></div>"
      ],
      "text/plain": [
       "shape: (15_100, 3)\n",
       "┌──────────────┬─────────────┬───────────────────┐\n",
       "│ federal_2022 ┆ SA1_2021    ┆ intersection_area │\n",
       "│ ---          ┆ ---         ┆ ---               │\n",
       "│ str          ┆ i64         ┆ f64               │\n",
       "╞══════════════╪═════════════╪═══════════════════╡\n",
       "│ Adelaide     ┆ 10102100701 ┆ 0.0               │\n",
       "│ Adelaide     ┆ 10102100702 ┆ 0.0               │\n",
       "│ Adelaide     ┆ 10102100703 ┆ 0.0               │\n",
       "│ Adelaide     ┆ 10102100704 ┆ 0.0               │\n",
       "│ Adelaide     ┆ 10102100705 ┆ 0.0               │\n",
       "│ …            ┆ …           ┆ …                 │\n",
       "│ Wright       ┆ 10102101221 ┆ 0.0               │\n",
       "│ Wright       ┆ 10102101222 ┆ 0.0               │\n",
       "│ Wright       ┆ 10102101223 ┆ 0.0               │\n",
       "│ Wright       ┆ 10102101224 ┆ 0.0               │\n",
       "│ Wright       ┆ 10102101225 ┆ 0.0               │\n",
       "└──────────────┴─────────────┴───────────────────┘"
      ]
     },
     "execution_count": 8,
     "metadata": {},
     "output_type": "execute_result"
    }
   ],
   "source": [
    "geometry_combined = geometry_from.rename({\"geometry\": \"geometry_from\"}).join(\n",
    "    geometry_to.rename({\"geometry\": \"geometry_to\"}), how=\"cross\"\n",
    ")\n",
    "intersection_area = geometry_combined.select(\n",
    "    pl.exclude(\"geometry_from\", \"geometry_to\"),\n",
    "    st.geom(\"geometry_from\").st.intersection(st.geom(\"geometry_to\")).st.area().alias(\"intersection_area\"),\n",
    ")\n",
    "intersection_area"
   ]
  },
  {
   "cell_type": "code",
   "execution_count": 27,
   "metadata": {},
   "outputs": [
    {
     "data": {
      "text/html": [
       "<div>\n",
       "<style scoped>\n",
       "    .dataframe tbody tr th:only-of-type {\n",
       "        vertical-align: middle;\n",
       "    }\n",
       "\n",
       "    .dataframe tbody tr th {\n",
       "        vertical-align: top;\n",
       "    }\n",
       "\n",
       "    .dataframe thead th {\n",
       "        text-align: right;\n",
       "    }\n",
       "</style>\n",
       "<table border=\"1\" class=\"dataframe\">\n",
       "  <thead>\n",
       "    <tr style=\"text-align: right;\">\n",
       "      <th></th>\n",
       "      <th>federal_2022</th>\n",
       "      <th>geometry_from</th>\n",
       "      <th>SA1_2021</th>\n",
       "      <th>geometry_to</th>\n",
       "    </tr>\n",
       "  </thead>\n",
       "  <tbody>\n",
       "    <tr>\n",
       "      <th>0</th>\n",
       "      <td>Adelaide</td>\n",
       "      <td>POLYGON Z ((138.63816 -34.87041 0, 138.62644 -...</td>\n",
       "      <td>10102100701</td>\n",
       "      <td>POLYGON ((149.89074 -35.09012, 149.89181 -35.0...</td>\n",
       "    </tr>\n",
       "    <tr>\n",
       "      <th>1</th>\n",
       "      <td>Adelaide</td>\n",
       "      <td>POLYGON Z ((138.63816 -34.87041 0, 138.62644 -...</td>\n",
       "      <td>10102100702</td>\n",
       "      <td>POLYGON ((149.73421 -35.36757, 149.75931 -35.3...</td>\n",
       "    </tr>\n",
       "    <tr>\n",
       "      <th>2</th>\n",
       "      <td>Adelaide</td>\n",
       "      <td>POLYGON Z ((138.63816 -34.87041 0, 138.62644 -...</td>\n",
       "      <td>10102100703</td>\n",
       "      <td>POLYGON ((149.77998 -35.44066, 149.77962 -35.4...</td>\n",
       "    </tr>\n",
       "    <tr>\n",
       "      <th>3</th>\n",
       "      <td>Adelaide</td>\n",
       "      <td>POLYGON Z ((138.63816 -34.87041 0, 138.62644 -...</td>\n",
       "      <td>10102100704</td>\n",
       "      <td>POLYGON ((149.79654 -35.44561, 149.79809 -35.4...</td>\n",
       "    </tr>\n",
       "    <tr>\n",
       "      <th>4</th>\n",
       "      <td>Adelaide</td>\n",
       "      <td>POLYGON Z ((138.63816 -34.87041 0, 138.62644 -...</td>\n",
       "      <td>10102100705</td>\n",
       "      <td>POLYGON ((149.79499 -35.44901, 149.79518 -35.4...</td>\n",
       "    </tr>\n",
       "    <tr>\n",
       "      <th>...</th>\n",
       "      <td>...</td>\n",
       "      <td>...</td>\n",
       "      <td>...</td>\n",
       "      <td>...</td>\n",
       "    </tr>\n",
       "    <tr>\n",
       "      <th>1509995</th>\n",
       "      <td>Wright</td>\n",
       "      <td>POLYGON Z ((153.37012 -28.1064 0, 153.36976 -2...</td>\n",
       "      <td>11701163401</td>\n",
       "      <td>POLYGON ((151.19881 -33.92297, 151.20146 -33.9...</td>\n",
       "    </tr>\n",
       "    <tr>\n",
       "      <th>1509996</th>\n",
       "      <td>Wright</td>\n",
       "      <td>POLYGON Z ((153.37012 -28.1064 0, 153.36976 -2...</td>\n",
       "      <td>11701163402</td>\n",
       "      <td>POLYGON ((151.21869 -33.936, 151.21512 -33.938...</td>\n",
       "    </tr>\n",
       "    <tr>\n",
       "      <th>1509997</th>\n",
       "      <td>Wright</td>\n",
       "      <td>POLYGON Z ((153.37012 -28.1064 0, 153.36976 -2...</td>\n",
       "      <td>11701163403</td>\n",
       "      <td>POLYGON ((151.21245 -33.92667, 151.21321 -33.9...</td>\n",
       "    </tr>\n",
       "    <tr>\n",
       "      <th>1509998</th>\n",
       "      <td>Wright</td>\n",
       "      <td>POLYGON Z ((153.37012 -28.1064 0, 153.36976 -2...</td>\n",
       "      <td>11701163404</td>\n",
       "      <td>POLYGON ((151.21502 -33.92578, 151.21427 -33.9...</td>\n",
       "    </tr>\n",
       "    <tr>\n",
       "      <th>1509999</th>\n",
       "      <td>Wright</td>\n",
       "      <td>POLYGON Z ((153.37012 -28.1064 0, 153.36976 -2...</td>\n",
       "      <td>11701163405</td>\n",
       "      <td>POLYGON ((151.2077 -33.92536, 151.21094 -33.92...</td>\n",
       "    </tr>\n",
       "  </tbody>\n",
       "</table>\n",
       "<p>1510000 rows × 4 columns</p>\n",
       "</div>"
      ],
      "text/plain": [
       "        federal_2022                                      geometry_from  \\\n",
       "0           Adelaide  POLYGON Z ((138.63816 -34.87041 0, 138.62644 -...   \n",
       "1           Adelaide  POLYGON Z ((138.63816 -34.87041 0, 138.62644 -...   \n",
       "2           Adelaide  POLYGON Z ((138.63816 -34.87041 0, 138.62644 -...   \n",
       "3           Adelaide  POLYGON Z ((138.63816 -34.87041 0, 138.62644 -...   \n",
       "4           Adelaide  POLYGON Z ((138.63816 -34.87041 0, 138.62644 -...   \n",
       "...              ...                                                ...   \n",
       "1509995       Wright  POLYGON Z ((153.37012 -28.1064 0, 153.36976 -2...   \n",
       "1509996       Wright  POLYGON Z ((153.37012 -28.1064 0, 153.36976 -2...   \n",
       "1509997       Wright  POLYGON Z ((153.37012 -28.1064 0, 153.36976 -2...   \n",
       "1509998       Wright  POLYGON Z ((153.37012 -28.1064 0, 153.36976 -2...   \n",
       "1509999       Wright  POLYGON Z ((153.37012 -28.1064 0, 153.36976 -2...   \n",
       "\n",
       "            SA1_2021                                        geometry_to  \n",
       "0        10102100701  POLYGON ((149.89074 -35.09012, 149.89181 -35.0...  \n",
       "1        10102100702  POLYGON ((149.73421 -35.36757, 149.75931 -35.3...  \n",
       "2        10102100703  POLYGON ((149.77998 -35.44066, 149.77962 -35.4...  \n",
       "3        10102100704  POLYGON ((149.79654 -35.44561, 149.79809 -35.4...  \n",
       "4        10102100705  POLYGON ((149.79499 -35.44901, 149.79518 -35.4...  \n",
       "...              ...                                                ...  \n",
       "1509995  11701163401  POLYGON ((151.19881 -33.92297, 151.20146 -33.9...  \n",
       "1509996  11701163402  POLYGON ((151.21869 -33.936, 151.21512 -33.938...  \n",
       "1509997  11701163403  POLYGON ((151.21245 -33.92667, 151.21321 -33.9...  \n",
       "1509998  11701163404  POLYGON ((151.21502 -33.92578, 151.21427 -33.9...  \n",
       "1509999  11701163405  POLYGON ((151.2077 -33.92536, 151.21094 -33.92...  \n",
       "\n",
       "[1510000 rows x 4 columns]"
      ]
     },
     "execution_count": 27,
     "metadata": {},
     "output_type": "execute_result"
    }
   ],
   "source": [
    "geometry_combined = (\n",
    "    geometry_from.pipe(to_geopandas)\n",
    "    .rename(columns={\"geometry\": \"geometry_from\"})\n",
    "    .merge(geometry_to.pipe(to_geopandas).rename(columns={\"geometry\": \"geometry_to\"}), how=\"cross\")\n",
    ")\n",
    "geometry_combined"
   ]
  },
  {
   "cell_type": "code",
   "execution_count": 28,
   "metadata": {},
   "outputs": [
    {
     "name": "stderr",
     "output_type": "stream",
     "text": [
      "<magic-timeit>:4: UserWarning: Geometry is in a geographic CRS. Results from 'area' are likely incorrect. Use 'GeoSeries.to_crs()' to re-project geometries to a projected CRS before this operation.\n",
      "\n",
      "<magic-timeit>:4: UserWarning: Geometry is in a geographic CRS. Results from 'area' are likely incorrect. Use 'GeoSeries.to_crs()' to re-project geometries to a projected CRS before this operation.\n",
      "\n",
      "<magic-timeit>:4: UserWarning: Geometry is in a geographic CRS. Results from 'area' are likely incorrect. Use 'GeoSeries.to_crs()' to re-project geometries to a projected CRS before this operation.\n",
      "\n",
      "<magic-timeit>:4: UserWarning: Geometry is in a geographic CRS. Results from 'area' are likely incorrect. Use 'GeoSeries.to_crs()' to re-project geometries to a projected CRS before this operation.\n",
      "\n",
      "<magic-timeit>:4: UserWarning: Geometry is in a geographic CRS. Results from 'area' are likely incorrect. Use 'GeoSeries.to_crs()' to re-project geometries to a projected CRS before this operation.\n",
      "\n",
      "<magic-timeit>:4: UserWarning: Geometry is in a geographic CRS. Results from 'area' are likely incorrect. Use 'GeoSeries.to_crs()' to re-project geometries to a projected CRS before this operation.\n",
      "\n",
      "<magic-timeit>:4: UserWarning: Geometry is in a geographic CRS. Results from 'area' are likely incorrect. Use 'GeoSeries.to_crs()' to re-project geometries to a projected CRS before this operation.\n",
      "\n"
     ]
    },
    {
     "name": "stdout",
     "output_type": "stream",
     "text": [
      "48.2 s ± 544 ms per loop (mean ± std. dev. of 7 runs, 1 loop each)\n"
     ]
    },
    {
     "name": "stderr",
     "output_type": "stream",
     "text": [
      "<magic-timeit>:4: UserWarning: Geometry is in a geographic CRS. Results from 'area' are likely incorrect. Use 'GeoSeries.to_crs()' to re-project geometries to a projected CRS before this operation.\n",
      "\n"
     ]
    }
   ],
   "source": [
    "intersection_area = (\n",
    "    geometry_combined\n",
    "    # .loc[lambda df: df[\"geometry_from\"].intersects(df[\"geometry_to\"])] # THIS TAKES MUCH LONGER (3x), REMOVE\n",
    "    .assign(intersection_area=lambda df: df[\"geometry_from\"].intersection(df[\"geometry_to\"]).area).drop(\n",
    "        [\"geometry_from\", \"geometry_to\"], axis=1\n",
    "    )\n",
    ")\n",
    "intersection_area"
   ]
  },
  {
   "cell_type": "code",
   "execution_count": 14,
   "metadata": {},
   "outputs": [
    {
     "name": "stdout",
     "output_type": "stream",
     "text": [
      "shape: (25, 3)\n",
      "┌──────────────┬─────────────┬───────────────────┐\n",
      "│ federal_2022 ┆ SA1_2021    ┆ intersection_area │\n",
      "│ ---          ┆ ---         ┆ ---               │\n",
      "│ str          ┆ i64         ┆ f64               │\n",
      "╞══════════════╪═════════════╪═══════════════════╡\n",
      "│ Bean         ┆ 10102101217 ┆ 7.6340e-8         │\n",
      "│ Canberra     ┆ 10102100908 ┆ 5.5317e-8         │\n",
      "│ Canberra     ┆ 10102100909 ┆ 3.9356e-8         │\n",
      "│ Canberra     ┆ 10102100910 ┆ 3.6131e-9         │\n",
      "│ Canberra     ┆ 10102100927 ┆ 3.9933e-8         │\n",
      "│ …            ┆ …           ┆ …                 │\n",
      "│ Gilmore      ┆ 10102100707 ┆ 0.000002          │\n",
      "│ Gilmore      ┆ 10102100710 ┆ 0.000005          │\n",
      "│ Hume         ┆ 10102100701 ┆ 0.035891          │\n",
      "│ Hume         ┆ 10102100709 ┆ 0.000004          │\n",
      "│ Hume         ┆ 10102100710 ┆ 0.000343          │\n",
      "└──────────────┴─────────────┴───────────────────┘\n"
     ]
    },
    {
     "name": "stderr",
     "output_type": "stream",
     "text": [
      "/home/andre/git/private/electoralyze/packages/electoralyze/electoralyze/region/redistribute/mapping.py:176: UserWarning: Geometry is in a geographic CRS. Results from 'area' are likely incorrect. Use 'GeoSeries.to_crs()' to re-project geometries to a projected CRS before this operation.\n",
      "\n",
      "  .assign(intersection_area=lambda df: df[\"geometry_from\"].intersection(df[\"geometry_to\"]).area)\n"
     ]
    }
   ],
   "source": [
    "_get_intersection_area(\n",
    "    geometry_from=region.Federal2022.geometry,\n",
    "    geometry_to=region.SA1_2021.geometry.head(100),\n",
    ").pipe(print)"
   ]
  },
  {
   "cell_type": "code",
   "execution_count": 21,
   "metadata": {},
   "outputs": [
    {
     "data": {
      "text/html": [
       "<div><style>\n",
       ".dataframe > thead > tr,\n",
       ".dataframe > tbody > tr {\n",
       "  text-align: right;\n",
       "  white-space: pre-wrap;\n",
       "}\n",
       "</style>\n",
       "<small>shape: (2_359, 4)</small><table border=\"1\" class=\"dataframe\"><thead><tr><th>federal_2022</th><th>geometry</th><th>SA1_2021</th><th>geometry_right</th></tr><tr><td>str</td><td>f64</td><td>i64</td><td>binary</td></tr></thead><tbody><tr><td>&quot;Barton&quot;</td><td>1.8669e-7</td><td>11701132501</td><td>b&quot;\\x01\\x03\\x00\\x00\\x20\\xe6\\x10\\x00\\x00\\x01\\x00\\x00\\x00Y\\x00\\x00\\x00J\\xf9\\x19|e\\xe5b@x\\xcd\\xe8&quot;\\xb9\\xf6@\\xc0\\xcf3\\xd7\\x1f\\x8e\\xe5b@z\\x95xw\\x98\\xf6@\\xc0N\\xd2\\xa7\\xea\\x8f\\xe5b@\\x03\\x0c\\xdf&quot;…</td></tr><tr><td>&quot;Bean&quot;</td><td>7.6340e-8</td><td>10102101217</td><td>b&quot;\\x01\\x03\\x00\\x00\\x20\\xe6\\x10\\x00\\x00\\x01\\x00\\x00\\x007\\x00\\x00\\x00\\x14\\x10\\x1de\\xfb\\xa5b@\\x05\\x0e\\xc0_\\xfb\\xafA\\xc00\\x8d1\\xb5\\x8d\\xa6b@\\xc8\\xc7k\\xb6s\\xacA\\xc0Pj*`\\x9b\\xa6b@V\\x1c\\xd9&quot;…</td></tr><tr><td>&quot;Bean&quot;</td><td>9.1402e-8</td><td>10102101226</td><td>b&quot;\\x01\\x03\\x00\\x00\\x20\\xe6\\x10\\x00\\x00\\x01\\x00\\x00\\x00%\\x00\\x00\\x00\\x92`=\\x18\\x0d\\xa6b@\\x03%\\x1d\\xf7K\\xb0A\\xc0\\x9a%J=\\x17\\xa6b@`\\x9exj8\\xb0A\\xc01\\xce\\xc9$@\\xa6b@\\x09\\xc9\\x83&quot;…</td></tr><tr><td>&quot;Bean&quot;</td><td>0.000002</td><td>10102161133</td><td>b&quot;\\x01\\x03\\x00\\x00\\x20\\xe6\\x10\\x00\\x00\\x01\\x00\\x00\\x00\\xec\\x01\\x00\\x00\\xe9\\xa66\\xfc\\x92\\xa7b@\\xd1@\\xb1V\\x12\\xb5A\\xc0hB1\\xbc\\x8b\\xa7b@\\xfddV\\xa4\\x04\\xb5A\\xc0H=%x\\x83\\xa7b@B\\xeb\\x1e&quot;…</td></tr><tr><td>&quot;Bean&quot;</td><td>0.00001</td><td>10102161134</td><td>b&quot;\\x01\\x03\\x00\\x00\\x20\\xe6\\x10\\x00\\x00\\x01\\x00\\x00\\x00G\\x01\\x00\\x00\\x91\\xa1\\xe3\\x0c\\xa5\\xa3b@\\x04\\x10\\xe8O\\xed\\xcaA\\xc0\\xdb1\\xd6R\\xb8\\xa3b@\\x9e\\xf9\\xc0\\xef\\x0c\\xcbA\\xc0\\x10\\x16\\xe9G\\xf4\\xa3b@u\\xb8\\xeb&quot;…</td></tr><tr><td>&hellip;</td><td>&hellip;</td><td>&hellip;</td><td>&hellip;</td></tr><tr><td>&quot;Wright&quot;</td><td>0.000035</td><td>11202124723</td><td>b&quot;\\x01\\x03\\x00\\x00\\x20\\xe6\\x10\\x00\\x00\\x01\\x00\\x00\\x00\\x80\\x01\\x00\\x00\\x96X\\xa5Pk\\x18c@.\\x9a\\xfd/\\xeb_&lt;\\xc0\\x90\\xb6\\x8e\\xb1h\\x18c@\\xc1\\x87{\\x0b\\xc5_&lt;\\xc0_\\x0f\\xba_h\\x18c@//\\x19&quot;…</td></tr><tr><td>&quot;Wright&quot;</td><td>0.000014</td><td>11202124724</td><td>b&quot;\\x01\\x03\\x00\\x00\\x20\\xe6\\x10\\x00\\x00\\x01\\x00\\x00\\x00\\xd6\\x01\\x00\\x00{8\\xe1h\\xff\\x1dc@\\xa1\\x86\\x8as$]&lt;\\xc0CM\\xcc\\x85\\x02\\x1ec@I\\x9ab-\\x8e\\&lt;\\xc0\\xb8\\x09\\x87\\xc6\\x12\\x1ec@\\x87\\xb5\\xd8&quot;…</td></tr><tr><td>&quot;Wright&quot;</td><td>0.000011</td><td>11203125205</td><td>b&quot;\\x01\\x03\\x00\\x00\\x20\\xe6\\x10\\x00\\x00\\x01\\x00\\x00\\x00y\\x01\\x00\\x00.K\\xd6/\\x09$c@}\\x03x\\xa0\\xc8h&lt;\\xc0\\xf0c\\xd4\\x00\\x19$c@@\\x88b\\xc5#h&lt;\\xc0\\xbeFA\\x18\\x19$c@\\x08\\xbcy&quot;…</td></tr><tr><td>&quot;Wright&quot;</td><td>0.000022</td><td>11203125207</td><td>b&quot;\\x01\\x03\\x00\\x00\\x20\\xe6\\x10\\x00\\x00\\x01\\x00\\x00\\x00\\xe5\\x00\\x00\\x00\\xba\\xf2.\\xe4^%c@\\xbd\\xf4\\xd7\\xb5\\xf2F&lt;\\xc0\\x90\\xfa\\x96?l%c@\\xa52\\x8aW\\x8eF&lt;\\xc0Z\\x83\\x7fOy%c@\\xf2&quot;\\xaa&quot;…</td></tr><tr><td>&quot;Wright&quot;</td><td>0.000011</td><td>11203125215</td><td>b&quot;\\x01\\x03\\x00\\x00\\x20\\xe6\\x10\\x00\\x00\\x01\\x00\\x00\\x00\\xb2\\x00\\x00\\x00\\xef\\xef7!\\x81&#x27;c@&amp;j\\x0a\\xe8IC&lt;\\xc0\\x13]\\x9f,\\x89&#x27;c@\\x0fS,=^B&lt;\\xc0\\xd1K\\xcaB\\x88&#x27;c@\\xee\\xa9\\x1a&quot;…</td></tr></tbody></table></div>"
      ],
      "text/plain": [
       "shape: (2_359, 4)\n",
       "┌──────────────┬───────────┬─────────────┬─────────────────────────────────┐\n",
       "│ federal_2022 ┆ geometry  ┆ SA1_2021    ┆ geometry_right                  │\n",
       "│ ---          ┆ ---       ┆ ---         ┆ ---                             │\n",
       "│ str          ┆ f64       ┆ i64         ┆ binary                          │\n",
       "╞══════════════╪═══════════╪═════════════╪═════════════════════════════════╡\n",
       "│ Barton       ┆ 1.8669e-7 ┆ 11701132501 ┆ b\"\\x01\\x03\\x00\\x00\\x20\\xe6\\x10… │\n",
       "│ Bean         ┆ 7.6340e-8 ┆ 10102101217 ┆ b\"\\x01\\x03\\x00\\x00\\x20\\xe6\\x10… │\n",
       "│ Bean         ┆ 9.1402e-8 ┆ 10102101226 ┆ b\"\\x01\\x03\\x00\\x00\\x20\\xe6\\x10… │\n",
       "│ Bean         ┆ 0.000002  ┆ 10102161133 ┆ b\"\\x01\\x03\\x00\\x00\\x20\\xe6\\x10… │\n",
       "│ Bean         ┆ 0.00001   ┆ 10102161134 ┆ b\"\\x01\\x03\\x00\\x00\\x20\\xe6\\x10… │\n",
       "│ …            ┆ …         ┆ …           ┆ …                               │\n",
       "│ Wright       ┆ 0.000035  ┆ 11202124723 ┆ b\"\\x01\\x03\\x00\\x00\\x20\\xe6\\x10… │\n",
       "│ Wright       ┆ 0.000014  ┆ 11202124724 ┆ b\"\\x01\\x03\\x00\\x00\\x20\\xe6\\x10… │\n",
       "│ Wright       ┆ 0.000011  ┆ 11203125205 ┆ b\"\\x01\\x03\\x00\\x00\\x20\\xe6\\x10… │\n",
       "│ Wright       ┆ 0.000022  ┆ 11203125207 ┆ b\"\\x01\\x03\\x00\\x00\\x20\\xe6\\x10… │\n",
       "│ Wright       ┆ 0.000011  ┆ 11203125215 ┆ b\"\\x01\\x03\\x00\\x00\\x20\\xe6\\x10… │\n",
       "└──────────────┴───────────┴─────────────┴─────────────────────────────────┘"
      ]
     },
     "execution_count": 21,
     "metadata": {},
     "output_type": "execute_result"
    }
   ],
   "source": [
    "(\n",
    "    region.Federal2022.geometry.join(\n",
    "        region.SA1_2021.geometry.head(10000),\n",
    "        how=\"cross\",\n",
    "    )\n",
    "    .filter(st.geom(\"geometry\").st.overlaps(pl.col(\"geometry_right\")))\n",
    "    .with_columns(st.geom(\"geometry\").st.intersection(pl.col(\"geometry_right\")).st.area())\n",
    ")"
   ]
  },
  {
   "cell_type": "code",
   "execution_count": 22,
   "metadata": {},
   "outputs": [
    {
     "name": "stderr",
     "output_type": "stream",
     "text": [
      "/tmp/ipykernel_25022/3714484268.py:10: UserWarning: Geometry is in a geographic CRS. Results from 'area' are likely incorrect. Use 'GeoSeries.to_crs()' to re-project geometries to a projected CRS before this operation.\n",
      "\n",
      "  .assign(area=lambda df: df[\"geometry_x\"].intersection(df[\"geometry_y\"]).area)\n"
     ]
    },
    {
     "data": {
      "text/html": [
       "<div>\n",
       "<style scoped>\n",
       "    .dataframe tbody tr th:only-of-type {\n",
       "        vertical-align: middle;\n",
       "    }\n",
       "\n",
       "    .dataframe tbody tr th {\n",
       "        vertical-align: top;\n",
       "    }\n",
       "\n",
       "    .dataframe thead th {\n",
       "        text-align: right;\n",
       "    }\n",
       "</style>\n",
       "<table border=\"1\" class=\"dataframe\">\n",
       "  <thead>\n",
       "    <tr style=\"text-align: right;\">\n",
       "      <th></th>\n",
       "      <th>federal_2022</th>\n",
       "      <th>geometry_x</th>\n",
       "      <th>SA1_2021</th>\n",
       "      <th>geometry_y</th>\n",
       "      <th>area</th>\n",
       "    </tr>\n",
       "  </thead>\n",
       "  <tbody>\n",
       "    <tr>\n",
       "      <th>59994</th>\n",
       "      <td>Barton</td>\n",
       "      <td>POLYGON Z ((151.17424 -33.92497 0, 151.17381 -...</td>\n",
       "      <td>11701132501</td>\n",
       "      <td>POLYGON ((151.16864 -33.92752, 151.1736 -33.92...</td>\n",
       "      <td>1.866918e-07</td>\n",
       "    </tr>\n",
       "    <tr>\n",
       "      <th>70091</th>\n",
       "      <td>Bean</td>\n",
       "      <td>MULTIPOLYGON Z (((149.20634 -35.3459 0, 149.20...</td>\n",
       "      <td>10102101217</td>\n",
       "      <td>POLYGON ((149.18694 -35.37486, 149.2048 -35.34...</td>\n",
       "      <td>7.634010e-08</td>\n",
       "    </tr>\n",
       "    <tr>\n",
       "      <th>70100</th>\n",
       "      <td>Bean</td>\n",
       "      <td>MULTIPOLYGON Z (((149.20634 -35.3459 0, 149.20...</td>\n",
       "      <td>10102101226</td>\n",
       "      <td>POLYGON ((149.1891 -35.37732, 149.19034 -35.37...</td>\n",
       "      <td>9.140183e-08</td>\n",
       "    </tr>\n",
       "    <tr>\n",
       "      <th>70154</th>\n",
       "      <td>Bean</td>\n",
       "      <td>MULTIPOLYGON Z (((149.20634 -35.3459 0, 149.20...</td>\n",
       "      <td>10102161133</td>\n",
       "      <td>POLYGON ((149.23669 -35.41462, 149.23581 -35.4...</td>\n",
       "      <td>2.338824e-06</td>\n",
       "    </tr>\n",
       "    <tr>\n",
       "      <th>70155</th>\n",
       "      <td>Bean</td>\n",
       "      <td>MULTIPOLYGON Z (((149.20634 -35.3459 0, 149.20...</td>\n",
       "      <td>10102161134</td>\n",
       "      <td>POLYGON ((149.1139 -35.58537, 149.11625 -35.58...</td>\n",
       "      <td>9.686587e-06</td>\n",
       "    </tr>\n",
       "    <tr>\n",
       "      <th>...</th>\n",
       "      <td>...</td>\n",
       "      <td>...</td>\n",
       "      <td>...</td>\n",
       "      <td>...</td>\n",
       "      <td>...</td>\n",
       "    </tr>\n",
       "    <tr>\n",
       "      <th>1507165</th>\n",
       "      <td>Wright</td>\n",
       "      <td>POLYGON Z ((153.37012 -28.1064 0, 153.36976 -2...</td>\n",
       "      <td>11202124723</td>\n",
       "      <td>POLYGON ((152.7631 -28.37468, 152.76278 -28.37...</td>\n",
       "      <td>3.525346e-05</td>\n",
       "    </tr>\n",
       "    <tr>\n",
       "      <th>1507166</th>\n",
       "      <td>Wright</td>\n",
       "      <td>POLYGON Z ((153.37012 -28.1064 0, 153.36976 -2...</td>\n",
       "      <td>11202124724</td>\n",
       "      <td>POLYGON ((152.93743 -28.36384, 152.93781 -28.3...</td>\n",
       "      <td>1.424399e-05</td>\n",
       "    </tr>\n",
       "    <tr>\n",
       "      <th>1507320</th>\n",
       "      <td>Wright</td>\n",
       "      <td>POLYGON Z ((153.37012 -28.1064 0, 153.36976 -2...</td>\n",
       "      <td>11203125205</td>\n",
       "      <td>POLYGON ((153.12612 -28.40931, 153.12805 -28.4...</td>\n",
       "      <td>1.065659e-05</td>\n",
       "    </tr>\n",
       "    <tr>\n",
       "      <th>1507322</th>\n",
       "      <td>Wright</td>\n",
       "      <td>POLYGON Z ((153.37012 -28.1064 0, 153.36976 -2...</td>\n",
       "      <td>11203125207</td>\n",
       "      <td>POLYGON ((153.16783 -28.27714, 153.16946 -28.2...</td>\n",
       "      <td>2.166705e-05</td>\n",
       "    </tr>\n",
       "    <tr>\n",
       "      <th>1507330</th>\n",
       "      <td>Wright</td>\n",
       "      <td>POLYGON Z ((153.37012 -28.1064 0, 153.36976 -2...</td>\n",
       "      <td>11203125215</td>\n",
       "      <td>POLYGON ((153.23451 -28.26285, 153.23549 -28.2...</td>\n",
       "      <td>1.050016e-05</td>\n",
       "    </tr>\n",
       "  </tbody>\n",
       "</table>\n",
       "<p>2359 rows × 5 columns</p>\n",
       "</div>"
      ],
      "text/plain": [
       "        federal_2022                                         geometry_x  \\\n",
       "59994         Barton  POLYGON Z ((151.17424 -33.92497 0, 151.17381 -...   \n",
       "70091           Bean  MULTIPOLYGON Z (((149.20634 -35.3459 0, 149.20...   \n",
       "70100           Bean  MULTIPOLYGON Z (((149.20634 -35.3459 0, 149.20...   \n",
       "70154           Bean  MULTIPOLYGON Z (((149.20634 -35.3459 0, 149.20...   \n",
       "70155           Bean  MULTIPOLYGON Z (((149.20634 -35.3459 0, 149.20...   \n",
       "...              ...                                                ...   \n",
       "1507165       Wright  POLYGON Z ((153.37012 -28.1064 0, 153.36976 -2...   \n",
       "1507166       Wright  POLYGON Z ((153.37012 -28.1064 0, 153.36976 -2...   \n",
       "1507320       Wright  POLYGON Z ((153.37012 -28.1064 0, 153.36976 -2...   \n",
       "1507322       Wright  POLYGON Z ((153.37012 -28.1064 0, 153.36976 -2...   \n",
       "1507330       Wright  POLYGON Z ((153.37012 -28.1064 0, 153.36976 -2...   \n",
       "\n",
       "            SA1_2021                                         geometry_y  \\\n",
       "59994    11701132501  POLYGON ((151.16864 -33.92752, 151.1736 -33.92...   \n",
       "70091    10102101217  POLYGON ((149.18694 -35.37486, 149.2048 -35.34...   \n",
       "70100    10102101226  POLYGON ((149.1891 -35.37732, 149.19034 -35.37...   \n",
       "70154    10102161133  POLYGON ((149.23669 -35.41462, 149.23581 -35.4...   \n",
       "70155    10102161134  POLYGON ((149.1139 -35.58537, 149.11625 -35.58...   \n",
       "...              ...                                                ...   \n",
       "1507165  11202124723  POLYGON ((152.7631 -28.37468, 152.76278 -28.37...   \n",
       "1507166  11202124724  POLYGON ((152.93743 -28.36384, 152.93781 -28.3...   \n",
       "1507320  11203125205  POLYGON ((153.12612 -28.40931, 153.12805 -28.4...   \n",
       "1507322  11203125207  POLYGON ((153.16783 -28.27714, 153.16946 -28.2...   \n",
       "1507330  11203125215  POLYGON ((153.23451 -28.26285, 153.23549 -28.2...   \n",
       "\n",
       "                 area  \n",
       "59994    1.866918e-07  \n",
       "70091    7.634010e-08  \n",
       "70100    9.140183e-08  \n",
       "70154    2.338824e-06  \n",
       "70155    9.686587e-06  \n",
       "...               ...  \n",
       "1507165  3.525346e-05  \n",
       "1507166  1.424399e-05  \n",
       "1507320  1.065659e-05  \n",
       "1507322  2.166705e-05  \n",
       "1507330  1.050016e-05  \n",
       "\n",
       "[2359 rows x 5 columns]"
      ]
     },
     "execution_count": 22,
     "metadata": {},
     "output_type": "execute_result"
    }
   ],
   "source": [
    "(\n",
    "    region.Federal2022.geometry.pipe(to_geopandas)\n",
    "    .merge(\n",
    "        region.SA1_2021.geometry.head(10000).pipe(to_geopandas),\n",
    "        how=\"cross\",\n",
    "    )\n",
    "    # .filter(st.geom(\"geometry\").st.overlaps(pl.col(\"geometry_right\")))\n",
    "    # .with_columns(st.geom(\"geometry\").st.intersection(pl.col(\"geometry_right\")).st.area())\n",
    "    .loc[lambda df: df[\"geometry_x\"].overlaps(df[\"geometry_y\"])]\n",
    "    .assign(area=lambda df: df[\"geometry_x\"].intersection(df[\"geometry_y\"]).area)\n",
    ")"
   ]
  },
  {
   "cell_type": "code",
   "execution_count": null,
   "metadata": {},
   "outputs": [],
   "source": [
    "(\n",
    "    region.Federal2022.geometry.pipe(to_geopandas)\n",
    "    .merge(\n",
    "        region.SA1_2021.geometry.head(100).pipe(to_geopandas),\n",
    "        how=\"cross\",\n",
    "    )\n",
    "    # .filter(st.geom(\"geometry\").st.overlaps(pl.col(\"geometry_right\")))\n",
    "    # .with_columns(st.geom(\"geometry\").st.intersection(pl.col(\"geometry_right\")).st.area())\n",
    "    .loc[lambda df: df[\"geometry_x\"].overlaps(df[\"geometry_y\"])]\n",
    "    .assign(area=lambda df: df[\"geometry_x\"].intersection(df[\"geometry_y\"]).area)\n",
    ")"
   ]
  },
  {
   "cell_type": "code",
   "execution_count": 21,
   "metadata": {},
   "outputs": [
    {
     "name": "stderr",
     "output_type": "stream",
     "text": [
      "/home/andre/git/private/electoralyze/packages/electoralyze/electoralyze/region/redistribute/mapping.py:201: UserWarning: Geometry is in a geographic CRS. Results from 'area' are likely incorrect. Use 'GeoSeries.to_crs()' to re-project geometries to a projected CRS before this operation.\n",
      "\n",
      "  .assign(intersection_area=lambda df: df[\"geometry_from\"].intersection(df[\"geometry_to\"]).area)\n"
     ]
    },
    {
     "data": {
      "text/html": [
       "<div><style>\n",
       ".dataframe > thead > tr,\n",
       ".dataframe > tbody > tr {\n",
       "  text-align: right;\n",
       "  white-space: pre-wrap;\n",
       "}\n",
       "</style>\n",
       "<small>shape: (273, 3)</small><table border=\"1\" class=\"dataframe\"><thead><tr><th>federal_2022</th><th>SA1_2021</th><th>mapping</th></tr><tr><td>str</td><td>i64</td><td>f64</td></tr></thead><tbody><tr><td>&quot;Bean&quot;</td><td>10102101217</td><td>7.6340e-8</td></tr><tr><td>&quot;Canberra&quot;</td><td>10102100908</td><td>5.5317e-8</td></tr><tr><td>&quot;Canberra&quot;</td><td>10102100909</td><td>3.9356e-8</td></tr><tr><td>&quot;Canberra&quot;</td><td>10102100910</td><td>3.6131e-9</td></tr><tr><td>&quot;Canberra&quot;</td><td>10102100927</td><td>3.9933e-8</td></tr><tr><td>&hellip;</td><td>&hellip;</td><td>&hellip;</td></tr><tr><td>null</td><td>10102101221</td><td>0.000016</td></tr><tr><td>null</td><td>10102101222</td><td>0.00002</td></tr><tr><td>null</td><td>10102101223</td><td>0.000036</td></tr><tr><td>null</td><td>10102101224</td><td>0.000033</td></tr><tr><td>null</td><td>10102101225</td><td>0.000141</td></tr></tbody></table></div>"
      ],
      "text/plain": [
       "shape: (273, 3)\n",
       "┌──────────────┬─────────────┬───────────┐\n",
       "│ federal_2022 ┆ SA1_2021    ┆ mapping   │\n",
       "│ ---          ┆ ---         ┆ ---       │\n",
       "│ str          ┆ i64         ┆ f64       │\n",
       "╞══════════════╪═════════════╪═══════════╡\n",
       "│ Bean         ┆ 10102101217 ┆ 7.6340e-8 │\n",
       "│ Canberra     ┆ 10102100908 ┆ 5.5317e-8 │\n",
       "│ Canberra     ┆ 10102100909 ┆ 3.9356e-8 │\n",
       "│ Canberra     ┆ 10102100910 ┆ 3.6131e-9 │\n",
       "│ Canberra     ┆ 10102100927 ┆ 3.9933e-8 │\n",
       "│ …            ┆ …           ┆ …         │\n",
       "│ null         ┆ 10102101221 ┆ 0.000016  │\n",
       "│ null         ┆ 10102101222 ┆ 0.00002   │\n",
       "│ null         ┆ 10102101223 ┆ 0.000036  │\n",
       "│ null         ┆ 10102101224 ┆ 0.000033  │\n",
       "│ null         ┆ 10102101225 ┆ 0.000141  │\n",
       "└──────────────┴─────────────┴───────────┘"
      ]
     },
     "execution_count": 21,
     "metadata": {},
     "output_type": "execute_result"
    }
   ],
   "source": [
    "some_intersection = _create_intersection_area_mapping(\n",
    "    geometry_from=region.Federal2022.geometry, geometry_to=region.SA1_2021.geometry.head(100)\n",
    ")\n",
    "some_intersection"
   ]
  },
  {
   "cell_type": "code",
   "execution_count": null,
   "metadata": {},
   "outputs": [],
   "source": [
    "target_sa1 = 10103101401\n",
    "target_sa1 = 10106154239\n",
    "region.SA1_2021.geometry.filter(pl.col(region.SA1_2021.id) == target_sa1).select(st.geom(\"geometry\").st.area())"
   ]
  },
  {
   "cell_type": "code",
   "execution_count": null,
   "metadata": {},
   "outputs": [],
   "source": [
    "(\n",
    "    region.SA1_2021.geometry.filter(pl.col(region.SA1_2021.id) == target_sa1)\n",
    "    .join(\n",
    "        region.Federal2022.geometry.filter(pl.col(region.Federal2022.id).is_in([\"Eden-Monaro\", \"Hume\"])),\n",
    "        how=\"cross\",\n",
    "    )\n",
    "    .select(st.geom(\"geometry\").st.intersection(pl.col(\"geometry_right\")))\n",
    "    # .head(1)\n",
    "    # .tail(1)\n",
    "    .pipe(to_geopandas)\n",
    "    .explore()\n",
    ")"
   ]
  },
  {
   "cell_type": "code",
   "execution_count": null,
   "metadata": {},
   "outputs": [],
   "source": [
    "some_intersection.filter(pl.col(region.SA1_2021.id) == target_sa1)"
   ]
  },
  {
   "cell_type": "code",
   "execution_count": null,
   "metadata": {},
   "outputs": [],
   "source": [
    "_create_intersection_area_mapping(\n",
    "    geometry_from=region.Federal2022.get_raw_geometry(), geometry_to=region.SA1_2021.get_raw_geometry().head(100)\n",
    ")"
   ]
  },
  {
   "cell_type": "code",
   "execution_count": 22,
   "metadata": {},
   "outputs": [
    {
     "name": "stdout",
     "output_type": "stream",
     "text": [
      "Extracting...\n",
      "Transforming...\n",
      "Extracting...\n",
      "Transforming...\n"
     ]
    },
    {
     "ename": "KeyboardInterrupt",
     "evalue": "",
     "output_type": "error",
     "traceback": [
      "\u001b[0;31m---------------------------------------------------------------------------\u001b[0m",
      "\u001b[0;31mKeyboardInterrupt\u001b[0m                         Traceback (most recent call last)",
      "Cell \u001b[0;32mIn[22], line 1\u001b[0m\n\u001b[0;32m----> 1\u001b[0m intersection \u001b[38;5;241m=\u001b[39m \u001b[43mget_region_mapping_base\u001b[49m\u001b[43m(\u001b[49m\n\u001b[1;32m      2\u001b[0m \u001b[43m    \u001b[49m\u001b[43mregion_from\u001b[49m\u001b[38;5;241;43m=\u001b[39;49m\u001b[43mregion\u001b[49m\u001b[38;5;241;43m.\u001b[39;49m\u001b[43mFederal2022\u001b[49m\u001b[43m,\u001b[49m\n\u001b[1;32m      3\u001b[0m \u001b[43m    \u001b[49m\u001b[43mregion_to\u001b[49m\u001b[38;5;241;43m=\u001b[39;49m\u001b[43mregion\u001b[49m\u001b[38;5;241;43m.\u001b[39;49m\u001b[43mSA1_2021\u001b[49m\u001b[43m,\u001b[49m\n\u001b[1;32m      4\u001b[0m \u001b[43m    \u001b[49m\u001b[43mmapping_method\u001b[49m\u001b[38;5;241;43m=\u001b[39;49m\u001b[38;5;124;43m\"\u001b[39;49m\u001b[38;5;124;43mintersection_area\u001b[39;49m\u001b[38;5;124;43m\"\u001b[39;49m\u001b[43m,\u001b[49m\n\u001b[1;32m      5\u001b[0m \u001b[43m    \u001b[49m\u001b[43mredistribute_with_full\u001b[49m\u001b[38;5;241;43m=\u001b[39;49m\u001b[38;5;28;43;01mTrue\u001b[39;49;00m\u001b[43m,\u001b[49m\n\u001b[1;32m      6\u001b[0m \u001b[43m    \u001b[49m\u001b[43msave_data\u001b[49m\u001b[38;5;241;43m=\u001b[39;49m\u001b[38;5;28;43;01mTrue\u001b[39;49;00m\u001b[43m,\u001b[49m\n\u001b[1;32m      7\u001b[0m \u001b[43m    \u001b[49m\u001b[43mforce_new\u001b[49m\u001b[38;5;241;43m=\u001b[39;49m\u001b[38;5;28;43;01mTrue\u001b[39;49;00m\u001b[43m,\u001b[49m\n\u001b[1;32m      8\u001b[0m \u001b[43m)\u001b[49m\n\u001b[1;32m      9\u001b[0m intersection\n",
      "File \u001b[0;32m~/git/private/electoralyze/packages/electoralyze/electoralyze/region/redistribute/mapping.py:85\u001b[0m, in \u001b[0;36mget_region_mapping_base\u001b[0;34m(region_from, region_to, mapping_method, redistribute_with_full, save_data, force_new)\u001b[0m\n\u001b[1;32m     83\u001b[0m \u001b[38;5;28;01mmatch\u001b[39;00m mapping_method:\n\u001b[1;32m     84\u001b[0m     \u001b[38;5;28;01mcase\u001b[39;00m \u001b[38;5;124m\"\u001b[39m\u001b[38;5;124mintersection_area\u001b[39m\u001b[38;5;124m\"\u001b[39m:\n\u001b[0;32m---> 85\u001b[0m         region_mapping \u001b[38;5;241m=\u001b[39m \u001b[43m_create_intersection_area_mapping\u001b[49m\u001b[43m(\u001b[49m\u001b[43mgeometry_from\u001b[49m\u001b[43m,\u001b[49m\u001b[43m \u001b[49m\u001b[43mgeometry_to\u001b[49m\u001b[43m)\u001b[49m\n\u001b[1;32m     86\u001b[0m     \u001b[38;5;28;01mcase\u001b[39;00m \u001b[38;5;124m\"\u001b[39m\u001b[38;5;124mcentroid_distance\u001b[39m\u001b[38;5;124m\"\u001b[39m:\n\u001b[1;32m     87\u001b[0m         region_mapping \u001b[38;5;241m=\u001b[39m _create_centroid_distance_mapping(geometry_from, geometry_to)\n",
      "File \u001b[0;32m~/git/private/electoralyze/packages/electoralyze/electoralyze/region/redistribute/mapping.py:132\u001b[0m, in \u001b[0;36m_create_intersection_area_mapping\u001b[0;34m(geometry_from, geometry_to)\u001b[0m\n\u001b[1;32m    105\u001b[0m \u001b[38;5;250m\u001b[39m\u001b[38;5;124;03m\"\"\"Create mapping from one region to another based on intersection area.\u001b[39;00m\n\u001b[1;32m    106\u001b[0m \n\u001b[1;32m    107\u001b[0m \u001b[38;5;124;03mReturns\u001b[39;00m\n\u001b[0;32m   (...)\u001b[0m\n\u001b[1;32m    129\u001b[0m \u001b[38;5;124;03m```\u001b[39;00m\n\u001b[1;32m    130\u001b[0m \u001b[38;5;124;03m\"\"\"\u001b[39;00m\n\u001b[1;32m    131\u001b[0m logging\u001b[38;5;241m.\u001b[39minfo(\u001b[38;5;124m\"\u001b[39m\u001b[38;5;124mJoining geometries and finding intersection area.\u001b[39m\u001b[38;5;124m\"\u001b[39m)\n\u001b[0;32m--> 132\u001b[0m intersection_area \u001b[38;5;241m=\u001b[39m \u001b[43m_get_intersection_area\u001b[49m\u001b[43m(\u001b[49m\u001b[43mgeometry_from\u001b[49m\u001b[43m,\u001b[49m\u001b[43m \u001b[49m\u001b[43mgeometry_to\u001b[49m\u001b[43m)\u001b[49m\n\u001b[1;32m    134\u001b[0m logging\u001b[38;5;241m.\u001b[39minfo(\u001b[38;5;124m\"\u001b[39m\u001b[38;5;124mFinding remaining areas.\u001b[39m\u001b[38;5;124m\"\u001b[39m)\n\u001b[1;32m    135\u001b[0m remaining_area_for_from \u001b[38;5;241m=\u001b[39m _get_remaining_area(\n\u001b[1;32m    136\u001b[0m     region_id\u001b[38;5;241m=\u001b[39m\u001b[38;5;28mlist\u001b[39m(\u001b[38;5;28mset\u001b[39m(geometry_from\u001b[38;5;241m.\u001b[39mcolumns) \u001b[38;5;241m-\u001b[39m {\u001b[38;5;124m\"\u001b[39m\u001b[38;5;124mgeometry\u001b[39m\u001b[38;5;124m\"\u001b[39m})[\u001b[38;5;241m0\u001b[39m],\n\u001b[1;32m    137\u001b[0m     geometry\u001b[38;5;241m=\u001b[39mgeometry_from,\n\u001b[1;32m    138\u001b[0m     intersection_area\u001b[38;5;241m=\u001b[39mintersection_area,\n\u001b[1;32m    139\u001b[0m )\n",
      "File \u001b[0;32m~/git/private/electoralyze/packages/electoralyze/electoralyze/region/redistribute/mapping.py:199\u001b[0m, in \u001b[0;36m_get_intersection_area\u001b[0;34m(geometry_from, geometry_to)\u001b[0m\n\u001b[1;32m    188\u001b[0m geometry_combined \u001b[38;5;241m=\u001b[39m (\n\u001b[1;32m    189\u001b[0m     geometry_from\u001b[38;5;241m.\u001b[39mpipe(to_geopandas)\u001b[38;5;241m.\u001b[39mrename(columns\u001b[38;5;241m=\u001b[39m{\u001b[38;5;124m\"\u001b[39m\u001b[38;5;124mgeometry\u001b[39m\u001b[38;5;124m\"\u001b[39m: \u001b[38;5;124m\"\u001b[39m\u001b[38;5;124mgeometry_from\u001b[39m\u001b[38;5;124m\"\u001b[39m})\n\u001b[1;32m    190\u001b[0m     \u001b[38;5;241m.\u001b[39mmerge(\n\u001b[1;32m    191\u001b[0m     geometry_to\u001b[38;5;241m.\u001b[39mpipe(to_geopandas)\u001b[38;5;241m.\u001b[39mrename(columns\u001b[38;5;241m=\u001b[39m{\u001b[38;5;124m\"\u001b[39m\u001b[38;5;124mgeometry\u001b[39m\u001b[38;5;124m\"\u001b[39m: \u001b[38;5;124m\"\u001b[39m\u001b[38;5;124mgeometry_to\u001b[39m\u001b[38;5;124m\"\u001b[39m}), how\u001b[38;5;241m=\u001b[39m\u001b[38;5;124m\"\u001b[39m\u001b[38;5;124mcross\u001b[39m\u001b[38;5;124m\"\u001b[39m\n\u001b[1;32m    192\u001b[0m )\n\u001b[1;32m    193\u001b[0m )\n\u001b[1;32m    194\u001b[0m \u001b[38;5;66;03m# intersection_area = geometry_combined.select(\u001b[39;00m\n\u001b[1;32m    195\u001b[0m \u001b[38;5;66;03m#     pl.exclude(\"geometry_from\", \"geometry_to\"),\u001b[39;00m\n\u001b[1;32m    196\u001b[0m \u001b[38;5;66;03m#     st.geom(\"geometry_from\").st.intersection(st.geom(\"geometry_to\")).st.area().alias(\"intersection_area\"),\u001b[39;00m\n\u001b[1;32m    197\u001b[0m \u001b[38;5;66;03m# )\u001b[39;00m\n\u001b[1;32m    198\u001b[0m intersection_area \u001b[38;5;241m=\u001b[39m (\n\u001b[0;32m--> 199\u001b[0m     geometry_combined\n\u001b[1;32m    200\u001b[0m     \u001b[38;5;66;03m# .loc[lambda df: df[\"geometry_from\"].intersects(df[\"geometry_to\"], align=True)]\u001b[39;00m\n\u001b[1;32m    201\u001b[0m     \u001b[38;5;241m.\u001b[39massign(intersection_area\u001b[38;5;241m=\u001b[39m\u001b[38;5;28;01mlambda\u001b[39;00m df: df[\u001b[38;5;124m\"\u001b[39m\u001b[38;5;124mgeometry_from\u001b[39m\u001b[38;5;124m\"\u001b[39m]\u001b[38;5;241m.\u001b[39mintersection(df[\u001b[38;5;124m\"\u001b[39m\u001b[38;5;124mgeometry_to\u001b[39m\u001b[38;5;124m\"\u001b[39m])\u001b[38;5;241m.\u001b[39marea)\n\u001b[1;32m    202\u001b[0m     \u001b[38;5;241m.\u001b[39mdrop([\u001b[38;5;124m\"\u001b[39m\u001b[38;5;124mgeometry_from\u001b[39m\u001b[38;5;124m\"\u001b[39m, \u001b[38;5;124m\"\u001b[39m\u001b[38;5;124mgeometry_to\u001b[39m\u001b[38;5;124m\"\u001b[39m], axis\u001b[38;5;241m=\u001b[39m\u001b[38;5;241m1\u001b[39m)\n\u001b[1;32m    203\u001b[0m     \u001b[38;5;241m.\u001b[39mpipe(pl\u001b[38;5;241m.\u001b[39mDataFrame)\n\u001b[1;32m    204\u001b[0m )\n\u001b[1;32m    206\u001b[0m \u001b[38;5;28;01mreturn\u001b[39;00m intersection_area\n",
      "File \u001b[0;32m~/git/private/electoralyze/.pixi/envs/default/lib/python3.13/site-packages/pandas/core/indexing.py:1189\u001b[0m, in \u001b[0;36m_LocationIndexer.__getitem__\u001b[0;34m(self, key)\u001b[0m\n\u001b[1;32m   1185\u001b[0m \u001b[38;5;28;01melse\u001b[39;00m:\n\u001b[1;32m   1186\u001b[0m     \u001b[38;5;66;03m# we by definition only have the 0th axis\u001b[39;00m\n\u001b[1;32m   1187\u001b[0m     axis \u001b[38;5;241m=\u001b[39m \u001b[38;5;28mself\u001b[39m\u001b[38;5;241m.\u001b[39maxis \u001b[38;5;129;01mor\u001b[39;00m \u001b[38;5;241m0\u001b[39m\n\u001b[0;32m-> 1189\u001b[0m     maybe_callable \u001b[38;5;241m=\u001b[39m \u001b[43mcom\u001b[49m\u001b[38;5;241;43m.\u001b[39;49m\u001b[43mapply_if_callable\u001b[49m\u001b[43m(\u001b[49m\u001b[43mkey\u001b[49m\u001b[43m,\u001b[49m\u001b[43m \u001b[49m\u001b[38;5;28;43mself\u001b[39;49m\u001b[38;5;241;43m.\u001b[39;49m\u001b[43mobj\u001b[49m\u001b[43m)\u001b[49m\n\u001b[1;32m   1190\u001b[0m     maybe_callable \u001b[38;5;241m=\u001b[39m \u001b[38;5;28mself\u001b[39m\u001b[38;5;241m.\u001b[39m_check_deprecated_callable_usage(key, maybe_callable)\n\u001b[1;32m   1191\u001b[0m     \u001b[38;5;28;01mreturn\u001b[39;00m \u001b[38;5;28mself\u001b[39m\u001b[38;5;241m.\u001b[39m_getitem_axis(maybe_callable, axis\u001b[38;5;241m=\u001b[39maxis)\n",
      "File \u001b[0;32m~/git/private/electoralyze/.pixi/envs/default/lib/python3.13/site-packages/pandas/core/common.py:384\u001b[0m, in \u001b[0;36mapply_if_callable\u001b[0;34m(maybe_callable, obj, **kwargs)\u001b[0m\n\u001b[1;32m    373\u001b[0m \u001b[38;5;250m\u001b[39m\u001b[38;5;124;03m\"\"\"\u001b[39;00m\n\u001b[1;32m    374\u001b[0m \u001b[38;5;124;03mEvaluate possibly callable input using obj and kwargs if it is callable,\u001b[39;00m\n\u001b[1;32m    375\u001b[0m \u001b[38;5;124;03motherwise return as it is.\u001b[39;00m\n\u001b[0;32m   (...)\u001b[0m\n\u001b[1;32m    381\u001b[0m \u001b[38;5;124;03m**kwargs\u001b[39;00m\n\u001b[1;32m    382\u001b[0m \u001b[38;5;124;03m\"\"\"\u001b[39;00m\n\u001b[1;32m    383\u001b[0m \u001b[38;5;28;01mif\u001b[39;00m \u001b[38;5;28mcallable\u001b[39m(maybe_callable):\n\u001b[0;32m--> 384\u001b[0m     \u001b[38;5;28;01mreturn\u001b[39;00m \u001b[43mmaybe_callable\u001b[49m\u001b[43m(\u001b[49m\u001b[43mobj\u001b[49m\u001b[43m,\u001b[49m\u001b[43m \u001b[49m\u001b[38;5;241;43m*\u001b[39;49m\u001b[38;5;241;43m*\u001b[39;49m\u001b[43mkwargs\u001b[49m\u001b[43m)\u001b[49m\n\u001b[1;32m    386\u001b[0m \u001b[38;5;28;01mreturn\u001b[39;00m maybe_callable\n",
      "File \u001b[0;32m~/git/private/electoralyze/packages/electoralyze/electoralyze/region/redistribute/mapping.py:200\u001b[0m, in \u001b[0;36m<lambda>\u001b[0;34m(df)\u001b[0m\n\u001b[1;32m    188\u001b[0m geometry_combined \u001b[38;5;241m=\u001b[39m (\n\u001b[1;32m    189\u001b[0m     geometry_from\u001b[38;5;241m.\u001b[39mpipe(to_geopandas)\u001b[38;5;241m.\u001b[39mrename(columns\u001b[38;5;241m=\u001b[39m{\u001b[38;5;124m\"\u001b[39m\u001b[38;5;124mgeometry\u001b[39m\u001b[38;5;124m\"\u001b[39m: \u001b[38;5;124m\"\u001b[39m\u001b[38;5;124mgeometry_from\u001b[39m\u001b[38;5;124m\"\u001b[39m})\n\u001b[1;32m    190\u001b[0m     \u001b[38;5;241m.\u001b[39mmerge(\n\u001b[1;32m    191\u001b[0m     geometry_to\u001b[38;5;241m.\u001b[39mpipe(to_geopandas)\u001b[38;5;241m.\u001b[39mrename(columns\u001b[38;5;241m=\u001b[39m{\u001b[38;5;124m\"\u001b[39m\u001b[38;5;124mgeometry\u001b[39m\u001b[38;5;124m\"\u001b[39m: \u001b[38;5;124m\"\u001b[39m\u001b[38;5;124mgeometry_to\u001b[39m\u001b[38;5;124m\"\u001b[39m}), how\u001b[38;5;241m=\u001b[39m\u001b[38;5;124m\"\u001b[39m\u001b[38;5;124mcross\u001b[39m\u001b[38;5;124m\"\u001b[39m\n\u001b[1;32m    192\u001b[0m )\n\u001b[1;32m    193\u001b[0m )\n\u001b[1;32m    194\u001b[0m \u001b[38;5;66;03m# intersection_area = geometry_combined.select(\u001b[39;00m\n\u001b[1;32m    195\u001b[0m \u001b[38;5;66;03m#     pl.exclude(\"geometry_from\", \"geometry_to\"),\u001b[39;00m\n\u001b[1;32m    196\u001b[0m \u001b[38;5;66;03m#     st.geom(\"geometry_from\").st.intersection(st.geom(\"geometry_to\")).st.area().alias(\"intersection_area\"),\u001b[39;00m\n\u001b[1;32m    197\u001b[0m \u001b[38;5;66;03m# )\u001b[39;00m\n\u001b[1;32m    198\u001b[0m intersection_area \u001b[38;5;241m=\u001b[39m (\n\u001b[1;32m    199\u001b[0m     geometry_combined\n\u001b[0;32m--> 200\u001b[0m     \u001b[38;5;66;03m# .loc[lambda df: df[\"geometry_from\"].intersects(df[\"geometry_to\"], align=True)]\u001b[39;00m\n\u001b[1;32m    201\u001b[0m     \u001b[38;5;241m.\u001b[39massign(intersection_area\u001b[38;5;241m=\u001b[39m\u001b[38;5;28;01mlambda\u001b[39;00m df: df[\u001b[38;5;124m\"\u001b[39m\u001b[38;5;124mgeometry_from\u001b[39m\u001b[38;5;124m\"\u001b[39m]\u001b[38;5;241m.\u001b[39mintersection(df[\u001b[38;5;124m\"\u001b[39m\u001b[38;5;124mgeometry_to\u001b[39m\u001b[38;5;124m\"\u001b[39m])\u001b[38;5;241m.\u001b[39marea)\n\u001b[1;32m    202\u001b[0m     \u001b[38;5;241m.\u001b[39mdrop([\u001b[38;5;124m\"\u001b[39m\u001b[38;5;124mgeometry_from\u001b[39m\u001b[38;5;124m\"\u001b[39m, \u001b[38;5;124m\"\u001b[39m\u001b[38;5;124mgeometry_to\u001b[39m\u001b[38;5;124m\"\u001b[39m], axis\u001b[38;5;241m=\u001b[39m\u001b[38;5;241m1\u001b[39m)\n\u001b[1;32m    203\u001b[0m     \u001b[38;5;241m.\u001b[39mpipe(pl\u001b[38;5;241m.\u001b[39mDataFrame)\n\u001b[1;32m    204\u001b[0m )\n\u001b[1;32m    206\u001b[0m \u001b[38;5;28;01mreturn\u001b[39;00m intersection_area\n",
      "File \u001b[0;32m~/git/private/electoralyze/.pixi/envs/default/lib/python3.13/site-packages/geopandas/base.py:3217\u001b[0m, in \u001b[0;36mGeoPandasBase.overlaps\u001b[0;34m(self, other, align)\u001b[0m\n\u001b[1;32m   3108\u001b[0m \u001b[38;5;28;01mdef\u001b[39;00m \u001b[38;5;21moverlaps\u001b[39m(\u001b[38;5;28mself\u001b[39m, other, align\u001b[38;5;241m=\u001b[39m\u001b[38;5;28;01mNone\u001b[39;00m):\n\u001b[1;32m   3109\u001b[0m \u001b[38;5;250m    \u001b[39m\u001b[38;5;124;03m\"\"\"Returns True for all aligned geometries that overlap *other*, else False.\u001b[39;00m\n\u001b[1;32m   3110\u001b[0m \n\u001b[1;32m   3111\u001b[0m \u001b[38;5;124;03m    Geometries overlaps if they have more than one but not all\u001b[39;00m\n\u001b[0;32m   (...)\u001b[0m\n\u001b[1;32m   3215\u001b[0m \n\u001b[1;32m   3216\u001b[0m \u001b[38;5;124;03m    \"\"\"\u001b[39;00m\n\u001b[0;32m-> 3217\u001b[0m     \u001b[38;5;28;01mreturn\u001b[39;00m \u001b[43m_binary_op\u001b[49m\u001b[43m(\u001b[49m\u001b[38;5;124;43m\"\u001b[39;49m\u001b[38;5;124;43moverlaps\u001b[39;49m\u001b[38;5;124;43m\"\u001b[39;49m\u001b[43m,\u001b[49m\u001b[43m \u001b[49m\u001b[38;5;28;43mself\u001b[39;49m\u001b[43m,\u001b[49m\u001b[43m \u001b[49m\u001b[43mother\u001b[49m\u001b[43m,\u001b[49m\u001b[43m \u001b[49m\u001b[43malign\u001b[49m\u001b[43m)\u001b[49m\n",
      "File \u001b[0;32m~/git/private/electoralyze/.pixi/envs/default/lib/python3.13/site-packages/geopandas/base.py:76\u001b[0m, in \u001b[0;36m_binary_op\u001b[0;34m(op, this, other, align, *args, **kwargs)\u001b[0m\n\u001b[1;32m     73\u001b[0m \u001b[38;5;28;01mdef\u001b[39;00m \u001b[38;5;21m_binary_op\u001b[39m(op, this, other, align, \u001b[38;5;241m*\u001b[39margs, \u001b[38;5;241m*\u001b[39m\u001b[38;5;241m*\u001b[39mkwargs):\n\u001b[1;32m     74\u001b[0m     \u001b[38;5;66;03m# type: (str, GeoSeries, GeoSeries, args/kwargs) -> Series[bool/float]\u001b[39;00m\n\u001b[1;32m     75\u001b[0m \u001b[38;5;250m    \u001b[39m\u001b[38;5;124;03m\"\"\"Binary operation on GeoSeries objects that returns a Series\"\"\"\u001b[39;00m\n\u001b[0;32m---> 76\u001b[0m     data, index \u001b[38;5;241m=\u001b[39m \u001b[43m_delegate_binary_method\u001b[49m\u001b[43m(\u001b[49m\u001b[43mop\u001b[49m\u001b[43m,\u001b[49m\u001b[43m \u001b[49m\u001b[43mthis\u001b[49m\u001b[43m,\u001b[49m\u001b[43m \u001b[49m\u001b[43mother\u001b[49m\u001b[43m,\u001b[49m\u001b[43m \u001b[49m\u001b[43malign\u001b[49m\u001b[43m,\u001b[49m\u001b[43m \u001b[49m\u001b[38;5;241;43m*\u001b[39;49m\u001b[43margs\u001b[49m\u001b[43m,\u001b[49m\u001b[43m \u001b[49m\u001b[38;5;241;43m*\u001b[39;49m\u001b[38;5;241;43m*\u001b[39;49m\u001b[43mkwargs\u001b[49m\u001b[43m)\u001b[49m\n\u001b[1;32m     77\u001b[0m     \u001b[38;5;28;01mreturn\u001b[39;00m Series(data, index\u001b[38;5;241m=\u001b[39mindex)\n",
      "File \u001b[0;32m~/git/private/electoralyze/.pixi/envs/default/lib/python3.13/site-packages/geopandas/base.py:60\u001b[0m, in \u001b[0;36m_delegate_binary_method\u001b[0;34m(op, this, other, align, *args, **kwargs)\u001b[0m\n\u001b[1;32m     57\u001b[0m \u001b[38;5;28;01melse\u001b[39;00m:\n\u001b[1;32m     58\u001b[0m     \u001b[38;5;28;01mraise\u001b[39;00m \u001b[38;5;167;01mTypeError\u001b[39;00m(\u001b[38;5;28mtype\u001b[39m(this), \u001b[38;5;28mtype\u001b[39m(other))\n\u001b[0;32m---> 60\u001b[0m data \u001b[38;5;241m=\u001b[39m \u001b[38;5;28;43mgetattr\u001b[39;49m\u001b[43m(\u001b[49m\u001b[43ma_this\u001b[49m\u001b[43m,\u001b[49m\u001b[43m \u001b[49m\u001b[43mop\u001b[49m\u001b[43m)\u001b[49m\u001b[43m(\u001b[49m\u001b[43mother\u001b[49m\u001b[43m,\u001b[49m\u001b[43m \u001b[49m\u001b[38;5;241;43m*\u001b[39;49m\u001b[43margs\u001b[49m\u001b[43m,\u001b[49m\u001b[43m \u001b[49m\u001b[38;5;241;43m*\u001b[39;49m\u001b[38;5;241;43m*\u001b[39;49m\u001b[43mkwargs\u001b[49m\u001b[43m)\u001b[49m\n\u001b[1;32m     61\u001b[0m \u001b[38;5;28;01mreturn\u001b[39;00m data, this\u001b[38;5;241m.\u001b[39mindex\n",
      "File \u001b[0;32m~/git/private/electoralyze/.pixi/envs/default/lib/python3.13/site-packages/geopandas/array.py:726\u001b[0m, in \u001b[0;36mGeometryArray.overlaps\u001b[0;34m(self, other)\u001b[0m\n\u001b[1;32m    725\u001b[0m \u001b[38;5;28;01mdef\u001b[39;00m \u001b[38;5;21moverlaps\u001b[39m(\u001b[38;5;28mself\u001b[39m, other):\n\u001b[0;32m--> 726\u001b[0m     \u001b[38;5;28;01mreturn\u001b[39;00m \u001b[38;5;28;43mself\u001b[39;49m\u001b[38;5;241;43m.\u001b[39;49m\u001b[43m_binary_method\u001b[49m\u001b[43m(\u001b[49m\u001b[38;5;124;43m\"\u001b[39;49m\u001b[38;5;124;43moverlaps\u001b[39;49m\u001b[38;5;124;43m\"\u001b[39;49m\u001b[43m,\u001b[49m\u001b[43m \u001b[49m\u001b[38;5;28;43mself\u001b[39;49m\u001b[43m,\u001b[49m\u001b[43m \u001b[49m\u001b[43mother\u001b[49m\u001b[43m)\u001b[49m\n",
      "File \u001b[0;32m~/git/private/electoralyze/.pixi/envs/default/lib/python3.13/site-packages/geopandas/array.py:699\u001b[0m, in \u001b[0;36mGeometryArray._binary_method\u001b[0;34m(op, left, right, **kwargs)\u001b[0m\n\u001b[1;32m    696\u001b[0m         _crs_mismatch_warn(left, right, stacklevel\u001b[38;5;241m=\u001b[39m\u001b[38;5;241m7\u001b[39m)\n\u001b[1;32m    697\u001b[0m     right \u001b[38;5;241m=\u001b[39m right\u001b[38;5;241m.\u001b[39m_data\n\u001b[0;32m--> 699\u001b[0m \u001b[38;5;28;01mreturn\u001b[39;00m \u001b[38;5;28;43mgetattr\u001b[39;49m\u001b[43m(\u001b[49m\u001b[43mshapely\u001b[49m\u001b[43m,\u001b[49m\u001b[43m \u001b[49m\u001b[43mop\u001b[49m\u001b[43m)\u001b[49m\u001b[43m(\u001b[49m\u001b[43mleft\u001b[49m\u001b[38;5;241;43m.\u001b[39;49m\u001b[43m_data\u001b[49m\u001b[43m,\u001b[49m\u001b[43m \u001b[49m\u001b[43mright\u001b[49m\u001b[43m,\u001b[49m\u001b[43m \u001b[49m\u001b[38;5;241;43m*\u001b[39;49m\u001b[38;5;241;43m*\u001b[39;49m\u001b[43mkwargs\u001b[49m\u001b[43m)\u001b[49m\n",
      "File \u001b[0;32m~/git/private/electoralyze/.pixi/envs/default/lib/python3.13/site-packages/shapely/decorators.py:77\u001b[0m, in \u001b[0;36mmultithreading_enabled.<locals>.wrapped\u001b[0;34m(*args, **kwargs)\u001b[0m\n\u001b[1;32m     75\u001b[0m     \u001b[38;5;28;01mfor\u001b[39;00m arr \u001b[38;5;129;01min\u001b[39;00m array_args:\n\u001b[1;32m     76\u001b[0m         arr\u001b[38;5;241m.\u001b[39mflags\u001b[38;5;241m.\u001b[39mwriteable \u001b[38;5;241m=\u001b[39m \u001b[38;5;28;01mFalse\u001b[39;00m\n\u001b[0;32m---> 77\u001b[0m     \u001b[38;5;28;01mreturn\u001b[39;00m \u001b[43mfunc\u001b[49m\u001b[43m(\u001b[49m\u001b[38;5;241;43m*\u001b[39;49m\u001b[43margs\u001b[49m\u001b[43m,\u001b[49m\u001b[43m \u001b[49m\u001b[38;5;241;43m*\u001b[39;49m\u001b[38;5;241;43m*\u001b[39;49m\u001b[43mkwargs\u001b[49m\u001b[43m)\u001b[49m\n\u001b[1;32m     78\u001b[0m \u001b[38;5;28;01mfinally\u001b[39;00m:\n\u001b[1;32m     79\u001b[0m     \u001b[38;5;28;01mfor\u001b[39;00m arr, old_flag \u001b[38;5;129;01min\u001b[39;00m \u001b[38;5;28mzip\u001b[39m(array_args, old_flags):\n",
      "File \u001b[0;32m~/git/private/electoralyze/.pixi/envs/default/lib/python3.13/site-packages/shapely/predicates.py:832\u001b[0m, in \u001b[0;36moverlaps\u001b[0;34m(a, b, **kwargs)\u001b[0m\n\u001b[1;32m    781\u001b[0m \u001b[38;5;129m@multithreading_enabled\u001b[39m\n\u001b[1;32m    782\u001b[0m \u001b[38;5;28;01mdef\u001b[39;00m \u001b[38;5;21moverlaps\u001b[39m(a, b, \u001b[38;5;241m*\u001b[39m\u001b[38;5;241m*\u001b[39mkwargs):\n\u001b[1;32m    783\u001b[0m \u001b[38;5;250m    \u001b[39m\u001b[38;5;124;03m\"\"\"Returns True if A and B spatially overlap.\u001b[39;00m\n\u001b[1;32m    784\u001b[0m \n\u001b[1;32m    785\u001b[0m \u001b[38;5;124;03m    A and B overlap if they have some but not all points in common, have the\u001b[39;00m\n\u001b[0;32m   (...)\u001b[0m\n\u001b[1;32m    830\u001b[0m \u001b[38;5;124;03m    False\u001b[39;00m\n\u001b[1;32m    831\u001b[0m \u001b[38;5;124;03m    \"\"\"\u001b[39;00m\n\u001b[0;32m--> 832\u001b[0m     \u001b[38;5;28;01mreturn\u001b[39;00m \u001b[43mlib\u001b[49m\u001b[38;5;241;43m.\u001b[39;49m\u001b[43moverlaps\u001b[49m\u001b[43m(\u001b[49m\u001b[43ma\u001b[49m\u001b[43m,\u001b[49m\u001b[43m \u001b[49m\u001b[43mb\u001b[49m\u001b[43m,\u001b[49m\u001b[43m \u001b[49m\u001b[38;5;241;43m*\u001b[39;49m\u001b[38;5;241;43m*\u001b[39;49m\u001b[43mkwargs\u001b[49m\u001b[43m)\u001b[49m\n",
      "\u001b[0;31mKeyboardInterrupt\u001b[0m: "
     ]
    }
   ],
   "source": [
    "intersection = get_region_mapping_base(\n",
    "    region_from=region.Federal2022,\n",
    "    region_to=region.SA1_2021,\n",
    "    mapping_method=\"intersection_area\",\n",
    "    redistribute_with_full=True,\n",
    "    save_data=True,\n",
    "    force_new=True,\n",
    ")\n",
    "intersection"
   ]
  },
  {
   "cell_type": "code",
   "execution_count": null,
   "metadata": {},
   "outputs": [],
   "source": []
  }
 ],
 "metadata": {
  "kernelspec": {
   "display_name": "Python 3",
   "language": "python",
   "name": "python3"
  },
  "language_info": {
   "codemirror_mode": {
    "name": "ipython",
    "version": 3
   },
   "file_extension": ".py",
   "mimetype": "text/x-python",
   "name": "python",
   "nbconvert_exporter": "python",
   "pygments_lexer": "ipython3",
   "version": "3.13.0"
  }
 },
 "nbformat": 4,
 "nbformat_minor": 2
}
