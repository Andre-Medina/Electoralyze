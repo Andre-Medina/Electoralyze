{
 "cells": [
  {
   "cell_type": "code",
   "execution_count": null,
   "metadata": {},
   "outputs": [],
   "source": [
    "%load_ext autoreload\n",
    "%autoreload 2\n",
    "\n",
    "import geopandas as gpd\n",
    "import pandas as pd\n",
    "import polars as pl\n",
    "import polars_st as st\n",
    "import pyogrio\n",
    "from electoralyze import region\n",
    "from electoralyze.common import constants\n",
    "from electoralyze.common.geometry import to_geopandas, to_geopolars\n",
    "from electoralyze.common.testing.region_fixture import (\n",
    "    RegionMocked,\n",
    "    create_fake_regions,\n",
    "    read_true_geometry,\n",
    "    read_true_metadata,\n",
    ")\n",
    "from electoralyze.region.redistribute import redistribute\n",
    "from electoralyze.region.redistribute.mapping import (\n",
    "    _create_intersection_area_mapping,\n",
    "    _get_remaining_area,\n",
    "    get_region_mapping_base,\n",
    ")\n",
    "from polars import testing"
   ]
  },
  {
   "cell_type": "code",
   "execution_count": null,
   "metadata": {},
   "outputs": [],
   "source": [
    "region.Federal2022"
   ]
  },
  {
   "cell_type": "code",
   "execution_count": null,
   "metadata": {},
   "outputs": [],
   "source": [
    "region.SA1_2021"
   ]
  },
  {
   "cell_type": "code",
   "execution_count": null,
   "metadata": {},
   "outputs": [],
   "source": [
    "region.Federal2022.geometry"
   ]
  },
  {
   "cell_type": "code",
   "execution_count": null,
   "metadata": {},
   "outputs": [],
   "source": [
    "region.SA1_2021.geometry.head(100)"
   ]
  },
  {
   "cell_type": "code",
   "execution_count": null,
   "metadata": {},
   "outputs": [],
   "source": [
    "(\n",
    "    region.Federal2022.geometry.join(\n",
    "        region.SA1_2021.geometry.head(10000),\n",
    "        how=\"cross\",\n",
    "    )\n",
    "    .filter(st.geom(\"geometry\").st.overlaps(pl.col(\"geometry_right\")))\n",
    "    .with_columns(st.geom(\"geometry\").st.intersection(pl.col(\"geometry_right\")).st.area())\n",
    ")"
   ]
  },
  {
   "cell_type": "code",
   "execution_count": null,
   "metadata": {},
   "outputs": [],
   "source": [
    "(\n",
    "    region.Federal2022.geometry.pipe(to_geopandas)\n",
    "    .merge(\n",
    "        region.SA1_2021.geometry.head(10000).pipe(to_geopandas),\n",
    "        how=\"cross\",\n",
    "    )\n",
    "    # .filter(st.geom(\"geometry\").st.overlaps(pl.col(\"geometry_right\")))\n",
    "    # .with_columns(st.geom(\"geometry\").st.intersection(pl.col(\"geometry_right\")).st.area())\n",
    "    .loc[lambda df: df[\"geometry_x\"].overlaps(df[\"geometry_y\"])]\n",
    "    .assign(area=lambda df: df[\"geometry_x\"].intersection(df[\"geometry_y\"]).area)\n",
    ")"
   ]
  },
  {
   "cell_type": "code",
   "execution_count": null,
   "metadata": {},
   "outputs": [],
   "source": [
    "some_intersection = _create_intersection_area_mapping(\n",
    "    geometry_from=region.Federal2022.geometry, geometry_to=region.SA1_2021.geometry.head(100)\n",
    ")\n",
    "some_intersection"
   ]
  },
  {
   "cell_type": "code",
   "execution_count": null,
   "metadata": {},
   "outputs": [],
   "source": [
    "target_sa1 = 10103101401\n",
    "target_sa1 = 10106154239\n",
    "region.SA1_2021.geometry.filter(pl.col(region.SA1_2021.id) == target_sa1).select(st.geom(\"geometry\").st.area())"
   ]
  },
  {
   "cell_type": "code",
   "execution_count": null,
   "metadata": {},
   "outputs": [],
   "source": [
    "(\n",
    "    region.SA1_2021.geometry.filter(pl.col(region.SA1_2021.id) == target_sa1)\n",
    "    .join(\n",
    "        region.Federal2022.geometry.filter(pl.col(region.Federal2022.id).is_in([\"Eden-Monaro\", \"Hume\"])),\n",
    "        how=\"cross\",\n",
    "    )\n",
    "    .select(st.geom(\"geometry\").st.intersection(pl.col(\"geometry_right\")))\n",
    "    # .head(1)\n",
    "    # .tail(1)\n",
    "    .pipe(to_geopandas)\n",
    "    .explore()\n",
    ")"
   ]
  },
  {
   "cell_type": "code",
   "execution_count": null,
   "metadata": {},
   "outputs": [],
   "source": [
    "some_intersection.filter(pl.col(region.SA1_2021.id) == target_sa1)"
   ]
  },
  {
   "cell_type": "code",
   "execution_count": null,
   "metadata": {},
   "outputs": [],
   "source": [
    "_create_intersection_area_mapping(\n",
    "    geometry_from=region.Federal2022.get_raw_geometry(), geometry_to=region.SA1_2021.get_raw_geometry().head(100)\n",
    ")"
   ]
  },
  {
   "cell_type": "code",
   "execution_count": null,
   "metadata": {},
   "outputs": [],
   "source": [
    "intersection = get_region_mapping_base(\n",
    "    region_from=region.Federal2022,\n",
    "    region_to=region.SA1_2021,\n",
    "    mapping_method=\"intersection_area\",\n",
    "    redistribute_with_full=True,\n",
    "    save_data=True,\n",
    "    force_new=True,\n",
    ")\n",
    "intersection"
   ]
  },
  {
   "cell_type": "code",
   "execution_count": null,
   "metadata": {},
   "outputs": [],
   "source": []
  }
 ],
 "metadata": {
  "kernelspec": {
   "display_name": "Python 3",
   "language": "python",
   "name": "python3"
  },
  "language_info": {
   "codemirror_mode": {
    "name": "ipython",
    "version": 3
   },
   "file_extension": ".py",
   "mimetype": "text/x-python",
   "name": "python",
   "nbconvert_exporter": "python",
   "pygments_lexer": "ipython3",
   "version": "3.13.0"
  }
 },
 "nbformat": 4,
 "nbformat_minor": 2
}
