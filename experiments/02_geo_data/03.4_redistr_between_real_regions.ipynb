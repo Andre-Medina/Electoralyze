{
 "cells": [
  {
   "cell_type": "code",
   "execution_count": 16,
   "metadata": {},
   "outputs": [
    {
     "name": "stdout",
     "output_type": "stream",
     "text": [
      "The autoreload extension is already loaded. To reload it, use:\n",
      "  %reload_ext autoreload\n"
     ]
    }
   ],
   "source": [
    "%load_ext autoreload\n",
    "%autoreload 2\n",
    "\n",
    "import geopandas as gpd\n",
    "import pandas as pd\n",
    "import polars as pl\n",
    "import polars_st as st\n",
    "import pyogrio\n",
    "from electoralyze import region\n",
    "from electoralyze.common import constants\n",
    "from electoralyze.common.geometry import to_geopandas, to_geopolars\n",
    "from electoralyze.common.testing.region_fixture import (\n",
    "    RegionMocked,\n",
    "    create_fake_regions,\n",
    "    read_true_geometry,\n",
    "    read_true_metadata,\n",
    ")\n",
    "from electoralyze.region.redistribute import redistribute\n",
    "from electoralyze.region.redistribute.mapping import (\n",
    "    _create_intersection_area_mapping,\n",
    "    _get_remaining_area,\n",
    "    get_region_mapping_base,\n",
    ")\n",
    "from polars import testing"
   ]
  },
  {
   "cell_type": "code",
   "execution_count": 17,
   "metadata": {},
   "outputs": [
    {
     "data": {
      "text/plain": [
       "electoralyze.region.regions.federal_2022.Federal2022"
      ]
     },
     "execution_count": 17,
     "metadata": {},
     "output_type": "execute_result"
    }
   ],
   "source": [
    "region.Federal2022"
   ]
  },
  {
   "cell_type": "code",
   "execution_count": 18,
   "metadata": {},
   "outputs": [
    {
     "data": {
      "text/plain": [
       "electoralyze.region.regions.SA1_2021.SA1_2021"
      ]
     },
     "execution_count": 18,
     "metadata": {},
     "output_type": "execute_result"
    }
   ],
   "source": [
    "region.SA1_2021"
   ]
  },
  {
   "cell_type": "code",
   "execution_count": 19,
   "metadata": {},
   "outputs": [
    {
     "data": {
      "text/html": [
       "<div><style>\n",
       ".dataframe > thead > tr,\n",
       ".dataframe > tbody > tr {\n",
       "  text-align: right;\n",
       "  white-space: pre-wrap;\n",
       "}\n",
       "</style>\n",
       "<small>shape: (151, 2)</small><table border=\"1\" class=\"dataframe\"><thead><tr><th>federal_2022</th><th>geometry</th></tr><tr><td>str</td><td>binary</td></tr></thead><tbody><tr><td>&quot;Adelaide&quot;</td><td>b&quot;\\x01\\x03\\x00\\x00\\xa0\\xe6\\x10\\x00\\x00\\x01\\x00\\x00\\x00W\\x00\\x00\\x00u\\x8e\\x01\\xd9kTa@\\x82\\xfd\\xd7\\xb9ioA\\xc0\\x00\\x00\\x00\\x00\\x00\\x00\\x00\\x00\\xd0\\x98I\\xd4\\x0bTa@\\x0a\\xd68\\x9b\\x8epA\\xc0\\x00\\x00\\x00&quot;…</td></tr><tr><td>&quot;Aston&quot;</td><td>b&quot;\\x01\\x03\\x00\\x00\\xa0\\xe6\\x10\\x00\\x00\\x01\\x00\\x00\\x00\\xd0\\x02\\x00\\x00\\xfc\\x8e\\xe1\\xb1\\x1f+b@|\\xed\\x99%\\x01\\xeeB\\xc0\\x00\\x00\\x00\\x00\\x00\\x00\\x00\\x00;8\\xd8\\x9b\\x18+b@-\\xe8\\xbd1\\x04\\xeeB\\xc0\\x00\\x00\\x00&quot;…</td></tr><tr><td>&quot;Ballarat&quot;</td><td>b&quot;\\x01\\x03\\x00\\x00\\xa0\\xe6\\x10\\x00\\x00\\x01\\x00\\x00\\x00D\\x09\\x00\\x00J\\xb2\\x0eGW\\xfaa@p\\xb071$\\x07C\\xc0\\x00\\x00\\x00\\x00\\x00\\x00\\x00\\x00\\x05\\xc0x\\x06\\x8d\\xfaa@\\xfa\\xd1p\\xca\\xdc\\x02C\\xc0\\x00\\x00\\x00&quot;…</td></tr><tr><td>&quot;Banks&quot;</td><td>b&quot;\\x01\\x03\\x00\\x00\\xa0\\xe6\\x10\\x00\\x00\\x01\\x00\\x00\\x00\\x9b\\x00\\x00\\x00\\xab\\x07\\xccC&amp;\\xe4b@\\x96\\xaf\\xcb\\xf0\\x9f\\xfc@\\xc0\\x00\\x00\\x00\\x00\\x00\\x00\\x00\\x006#\\x83\\xdc\\xc5\\xe3b@\\xfc\\xdf\\x11\\x15\\xaa\\xfd@\\xc0\\x00\\x00\\x00&quot;…</td></tr><tr><td>&quot;Barker&quot;</td><td>b&quot;\\x01\\x06\\x00\\x00\\xa0\\xe6\\x10\\x00\\x00\\x1b\\x00\\x00\\x00\\x01\\x03\\x00\\x00\\x80\\x01\\x00\\x00\\x00M\\x0d\\x00\\x00wj.7\\x18\\xa0a@\\xa3\\x05h[\\xcd\\x02A\\xc0\\x00\\x00\\x00\\x00\\x00\\x00\\x00\\x00\\xa0PO\\x1f\\x01\\xa0a@r7&quot;…</td></tr><tr><td>&hellip;</td><td>&hellip;</td></tr><tr><td>&quot;Werriwa&quot;</td><td>b&quot;\\x01\\x03\\x00\\x00\\xa0\\xe6\\x10\\x00\\x00\\x01\\x00\\x00\\x00\\x1d\\x01\\x00\\x00*\\x8d\\x98\\xd9g\\xddb@\\xf7\\xe67L4\\xf8@\\xc0\\x00\\x00\\x00\\x00\\x00\\x00\\x00\\x00\\x1a\\x17\\x0e\\x84d\\xddb@G\\xc8@\\x9e]\\xf8@\\xc0\\x00\\x00\\x00&quot;…</td></tr><tr><td>&quot;Whitlam&quot;</td><td>b&quot;\\x01\\x06\\x00\\x00\\xa0\\xe6\\x10\\x00\\x00\\x02\\x00\\x00\\x00\\x01\\x03\\x00\\x00\\x80\\x01\\x00\\x00\\x00\\xd9\\x04\\x00\\x00y\\x95\\xb5M\\xf1\\xdcb@\\x17a\\x8ariLA\\xc0\\x00\\x00\\x00\\x00\\x00\\x00\\x00\\x00\\xaf\\xb1KT\\xef\\xdcb@u\\x1e&quot;…</td></tr><tr><td>&quot;Wide&nbsp;Bay&quot;</td><td>b&quot;\\x01\\x03\\x00\\x00\\xa0\\xe6\\x10\\x00\\x00\\x01\\x00\\x00\\x00d\\x0e\\x00\\x00\\x8b\\xe1\\xea\\x00\\x88+c@\\x01L\\x198\\xa0\\x019\\xc0\\x00\\x00\\x00\\x00\\x00\\x00\\x00\\x00\\xf7\\xb1\\x82\\xdf\\x86+c@6\\x93o\\xb6\\xb9\\x019\\xc0\\x00\\x00\\x00&quot;…</td></tr><tr><td>&quot;Wills&quot;</td><td>b&quot;\\x01\\x03\\x00\\x00\\xa0\\xe6\\x10\\x00\\x00\\x01\\x00\\x00\\x00D\\x01\\x00\\x00\\x16\\x16\\xdc\\x0fx\\x1fb@\\xce\\xe2\\xc5\\xc2\\x10\\xe3B\\xc0\\x00\\x00\\x00\\x00\\x00\\x00\\x00\\x00\\x0c\\x02+\\x87\\x16\\x1fb@\\x84\\xf2&gt;\\x8e\\xe6\\xe2B\\xc0\\x00\\x00\\x00&quot;…</td></tr><tr><td>&quot;Wright&quot;</td><td>b&quot;\\x01\\x03\\x00\\x00\\xa0\\xe6\\x10\\x00\\x00\\x01\\x00\\x00\\x00(\\x0b\\x00\\x00\\xf7\\xb0\\x17\\x0a\\xd8+c@\\x1c\\:\\xe6&lt;\\x1b&lt;\\xc0\\x00\\x00\\x00\\x00\\x00\\x00\\x00\\x00\\xab\\x087\\x19\\xd5+c@t\\xd0%\\x1cz\\x1b&lt;\\xc0\\x00\\x00\\x00&quot;…</td></tr></tbody></table></div>"
      ],
      "text/plain": [
       "shape: (151, 2)\n",
       "┌──────────────┬─────────────────────────────────┐\n",
       "│ federal_2022 ┆ geometry                        │\n",
       "│ ---          ┆ ---                             │\n",
       "│ str          ┆ binary                          │\n",
       "╞══════════════╪═════════════════════════════════╡\n",
       "│ Adelaide     ┆ b\"\\x01\\x03\\x00\\x00\\xa0\\xe6\\x10… │\n",
       "│ Aston        ┆ b\"\\x01\\x03\\x00\\x00\\xa0\\xe6\\x10… │\n",
       "│ Ballarat     ┆ b\"\\x01\\x03\\x00\\x00\\xa0\\xe6\\x10… │\n",
       "│ Banks        ┆ b\"\\x01\\x03\\x00\\x00\\xa0\\xe6\\x10… │\n",
       "│ Barker       ┆ b\"\\x01\\x06\\x00\\x00\\xa0\\xe6\\x10… │\n",
       "│ …            ┆ …                               │\n",
       "│ Werriwa      ┆ b\"\\x01\\x03\\x00\\x00\\xa0\\xe6\\x10… │\n",
       "│ Whitlam      ┆ b\"\\x01\\x06\\x00\\x00\\xa0\\xe6\\x10… │\n",
       "│ Wide Bay     ┆ b\"\\x01\\x03\\x00\\x00\\xa0\\xe6\\x10… │\n",
       "│ Wills        ┆ b\"\\x01\\x03\\x00\\x00\\xa0\\xe6\\x10… │\n",
       "│ Wright       ┆ b\"\\x01\\x03\\x00\\x00\\xa0\\xe6\\x10… │\n",
       "└──────────────┴─────────────────────────────────┘"
      ]
     },
     "execution_count": 19,
     "metadata": {},
     "output_type": "execute_result"
    }
   ],
   "source": [
    "region.Federal2022.geometry"
   ]
  },
  {
   "cell_type": "code",
   "execution_count": 20,
   "metadata": {},
   "outputs": [
    {
     "data": {
      "text/html": [
       "<div><style>\n",
       ".dataframe > thead > tr,\n",
       ".dataframe > tbody > tr {\n",
       "  text-align: right;\n",
       "  white-space: pre-wrap;\n",
       "}\n",
       "</style>\n",
       "<small>shape: (100, 2)</small><table border=\"1\" class=\"dataframe\"><thead><tr><th>SA1_2021</th><th>geometry</th></tr><tr><td>i64</td><td>binary</td></tr></thead><tbody><tr><td>10102100701</td><td>b&quot;\\x01\\x03\\x00\\x00\\x20\\xe6\\x10\\x00\\x00\\x01\\x00\\x00\\x00\\xc9\\x02\\x00\\x00]\\x16V\\xf6\\x80\\xbcb@`j&quot;\\xe5\\x88\\x8bA\\xc0K\\x07\\x81\\xbe\\x89\\xbcb@\\x98\\xe7[Du\\x8bA\\xc0\\xdc\\x8d\\x1c;\\x92\\xbcb@\\xa9X\\x94&quot;…</td></tr><tr><td>10102100702</td><td>b&quot;\\x01\\x03\\x00\\x00\\x20\\xe6\\x10\\x00\\x00\\x02\\x00\\x00\\x00\\x08\\x01\\x00\\x00Y\\xdc\\xe9\\xa6~\\xb7b@\\x9e\\xfb\\xe0\\x81\\x0c\\xafA\\xc0\\xb5Q\\xabKL\\xb8b@y\\x87\\xa0!}\\xafA\\xc0\\xdc\\xeb1\\x0bW\\xb8b@A\\xb6\\x8d&quot;…</td></tr><tr><td>10102100703</td><td>b&quot;\\x01\\x03\\x00\\x00\\x20\\xe6\\x10\\x00\\x00\\x01\\x00\\x00\\x00\\x1a\\x00\\x00\\x00\\x0f\\xf0N\\x9b\\xf5\\xb8b@\\xd60\\xf1\\x91g\\xb8A\\xc0u\\xc3C\\xa7\\xf2\\xb8b@G8\\xcb\\xb4+\\xb8A\\xc0B6\\xc1\\xac\\xfb\\xb8b@^p\\xe5&quot;…</td></tr><tr><td>10102100704</td><td>b&quot;\\x01\\x03\\x00\\x00\\x20\\xe6\\x10\\x00\\x00\\x01\\x00\\x00\\x00\\x1e\\x00\\x00\\x00\\x95\\x92\\x10&lt;}\\xb9b@7J\\xbb\\x9f\\x09\\xb9A\\xc0\\xca1\\xac\\xee\\x89\\xb9b@j\\x94\\xfc\\x020\\xb8A\\xc0RI\\xbet\\x8b\\xb9b@\\xc1\\xe3\\xb4&quot;…</td></tr><tr><td>10102100705</td><td>b&quot;\\x01\\x03\\x00\\x00\\x20\\xe6\\x10\\x00\\x00\\x01\\x00\\x00\\x00&quot;\\x00\\x00\\x00\\xdc\\xbc\\x02\\x88p\\xb9b@\\xfe\\x05l#y\\xb9A\\xc0g\\x10R\\x1cr\\xb9b@X.\\x07\\x8cy\\xb9A\\xc0\\x93\\xecfnt\\xb9b@Pc\\x1f&quot;…</td></tr><tr><td>&hellip;</td><td>&hellip;</td></tr><tr><td>10102101221</td><td>b&quot;\\x01\\x03\\x00\\x00\\x20\\xe6\\x10\\x00\\x00\\x01\\x00\\x00\\x00\\x10\\x00\\x00\\x005[\\xf6\\xe7\\x8d\\xa6b@\\xcb\\x87\\xf1u\\x05\\xaeA\\xc0\\xbbC\\x9a\\xa8\\x94\\xa6b@\\xb2K\\xa5Z\\xfb\\xadA\\xc0F\\xfd\\x19\\xd2\\x99\\xa6b@\\x03\\xaf\\xc8&quot;…</td></tr><tr><td>10102101222</td><td>b&quot;\\x01\\x03\\x00\\x00\\x20\\xe6\\x10\\x00\\x00\\x01\\x00\\x00\\x00\\x0e\\x00\\x00\\x00=\\xdaAU\\x91\\xa6b@s_\\xc0h)\\xb1A\\xc0\\x0d`\\xa0T\\x94\\xa6b@\\xbe\\xa4\\xab\\x17\\xf1\\xb0A\\xc0\\xc3\\xae@\\xbb\\xbe\\xa6b@@O\\x8a&quot;…</td></tr><tr><td>10102101223</td><td>b&quot;\\x01\\x03\\x00\\x00\\x20\\xe6\\x10\\x00\\x00\\x01\\x00\\x00\\x00\\x13\\x00\\x00\\x00\\x91\\x96\\xa2KN\\xa6b@y:\\\\xa0\\x8c\\xb1A\\xc0\\x9a\\xba\\xda\\xe8V\\xa6b@\\x02\\x17\\xdd@\\xe1\\xb0A\\xc0\\x00&amp;\\x14\\xe0d\\xa6b@r\\xdd\\xf7&quot;…</td></tr><tr><td>10102101224</td><td>b&quot;\\x01\\x03\\x00\\x00\\x20\\xe6\\x10\\x00\\x00\\x01\\x00\\x00\\x00\\x16\\x00\\x00\\x00NH\\xf4\\xec\\x9e\\xa6b@\\x9aY\\xbb\\xc8\\x15\\xb2A\\xc0B)\\xb7\\x0d\\x9a\\xa6b@\\xde1k\\xaf\\xf5\\xb1A\\xc0s\\xa8\\xce\\x8a\\x9f\\xa6b@@\\xfe\\xac&quot;…</td></tr><tr><td>10102101225</td><td>b&quot;\\x01\\x03\\x00\\x00\\x20\\xe6\\x10\\x00\\x00\\x01\\x00\\x00\\x00*\\x00\\x00\\x0074\\xcc\\xed\\xd9\\xa6b@&quot;$\\x14bX\\xb0A\\xc0j\\xcd\\xb2\\xaa\\xcb\\xa6b@\\xd6\\xf5\\x94pd\\xb0A\\xc0\\xe5R,\\xdf\\xc5\\xa6b@@Z\\xd1&quot;…</td></tr></tbody></table></div>"
      ],
      "text/plain": [
       "shape: (100, 2)\n",
       "┌─────────────┬─────────────────────────────────┐\n",
       "│ SA1_2021    ┆ geometry                        │\n",
       "│ ---         ┆ ---                             │\n",
       "│ i64         ┆ binary                          │\n",
       "╞═════════════╪═════════════════════════════════╡\n",
       "│ 10102100701 ┆ b\"\\x01\\x03\\x00\\x00\\x20\\xe6\\x10… │\n",
       "│ 10102100702 ┆ b\"\\x01\\x03\\x00\\x00\\x20\\xe6\\x10… │\n",
       "│ 10102100703 ┆ b\"\\x01\\x03\\x00\\x00\\x20\\xe6\\x10… │\n",
       "│ 10102100704 ┆ b\"\\x01\\x03\\x00\\x00\\x20\\xe6\\x10… │\n",
       "│ 10102100705 ┆ b\"\\x01\\x03\\x00\\x00\\x20\\xe6\\x10… │\n",
       "│ …           ┆ …                               │\n",
       "│ 10102101221 ┆ b\"\\x01\\x03\\x00\\x00\\x20\\xe6\\x10… │\n",
       "│ 10102101222 ┆ b\"\\x01\\x03\\x00\\x00\\x20\\xe6\\x10… │\n",
       "│ 10102101223 ┆ b\"\\x01\\x03\\x00\\x00\\x20\\xe6\\x10… │\n",
       "│ 10102101224 ┆ b\"\\x01\\x03\\x00\\x00\\x20\\xe6\\x10… │\n",
       "│ 10102101225 ┆ b\"\\x01\\x03\\x00\\x00\\x20\\xe6\\x10… │\n",
       "└─────────────┴─────────────────────────────────┘"
      ]
     },
     "execution_count": 20,
     "metadata": {},
     "output_type": "execute_result"
    }
   ],
   "source": [
    "region.SA1_2021.geometry.head(100)"
   ]
  },
  {
   "cell_type": "code",
   "execution_count": 21,
   "metadata": {},
   "outputs": [],
   "source": [
    "(\n",
    "    region.Federal2022.geometry.join(\n",
    "        region.SA1_2021.geometry.head(10000),\n",
    "        how=\"cross\",\n",
    "    )\n",
    "    .filter(st.geom(\"geometry\").st.overlaps(pl.col(\"geometry_right\")))\n",
    "    .with_columns(st.geom(\"geometry\").st.intersection(pl.col(\"geometry_right\")).st.area())\n",
    ")"
   ]
  },
  {
   "cell_type": "code",
   "execution_count": null,
   "metadata": {},
   "outputs": [],
   "source": [
    "(\n",
    "    region.Federal2022.geometry.pipe(to_geopandas)\n",
    "    .merge(\n",
    "        region.SA1_2021.geometry.head(10000).pipe(to_geopandas),\n",
    "        how=\"cross\",\n",
    "    )\n",
    "    # .filter(st.geom(\"geometry\").st.overlaps(pl.col(\"geometry_right\")))\n",
    "    # .with_columns(st.geom(\"geometry\").st.intersection(pl.col(\"geometry_right\")).st.area())\n",
    "    .loc[lambda df: df[\"geometry_x\"].overlaps(df[\"geometry_y\"])]\n",
    "    .assign(area=lambda df: df[\"geometry_x\"].intersection(df[\"geometry_y\"]).area)\n",
    ")"
   ]
  },
  {
   "cell_type": "code",
   "execution_count": null,
   "metadata": {},
   "outputs": [],
   "source": [
    "(\n",
    "    region.Federal2022.geometry.pipe(to_geopandas)\n",
    "    .merge(\n",
    "        region.SA1_2021.geometry.head(100).pipe(to_geopandas),\n",
    "        how=\"cross\",\n",
    "    )\n",
    "    # .filter(st.geom(\"geometry\").st.overlaps(pl.col(\"geometry_right\")))\n",
    "    # .with_columns(st.geom(\"geometry\").st.intersection(pl.col(\"geometry_right\")).st.area())\n",
    "    .loc[lambda df: df[\"geometry_x\"].overlaps(df[\"geometry_y\"])]\n",
    "    .assign(area=lambda df: df[\"geometry_x\"].intersection(df[\"geometry_y\"]).area)\n",
    ")"
   ]
  },
  {
   "cell_type": "code",
   "execution_count": null,
   "metadata": {},
   "outputs": [],
   "source": [
    "some_intersection = _create_intersection_area_mapping(\n",
    "    geometry_from=region.Federal2022.geometry, geometry_to=region.SA1_2021.geometry.head(100)\n",
    ")\n",
    "some_intersection"
   ]
  },
  {
   "cell_type": "code",
   "execution_count": null,
   "metadata": {},
   "outputs": [],
   "source": [
    "target_sa1 = 10103101401\n",
    "target_sa1 = 10106154239\n",
    "region.SA1_2021.geometry.filter(pl.col(region.SA1_2021.id) == target_sa1).select(st.geom(\"geometry\").st.area())"
   ]
  },
  {
   "cell_type": "code",
   "execution_count": null,
   "metadata": {},
   "outputs": [],
   "source": [
    "(\n",
    "    region.SA1_2021.geometry.filter(pl.col(region.SA1_2021.id) == target_sa1)\n",
    "    .join(\n",
    "        region.Federal2022.geometry.filter(pl.col(region.Federal2022.id).is_in([\"Eden-Monaro\", \"Hume\"])),\n",
    "        how=\"cross\",\n",
    "    )\n",
    "    .select(st.geom(\"geometry\").st.intersection(pl.col(\"geometry_right\")))\n",
    "    # .head(1)\n",
    "    # .tail(1)\n",
    "    .pipe(to_geopandas)\n",
    "    .explore()\n",
    ")"
   ]
  },
  {
   "cell_type": "code",
   "execution_count": null,
   "metadata": {},
   "outputs": [],
   "source": [
    "some_intersection.filter(pl.col(region.SA1_2021.id) == target_sa1)"
   ]
  },
  {
   "cell_type": "code",
   "execution_count": null,
   "metadata": {},
   "outputs": [],
   "source": [
    "_create_intersection_area_mapping(\n",
    "    geometry_from=region.Federal2022.get_raw_geometry(), geometry_to=region.SA1_2021.get_raw_geometry().head(100)\n",
    ")"
   ]
  },
  {
   "cell_type": "code",
   "execution_count": null,
   "metadata": {},
   "outputs": [],
   "source": [
    "intersection = get_region_mapping_base(\n",
    "    region_from=region.Federal2022,\n",
    "    region_to=region.SA1_2021,\n",
    "    mapping_method=\"intersection_area\",\n",
    "    redistribute_with_full=True,\n",
    "    save_data=True,\n",
    "    force_new=True,\n",
    ")\n",
    "intersection"
   ]
  },
  {
   "cell_type": "code",
   "execution_count": null,
   "metadata": {},
   "outputs": [],
   "source": []
  }
 ],
 "metadata": {
  "kernelspec": {
   "display_name": "Python 3",
   "language": "python",
   "name": "python3"
  },
  "language_info": {
   "codemirror_mode": {
    "name": "ipython",
    "version": 3
   },
   "file_extension": ".py",
   "mimetype": "text/x-python",
   "name": "python",
   "nbconvert_exporter": "python",
   "pygments_lexer": "ipython3",
   "version": "3.13.0"
  }
 },
 "nbformat": 4,
 "nbformat_minor": 2
}
