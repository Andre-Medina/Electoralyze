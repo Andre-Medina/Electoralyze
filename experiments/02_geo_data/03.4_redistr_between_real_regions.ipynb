{
 "cells": [
  {
   "cell_type": "code",
   "execution_count": null,
   "metadata": {},
   "outputs": [],
   "source": [
    "%load_ext autoreload\n",
    "%autoreload 2\n",
    "\n",
    "import geopandas as gpd\n",
    "import pandas as pd\n",
    "import polars as pl\n",
    "import polars_st as st\n",
    "import pyogrio\n",
    "from electoralyze import region\n",
    "from electoralyze.common import constants\n",
    "from electoralyze.common.geometry import to_geopandas, to_geopolars\n",
    "from electoralyze.common.testing.region_fixture import (\n",
    "    RegionMocked,\n",
    "    create_fake_regions,\n",
    "    read_true_geometry,\n",
    "    read_true_metadata,\n",
    ")\n",
    "from electoralyze.region.redistribute import redistribute\n",
    "from electoralyze.region.redistribute.mapping import (\n",
    "    _create_intersection_area_mapping,\n",
    "    _get_remaining_area,\n",
    "    get_region_mapping_base,\n",
    ")\n",
    "from polars import testing"
   ]
  },
  {
   "cell_type": "code",
   "execution_count": null,
   "metadata": {},
   "outputs": [],
   "source": [
    "region.Federal2022"
   ]
  },
  {
   "cell_type": "code",
   "execution_count": null,
   "metadata": {},
   "outputs": [],
   "source": [
    "region.SA1_2021"
   ]
  },
  {
   "cell_type": "code",
   "execution_count": null,
   "metadata": {},
   "outputs": [],
   "source": [
    "region.Federal2022.geometry"
   ]
  },
  {
   "cell_type": "code",
   "execution_count": null,
   "metadata": {},
   "outputs": [],
   "source": [
    "region.SA1_2021.geometry.head(100)"
   ]
  },
  {
   "cell_type": "code",
   "execution_count": null,
   "metadata": {},
   "outputs": [],
   "source": [
    "from electoralyze.region.redistribute.mapping import _get_intersection_area"
   ]
  },
  {
   "cell_type": "code",
   "execution_count": null,
   "metadata": {},
   "outputs": [],
   "source": [
    "geometry_from = region.Federal2022.geometry\n",
    "geometry_to = region.SA1_2021.geometry.head(1000)"
   ]
  },
  {
   "cell_type": "code",
   "execution_count": null,
   "metadata": {},
   "outputs": [],
   "source": [
    "geometry_combined = geometry_from.rename({\"geometry\": \"geometry_from\"}).join(\n",
    "    geometry_to.rename({\"geometry\": \"geometry_to\"}), how=\"cross\"\n",
    ")\n",
    "intersection_area = geometry_combined.select(\n",
    "    pl.exclude(\"geometry_from\", \"geometry_to\"),\n",
    "    st.geom(\"geometry_from\").st.intersection(st.geom(\"geometry_to\")).st.area().alias(\"intersection_area\"),\n",
    ")\n",
    "intersection_area"
   ]
  },
  {
   "cell_type": "code",
   "execution_count": null,
   "metadata": {},
   "outputs": [],
   "source": [
    "geometry_combined = (\n",
    "    geometry_from.pipe(to_geopandas)\n",
    "    .rename(columns={\"geometry\": \"geometry_from\"})\n",
    "    .merge(geometry_to.pipe(to_geopandas).rename(columns={\"geometry\": \"geometry_to\"}), how=\"cross\")\n",
    ")\n",
    "geometry_combined"
   ]
  },
  {
   "cell_type": "code",
   "execution_count": null,
   "metadata": {},
   "outputs": [],
   "source": [
    "intersection_area = (\n",
    "    geometry_combined\n",
    "    # .loc[lambda df: df[\"geometry_from\"].intersects(df[\"geometry_to\"])] # THIS TAKES MUCH LONGER (3x), REMOVE\n",
    "    .assign(intersection_area=lambda df: df[\"geometry_from\"].intersection(df[\"geometry_to\"]).area).drop(\n",
    "        [\"geometry_from\", \"geometry_to\"], axis=1\n",
    "    )\n",
    ")\n",
    "intersection_area"
   ]
  },
  {
   "cell_type": "code",
   "execution_count": null,
   "metadata": {},
   "outputs": [],
   "source": [
    "_get_intersection_area(\n",
    "    geometry_from=region.Federal2022.geometry,\n",
    "    geometry_to=region.SA1_2021.geometry.head(100),\n",
    ").pipe(print)"
   ]
  },
  {
   "cell_type": "code",
   "execution_count": null,
   "metadata": {},
   "outputs": [],
   "source": [
    "(\n",
    "    region.Federal2022.geometry.join(\n",
    "        region.SA1_2021.geometry.head(10000),\n",
    "        how=\"cross\",\n",
    "    )\n",
    "    .filter(st.geom(\"geometry\").st.overlaps(pl.col(\"geometry_right\")))\n",
    "    .with_columns(st.geom(\"geometry\").st.intersection(pl.col(\"geometry_right\")).st.area())\n",
    ")"
   ]
  },
  {
   "cell_type": "code",
   "execution_count": null,
   "metadata": {},
   "outputs": [],
   "source": [
    "(\n",
    "    region.Federal2022.geometry.pipe(to_geopandas)\n",
    "    .merge(\n",
    "        region.SA1_2021.geometry.head(10000).pipe(to_geopandas),\n",
    "        how=\"cross\",\n",
    "    )\n",
    "    # .filter(st.geom(\"geometry\").st.overlaps(pl.col(\"geometry_right\")))\n",
    "    # .with_columns(st.geom(\"geometry\").st.intersection(pl.col(\"geometry_right\")).st.area())\n",
    "    .loc[lambda df: df[\"geometry_x\"].overlaps(df[\"geometry_y\"])]\n",
    "    .assign(area=lambda df: df[\"geometry_x\"].intersection(df[\"geometry_y\"]).area)\n",
    ")"
   ]
  },
  {
   "cell_type": "code",
   "execution_count": null,
   "metadata": {},
   "outputs": [],
   "source": [
    "(\n",
    "    region.Federal2022.geometry.pipe(to_geopandas)\n",
    "    .merge(\n",
    "        region.SA1_2021.geometry.head(100).pipe(to_geopandas),\n",
    "        how=\"cross\",\n",
    "    )\n",
    "    # .filter(st.geom(\"geometry\").st.overlaps(pl.col(\"geometry_right\")))\n",
    "    # .with_columns(st.geom(\"geometry\").st.intersection(pl.col(\"geometry_right\")).st.area())\n",
    "    .loc[lambda df: df[\"geometry_x\"].overlaps(df[\"geometry_y\"])]\n",
    "    .assign(area=lambda df: df[\"geometry_x\"].intersection(df[\"geometry_y\"]).area)\n",
    ")"
   ]
  },
  {
   "cell_type": "code",
   "execution_count": null,
   "metadata": {},
   "outputs": [],
   "source": [
    "some_intersection = _create_intersection_area_mapping(\n",
    "    geometry_from=region.Federal2022.geometry, geometry_to=region.SA1_2021.geometry.head(100)\n",
    ")\n",
    "some_intersection"
   ]
  },
  {
   "cell_type": "code",
   "execution_count": null,
   "metadata": {},
   "outputs": [],
   "source": [
    "target_sa1 = 10103101401\n",
    "target_sa1 = 10106154239\n",
    "region.SA1_2021.geometry.filter(pl.col(region.SA1_2021.id) == target_sa1).select(st.geom(\"geometry\").st.area())"
   ]
  },
  {
   "cell_type": "code",
   "execution_count": null,
   "metadata": {},
   "outputs": [],
   "source": [
    "(\n",
    "    region.SA1_2021.geometry.filter(pl.col(region.SA1_2021.id) == target_sa1)\n",
    "    .join(\n",
    "        region.Federal2022.geometry.filter(pl.col(region.Federal2022.id).is_in([\"Eden-Monaro\", \"Hume\"])),\n",
    "        how=\"cross\",\n",
    "    )\n",
    "    .select(st.geom(\"geometry\").st.intersection(pl.col(\"geometry_right\")))\n",
    "    # .head(1)\n",
    "    # .tail(1)\n",
    "    .pipe(to_geopandas)\n",
    "    .explore()\n",
    ")"
   ]
  },
  {
   "cell_type": "code",
   "execution_count": null,
   "metadata": {},
   "outputs": [],
   "source": [
    "some_intersection.filter(pl.col(region.SA1_2021.id) == target_sa1)"
   ]
  },
  {
   "cell_type": "code",
   "execution_count": null,
   "metadata": {},
   "outputs": [],
   "source": [
    "_create_intersection_area_mapping(\n",
    "    geometry_from=region.Federal2022.get_raw_geometry(), geometry_to=region.SA1_2021.get_raw_geometry().head(100)\n",
    ")"
   ]
  },
  {
   "cell_type": "code",
   "execution_count": null,
   "metadata": {},
   "outputs": [],
   "source": [
    "intersection = get_region_mapping_base(\n",
    "    region_from=region.Federal2022,\n",
    "    region_to=region.SA1_2021,\n",
    "    mapping_method=\"intersection_area\",\n",
    "    redistribute_with_full=True,\n",
    "    save_data=True,\n",
    "    force_new=True,\n",
    ")\n",
    "intersection"
   ]
  },
  {
   "cell_type": "code",
   "execution_count": null,
   "metadata": {},
   "outputs": [],
   "source": [
    "intersection.group_by(\"SA1_2021\").agg(pl.col(\"federal_2022\").count().alias(\"count\")).sort(\"count\")"
   ]
  },
  {
   "cell_type": "code",
   "execution_count": null,
   "metadata": {},
   "outputs": [],
   "source": [
    "lots_of_federals_sa1 = 40602114110\n",
    "intersection.filter(pl.col(\"SA1_2021\") == lots_of_federals_sa1)"
   ]
  },
  {
   "cell_type": "code",
   "execution_count": null,
   "metadata": {},
   "outputs": [],
   "source": [
    "intersection.filter(pl.col(\"SA1_2021\").is_null()).sum().pipe(print)\n",
    "intersection.filter(pl.col(\"SA1_2021\").is_null()).sort(\"mapping\")"
   ]
  },
  {
   "cell_type": "code",
   "execution_count": null,
   "metadata": {},
   "outputs": [],
   "source": [
    "specified_sa1 = intersection.filter(pl.col(\"federal_2022\").is_in([\"Leichhardt\"]))[region.SA1_2021.id].unique().to_list()\n",
    "\n",
    "intersection.filter(pl.col(\"federal_2022\").is_in([\"Leichhardt\"]))"
   ]
  },
  {
   "cell_type": "code",
   "execution_count": null,
   "metadata": {},
   "outputs": [],
   "source": [
    "region.SA1_2021.geometry.filter(pl.col(region.SA1_2021.id).is_in(specified_sa1)).pipe(to_geopandas).explore()"
   ]
  },
  {
   "cell_type": "code",
   "execution_count": null,
   "metadata": {},
   "outputs": [],
   "source": [
    "region.Federal2022.geometry.filter(pl.col(region.Federal2022.id).is_in([\"Leichhardt\"])).pipe(to_geopandas).explore()"
   ]
  },
  {
   "cell_type": "code",
   "execution_count": null,
   "metadata": {},
   "outputs": [],
   "source": [
    "intersection.filter(pl.col(\"federal_2022\").is_null()).sum()"
   ]
  },
  {
   "cell_type": "code",
   "execution_count": null,
   "metadata": {},
   "outputs": [],
   "source": []
  },
  {
   "cell_type": "code",
   "execution_count": null,
   "metadata": {},
   "outputs": [],
   "source": [
    "intersection[\"mapping\"].sum()"
   ]
  }
 ],
 "metadata": {
  "kernelspec": {
   "display_name": "Python 3",
   "language": "python",
   "name": "python3"
  },
  "language_info": {
   "codemirror_mode": {
    "name": "ipython",
    "version": 3
   },
   "file_extension": ".py",
   "mimetype": "text/x-python",
   "name": "python",
   "nbconvert_exporter": "python",
   "pygments_lexer": "ipython3",
   "version": "3.13.0"
  }
 },
 "nbformat": 4,
 "nbformat_minor": 2
}
