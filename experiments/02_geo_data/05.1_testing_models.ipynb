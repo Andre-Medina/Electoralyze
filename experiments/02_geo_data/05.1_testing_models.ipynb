{
 "cells": [
  {
   "cell_type": "markdown",
   "metadata": {},
   "source": [
    "# Testing overridable computed fields"
   ]
  },
  {
   "cell_type": "markdown",
   "metadata": {},
   "source": [
    "### Using base computed fields\n",
    "\n",
    "Does not allow overriding "
   ]
  },
  {
   "cell_type": "code",
   "execution_count": 1,
   "metadata": {},
   "outputs": [
    {
     "name": "stdout",
     "output_type": "stream",
     "text": [
      "foo='a' bar='b' foobar='ab'\n",
      "foo='a' bar='b' foobar='ab'\n"
     ]
    }
   ],
   "source": [
    "from pydantic import BaseModel, computed_field\n",
    "\n",
    "\n",
    "class Model(BaseModel):\n",
    "    foo: str\n",
    "    bar: str\n",
    "\n",
    "    @computed_field\n",
    "    @property\n",
    "    def foobar(self) -> str:\n",
    "        return self.foo + self.bar\n",
    "\n",
    "\n",
    "obj = Model(foo=\"a\", bar=\"b\")\n",
    "print(obj)  # foo='a' bar='b' foobar='ab'\n",
    "\n",
    "obj = Model(foo=\"a\", bar=\"b\", foobar=\"c\")\n",
    "print(obj)"
   ]
  },
  {
   "cell_type": "markdown",
   "metadata": {},
   "source": [
    "### Field validator \n",
    "\n",
    "Couldn't get it to work with no `foobar` input"
   ]
  },
  {
   "cell_type": "code",
   "execution_count": 2,
   "metadata": {},
   "outputs": [
    {
     "name": "stdout",
     "output_type": "stream",
     "text": [
      "foo='a' bar='b' foobar=None\n",
      "foo='a' bar='b' foobar='ab'\n",
      "foo='a' bar='b' foobar='c'\n"
     ]
    }
   ],
   "source": [
    "from typing import Any\n",
    "\n",
    "from pydantic import BaseModel, ValidationInfo, field_validator\n",
    "\n",
    "\n",
    "class Model(BaseModel):\n",
    "    foo: str\n",
    "    bar: str\n",
    "    foobar: str = None\n",
    "\n",
    "    @field_validator(\"foobar\", mode=\"before\")\n",
    "    @classmethod\n",
    "    def set_if_empty(cls, value: str, model_dump: ValidationInfo) -> str:\n",
    "        if value is None:\n",
    "            return model_dump.data[\"foo\"] + model_dump.data[\"bar\"]\n",
    "        return value\n",
    "\n",
    "\n",
    "obj = Model(foo=\"a\", bar=\"b\")\n",
    "print(obj)\n",
    "\n",
    "obj = Model(foo=\"a\", bar=\"b\", foobar=None)\n",
    "print(obj)  # foo='a' bar='b' foobar='ab'\n",
    "\n",
    "obj = Model(foo=\"a\", bar=\"b\", foobar=\"c\")\n",
    "print(obj)  # foo='a' bar='b' foobar='ab'"
   ]
  },
  {
   "cell_type": "markdown",
   "metadata": {},
   "source": [
    "### Model validator: after\n",
    "\n",
    "Can deal with the model as if its a model. foobar must be allowed to take `None` if want to pass `None`"
   ]
  },
  {
   "cell_type": "code",
   "execution_count": 3,
   "metadata": {},
   "outputs": [
    {
     "name": "stdout",
     "output_type": "stream",
     "text": [
      "foo='a' bar='b' foobar='ab'\n",
      "foo='a' bar='b' foobar='ab'\n",
      "foo='a' bar='b' foobar='c'\n"
     ]
    }
   ],
   "source": [
    "from pydantic import BaseModel, model_validator\n",
    "\n",
    "\n",
    "class Model(BaseModel):\n",
    "    foo: str\n",
    "    bar: str\n",
    "    foobar: str | None = None\n",
    "\n",
    "    @model_validator(mode=\"after\")\n",
    "    def set_if_empty(self) -> str:\n",
    "        if self.foobar is None:\n",
    "            self.foobar = self.foo + self.bar\n",
    "\n",
    "        return self\n",
    "\n",
    "\n",
    "obj = Model(foo=\"a\", bar=\"b\")\n",
    "print(obj)\n",
    "\n",
    "obj = Model(foo=\"a\", bar=\"b\", foobar=None)\n",
    "print(obj)  # foo='a' bar='b' foobar='ab'\n",
    "\n",
    "obj = Model(foo=\"a\", bar=\"b\", foobar=\"c\")\n",
    "print(obj)  # foo='a' bar='b' foobar='ab'"
   ]
  },
  {
   "cell_type": "markdown",
   "metadata": {},
   "source": [
    "### Model validator: before\n",
    "\n",
    "Don't need to allow foobar to be None, best case for computed fields IMO.\n",
    "model needs to be dealt with as a dict not a model."
   ]
  },
  {
   "cell_type": "code",
   "execution_count": 4,
   "metadata": {},
   "outputs": [
    {
     "name": "stdout",
     "output_type": "stream",
     "text": [
      "foo='a' bar='b' foobar='ab'\n",
      "foo='a' bar='b' foobar='ab'\n",
      "foo='a' bar='b' foobar='c'\n"
     ]
    }
   ],
   "source": [
    "from pydantic import BaseModel, model_validator\n",
    "\n",
    "\n",
    "class Model(BaseModel):\n",
    "    foo: str\n",
    "    bar: str\n",
    "    foobar: str = None\n",
    "\n",
    "    @model_validator(mode=\"before\")\n",
    "    def set_if_empty(model_dump: dict):\n",
    "        if model_dump.get(\"foobar\") is None:\n",
    "            model_dump[\"foobar\"] = model_dump[\"foo\"] + model_dump[\"bar\"]\n",
    "\n",
    "        return model_dump\n",
    "\n",
    "\n",
    "obj = Model(foo=\"a\", bar=\"b\")\n",
    "print(obj)  # foo='a' bar='b' foobar='ab'\n",
    "\n",
    "obj = Model(foo=\"a\", bar=\"b\", foobar=None)\n",
    "print(obj)  # foo='a' bar='b' foobar='ab'\n",
    "\n",
    "obj = Model(foo=\"a\", bar=\"b\", foobar=\"c\")\n",
    "print(obj)  # foo='a' bar='b' foobar='c'"
   ]
  },
  {
   "cell_type": "code",
   "execution_count": 5,
   "metadata": {},
   "outputs": [
    {
     "name": "stdout",
     "output_type": "stream",
     "text": [
      "id='SA1_2021' name='SA1_2021_name'\n",
      "id='SA1_2021' name='SA1_2021_name'\n",
      "id='SA1_2021' name='different_name'\n"
     ]
    }
   ],
   "source": [
    "from pydantic import BaseModel, model_validator\n",
    "\n",
    "\n",
    "class Model(BaseModel):\n",
    "    id: str\n",
    "    name: str = None\n",
    "\n",
    "    @model_validator(mode=\"before\")\n",
    "    def set_if_empty(model_dump: dict):\n",
    "        if model_dump.get(\"name\") is None:\n",
    "            model_dump[\"name\"] = model_dump[\"id\"] + \"_name\"\n",
    "\n",
    "        return model_dump\n",
    "\n",
    "\n",
    "obj = Model(id=\"SA1_2021\")\n",
    "print(obj)  # id='SA1_2021' name='SA1_2021_name'\n",
    "\n",
    "obj = Model(id=\"SA1_2021\", name=None)\n",
    "print(obj)  # id='SA1_2021' name='SA1_2021_name'\n",
    "\n",
    "obj = Model(id=\"SA1_2021\", name=\"different_name\")\n",
    "print(obj)  # id='SA1_2021' name='different_name'"
   ]
  },
  {
   "cell_type": "code",
   "execution_count": null,
   "metadata": {},
   "outputs": [],
   "source": []
  }
 ],
 "metadata": {
  "kernelspec": {
   "display_name": "Python 3",
   "language": "python",
   "name": "python3"
  },
  "language_info": {
   "codemirror_mode": {
    "name": "ipython",
    "version": 3
   },
   "file_extension": ".py",
   "mimetype": "text/x-python",
   "name": "python",
   "nbconvert_exporter": "python",
   "pygments_lexer": "ipython3",
   "version": "3.13.0"
  }
 },
 "nbformat": 4,
 "nbformat_minor": 2
}
