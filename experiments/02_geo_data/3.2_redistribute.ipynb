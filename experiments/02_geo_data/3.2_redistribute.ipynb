{
 "cells": [
  {
   "cell_type": "code",
   "execution_count": 79,
   "metadata": {},
   "outputs": [
    {
     "name": "stdout",
     "output_type": "stream",
     "text": [
      "The autoreload extension is already loaded. To reload it, use:\n",
      "  %reload_ext autoreload\n"
     ]
    }
   ],
   "source": [
    "%load_ext autoreload\n",
    "%autoreload 2\n",
    "\n",
    "import geopandas as gpd\n",
    "import pandas as pd\n",
    "import polars as pl\n",
    "import polars_st as st\n",
    "import pyogrio\n",
    "\n",
    "# from electoralyze import region``\n",
    "from electoralyze.common import constants\n",
    "from electoralyze.common.geometry import to_geopandas, to_geopolars\n",
    "from electoralyze.common.testing.region_fixture import (\n",
    "    RegionMocked,\n",
    "    create_fake_regions,\n",
    "    read_true_geometry,\n",
    "    read_true_metadata,\n",
    ")\n",
    "from electoralyze.region.redistribute import redistribute\n",
    "from electoralyze.region.redistribute.mapping import (\n",
    "    _create_intersection_area_mapping,\n",
    "    _get_remaining_area,\n",
    "    create_region_mapping_base,\n",
    ")\n",
    "from polars import testing"
   ]
  },
  {
   "cell_type": "code",
   "execution_count": 80,
   "metadata": {},
   "outputs": [
    {
     "name": "stdout",
     "output_type": "stream",
     "text": [
      "shape: (5, 3)\n",
      "┌──────────┬────────┬─────────┐\n",
      "│ triangle ┆ square ┆ mapping │\n",
      "│ ---      ┆ ---    ┆ ---     │\n",
      "│ str      ┆ str    ┆ f64     │\n",
      "╞══════════╪════════╪═════════╡\n",
      "│ A        ┆ main   ┆ 32.0    │\n",
      "│ B        ┆ main   ┆ 16.0    │\n",
      "│ C        ┆ main   ┆ 16.0    │\n",
      "│ B        ┆ null   ┆ 16.0    │\n",
      "│ C        ┆ null   ┆ 16.0    │\n",
      "└──────────┴────────┴─────────┘\n"
     ]
    }
   ],
   "source": [
    "intersection_area = _create_intersection_area_mapping(\n",
    "    geometry_from=read_true_geometry(\"triangle\"),\n",
    "    geometry_to=read_true_geometry(\"square\"),\n",
    ")\n",
    "intersection_area.pipe(print)"
   ]
  },
  {
   "cell_type": "code",
   "execution_count": 81,
   "metadata": {},
   "outputs": [
    {
     "name": "stderr",
     "output_type": "stream",
     "text": [
      "/home/andre/git/private/electoralyze/packages/electoralyze/electoralyze/common/testing/region_fixture.py:260: UserWarning: Column names longer than 10 characters will be truncated when saved to ESRI Shapefile.\n",
      "  region_gdf.pipe(to_geopandas).to_file(region_shape_file[region_id], driver=\"ESRI Shapefile\")\n",
      "/home/andre/git/private/electoralyze/.pixi/envs/default/lib/python3.13/site-packages/pyogrio/raw.py:723: RuntimeWarning: Normalized/laundered field name: 'quadrant_name' to 'quadrant_n'\n",
      "  ogr_write(\n",
      "/home/andre/git/private/electoralyze/packages/electoralyze/electoralyze/common/testing/region_fixture.py:260: UserWarning: Column names longer than 10 characters will be truncated when saved to ESRI Shapefile.\n",
      "  region_gdf.pipe(to_geopandas).to_file(region_shape_file[region_id], driver=\"ESRI Shapefile\")\n",
      "/home/andre/git/private/electoralyze/.pixi/envs/default/lib/python3.13/site-packages/pyogrio/raw.py:723: RuntimeWarning: Normalized/laundered field name: 'triangle_name' to 'triangle_n'\n",
      "  ogr_write(\n",
      "/home/andre/git/private/electoralyze/packages/electoralyze/electoralyze/common/testing/region_fixture.py:260: UserWarning: Column names longer than 10 characters will be truncated when saved to ESRI Shapefile.\n",
      "  region_gdf.pipe(to_geopandas).to_file(region_shape_file[region_id], driver=\"ESRI Shapefile\")\n",
      "/home/andre/git/private/electoralyze/.pixi/envs/default/lib/python3.13/site-packages/pyogrio/raw.py:723: RuntimeWarning: Normalized/laundered field name: 'rectangle_name' to 'rectangle_'\n",
      "  ogr_write(\n",
      "/home/andre/git/private/electoralyze/packages/electoralyze/electoralyze/common/testing/region_fixture.py:260: UserWarning: Column names longer than 10 characters will be truncated when saved to ESRI Shapefile.\n",
      "  region_gdf.pipe(to_geopandas).to_file(region_shape_file[region_id], driver=\"ESRI Shapefile\")\n",
      "/home/andre/git/private/electoralyze/.pixi/envs/default/lib/python3.13/site-packages/pyogrio/raw.py:723: RuntimeWarning: Normalized/laundered field name: 'square_name' to 'square_nam'\n",
      "  ogr_write(\n",
      "/home/andre/git/private/electoralyze/packages/electoralyze/electoralyze/common/testing/region_fixture.py:260: UserWarning: Column names longer than 10 characters will be truncated when saved to ESRI Shapefile.\n",
      "  region_gdf.pipe(to_geopandas).to_file(region_shape_file[region_id], driver=\"ESRI Shapefile\")\n",
      "/home/andre/git/private/electoralyze/.pixi/envs/default/lib/python3.13/site-packages/pyogrio/raw.py:723: RuntimeWarning: Normalized/laundered field name: 'l_and_r_name' to 'l_and_r_na'\n",
      "  ogr_write(\n"
     ]
    },
    {
     "name": "stdout",
     "output_type": "stream",
     "text": [
      "Loading raw...\n",
      "Extracting...\n",
      "Transforming...\n",
      "Saving...\n",
      "Done!\n",
      "Loading raw...\n",
      "Extracting...\n",
      "Transforming...\n",
      "Saving...\n",
      "Done!\n",
      "Loading raw...\n",
      "Extracting...\n",
      "Transforming...\n",
      "Saving...\n",
      "Done!\n",
      "Loading raw...\n",
      "Extracting...\n",
      "Transforming...\n",
      "Saving...\n",
      "Done!\n",
      "Loading raw...\n",
      "Extracting...\n",
      "Transforming...\n",
      "Saving...\n",
      "Done!\n"
     ]
    }
   ],
   "source": [
    "import shutil\n",
    "import tempfile\n",
    "\n",
    "temp_dir = tempfile.TemporaryDirectory(delete=False)\n",
    "region_ = create_fake_regions(temp_dir.name)\n",
    "region_\n",
    "region_.quadrant.geometry\n",
    "region_.triangle.geometry\n",
    "region_.rectangle.geometry\n",
    "region_.square.geometry\n",
    "region_.l_and_r.geometry\n",
    "shutil.rmtree(temp_dir.name)"
   ]
  },
  {
   "cell_type": "code",
   "execution_count": 82,
   "metadata": {},
   "outputs": [],
   "source": [
    "from electoralyze.common.testing.region_fixture import ONE_SQUARE_REGION_ID"
   ]
  },
  {
   "cell_type": "code",
   "execution_count": 83,
   "metadata": {},
   "outputs": [
    {
     "data": {
      "text/plain": [
       "electoralyze.common.testing.region_fixture.RegionMocked"
      ]
     },
     "execution_count": 83,
     "metadata": {},
     "output_type": "execute_result"
    }
   ],
   "source": [
    "RegionMocked"
   ]
  },
  {
   "cell_type": "code",
   "execution_count": 84,
   "metadata": {},
   "outputs": [
    {
     "name": "stdout",
     "output_type": "stream",
     "text": [
      "shape: (1, 2)\n",
      "┌──────────┬──────┐\n",
      "│ triangle ┆ data │\n",
      "│ ---      ┆ ---  │\n",
      "│ str      ┆ i64  │\n",
      "╞══════════╪══════╡\n",
      "│ A        ┆ 1    │\n",
      "└──────────┴──────┘\n"
     ]
    },
    {
     "data": {
      "text/html": [
       "<div><style>\n",
       ".dataframe > thead > tr,\n",
       ".dataframe > tbody > tr {\n",
       "  text-align: right;\n",
       "  white-space: pre-wrap;\n",
       "}\n",
       "</style>\n",
       "<small>shape: (4, 2)</small><table border=\"1\" class=\"dataframe\"><thead><tr><th>quadrant</th><th>data</th></tr><tr><td>str</td><td>f64</td></tr></thead><tbody><tr><td>&quot;M&quot;</td><td>0.125</td></tr><tr><td>&quot;N&quot;</td><td>0.125</td></tr><tr><td>&quot;O&quot;</td><td>0.375</td></tr><tr><td>&quot;P&quot;</td><td>0.375</td></tr></tbody></table></div>"
      ],
      "text/plain": [
       "shape: (4, 2)\n",
       "┌──────────┬───────┐\n",
       "│ quadrant ┆ data  │\n",
       "│ ---      ┆ ---   │\n",
       "│ str      ┆ f64   │\n",
       "╞══════════╪═══════╡\n",
       "│ M        ┆ 0.125 │\n",
       "│ N        ┆ 0.125 │\n",
       "│ O        ┆ 0.375 │\n",
       "│ P        ┆ 0.375 │\n",
       "└──────────┴───────┘"
      ]
     },
     "execution_count": 84,
     "metadata": {},
     "output_type": "execute_result"
    }
   ],
   "source": [
    "data_by_from = pl.DataFrame({\"triangle\": [\"A\"], \"data\": [1]})\n",
    "print(data_by_from)\n",
    "redistribute(\n",
    "    data_by_from,\n",
    "    region_from=region_.triangle,\n",
    "    region_to=region_.quadrant,\n",
    "    mapping=\"intersection_area\",\n",
    "    redistribute_with_full=False,\n",
    ")"
   ]
  },
  {
   "cell_type": "code",
   "execution_count": 85,
   "metadata": {},
   "outputs": [
    {
     "name": "stdout",
     "output_type": "stream",
     "text": [
      "shape: (3, 2)\n",
      "┌───────────┬──────┐\n",
      "│ rectangle ┆ data │\n",
      "│ ---       ┆ ---  │\n",
      "│ str       ┆ i64  │\n",
      "╞═══════════╪══════╡\n",
      "│ X         ┆ 1    │\n",
      "│ Y         ┆ 1    │\n",
      "│ Z         ┆ 1    │\n",
      "└───────────┴──────┘\n"
     ]
    },
    {
     "data": {
      "text/html": [
       "<div><style>\n",
       ".dataframe > thead > tr,\n",
       ".dataframe > tbody > tr {\n",
       "  text-align: right;\n",
       "  white-space: pre-wrap;\n",
       "}\n",
       "</style>\n",
       "<small>shape: (3, 2)</small><table border=\"1\" class=\"dataframe\"><thead><tr><th>triangle</th><th>data</th></tr><tr><td>str</td><td>f64</td></tr></thead><tbody><tr><td>&quot;B&quot;</td><td>0.75</td></tr><tr><td>&quot;A&quot;</td><td>1.5</td></tr><tr><td>&quot;C&quot;</td><td>0.75</td></tr></tbody></table></div>"
      ],
      "text/plain": [
       "shape: (3, 2)\n",
       "┌──────────┬──────┐\n",
       "│ triangle ┆ data │\n",
       "│ ---      ┆ ---  │\n",
       "│ str      ┆ f64  │\n",
       "╞══════════╪══════╡\n",
       "│ B        ┆ 0.75 │\n",
       "│ A        ┆ 1.5  │\n",
       "│ C        ┆ 0.75 │\n",
       "└──────────┴──────┘"
      ]
     },
     "execution_count": 85,
     "metadata": {},
     "output_type": "execute_result"
    }
   ],
   "source": [
    "data_by_from = pl.DataFrame({\"rectangle\": [\"X\", \"Y\", \"Z\"], \"data\": [1, 1, 1]})\n",
    "print(data_by_from)\n",
    "redistribute(\n",
    "    data_by_from,\n",
    "    region_from=region_.rectangle,\n",
    "    region_via=region_.quadrant,\n",
    "    region_to=region_.triangle,\n",
    "    mapping=\"intersection_area\",\n",
    "    redistribute_with_full=False,\n",
    ")"
   ]
  },
  {
   "cell_type": "code",
   "execution_count": 86,
   "metadata": {},
   "outputs": [
    {
     "name": "stdout",
     "output_type": "stream",
     "text": [
      "shape: (1, 2)\n",
      "┌────────┬──────┐\n",
      "│ square ┆ data │\n",
      "│ ---    ┆ ---  │\n",
      "│ str    ┆ i64  │\n",
      "╞════════╪══════╡\n",
      "│ main   ┆ 100  │\n",
      "└────────┴──────┘\n"
     ]
    },
    {
     "data": {
      "text/html": [
       "<div><style>\n",
       ".dataframe > thead > tr,\n",
       ".dataframe > tbody > tr {\n",
       "  text-align: right;\n",
       "  white-space: pre-wrap;\n",
       "}\n",
       "</style>\n",
       "<small>shape: (2, 2)</small><table border=\"1\" class=\"dataframe\"><thead><tr><th>l_and_r</th><th>data</th></tr><tr><td>str</td><td>f64</td></tr></thead><tbody><tr><td>&quot;R&quot;</td><td>50.0</td></tr><tr><td>&quot;L&quot;</td><td>50.0</td></tr></tbody></table></div>"
      ],
      "text/plain": [
       "shape: (2, 2)\n",
       "┌─────────┬──────┐\n",
       "│ l_and_r ┆ data │\n",
       "│ ---     ┆ ---  │\n",
       "│ str     ┆ f64  │\n",
       "╞═════════╪══════╡\n",
       "│ R       ┆ 50.0 │\n",
       "│ L       ┆ 50.0 │\n",
       "└─────────┴──────┘"
      ]
     },
     "execution_count": 86,
     "metadata": {},
     "output_type": "execute_result"
    }
   ],
   "source": [
    "data_by_from = pl.DataFrame({\"square\": [\"main\"], \"data\": [100]})\n",
    "print(data_by_from)\n",
    "redistribute(\n",
    "    data_by_from,\n",
    "    region_from=region_.square,\n",
    "    region_via=region_.quadrant,\n",
    "    region_to=region_.l_and_r,\n",
    "    mapping=\"intersection_area\",\n",
    "    redistribute_with_full=False,\n",
    ")"
   ]
  },
  {
   "cell_type": "code",
   "execution_count": 87,
   "metadata": {},
   "outputs": [
    {
     "name": "stdout",
     "output_type": "stream",
     "text": [
      "shape: (1, 2)\n",
      "┌────────┬──────┐\n",
      "│ square ┆ data │\n",
      "│ ---    ┆ ---  │\n",
      "│ str    ┆ i64  │\n",
      "╞════════╪══════╡\n",
      "│ main   ┆ 100  │\n",
      "└────────┴──────┘\n"
     ]
    },
    {
     "data": {
      "text/html": [
       "<div><style>\n",
       ".dataframe > thead > tr,\n",
       ".dataframe > tbody > tr {\n",
       "  text-align: right;\n",
       "  white-space: pre-wrap;\n",
       "}\n",
       "</style>\n",
       "<small>shape: (3, 2)</small><table border=\"1\" class=\"dataframe\"><thead><tr><th>l_and_r</th><th>data</th></tr><tr><td>str</td><td>f64</td></tr></thead><tbody><tr><td>&quot;R&quot;</td><td>37.5</td></tr><tr><td>&quot;L&quot;</td><td>37.5</td></tr><tr><td>null</td><td>25.0</td></tr></tbody></table></div>"
      ],
      "text/plain": [
       "shape: (3, 2)\n",
       "┌─────────┬──────┐\n",
       "│ l_and_r ┆ data │\n",
       "│ ---     ┆ ---  │\n",
       "│ str     ┆ f64  │\n",
       "╞═════════╪══════╡\n",
       "│ R       ┆ 37.5 │\n",
       "│ L       ┆ 37.5 │\n",
       "│ null    ┆ 25.0 │\n",
       "└─────────┴──────┘"
      ]
     },
     "execution_count": 87,
     "metadata": {},
     "output_type": "execute_result"
    }
   ],
   "source": [
    "data_by_from = pl.DataFrame({\"square\": [\"main\"], \"data\": [100]})\n",
    "print(data_by_from)\n",
    "redistribute(\n",
    "    data_by_from,\n",
    "    region_from=region_.square,\n",
    "    region_via=region_.triangle,\n",
    "    region_to=region_.l_and_r,\n",
    "    mapping=\"intersection_area\",\n",
    "    redistribute_with_full=False,\n",
    ")"
   ]
  },
  {
   "cell_type": "code",
   "execution_count": 88,
   "metadata": {},
   "outputs": [],
   "source": [
    "def test_redistribute_via(\n",
    "    region: RegionMocked, _name: str, region_ids: dict, redistribute_kwargs: dict, redistributed_expected: dict\n",
    "):\n",
    "    redistributed_to = redistribute(\n",
    "        region_from=region.from_id(region_ids[\"region_id_from\"]),\n",
    "        region_to=region.from_id(region_ids[\"region_id_via\"]),\n",
    "        **redistribute_kwargs,\n",
    "    )\n",
    "\n",
    "    pl.testing.assert_frame_equal(\n",
    "        redistributed_to,\n",
    "        redistributed_expected[\"to\"],\n",
    "        check_row_order=False,\n",
    "        check_column_order=False,\n",
    "    )\n",
    "\n",
    "    redistributed_via = redistribute(\n",
    "        region_from=region.from_id(region_ids[\"region_id_from\"]),\n",
    "        region_via=region.from_id(region_ids[\"region_id_via\"]),\n",
    "        region_to=region.from_id(region_ids[\"region_id_to\"]),\n",
    "        **redistribute_kwargs,\n",
    "    )\n",
    "\n",
    "    pl.testing.assert_frame_equal(\n",
    "        redistributed_via,\n",
    "        redistributed_expected[\"via\"],\n",
    "        check_row_order=False,\n",
    "        check_column_order=False,\n",
    "    )"
   ]
  },
  {
   "cell_type": "code",
   "execution_count": 89,
   "metadata": {},
   "outputs": [
    {
     "data": {
      "text/plain": [
       "[{'l_and_r': 'L', 'data': 32}, {'l_and_r': 'R', 'data': 64}]"
      ]
     },
     "execution_count": 89,
     "metadata": {},
     "output_type": "execute_result"
    }
   ],
   "source": [
    "pl.DataFrame({\"l_and_r\": [\"L\", \"R\"], \"data\": [32, 64]}).rows(named=True)"
   ]
  },
  {
   "cell_type": "code",
   "execution_count": 90,
   "metadata": {},
   "outputs": [
    {
     "name": "stdout",
     "output_type": "stream",
     "text": [
      "shape: (2, 2)\n",
      "┌─────────┬──────┐\n",
      "│ l_and_r ┆ data │\n",
      "│ ---     ┆ ---  │\n",
      "│ str     ┆ i64  │\n",
      "╞═════════╪══════╡\n",
      "│ L       ┆ 32   │\n",
      "│ R       ┆ 64   │\n",
      "└─────────┴──────┘\n"
     ]
    },
    {
     "data": {
      "text/html": [
       "<div><style>\n",
       ".dataframe > thead > tr,\n",
       ".dataframe > tbody > tr {\n",
       "  text-align: right;\n",
       "  white-space: pre-wrap;\n",
       "}\n",
       "</style>\n",
       "<small>shape: (5, 2)</small><table border=\"1\" class=\"dataframe\"><thead><tr><th>quadrant</th><th>data</th></tr><tr><td>str</td><td>f64</td></tr></thead><tbody><tr><td>&quot;P&quot;</td><td>22.0</td></tr><tr><td>&quot;N&quot;</td><td>18.0</td></tr><tr><td>null</td><td>24.0</td></tr><tr><td>&quot;M&quot;</td><td>12.0</td></tr><tr><td>&quot;O&quot;</td><td>20.0</td></tr></tbody></table></div>"
      ],
      "text/plain": [
       "shape: (5, 2)\n",
       "┌──────────┬──────┐\n",
       "│ quadrant ┆ data │\n",
       "│ ---      ┆ ---  │\n",
       "│ str      ┆ f64  │\n",
       "╞══════════╪══════╡\n",
       "│ P        ┆ 22.0 │\n",
       "│ N        ┆ 18.0 │\n",
       "│ null     ┆ 24.0 │\n",
       "│ M        ┆ 12.0 │\n",
       "│ O        ┆ 20.0 │\n",
       "└──────────┴──────┘"
      ]
     },
     "execution_count": 90,
     "metadata": {},
     "output_type": "execute_result"
    }
   ],
   "source": [
    "data_by_from = pl.DataFrame({\"l_and_r\": [\"L\", \"R\"], \"data\": [32, 64]})\n",
    "print(data_by_from)\n",
    "_name = \"L R through Triangle to quadrents\"\n",
    "redistribute_kwargs = dict(\n",
    "    data_by_from=data_by_from,\n",
    "    mapping=\"intersection_area\",\n",
    "    redistribute_with_full=False,\n",
    ")\n",
    "region_ids = dict(\n",
    "    region_id_from=\"l_and_r\",\n",
    "    region_id_to=\"quadrant\",\n",
    "    region_id_via=\"triangle\",\n",
    ")\n",
    "\n",
    "redistributed_expected = dict(\n",
    "    via=pl.DataFrame({\"quadrant\": [\"O\", \"M\", \"P\", None, \"N\"], \"data\": [20.0, 12.0, 22.0, 24.0, 18.0]}),\n",
    "    to=pl.DataFrame({\"triangle\": [\"A\", \"B\", \"C\"], \"data\": [48.0, 16.0, 32.0]}),\n",
    ")\n",
    "\n",
    "test_redistribute_via(\n",
    "    _name=_name,\n",
    "    region=region_,\n",
    "    region_ids=region_ids,\n",
    "    redistribute_kwargs=redistribute_kwargs,\n",
    "    redistributed_expected=redistributed_expected,\n",
    ")\n",
    "\n",
    "redistribute(\n",
    "    region_from=region_.from_id(region_ids[\"region_id_from\"]),\n",
    "    region_via=region_.from_id(region_ids[\"region_id_via\"]),\n",
    "    region_to=region_.from_id(region_ids[\"region_id_to\"]),\n",
    "    **redistribute_kwargs,\n",
    ")  # .to_dict(as_series=False)\n",
    "# ).rows(named = True)"
   ]
  },
  {
   "cell_type": "code",
   "execution_count": 91,
   "metadata": {},
   "outputs": [
    {
     "name": "stdout",
     "output_type": "stream",
     "text": [
      "shape: (1, 2)\n",
      "┌────────┬──────┐\n",
      "│ square ┆ data │\n",
      "│ ---    ┆ ---  │\n",
      "│ str    ┆ f64  │\n",
      "╞════════╪══════╡\n",
      "│ main   ┆ 64.0 │\n",
      "└────────┴──────┘\n"
     ]
    }
   ],
   "source": [
    "pl.DataFrame(\n",
    "    {\n",
    "        ONE_SQUARE_REGION_ID: [\"main\"],\n",
    "        \"data\": [64.0],\n",
    "    }\n",
    ").pipe(print)"
   ]
  },
  {
   "cell_type": "code",
   "execution_count": 92,
   "metadata": {},
   "outputs": [
    {
     "name": "stdout",
     "output_type": "stream",
     "text": [
      "shape: (5, 2)\n",
      "┌──────────┬──────┐\n",
      "│ quadrant ┆ data │\n",
      "│ ---      ┆ ---  │\n",
      "│ str      ┆ f64  │\n",
      "╞══════════╪══════╡\n",
      "│ null     ┆ 16.0 │\n",
      "│ P        ┆ 14.0 │\n",
      "│ M        ┆ 10.0 │\n",
      "│ O        ┆ 14.0 │\n",
      "│ N        ┆ 10.0 │\n",
      "└──────────┴──────┘\n"
     ]
    }
   ],
   "source": [
    "redistribute(\n",
    "    data_by_from=pl.DataFrame(\n",
    "        {\n",
    "            ONE_SQUARE_REGION_ID: [\"main\"],\n",
    "            \"data\": [64.0],\n",
    "        }\n",
    "    ),\n",
    "    region_from=region_.square,\n",
    "    region_via=region_.triangle,\n",
    "    region_to=region_.quadrant,\n",
    "    mapping=\"intersection_area\",\n",
    "    redistribute_with_full=False,\n",
    "    # aggregation=\"min\",\n",
    "    errors=False,\n",
    ").pipe(print)  # .to_dict(as_series=False)\n",
    "# ).rows(named = True)"
   ]
  },
  {
   "cell_type": "code",
   "execution_count": 93,
   "metadata": {},
   "outputs": [],
   "source": [
    "# region_.quadrant.geometry.pipe(to_geopandas).pipe(print)\n",
    "# region_.square.geometry.pipe(to_geopandas).pipe(print)\n",
    "# region_.triangle.geometry.pipe(to_geopandas).pipe(print)\n",
    "# region_.quadrant.geometry.pipe(print)\n",
    "# region_.square.geometry.pipe(print)\n",
    "# region_.triangle.geometry.pipe(print)"
   ]
  },
  {
   "cell_type": "code",
   "execution_count": 94,
   "metadata": {},
   "outputs": [
    {
     "name": "stdout",
     "output_type": "stream",
     "text": [
      "shape: (2, 2)\n",
      "┌─────────┬──────┐\n",
      "│ l_and_r ┆ data │\n",
      "│ ---     ┆ ---  │\n",
      "│ str     ┆ i64  │\n",
      "╞═════════╪══════╡\n",
      "│ L       ┆ 32   │\n",
      "│ R       ┆ 64   │\n",
      "└─────────┴──────┘\n"
     ]
    }
   ],
   "source": [
    "redistribute_kwargs[\"data_by_from\"].pipe(print)"
   ]
  },
  {
   "cell_type": "code",
   "execution_count": 95,
   "metadata": {},
   "outputs": [
    {
     "data": {
      "text/plain": [
       "[{'triangle': 'A', 'data': 48.0},\n",
       " {'triangle': 'B', 'data': 16.0},\n",
       " {'triangle': 'C', 'data': 32.0}]"
      ]
     },
     "execution_count": 95,
     "metadata": {},
     "output_type": "execute_result"
    }
   ],
   "source": [
    "redistributed_expected.get(\"to\").rows(named=True)"
   ]
  },
  {
   "cell_type": "code",
   "execution_count": 96,
   "metadata": {},
   "outputs": [],
   "source": [
    "from electoralyze.common.testing.region_fixture import FOUR_SQUARE_REGION_ID, LEFT_RIGHT_REGION_ID, ONE_SQUARE_REGION_ID"
   ]
  },
  {
   "cell_type": "code",
   "execution_count": 97,
   "metadata": {},
   "outputs": [],
   "source": [
    "_name = \"from one square -> via quadrants -> to L and R, \"\n",
    "region_ids = dict(\n",
    "    region_id_from=ONE_SQUARE_REGION_ID,\n",
    "    region_id_via=FOUR_SQUARE_REGION_ID,\n",
    "    region_id_to=LEFT_RIGHT_REGION_ID,\n",
    ")\n",
    "redistribute_kwargs = dict(\n",
    "    data_by_from=pl.DataFrame(\n",
    "        [\n",
    "            {ONE_SQUARE_REGION_ID: \"O\", \"data\": 100},\n",
    "        ]\n",
    "    ),\n",
    "    mapping=\"intersection_area\",\n",
    "    redistribute_with_full=True,\n",
    ")\n",
    "redistributed_expected = dict(\n",
    "    to=pl.DataFrame(\n",
    "        [\n",
    "            {FOUR_SQUARE_REGION_ID: \"N\", \"data\": 25.0},\n",
    "            {FOUR_SQUARE_REGION_ID: \"M\", \"data\": 25.0},\n",
    "            {FOUR_SQUARE_REGION_ID: \"O\", \"data\": 25.0},\n",
    "            {FOUR_SQUARE_REGION_ID: \"P\", \"data\": 25.0},\n",
    "        ]\n",
    "    ),\n",
    "    via=pl.DataFrame(\n",
    "        [\n",
    "            {LEFT_RIGHT_REGION_ID: \"L\", \"data\": 50.0},\n",
    "            {LEFT_RIGHT_REGION_ID: \"R\", \"data\": 50.0},\n",
    "        ]\n",
    "    ),\n",
    ")"
   ]
  },
  {
   "cell_type": "code",
   "execution_count": 98,
   "metadata": {},
   "outputs": [
    {
     "name": "stdout",
     "output_type": "stream",
     "text": [
      "shape: (4, 3)\n",
      "┌────────┬──────────┬─────────┐\n",
      "│ square ┆ quadrant ┆ mapping │\n",
      "│ ---    ┆ ---      ┆ ---     │\n",
      "│ str    ┆ str      ┆ f64     │\n",
      "╞════════╪══════════╪═════════╡\n",
      "│ main   ┆ M        ┆ 16.0    │\n",
      "│ main   ┆ N        ┆ 16.0    │\n",
      "│ main   ┆ O        ┆ 16.0    │\n",
      "│ main   ┆ P        ┆ 16.0    │\n",
      "└────────┴──────────┴─────────┘\n"
     ]
    }
   ],
   "source": [
    "_create_intersection_area_mapping(\n",
    "    region_.from_id(region_ids[\"region_id_from\"]).geometry,\n",
    "    region_.from_id(region_ids[\"region_id_via\"]).geometry,\n",
    ").pipe(print)"
   ]
  },
  {
   "cell_type": "code",
   "execution_count": 99,
   "metadata": {},
   "outputs": [],
   "source": [
    "# region_.from_id(region_ids[\"region_id_from\"]).geometry.pipe(to_geopandas).explore()"
   ]
  },
  {
   "cell_type": "code",
   "execution_count": 100,
   "metadata": {},
   "outputs": [],
   "source": [
    "# region_.from_id(region_ids[\"region_id_via\"]).geometry.pipe(to_geopandas).explore()"
   ]
  },
  {
   "cell_type": "code",
   "execution_count": 101,
   "metadata": {},
   "outputs": [
    {
     "name": "stderr",
     "output_type": "stream",
     "text": [
      "WARNING:root:Found differences in input and output data while redistributing.\n",
      "Miss match in data for column: 'data'. From: 100 -> To: 0.0\n"
     ]
    },
    {
     "data": {
      "text/html": [
       "<div><style>\n",
       ".dataframe > thead > tr,\n",
       ".dataframe > tbody > tr {\n",
       "  text-align: right;\n",
       "  white-space: pre-wrap;\n",
       "}\n",
       "</style>\n",
       "<small>shape: (0, 2)</small><table border=\"1\" class=\"dataframe\"><thead><tr><th>quadrant</th><th>data</th></tr><tr><td>str</td><td>f64</td></tr></thead><tbody></tbody></table></div>"
      ],
      "text/plain": [
       "shape: (0, 2)\n",
       "┌──────────┬──────┐\n",
       "│ quadrant ┆ data │\n",
       "│ ---      ┆ ---  │\n",
       "│ str      ┆ f64  │\n",
       "╞══════════╪══════╡\n",
       "└──────────┴──────┘"
      ]
     },
     "execution_count": 101,
     "metadata": {},
     "output_type": "execute_result"
    }
   ],
   "source": [
    "redistribute(\n",
    "    region_from=region_.from_id(region_ids[\"region_id_from\"]),\n",
    "    # region_via=region_.from_id(region_via_id),\n",
    "    region_to=region_.from_id(region_ids[\"region_id_via\"]),\n",
    "    # region_to=region_.from_id(region_to_id),\n",
    "    data_by_from=redistribute_kwargs[\"data_by_from\"],\n",
    "    mapping=redistribute_kwargs[\"mapping\"],\n",
    "    redistribute_with_full=False,\n",
    "    errors=\"warning\",\n",
    ")"
   ]
  },
  {
   "cell_type": "code",
   "execution_count": 102,
   "metadata": {},
   "outputs": [
    {
     "name": "stdout",
     "output_type": "stream",
     "text": [
      "das\n"
     ]
    }
   ],
   "source": [
    "from polars.exceptions import ColumnNotFoundError\n",
    "\n",
    "try:\n",
    "    region_.from_id(ONE_SQUARE_REGION_ID).geometry.select(\"square1\")\n",
    "except ColumnNotFoundError:\n",
    "    print(\"das\")"
   ]
  },
  {
   "cell_type": "code",
   "execution_count": 103,
   "metadata": {},
   "outputs": [
    {
     "ename": "ValueError",
     "evalue": "`from` and `to` region cannot be the same. Both were 'square'",
     "output_type": "error",
     "traceback": [
      "\u001b[0;31m---------------------------------------------------------------------------\u001b[0m",
      "\u001b[0;31mValueError\u001b[0m                                Traceback (most recent call last)",
      "Cell \u001b[0;32mIn[103], line 1\u001b[0m\n\u001b[0;32m----> 1\u001b[0m \u001b[43mredistribute\u001b[49m\u001b[43m(\u001b[49m\n\u001b[1;32m      2\u001b[0m \u001b[43m    \u001b[49m\u001b[43mregion_from\u001b[49m\u001b[38;5;241;43m=\u001b[39;49m\u001b[43mregion_\u001b[49m\u001b[38;5;241;43m.\u001b[39;49m\u001b[43mfrom_id\u001b[49m\u001b[43m(\u001b[49m\u001b[43mONE_SQUARE_REGION_ID\u001b[49m\u001b[43m)\u001b[49m\u001b[43m,\u001b[49m\n\u001b[1;32m      3\u001b[0m \u001b[43m    \u001b[49m\u001b[43mregion_to\u001b[49m\u001b[38;5;241;43m=\u001b[39;49m\u001b[43mregion_\u001b[49m\u001b[38;5;241;43m.\u001b[39;49m\u001b[43mfrom_id\u001b[49m\u001b[43m(\u001b[49m\u001b[43mONE_SQUARE_REGION_ID\u001b[49m\u001b[43m)\u001b[49m\u001b[43m,\u001b[49m\n\u001b[1;32m      4\u001b[0m \u001b[43m    \u001b[49m\u001b[43mdata_by_from\u001b[49m\u001b[38;5;241;43m=\u001b[39;49m\u001b[43mpl\u001b[49m\u001b[38;5;241;43m.\u001b[39;49m\u001b[43mDataFrame\u001b[49m\u001b[43m(\u001b[49m\u001b[43m{\u001b[49m\u001b[43mONE_SQUARE_REGION_ID\u001b[49m\u001b[43m:\u001b[49m\u001b[43m \u001b[49m\u001b[43m[\u001b[49m\u001b[38;5;124;43m\"\u001b[39;49m\u001b[38;5;124;43mO\u001b[39;49m\u001b[38;5;124;43m\"\u001b[39;49m\u001b[43m]\u001b[49m\u001b[43m,\u001b[49m\u001b[43m \u001b[49m\u001b[38;5;124;43m\"\u001b[39;49m\u001b[38;5;124;43mdata\u001b[39;49m\u001b[38;5;124;43m\"\u001b[39;49m\u001b[43m:\u001b[49m\u001b[43m \u001b[49m\u001b[43m[\u001b[49m\u001b[38;5;241;43m100\u001b[39;49m\u001b[43m]\u001b[49m\u001b[43m}\u001b[49m\u001b[43m)\u001b[49m\u001b[43m,\u001b[49m\n\u001b[1;32m      5\u001b[0m \u001b[43m    \u001b[49m\u001b[38;5;66;43;03m# create_region_mapping_base=False,\u001b[39;49;00m\n\u001b[1;32m      6\u001b[0m \u001b[43m    \u001b[49m\u001b[43mredistribute_with_full\u001b[49m\u001b[38;5;241;43m=\u001b[39;49m\u001b[38;5;28;43;01mFalse\u001b[39;49;00m\u001b[43m,\u001b[49m\n\u001b[1;32m      7\u001b[0m \u001b[43m)\u001b[49m\n",
      "File \u001b[0;32m~/git/private/electoralyze/packages/electoralyze/electoralyze/region/redistribute/redistribute.py:129\u001b[0m, in \u001b[0;36mredistribute\u001b[0;34m(data_by_from, region_from, region_to, index_columns, region_via, weights, mapping, aggregation, redistribute_with_full, errors)\u001b[0m\n\u001b[1;32m    126\u001b[0m     \u001b[38;5;28;01mraise\u001b[39;00m \u001b[38;5;167;01mValueError\u001b[39;00m(\u001b[38;5;124mf\u001b[39m\u001b[38;5;124m\"\u001b[39m\u001b[38;5;124mFrom region column `\u001b[39m\u001b[38;5;132;01m{\u001b[39;00mregion_from\u001b[38;5;241m.\u001b[39mid\u001b[38;5;132;01m}\u001b[39;00m\u001b[38;5;124m` not found in data_by_from.\u001b[39m\u001b[38;5;124m\"\u001b[39m)\n\u001b[1;32m    128\u001b[0m \u001b[38;5;28;01mif\u001b[39;00m region_from\u001b[38;5;241m.\u001b[39mid \u001b[38;5;241m==\u001b[39m region_to\u001b[38;5;241m.\u001b[39mid:\n\u001b[0;32m--> 129\u001b[0m     \u001b[38;5;28;01mraise\u001b[39;00m \u001b[38;5;167;01mValueError\u001b[39;00m(\u001b[38;5;124mf\u001b[39m\u001b[38;5;124m\"\u001b[39m\u001b[38;5;124m`from` and `to` region cannot be the same. Both were \u001b[39m\u001b[38;5;132;01m{\u001b[39;00mregion_from\u001b[38;5;241m.\u001b[39mid\u001b[38;5;132;01m!r}\u001b[39;00m\u001b[38;5;124m\"\u001b[39m)\n\u001b[1;32m    131\u001b[0m data_columns \u001b[38;5;241m=\u001b[39m \u001b[38;5;28mlist\u001b[39m(\u001b[38;5;28mset\u001b[39m(data_by_from\u001b[38;5;241m.\u001b[39mcolumns) \u001b[38;5;241m-\u001b[39m \u001b[38;5;28mset\u001b[39m(index_columns) \u001b[38;5;241m-\u001b[39m {region_from\u001b[38;5;241m.\u001b[39mid, region_to\u001b[38;5;241m.\u001b[39mid})\n\u001b[1;32m    133\u001b[0m \u001b[38;5;28;01mif\u001b[39;00m \u001b[38;5;129;01mnot\u001b[39;00m data_columns:\n",
      "\u001b[0;31mValueError\u001b[0m: `from` and `to` region cannot be the same. Both were 'square'"
     ]
    }
   ],
   "source": [
    "redistribute(\n",
    "    region_from=region_.from_id(ONE_SQUARE_REGION_ID),\n",
    "    region_to=region_.from_id(ONE_SQUARE_REGION_ID),\n",
    "    data_by_from=pl.DataFrame({ONE_SQUARE_REGION_ID: [\"O\"], \"data\": [100]}),\n",
    "    # create_region_mapping_base=False,\n",
    "    redistribute_with_full=False,\n",
    ")"
   ]
  },
  {
   "cell_type": "code",
   "execution_count": 104,
   "metadata": {},
   "outputs": [
    {
     "name": "stdout",
     "output_type": "stream",
     "text": [
      "Extracting...\n"
     ]
    },
    {
     "ename": "DataSourceError",
     "evalue": "/tmp/tmp9dg8igyy/raw_geometry/square/shape.shp: No such file or directory",
     "output_type": "error",
     "traceback": [
      "\u001b[0;31m---------------------------------------------------------------------------\u001b[0m",
      "\u001b[0;31mDataSourceError\u001b[0m                           Traceback (most recent call last)",
      "Cell \u001b[0;32mIn[104], line 1\u001b[0m\n\u001b[0;32m----> 1\u001b[0m \u001b[43mtest_redistribute_via\u001b[49m\u001b[43m(\u001b[49m\n\u001b[1;32m      2\u001b[0m \u001b[43m    \u001b[49m\u001b[43m_name\u001b[49m\u001b[38;5;241;43m=\u001b[39;49m\u001b[43m_name\u001b[49m\u001b[43m,\u001b[49m\n\u001b[1;32m      3\u001b[0m \u001b[43m    \u001b[49m\u001b[43mregion\u001b[49m\u001b[38;5;241;43m=\u001b[39;49m\u001b[43mregion_\u001b[49m\u001b[43m,\u001b[49m\n\u001b[1;32m      4\u001b[0m \u001b[43m    \u001b[49m\u001b[43mregion_ids\u001b[49m\u001b[38;5;241;43m=\u001b[39;49m\u001b[43mregion_ids\u001b[49m\u001b[43m,\u001b[49m\n\u001b[1;32m      5\u001b[0m \u001b[43m    \u001b[49m\u001b[43mredistribute_kwargs\u001b[49m\u001b[38;5;241;43m=\u001b[39;49m\u001b[43mredistribute_kwargs\u001b[49m\u001b[43m,\u001b[49m\n\u001b[1;32m      6\u001b[0m \u001b[43m    \u001b[49m\u001b[43mredistributed_expected\u001b[49m\u001b[38;5;241;43m=\u001b[39;49m\u001b[43mredistributed_expected\u001b[49m\u001b[43m,\u001b[49m\n\u001b[1;32m      7\u001b[0m \u001b[43m)\u001b[49m\n",
      "Cell \u001b[0;32mIn[88], line 4\u001b[0m, in \u001b[0;36mtest_redistribute_via\u001b[0;34m(region, _name, region_ids, redistribute_kwargs, redistributed_expected)\u001b[0m\n\u001b[1;32m      1\u001b[0m \u001b[38;5;28;01mdef\u001b[39;00m \u001b[38;5;21mtest_redistribute_via\u001b[39m(\n\u001b[1;32m      2\u001b[0m     region: RegionMocked, _name: \u001b[38;5;28mstr\u001b[39m, region_ids: \u001b[38;5;28mdict\u001b[39m, redistribute_kwargs: \u001b[38;5;28mdict\u001b[39m, redistributed_expected: \u001b[38;5;28mdict\u001b[39m\n\u001b[1;32m      3\u001b[0m ):\n\u001b[0;32m----> 4\u001b[0m     redistributed_to \u001b[38;5;241m=\u001b[39m \u001b[43mredistribute\u001b[49m\u001b[43m(\u001b[49m\n\u001b[1;32m      5\u001b[0m \u001b[43m        \u001b[49m\u001b[43mregion_from\u001b[49m\u001b[38;5;241;43m=\u001b[39;49m\u001b[43mregion\u001b[49m\u001b[38;5;241;43m.\u001b[39;49m\u001b[43mfrom_id\u001b[49m\u001b[43m(\u001b[49m\u001b[43mregion_ids\u001b[49m\u001b[43m[\u001b[49m\u001b[38;5;124;43m\"\u001b[39;49m\u001b[38;5;124;43mregion_id_from\u001b[39;49m\u001b[38;5;124;43m\"\u001b[39;49m\u001b[43m]\u001b[49m\u001b[43m)\u001b[49m\u001b[43m,\u001b[49m\n\u001b[1;32m      6\u001b[0m \u001b[43m        \u001b[49m\u001b[43mregion_to\u001b[49m\u001b[38;5;241;43m=\u001b[39;49m\u001b[43mregion\u001b[49m\u001b[38;5;241;43m.\u001b[39;49m\u001b[43mfrom_id\u001b[49m\u001b[43m(\u001b[49m\u001b[43mregion_ids\u001b[49m\u001b[43m[\u001b[49m\u001b[38;5;124;43m\"\u001b[39;49m\u001b[38;5;124;43mregion_id_via\u001b[39;49m\u001b[38;5;124;43m\"\u001b[39;49m\u001b[43m]\u001b[49m\u001b[43m)\u001b[49m\u001b[43m,\u001b[49m\n\u001b[1;32m      7\u001b[0m \u001b[43m        \u001b[49m\u001b[38;5;241;43m*\u001b[39;49m\u001b[38;5;241;43m*\u001b[39;49m\u001b[43mredistribute_kwargs\u001b[49m\u001b[43m,\u001b[49m\n\u001b[1;32m      8\u001b[0m \u001b[43m    \u001b[49m\u001b[43m)\u001b[49m\n\u001b[1;32m     10\u001b[0m     pl\u001b[38;5;241m.\u001b[39mtesting\u001b[38;5;241m.\u001b[39massert_frame_equal(\n\u001b[1;32m     11\u001b[0m         redistributed_to,\n\u001b[1;32m     12\u001b[0m         redistributed_expected[\u001b[38;5;124m\"\u001b[39m\u001b[38;5;124mto\u001b[39m\u001b[38;5;124m\"\u001b[39m],\n\u001b[1;32m     13\u001b[0m         check_row_order\u001b[38;5;241m=\u001b[39m\u001b[38;5;28;01mFalse\u001b[39;00m,\n\u001b[1;32m     14\u001b[0m         check_column_order\u001b[38;5;241m=\u001b[39m\u001b[38;5;28;01mFalse\u001b[39;00m,\n\u001b[1;32m     15\u001b[0m     )\n\u001b[1;32m     17\u001b[0m     redistributed_via \u001b[38;5;241m=\u001b[39m redistribute(\n\u001b[1;32m     18\u001b[0m         region_from\u001b[38;5;241m=\u001b[39mregion\u001b[38;5;241m.\u001b[39mfrom_id(region_ids[\u001b[38;5;124m\"\u001b[39m\u001b[38;5;124mregion_id_from\u001b[39m\u001b[38;5;124m\"\u001b[39m]),\n\u001b[1;32m     19\u001b[0m         region_via\u001b[38;5;241m=\u001b[39mregion\u001b[38;5;241m.\u001b[39mfrom_id(region_ids[\u001b[38;5;124m\"\u001b[39m\u001b[38;5;124mregion_id_via\u001b[39m\u001b[38;5;124m\"\u001b[39m]),\n\u001b[1;32m     20\u001b[0m         region_to\u001b[38;5;241m=\u001b[39mregion\u001b[38;5;241m.\u001b[39mfrom_id(region_ids[\u001b[38;5;124m\"\u001b[39m\u001b[38;5;124mregion_id_to\u001b[39m\u001b[38;5;124m\"\u001b[39m]),\n\u001b[1;32m     21\u001b[0m         \u001b[38;5;241m*\u001b[39m\u001b[38;5;241m*\u001b[39mredistribute_kwargs,\n\u001b[1;32m     22\u001b[0m     )\n",
      "File \u001b[0;32m~/git/private/electoralyze/packages/electoralyze/electoralyze/region/redistribute/redistribute.py:150\u001b[0m, in \u001b[0;36mredistribute\u001b[0;34m(data_by_from, region_from, region_to, index_columns, region_via, weights, mapping, aggregation, redistribute_with_full, errors)\u001b[0m\n\u001b[1;32m    147\u001b[0m     data_by_from \u001b[38;5;241m=\u001b[39m data_by_through\n\u001b[1;32m    148\u001b[0m     region_from \u001b[38;5;241m=\u001b[39m region_via\n\u001b[0;32m--> 150\u001b[0m region_ratios \u001b[38;5;241m=\u001b[39m \u001b[43m_get_region_to_region_ratio\u001b[49m\u001b[43m(\u001b[49m\n\u001b[1;32m    151\u001b[0m \u001b[43m    \u001b[49m\u001b[43mregion_from\u001b[49m\u001b[38;5;241;43m=\u001b[39;49m\u001b[43mregion_from\u001b[49m\u001b[43m,\u001b[49m\n\u001b[1;32m    152\u001b[0m \u001b[43m    \u001b[49m\u001b[43mregion_to\u001b[49m\u001b[38;5;241;43m=\u001b[39;49m\u001b[43mregion_to\u001b[49m\u001b[43m,\u001b[49m\n\u001b[1;32m    153\u001b[0m \u001b[43m    \u001b[49m\u001b[43mmapping_method\u001b[49m\u001b[38;5;241;43m=\u001b[39;49m\u001b[43mmapping_method\u001b[49m\u001b[43m,\u001b[49m\n\u001b[1;32m    154\u001b[0m \u001b[43m    \u001b[49m\u001b[43mmapping_weights\u001b[49m\u001b[38;5;241;43m=\u001b[39;49m\u001b[43mmapping_weights\u001b[49m\u001b[43m,\u001b[49m\n\u001b[1;32m    155\u001b[0m \u001b[43m    \u001b[49m\u001b[43mredistribute_with_full\u001b[49m\u001b[38;5;241;43m=\u001b[39;49m\u001b[43mredistribute_with_full\u001b[49m\u001b[43m,\u001b[49m\n\u001b[1;32m    156\u001b[0m \u001b[43m\u001b[49m\u001b[43m)\u001b[49m\n\u001b[1;32m    158\u001b[0m data_distributed \u001b[38;5;241m=\u001b[39m _combine(\n\u001b[1;32m    159\u001b[0m     data_by_from\u001b[38;5;241m=\u001b[39mdata_by_from,\n\u001b[1;32m    160\u001b[0m     region_from\u001b[38;5;241m=\u001b[39mregion_from,\n\u001b[1;32m    161\u001b[0m     region_ratios\u001b[38;5;241m=\u001b[39mregion_ratios,\n\u001b[1;32m    162\u001b[0m     data_columns\u001b[38;5;241m=\u001b[39mdata_columns,\n\u001b[1;32m    163\u001b[0m )\n\u001b[1;32m    164\u001b[0m data_by_to \u001b[38;5;241m=\u001b[39m _aggregate(\n\u001b[1;32m    165\u001b[0m     data_distributed\u001b[38;5;241m=\u001b[39mdata_distributed,\n\u001b[1;32m    166\u001b[0m     region_to\u001b[38;5;241m=\u001b[39mregion_to,\n\u001b[0;32m   (...)\u001b[0m\n\u001b[1;32m    169\u001b[0m     data_columns\u001b[38;5;241m=\u001b[39mdata_columns,\n\u001b[1;32m    170\u001b[0m )\n",
      "File \u001b[0;32m~/git/private/electoralyze/packages/electoralyze/electoralyze/region/redistribute/redistribute.py:212\u001b[0m, in \u001b[0;36m_get_region_to_region_ratio\u001b[0;34m(region_from, region_to, mapping_method, mapping_weights, redistribute_with_full)\u001b[0m\n\u001b[1;32m    210\u001b[0m     region_mapping_all \u001b[38;5;241m=\u001b[39m mapping_method\n\u001b[1;32m    211\u001b[0m \u001b[38;5;28;01melse\u001b[39;00m:\n\u001b[0;32m--> 212\u001b[0m     region_mapping_all \u001b[38;5;241m=\u001b[39m \u001b[43mget_region_mapping_base\u001b[49m\u001b[43m(\u001b[49m\n\u001b[1;32m    213\u001b[0m \u001b[43m        \u001b[49m\u001b[43mregion_from\u001b[49m\u001b[38;5;241;43m=\u001b[39;49m\u001b[43mregion_from\u001b[49m\u001b[43m,\u001b[49m\n\u001b[1;32m    214\u001b[0m \u001b[43m        \u001b[49m\u001b[43mregion_to\u001b[49m\u001b[38;5;241;43m=\u001b[39;49m\u001b[43mregion_to\u001b[49m\u001b[43m,\u001b[49m\n\u001b[1;32m    215\u001b[0m \u001b[43m        \u001b[49m\u001b[43mmapping_method\u001b[49m\u001b[38;5;241;43m=\u001b[39;49m\u001b[43mmapping_method\u001b[49m\u001b[43m,\u001b[49m\n\u001b[1;32m    216\u001b[0m \u001b[43m        \u001b[49m\u001b[43mredistribute_with_full\u001b[49m\u001b[38;5;241;43m=\u001b[39;49m\u001b[43mredistribute_with_full\u001b[49m\u001b[43m,\u001b[49m\n\u001b[1;32m    217\u001b[0m \u001b[43m    \u001b[49m\u001b[43m)\u001b[49m\n\u001b[1;32m    219\u001b[0m \u001b[38;5;28;01mtry\u001b[39;00m:\n\u001b[1;32m    220\u001b[0m     region_mapping \u001b[38;5;241m=\u001b[39m region_mapping_all\u001b[38;5;241m.\u001b[39mselect(region_from\u001b[38;5;241m.\u001b[39mid, region_to\u001b[38;5;241m.\u001b[39mid, \u001b[38;5;124m\"\u001b[39m\u001b[38;5;124mmapping\u001b[39m\u001b[38;5;124m\"\u001b[39m)\n",
      "File \u001b[0;32m~/git/private/electoralyze/packages/electoralyze/electoralyze/region/redistribute/mapping.py:57\u001b[0m, in \u001b[0;36mget_region_mapping_base\u001b[0;34m(region_from, region_to, mapping_method, redistribute_with_full)\u001b[0m\n\u001b[1;32m     52\u001b[0m     \u001b[38;5;28;01mif\u001b[39;00m redistribute_with_full \u001b[38;5;129;01mis\u001b[39;00m \u001b[38;5;28;01mNone\u001b[39;00m:\n\u001b[1;32m     53\u001b[0m         \u001b[38;5;28;01mraise\u001b[39;00m \u001b[38;5;167;01mFileNotFoundError\u001b[39;00m(\n\u001b[1;32m     54\u001b[0m             \u001b[38;5;124mf\u001b[39m\u001b[38;5;124m\"\u001b[39m\u001b[38;5;124mMapping file not found for `\u001b[39m\u001b[38;5;132;01m{\u001b[39;00mregion_from\u001b[38;5;241m.\u001b[39mid\u001b[38;5;132;01m}\u001b[39;00m\u001b[38;5;124m` -> `\u001b[39m\u001b[38;5;132;01m{\u001b[39;00mregion_to\u001b[38;5;241m.\u001b[39mid\u001b[38;5;132;01m}\u001b[39;00m\u001b[38;5;124m` under mapping `\u001b[39m\u001b[38;5;132;01m{\u001b[39;00mmapping_method\u001b[38;5;132;01m}\u001b[39;00m\u001b[38;5;124m`. \u001b[39m\u001b[38;5;124m\"\u001b[39m\n\u001b[1;32m     55\u001b[0m             \u001b[38;5;124m\"\u001b[39m\u001b[38;5;124mConsider generating it with `create_region_mapping_base` or pass `redistribute_with_full=True/False`.\u001b[39m\u001b[38;5;124m\"\u001b[39m\n\u001b[1;32m     56\u001b[0m         )\n\u001b[0;32m---> 57\u001b[0m     region_mapping \u001b[38;5;241m=\u001b[39m \u001b[43mcreate_region_mapping_base\u001b[49m\u001b[43m(\u001b[49m\n\u001b[1;32m     58\u001b[0m \u001b[43m        \u001b[49m\u001b[43mregion_from\u001b[49m\u001b[43m,\u001b[49m\n\u001b[1;32m     59\u001b[0m \u001b[43m        \u001b[49m\u001b[43mregion_to\u001b[49m\u001b[43m,\u001b[49m\n\u001b[1;32m     60\u001b[0m \u001b[43m        \u001b[49m\u001b[43mmapping\u001b[49m\u001b[38;5;241;43m=\u001b[39;49m\u001b[43mmapping_method\u001b[49m\u001b[43m,\u001b[49m\n\u001b[1;32m     61\u001b[0m \u001b[43m        \u001b[49m\u001b[43mredistribute_with_full\u001b[49m\u001b[38;5;241;43m=\u001b[39;49m\u001b[43mredistribute_with_full\u001b[49m\u001b[43m,\u001b[49m\n\u001b[1;32m     62\u001b[0m \u001b[43m        \u001b[49m\u001b[43msave_data\u001b[49m\u001b[38;5;241;43m=\u001b[39;49m\u001b[38;5;28;43;01mFalse\u001b[39;49;00m\u001b[43m,\u001b[49m\n\u001b[1;32m     63\u001b[0m \u001b[43m    \u001b[49m\u001b[43m)\u001b[49m\n\u001b[1;32m     64\u001b[0m \u001b[38;5;28;01melse\u001b[39;00m:\n\u001b[1;32m     65\u001b[0m     region_mapping \u001b[38;5;241m=\u001b[39m pl\u001b[38;5;241m.\u001b[39mread_parquet(mapping_file)\n",
      "File \u001b[0;32m~/git/private/electoralyze/packages/electoralyze/electoralyze/region/redistribute/mapping.py:89\u001b[0m, in \u001b[0;36mcreate_region_mapping_base\u001b[0;34m(region_from, region_to, mapping, redistribute_with_full, save_data)\u001b[0m\n\u001b[1;32m     78\u001b[0m \u001b[38;5;250m\u001b[39m\u001b[38;5;124;03m\"\"\"Create region mapping base, saves data locally if `save_data = True`.\u001b[39;00m\n\u001b[1;32m     79\u001b[0m \n\u001b[1;32m     80\u001b[0m \u001b[38;5;124;03mParameters\u001b[39;00m\n\u001b[0;32m   (...)\u001b[0m\n\u001b[1;32m     86\u001b[0m \u001b[38;5;124;03mpl.DataFrame, mapping from region_from to region_to if needed\u001b[39;00m\n\u001b[1;32m     87\u001b[0m \u001b[38;5;124;03m\"\"\"\u001b[39;00m\n\u001b[1;32m     88\u001b[0m \u001b[38;5;28;01mif\u001b[39;00m redistribute_with_full:\n\u001b[0;32m---> 89\u001b[0m     geometry_from: st\u001b[38;5;241m.\u001b[39mGeoDataFrame \u001b[38;5;241m=\u001b[39m \u001b[43mregion_from\u001b[49m\u001b[38;5;241;43m.\u001b[39;49m\u001b[43mget_raw_geometry\u001b[49m\u001b[43m(\u001b[49m\u001b[43m)\u001b[49m\n\u001b[1;32m     90\u001b[0m     geometry_to: st\u001b[38;5;241m.\u001b[39mGeoDataFrame \u001b[38;5;241m=\u001b[39m region_to\u001b[38;5;241m.\u001b[39mget_raw_geometry()\n\u001b[1;32m     91\u001b[0m \u001b[38;5;28;01melse\u001b[39;00m:\n",
      "File \u001b[0;32m~/git/private/electoralyze/packages/electoralyze/electoralyze/region/region_abc.py:273\u001b[0m, in \u001b[0;36mRegionABC.get_raw_geometry\u001b[0;34m(cls)\u001b[0m\n\u001b[1;32m    270\u001b[0m \u001b[38;5;129m@classmethod\u001b[39m\n\u001b[1;32m    271\u001b[0m \u001b[38;5;28;01mdef\u001b[39;00m \u001b[38;5;21mget_raw_geometry\u001b[39m(\u001b[38;5;28mcls\u001b[39m) \u001b[38;5;241m-\u001b[39m\u001b[38;5;241m>\u001b[39m st\u001b[38;5;241m.\u001b[39mGeoDataFrame:\n\u001b[1;32m    272\u001b[0m \u001b[38;5;250m    \u001b[39m\u001b[38;5;124;03m\"\"\"Get full raw geometry. Loads from raw file. may take a while.\"\"\"\u001b[39;00m\n\u001b[0;32m--> 273\u001b[0m     geometry_with_metadata \u001b[38;5;241m=\u001b[39m \u001b[38;5;28;43mcls\u001b[39;49m\u001b[38;5;241;43m.\u001b[39;49m\u001b[43m_get_geometry_with_metadata\u001b[49m\u001b[43m(\u001b[49m\u001b[43m)\u001b[49m\n\u001b[1;32m    274\u001b[0m     geometry: gpd\u001b[38;5;241m.\u001b[39mGeoDataFrame \u001b[38;5;241m=\u001b[39m geometry_with_metadata\u001b[38;5;241m.\u001b[39mselect(\u001b[38;5;28mcls\u001b[39m\u001b[38;5;241m.\u001b[39mid, \u001b[38;5;124m\"\u001b[39m\u001b[38;5;124mgeometry\u001b[39m\u001b[38;5;124m\"\u001b[39m)\n\u001b[1;32m    275\u001b[0m     \u001b[38;5;28;01mreturn\u001b[39;00m geometry\n",
      "File \u001b[0;32m~/git/private/electoralyze/.pixi/envs/default/lib/python3.13/site-packages/cachetools/__init__.py:752\u001b[0m, in \u001b[0;36mcached.<locals>.decorator.<locals>.wrapper\u001b[0;34m(*args, **kwargs)\u001b[0m\n\u001b[1;32m    750\u001b[0m \u001b[38;5;28;01mexcept\u001b[39;00m \u001b[38;5;167;01mKeyError\u001b[39;00m:\n\u001b[1;32m    751\u001b[0m     \u001b[38;5;28;01mpass\u001b[39;00m  \u001b[38;5;66;03m# key not found\u001b[39;00m\n\u001b[0;32m--> 752\u001b[0m v \u001b[38;5;241m=\u001b[39m \u001b[43mfunc\u001b[49m\u001b[43m(\u001b[49m\u001b[38;5;241;43m*\u001b[39;49m\u001b[43margs\u001b[49m\u001b[43m,\u001b[49m\u001b[43m \u001b[49m\u001b[38;5;241;43m*\u001b[39;49m\u001b[38;5;241;43m*\u001b[39;49m\u001b[43mkwargs\u001b[49m\u001b[43m)\u001b[49m\n\u001b[1;32m    753\u001b[0m \u001b[38;5;28;01mtry\u001b[39;00m:\n\u001b[1;32m    754\u001b[0m     cache[k] \u001b[38;5;241m=\u001b[39m v\n",
      "File \u001b[0;32m~/git/private/electoralyze/packages/electoralyze/electoralyze/region/region_abc.py:319\u001b[0m, in \u001b[0;36mRegionABC._get_geometry_with_metadata\u001b[0;34m(cls)\u001b[0m\n\u001b[1;32m    287\u001b[0m \u001b[38;5;250m\u001b[39m\u001b[38;5;124;03m\"\"\"Transform data from raw shape.\u001b[39;00m\n\u001b[1;32m    288\u001b[0m \n\u001b[1;32m    289\u001b[0m \u001b[38;5;124;03mReturns\u001b[39;00m\n\u001b[0;32m   (...)\u001b[0m\n\u001b[1;32m    316\u001b[0m \u001b[38;5;124;03m```\u001b[39;00m\n\u001b[1;32m    317\u001b[0m \u001b[38;5;124;03m\"\"\"\u001b[39;00m\n\u001b[1;32m    318\u001b[0m \u001b[38;5;28mprint\u001b[39m(\u001b[38;5;124m\"\u001b[39m\u001b[38;5;124mExtracting...\u001b[39m\u001b[38;5;124m\"\u001b[39m)\n\u001b[0;32m--> 319\u001b[0m geometry_raw \u001b[38;5;241m=\u001b[39m \u001b[38;5;28;43mcls\u001b[39;49m\u001b[38;5;241;43m.\u001b[39;49m\u001b[43m_get_geometry_raw\u001b[49m\u001b[43m(\u001b[49m\u001b[43m)\u001b[49m\n\u001b[1;32m    320\u001b[0m \u001b[38;5;28mprint\u001b[39m(\u001b[38;5;124m\"\u001b[39m\u001b[38;5;124mTransforming...\u001b[39m\u001b[38;5;124m\"\u001b[39m)\n\u001b[1;32m    321\u001b[0m geometry \u001b[38;5;241m=\u001b[39m \u001b[38;5;28mcls\u001b[39m\u001b[38;5;241m.\u001b[39m_transform_geometry_raw(geometry_raw)\n",
      "File \u001b[0;32m~/git/private/electoralyze/packages/electoralyze/electoralyze/region/region_abc.py:346\u001b[0m, in \u001b[0;36mRegionABC._get_geometry_raw\u001b[0;34m(cls)\u001b[0m\n\u001b[1;32m    338\u001b[0m \u001b[38;5;129m@classmethod\u001b[39m\n\u001b[1;32m    339\u001b[0m \u001b[38;5;28;01mdef\u001b[39;00m \u001b[38;5;21m_get_geometry_raw\u001b[39m(\u001b[38;5;28mcls\u001b[39m) \u001b[38;5;241m-\u001b[39m\u001b[38;5;241m>\u001b[39m st\u001b[38;5;241m.\u001b[39mGeoDataFrame:\n\u001b[1;32m    340\u001b[0m \u001b[38;5;250m    \u001b[39m\u001b[38;5;124;03m\"\"\"Extract raw data from the raw shape file.\u001b[39;00m\n\u001b[1;32m    341\u001b[0m \n\u001b[1;32m    342\u001b[0m \u001b[38;5;124;03m    Returns\u001b[39;00m\n\u001b[1;32m    343\u001b[0m \u001b[38;5;124;03m    -------\u001b[39;00m\n\u001b[1;32m    344\u001b[0m \u001b[38;5;124;03m    st.GeoDataFrame: In any format with any number columns. Should be accepted by `.transform`.\u001b[39;00m\n\u001b[1;32m    345\u001b[0m \u001b[38;5;124;03m    \"\"\"\u001b[39;00m\n\u001b[0;32m--> 346\u001b[0m     geometry_raw_gpd \u001b[38;5;241m=\u001b[39m \u001b[43mpyogrio\u001b[49m\u001b[38;5;241;43m.\u001b[39;49m\u001b[43mread_dataframe\u001b[49m\u001b[43m(\u001b[49m\u001b[38;5;28;43mcls\u001b[39;49m\u001b[38;5;241;43m.\u001b[39;49m\u001b[43mraw_geometry_file\u001b[49m\u001b[43m)\u001b[49m\n\u001b[1;32m    347\u001b[0m     geometry_raw_st \u001b[38;5;241m=\u001b[39m to_geopolars(geometry_raw_gpd)\n\u001b[1;32m    348\u001b[0m     \u001b[38;5;28;01mreturn\u001b[39;00m geometry_raw_st\n",
      "File \u001b[0;32m~/git/private/electoralyze/.pixi/envs/default/lib/python3.13/site-packages/pyogrio/geopandas.py:265\u001b[0m, in \u001b[0;36mread_dataframe\u001b[0;34m(path_or_buffer, layer, encoding, columns, read_geometry, force_2d, skip_features, max_features, where, bbox, mask, fids, sql, sql_dialect, fid_as_index, use_arrow, on_invalid, arrow_to_pandas_kwargs, **kwargs)\u001b[0m\n\u001b[1;32m    260\u001b[0m \u001b[38;5;28;01mif\u001b[39;00m \u001b[38;5;129;01mnot\u001b[39;00m use_arrow:\n\u001b[1;32m    261\u001b[0m     \u001b[38;5;66;03m# For arrow, datetimes are read as is.\u001b[39;00m\n\u001b[1;32m    262\u001b[0m     \u001b[38;5;66;03m# For numpy IO, datetimes are read as string values to preserve timezone info\u001b[39;00m\n\u001b[1;32m    263\u001b[0m     \u001b[38;5;66;03m# as numpy does not directly support timezones.\u001b[39;00m\n\u001b[1;32m    264\u001b[0m     kwargs[\u001b[38;5;124m\"\u001b[39m\u001b[38;5;124mdatetime_as_string\u001b[39m\u001b[38;5;124m\"\u001b[39m] \u001b[38;5;241m=\u001b[39m \u001b[38;5;28;01mTrue\u001b[39;00m\n\u001b[0;32m--> 265\u001b[0m result \u001b[38;5;241m=\u001b[39m \u001b[43mread_func\u001b[49m\u001b[43m(\u001b[49m\n\u001b[1;32m    266\u001b[0m \u001b[43m    \u001b[49m\u001b[43mpath_or_buffer\u001b[49m\u001b[43m,\u001b[49m\n\u001b[1;32m    267\u001b[0m \u001b[43m    \u001b[49m\u001b[43mlayer\u001b[49m\u001b[38;5;241;43m=\u001b[39;49m\u001b[43mlayer\u001b[49m\u001b[43m,\u001b[49m\n\u001b[1;32m    268\u001b[0m \u001b[43m    \u001b[49m\u001b[43mencoding\u001b[49m\u001b[38;5;241;43m=\u001b[39;49m\u001b[43mencoding\u001b[49m\u001b[43m,\u001b[49m\n\u001b[1;32m    269\u001b[0m \u001b[43m    \u001b[49m\u001b[43mcolumns\u001b[49m\u001b[38;5;241;43m=\u001b[39;49m\u001b[43mcolumns\u001b[49m\u001b[43m,\u001b[49m\n\u001b[1;32m    270\u001b[0m \u001b[43m    \u001b[49m\u001b[43mread_geometry\u001b[49m\u001b[38;5;241;43m=\u001b[39;49m\u001b[43mread_geometry\u001b[49m\u001b[43m,\u001b[49m\n\u001b[1;32m    271\u001b[0m \u001b[43m    \u001b[49m\u001b[43mforce_2d\u001b[49m\u001b[38;5;241;43m=\u001b[39;49m\u001b[43mgdal_force_2d\u001b[49m\u001b[43m,\u001b[49m\n\u001b[1;32m    272\u001b[0m \u001b[43m    \u001b[49m\u001b[43mskip_features\u001b[49m\u001b[38;5;241;43m=\u001b[39;49m\u001b[43mskip_features\u001b[49m\u001b[43m,\u001b[49m\n\u001b[1;32m    273\u001b[0m \u001b[43m    \u001b[49m\u001b[43mmax_features\u001b[49m\u001b[38;5;241;43m=\u001b[39;49m\u001b[43mmax_features\u001b[49m\u001b[43m,\u001b[49m\n\u001b[1;32m    274\u001b[0m \u001b[43m    \u001b[49m\u001b[43mwhere\u001b[49m\u001b[38;5;241;43m=\u001b[39;49m\u001b[43mwhere\u001b[49m\u001b[43m,\u001b[49m\n\u001b[1;32m    275\u001b[0m \u001b[43m    \u001b[49m\u001b[43mbbox\u001b[49m\u001b[38;5;241;43m=\u001b[39;49m\u001b[43mbbox\u001b[49m\u001b[43m,\u001b[49m\n\u001b[1;32m    276\u001b[0m \u001b[43m    \u001b[49m\u001b[43mmask\u001b[49m\u001b[38;5;241;43m=\u001b[39;49m\u001b[43mmask\u001b[49m\u001b[43m,\u001b[49m\n\u001b[1;32m    277\u001b[0m \u001b[43m    \u001b[49m\u001b[43mfids\u001b[49m\u001b[38;5;241;43m=\u001b[39;49m\u001b[43mfids\u001b[49m\u001b[43m,\u001b[49m\n\u001b[1;32m    278\u001b[0m \u001b[43m    \u001b[49m\u001b[43msql\u001b[49m\u001b[38;5;241;43m=\u001b[39;49m\u001b[43msql\u001b[49m\u001b[43m,\u001b[49m\n\u001b[1;32m    279\u001b[0m \u001b[43m    \u001b[49m\u001b[43msql_dialect\u001b[49m\u001b[38;5;241;43m=\u001b[39;49m\u001b[43msql_dialect\u001b[49m\u001b[43m,\u001b[49m\n\u001b[1;32m    280\u001b[0m \u001b[43m    \u001b[49m\u001b[43mreturn_fids\u001b[49m\u001b[38;5;241;43m=\u001b[39;49m\u001b[43mfid_as_index\u001b[49m\u001b[43m,\u001b[49m\n\u001b[1;32m    281\u001b[0m \u001b[43m    \u001b[49m\u001b[38;5;241;43m*\u001b[39;49m\u001b[38;5;241;43m*\u001b[39;49m\u001b[43mkwargs\u001b[49m\u001b[43m,\u001b[49m\n\u001b[1;32m    282\u001b[0m \u001b[43m\u001b[49m\u001b[43m)\u001b[49m\n\u001b[1;32m    284\u001b[0m \u001b[38;5;28;01mif\u001b[39;00m use_arrow:\n\u001b[1;32m    285\u001b[0m     meta, table \u001b[38;5;241m=\u001b[39m result\n",
      "File \u001b[0;32m~/git/private/electoralyze/.pixi/envs/default/lib/python3.13/site-packages/pyogrio/raw.py:198\u001b[0m, in \u001b[0;36mread\u001b[0;34m(path_or_buffer, layer, encoding, columns, read_geometry, force_2d, skip_features, max_features, where, bbox, mask, fids, sql, sql_dialect, return_fids, datetime_as_string, **kwargs)\u001b[0m\n\u001b[1;32m     59\u001b[0m \u001b[38;5;250m\u001b[39m\u001b[38;5;124;03m\"\"\"Read OGR data source into numpy arrays.\u001b[39;00m\n\u001b[1;32m     60\u001b[0m \n\u001b[1;32m     61\u001b[0m \u001b[38;5;124;03mIMPORTANT: non-linear geometry types (e.g., MultiSurface) are converted\u001b[39;00m\n\u001b[0;32m   (...)\u001b[0m\n\u001b[1;32m    194\u001b[0m \n\u001b[1;32m    195\u001b[0m \u001b[38;5;124;03m\"\"\"\u001b[39;00m\n\u001b[1;32m    196\u001b[0m dataset_kwargs \u001b[38;5;241m=\u001b[39m _preprocess_options_key_value(kwargs) \u001b[38;5;28;01mif\u001b[39;00m kwargs \u001b[38;5;28;01melse\u001b[39;00m {}\n\u001b[0;32m--> 198\u001b[0m \u001b[38;5;28;01mreturn\u001b[39;00m \u001b[43mogr_read\u001b[49m\u001b[43m(\u001b[49m\n\u001b[1;32m    199\u001b[0m \u001b[43m    \u001b[49m\u001b[43mget_vsi_path_or_buffer\u001b[49m\u001b[43m(\u001b[49m\u001b[43mpath_or_buffer\u001b[49m\u001b[43m)\u001b[49m\u001b[43m,\u001b[49m\n\u001b[1;32m    200\u001b[0m \u001b[43m    \u001b[49m\u001b[43mlayer\u001b[49m\u001b[38;5;241;43m=\u001b[39;49m\u001b[43mlayer\u001b[49m\u001b[43m,\u001b[49m\n\u001b[1;32m    201\u001b[0m \u001b[43m    \u001b[49m\u001b[43mencoding\u001b[49m\u001b[38;5;241;43m=\u001b[39;49m\u001b[43mencoding\u001b[49m\u001b[43m,\u001b[49m\n\u001b[1;32m    202\u001b[0m \u001b[43m    \u001b[49m\u001b[43mcolumns\u001b[49m\u001b[38;5;241;43m=\u001b[39;49m\u001b[43mcolumns\u001b[49m\u001b[43m,\u001b[49m\n\u001b[1;32m    203\u001b[0m \u001b[43m    \u001b[49m\u001b[43mread_geometry\u001b[49m\u001b[38;5;241;43m=\u001b[39;49m\u001b[43mread_geometry\u001b[49m\u001b[43m,\u001b[49m\n\u001b[1;32m    204\u001b[0m \u001b[43m    \u001b[49m\u001b[43mforce_2d\u001b[49m\u001b[38;5;241;43m=\u001b[39;49m\u001b[43mforce_2d\u001b[49m\u001b[43m,\u001b[49m\n\u001b[1;32m    205\u001b[0m \u001b[43m    \u001b[49m\u001b[43mskip_features\u001b[49m\u001b[38;5;241;43m=\u001b[39;49m\u001b[43mskip_features\u001b[49m\u001b[43m,\u001b[49m\n\u001b[1;32m    206\u001b[0m \u001b[43m    \u001b[49m\u001b[43mmax_features\u001b[49m\u001b[38;5;241;43m=\u001b[39;49m\u001b[43mmax_features\u001b[49m\u001b[43m \u001b[49m\u001b[38;5;129;43;01mor\u001b[39;49;00m\u001b[43m \u001b[49m\u001b[38;5;241;43m0\u001b[39;49m\u001b[43m,\u001b[49m\n\u001b[1;32m    207\u001b[0m \u001b[43m    \u001b[49m\u001b[43mwhere\u001b[49m\u001b[38;5;241;43m=\u001b[39;49m\u001b[43mwhere\u001b[49m\u001b[43m,\u001b[49m\n\u001b[1;32m    208\u001b[0m \u001b[43m    \u001b[49m\u001b[43mbbox\u001b[49m\u001b[38;5;241;43m=\u001b[39;49m\u001b[43mbbox\u001b[49m\u001b[43m,\u001b[49m\n\u001b[1;32m    209\u001b[0m \u001b[43m    \u001b[49m\u001b[43mmask\u001b[49m\u001b[38;5;241;43m=\u001b[39;49m\u001b[43m_mask_to_wkb\u001b[49m\u001b[43m(\u001b[49m\u001b[43mmask\u001b[49m\u001b[43m)\u001b[49m\u001b[43m,\u001b[49m\n\u001b[1;32m    210\u001b[0m \u001b[43m    \u001b[49m\u001b[43mfids\u001b[49m\u001b[38;5;241;43m=\u001b[39;49m\u001b[43mfids\u001b[49m\u001b[43m,\u001b[49m\n\u001b[1;32m    211\u001b[0m \u001b[43m    \u001b[49m\u001b[43msql\u001b[49m\u001b[38;5;241;43m=\u001b[39;49m\u001b[43msql\u001b[49m\u001b[43m,\u001b[49m\n\u001b[1;32m    212\u001b[0m \u001b[43m    \u001b[49m\u001b[43msql_dialect\u001b[49m\u001b[38;5;241;43m=\u001b[39;49m\u001b[43msql_dialect\u001b[49m\u001b[43m,\u001b[49m\n\u001b[1;32m    213\u001b[0m \u001b[43m    \u001b[49m\u001b[43mreturn_fids\u001b[49m\u001b[38;5;241;43m=\u001b[39;49m\u001b[43mreturn_fids\u001b[49m\u001b[43m,\u001b[49m\n\u001b[1;32m    214\u001b[0m \u001b[43m    \u001b[49m\u001b[43mdataset_kwargs\u001b[49m\u001b[38;5;241;43m=\u001b[39;49m\u001b[43mdataset_kwargs\u001b[49m\u001b[43m,\u001b[49m\n\u001b[1;32m    215\u001b[0m \u001b[43m    \u001b[49m\u001b[43mdatetime_as_string\u001b[49m\u001b[38;5;241;43m=\u001b[39;49m\u001b[43mdatetime_as_string\u001b[49m\u001b[43m,\u001b[49m\n\u001b[1;32m    216\u001b[0m \u001b[43m\u001b[49m\u001b[43m)\u001b[49m\n",
      "File \u001b[0;32mpyogrio/_io.pyx:1240\u001b[0m, in \u001b[0;36mpyogrio._io.ogr_read\u001b[0;34m()\u001b[0m\n",
      "File \u001b[0;32mpyogrio/_io.pyx:220\u001b[0m, in \u001b[0;36mpyogrio._io.ogr_open\u001b[0;34m()\u001b[0m\n",
      "\u001b[0;31mDataSourceError\u001b[0m: /tmp/tmp9dg8igyy/raw_geometry/square/shape.shp: No such file or directory"
     ]
    }
   ],
   "source": [
    "test_redistribute_via(\n",
    "    _name=_name,\n",
    "    region=region_,\n",
    "    region_ids=region_ids,\n",
    "    redistribute_kwargs=redistribute_kwargs,\n",
    "    redistributed_expected=redistributed_expected,\n",
    ")"
   ]
  }
 ],
 "metadata": {
  "kernelspec": {
   "display_name": "Python 3",
   "language": "python",
   "name": "python3"
  },
  "language_info": {
   "codemirror_mode": {
    "name": "ipython",
    "version": 3
   },
   "file_extension": ".py",
   "mimetype": "text/x-python",
   "name": "python",
   "nbconvert_exporter": "python",
   "pygments_lexer": "ipython3",
   "version": "3.13.0"
  }
 },
 "nbformat": 4,
 "nbformat_minor": 2
}
