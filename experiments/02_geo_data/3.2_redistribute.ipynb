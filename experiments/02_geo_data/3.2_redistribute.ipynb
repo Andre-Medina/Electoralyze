{
 "cells": [
  {
   "cell_type": "code",
   "execution_count": 10,
   "metadata": {},
   "outputs": [
    {
     "name": "stdout",
     "output_type": "stream",
     "text": [
      "The autoreload extension is already loaded. To reload it, use:\n",
      "  %reload_ext autoreload\n"
     ]
    }
   ],
   "source": [
    "%load_ext autoreload\n",
    "%autoreload 2\n",
    "\n",
    "import geopandas as gpd\n",
    "import pandas as pd\n",
    "import polars as pl\n",
    "import polars_st as st\n",
    "import pyogrio\n",
    "from electoralyze import region\n",
    "from electoralyze.common import constants\n",
    "from electoralyze.common.geometry import to_geopandas, to_geopolars\n",
    "from electoralyze.common.testing.region_fixture import (\n",
    "    RegionMocked,\n",
    "    create_fake_regions,\n",
    "    read_true_geometry,\n",
    "    read_true_metadata,\n",
    ")\n",
    "from electoralyze.region.redistribute import redistribute\n",
    "from electoralyze.region.redistribute.mapping import (\n",
    "    _create_intersection_area_mapping,\n",
    "    _get_remaining_area,\n",
    "    create_region_mapping_base,\n",
    ")"
   ]
  },
  {
   "cell_type": "code",
   "execution_count": 11,
   "metadata": {},
   "outputs": [
    {
     "name": "stdout",
     "output_type": "stream",
     "text": [
      "shape: (5, 3)\n",
      "┌──────────┬────────┬─────────┐\n",
      "│ triangle ┆ square ┆ mapping │\n",
      "│ ---      ┆ ---    ┆ ---     │\n",
      "│ str      ┆ str    ┆ f64     │\n",
      "╞══════════╪════════╪═════════╡\n",
      "│ A        ┆ main   ┆ 32.0    │\n",
      "│ B        ┆ main   ┆ 16.0    │\n",
      "│ C        ┆ main   ┆ 16.0    │\n",
      "│ B        ┆ null   ┆ 16.0    │\n",
      "│ C        ┆ null   ┆ 16.0    │\n",
      "└──────────┴────────┴─────────┘\n"
     ]
    }
   ],
   "source": [
    "intersection_area = _create_intersection_area_mapping(\n",
    "    geometry_from=read_true_geometry(\"triangle\"),\n",
    "    geometry_to=read_true_geometry(\"square\"),\n",
    ")\n",
    "intersection_area.pipe(print)"
   ]
  },
  {
   "cell_type": "code",
   "execution_count": 18,
   "metadata": {},
   "outputs": [
    {
     "name": "stderr",
     "output_type": "stream",
     "text": [
      "/home/andre/git/private/electoralyze/packages/electoralyze/electoralyze/common/testing/region_fixture.py:260: UserWarning: Column names longer than 10 characters will be truncated when saved to ESRI Shapefile.\n",
      "  region_gdf.pipe(to_geopandas).to_file(region_shape_file[region_id], driver=\"ESRI Shapefile\")\n",
      "/home/andre/git/private/electoralyze/.pixi/envs/default/lib/python3.13/site-packages/pyogrio/raw.py:723: RuntimeWarning: Normalized/laundered field name: 'quadrant_name' to 'quadrant_n'\n",
      "  ogr_write(\n",
      "/home/andre/git/private/electoralyze/packages/electoralyze/electoralyze/common/testing/region_fixture.py:260: UserWarning: Column names longer than 10 characters will be truncated when saved to ESRI Shapefile.\n",
      "  region_gdf.pipe(to_geopandas).to_file(region_shape_file[region_id], driver=\"ESRI Shapefile\")\n",
      "/home/andre/git/private/electoralyze/.pixi/envs/default/lib/python3.13/site-packages/pyogrio/raw.py:723: RuntimeWarning: Normalized/laundered field name: 'triangle_name' to 'triangle_n'\n",
      "  ogr_write(\n",
      "/home/andre/git/private/electoralyze/packages/electoralyze/electoralyze/common/testing/region_fixture.py:260: UserWarning: Column names longer than 10 characters will be truncated when saved to ESRI Shapefile.\n",
      "  region_gdf.pipe(to_geopandas).to_file(region_shape_file[region_id], driver=\"ESRI Shapefile\")\n",
      "/home/andre/git/private/electoralyze/.pixi/envs/default/lib/python3.13/site-packages/pyogrio/raw.py:723: RuntimeWarning: Normalized/laundered field name: 'rectangle_name' to 'rectangle_'\n",
      "  ogr_write(\n",
      "/home/andre/git/private/electoralyze/packages/electoralyze/electoralyze/common/testing/region_fixture.py:260: UserWarning: Column names longer than 10 characters will be truncated when saved to ESRI Shapefile.\n",
      "  region_gdf.pipe(to_geopandas).to_file(region_shape_file[region_id], driver=\"ESRI Shapefile\")\n",
      "/home/andre/git/private/electoralyze/.pixi/envs/default/lib/python3.13/site-packages/pyogrio/raw.py:723: RuntimeWarning: Normalized/laundered field name: 'square_name' to 'square_nam'\n",
      "  ogr_write(\n",
      "/home/andre/git/private/electoralyze/packages/electoralyze/electoralyze/common/testing/region_fixture.py:260: UserWarning: Column names longer than 10 characters will be truncated when saved to ESRI Shapefile.\n",
      "  region_gdf.pipe(to_geopandas).to_file(region_shape_file[region_id], driver=\"ESRI Shapefile\")\n",
      "/home/andre/git/private/electoralyze/.pixi/envs/default/lib/python3.13/site-packages/pyogrio/raw.py:723: RuntimeWarning: Normalized/laundered field name: 'l_and_r_name' to 'l_and_r_na'\n",
      "  ogr_write(\n"
     ]
    },
    {
     "name": "stdout",
     "output_type": "stream",
     "text": [
      "Loading raw...\n",
      "Extracting...\n",
      "Transforming...\n",
      "Saving...\n",
      "Done!\n",
      "Loading raw...\n",
      "Extracting...\n",
      "Transforming...\n",
      "Saving...\n",
      "Done!\n",
      "Loading raw...\n",
      "Extracting...\n",
      "Transforming...\n",
      "Saving...\n",
      "Done!\n",
      "Loading raw...\n",
      "Extracting...\n",
      "Transforming...\n",
      "Saving...\n",
      "Done!\n",
      "Loading raw...\n",
      "Extracting...\n",
      "Transforming...\n",
      "Saving...\n",
      "Done!\n"
     ]
    }
   ],
   "source": [
    "import shutil\n",
    "import tempfile\n",
    "\n",
    "temp_dir = tempfile.TemporaryDirectory(delete=False)\n",
    "region_ = create_fake_regions(temp_dir.name)\n",
    "region_\n",
    "region_.quadrant.geometry\n",
    "region_.triangle.geometry\n",
    "region_.rectangle.geometry\n",
    "region_.square.geometry\n",
    "region_.l_and_r.geometry\n",
    "shutil.rmtree(temp_dir.name)"
   ]
  },
  {
   "cell_type": "code",
   "execution_count": null,
   "metadata": {},
   "outputs": [],
   "source": []
  },
  {
   "cell_type": "code",
   "execution_count": 19,
   "metadata": {},
   "outputs": [
    {
     "data": {
      "text/plain": [
       "electoralyze.common.testing.region_fixture.RegionMocked"
      ]
     },
     "execution_count": 19,
     "metadata": {},
     "output_type": "execute_result"
    }
   ],
   "source": [
    "RegionMocked"
   ]
  },
  {
   "cell_type": "code",
   "execution_count": 20,
   "metadata": {},
   "outputs": [
    {
     "name": "stdout",
     "output_type": "stream",
     "text": [
      "shape: (1, 2)\n",
      "┌──────────┬──────┐\n",
      "│ triangle ┆ data │\n",
      "│ ---      ┆ ---  │\n",
      "│ str      ┆ i64  │\n",
      "╞══════════╪══════╡\n",
      "│ A        ┆ 1    │\n",
      "└──────────┴──────┘\n"
     ]
    },
    {
     "data": {
      "text/html": [
       "<div><style>\n",
       ".dataframe > thead > tr,\n",
       ".dataframe > tbody > tr {\n",
       "  text-align: right;\n",
       "  white-space: pre-wrap;\n",
       "}\n",
       "</style>\n",
       "<small>shape: (4, 2)</small><table border=\"1\" class=\"dataframe\"><thead><tr><th>quadrant</th><th>data</th></tr><tr><td>str</td><td>f64</td></tr></thead><tbody><tr><td>&quot;O&quot;</td><td>0.375</td></tr><tr><td>&quot;P&quot;</td><td>0.375</td></tr><tr><td>&quot;N&quot;</td><td>0.125</td></tr><tr><td>&quot;M&quot;</td><td>0.125</td></tr></tbody></table></div>"
      ],
      "text/plain": [
       "shape: (4, 2)\n",
       "┌──────────┬───────┐\n",
       "│ quadrant ┆ data  │\n",
       "│ ---      ┆ ---   │\n",
       "│ str      ┆ f64   │\n",
       "╞══════════╪═══════╡\n",
       "│ O        ┆ 0.375 │\n",
       "│ P        ┆ 0.375 │\n",
       "│ N        ┆ 0.125 │\n",
       "│ M        ┆ 0.125 │\n",
       "└──────────┴───────┘"
      ]
     },
     "execution_count": 20,
     "metadata": {},
     "output_type": "execute_result"
    }
   ],
   "source": [
    "data_by_from = pl.DataFrame({\"triangle\": [\"A\"], \"data\": [1]})\n",
    "print(data_by_from)\n",
    "redistribute(\n",
    "    data_by_from,\n",
    "    region_from=region_.triangle,\n",
    "    region_to=region_.quadrant,\n",
    "    mapping=\"intersection_area\",\n",
    "    redistribute_with_full=False,\n",
    ")"
   ]
  },
  {
   "cell_type": "code",
   "execution_count": 21,
   "metadata": {},
   "outputs": [
    {
     "name": "stdout",
     "output_type": "stream",
     "text": [
      "shape: (3, 2)\n",
      "┌───────────┬──────┐\n",
      "│ rectangle ┆ data │\n",
      "│ ---       ┆ ---  │\n",
      "│ str       ┆ i64  │\n",
      "╞═══════════╪══════╡\n",
      "│ X         ┆ 1    │\n",
      "│ Y         ┆ 1    │\n",
      "│ Z         ┆ 1    │\n",
      "└───────────┴──────┘\n"
     ]
    },
    {
     "data": {
      "text/html": [
       "<div><style>\n",
       ".dataframe > thead > tr,\n",
       ".dataframe > tbody > tr {\n",
       "  text-align: right;\n",
       "  white-space: pre-wrap;\n",
       "}\n",
       "</style>\n",
       "<small>shape: (3, 2)</small><table border=\"1\" class=\"dataframe\"><thead><tr><th>triangle</th><th>data</th></tr><tr><td>str</td><td>f64</td></tr></thead><tbody><tr><td>&quot;C&quot;</td><td>0.75</td></tr><tr><td>&quot;B&quot;</td><td>0.75</td></tr><tr><td>&quot;A&quot;</td><td>1.5</td></tr></tbody></table></div>"
      ],
      "text/plain": [
       "shape: (3, 2)\n",
       "┌──────────┬──────┐\n",
       "│ triangle ┆ data │\n",
       "│ ---      ┆ ---  │\n",
       "│ str      ┆ f64  │\n",
       "╞══════════╪══════╡\n",
       "│ C        ┆ 0.75 │\n",
       "│ B        ┆ 0.75 │\n",
       "│ A        ┆ 1.5  │\n",
       "└──────────┴──────┘"
      ]
     },
     "execution_count": 21,
     "metadata": {},
     "output_type": "execute_result"
    }
   ],
   "source": [
    "data_by_from = pl.DataFrame({\"rectangle\": [\"X\", \"Y\", \"Z\"], \"data\": [1, 1, 1]})\n",
    "print(data_by_from)\n",
    "redistribute(\n",
    "    data_by_from,\n",
    "    region_from=region_.rectangle,\n",
    "    region_through=region_.quadrant,\n",
    "    region_to=region_.triangle,\n",
    "    mapping=\"intersection_area\",\n",
    "    redistribute_with_full=False,\n",
    ")"
   ]
  },
  {
   "cell_type": "code",
   "execution_count": 22,
   "metadata": {},
   "outputs": [
    {
     "name": "stdout",
     "output_type": "stream",
     "text": [
      "shape: (1, 2)\n",
      "┌────────┬──────┐\n",
      "│ square ┆ data │\n",
      "│ ---    ┆ ---  │\n",
      "│ str    ┆ i64  │\n",
      "╞════════╪══════╡\n",
      "│ main   ┆ 100  │\n",
      "└────────┴──────┘\n"
     ]
    },
    {
     "data": {
      "text/html": [
       "<div><style>\n",
       ".dataframe > thead > tr,\n",
       ".dataframe > tbody > tr {\n",
       "  text-align: right;\n",
       "  white-space: pre-wrap;\n",
       "}\n",
       "</style>\n",
       "<small>shape: (2, 2)</small><table border=\"1\" class=\"dataframe\"><thead><tr><th>l_and_r</th><th>data</th></tr><tr><td>str</td><td>f64</td></tr></thead><tbody><tr><td>&quot;R&quot;</td><td>50.0</td></tr><tr><td>&quot;L&quot;</td><td>50.0</td></tr></tbody></table></div>"
      ],
      "text/plain": [
       "shape: (2, 2)\n",
       "┌─────────┬──────┐\n",
       "│ l_and_r ┆ data │\n",
       "│ ---     ┆ ---  │\n",
       "│ str     ┆ f64  │\n",
       "╞═════════╪══════╡\n",
       "│ R       ┆ 50.0 │\n",
       "│ L       ┆ 50.0 │\n",
       "└─────────┴──────┘"
      ]
     },
     "execution_count": 22,
     "metadata": {},
     "output_type": "execute_result"
    }
   ],
   "source": [
    "data_by_from = pl.DataFrame({\"square\": [\"main\"], \"data\": [100]})\n",
    "print(data_by_from)\n",
    "redistribute(\n",
    "    data_by_from,\n",
    "    region_from=region_.square,\n",
    "    region_through=region_.quadrant,\n",
    "    region_to=region_.l_and_r,\n",
    "    mapping=\"intersection_area\",\n",
    "    redistribute_with_full=False,\n",
    ")"
   ]
  },
  {
   "cell_type": "code",
   "execution_count": 23,
   "metadata": {},
   "outputs": [
    {
     "name": "stdout",
     "output_type": "stream",
     "text": [
      "shape: (1, 2)\n",
      "┌────────┬──────┐\n",
      "│ square ┆ data │\n",
      "│ ---    ┆ ---  │\n",
      "│ str    ┆ i64  │\n",
      "╞════════╪══════╡\n",
      "│ main   ┆ 100  │\n",
      "└────────┴──────┘\n"
     ]
    },
    {
     "data": {
      "text/html": [
       "<div><style>\n",
       ".dataframe > thead > tr,\n",
       ".dataframe > tbody > tr {\n",
       "  text-align: right;\n",
       "  white-space: pre-wrap;\n",
       "}\n",
       "</style>\n",
       "<small>shape: (3, 2)</small><table border=\"1\" class=\"dataframe\"><thead><tr><th>l_and_r</th><th>data</th></tr><tr><td>str</td><td>f64</td></tr></thead><tbody><tr><td>null</td><td>25.0</td></tr><tr><td>&quot;R&quot;</td><td>37.5</td></tr><tr><td>&quot;L&quot;</td><td>37.5</td></tr></tbody></table></div>"
      ],
      "text/plain": [
       "shape: (3, 2)\n",
       "┌─────────┬──────┐\n",
       "│ l_and_r ┆ data │\n",
       "│ ---     ┆ ---  │\n",
       "│ str     ┆ f64  │\n",
       "╞═════════╪══════╡\n",
       "│ null    ┆ 25.0 │\n",
       "│ R       ┆ 37.5 │\n",
       "│ L       ┆ 37.5 │\n",
       "└─────────┴──────┘"
      ]
     },
     "execution_count": 23,
     "metadata": {},
     "output_type": "execute_result"
    }
   ],
   "source": [
    "data_by_from = pl.DataFrame({\"square\": [\"main\"], \"data\": [100]})\n",
    "print(data_by_from)\n",
    "redistribute(\n",
    "    data_by_from,\n",
    "    region_from=region_.square,\n",
    "    region_through=region_.triangle,\n",
    "    region_to=region_.l_and_r,\n",
    "    mapping=\"intersection_area\",\n",
    "    redistribute_with_full=False,\n",
    ")"
   ]
  },
  {
   "cell_type": "code",
   "execution_count": null,
   "metadata": {},
   "outputs": [],
   "source": [
    "def test_redistribute_through(\n",
    "    region_from_id: str,\n",
    "    region_to_id: str,\n",
    "    region_through_id: str,\n",
    "    redistribute_kwargs: dict,\n",
    "):\n",
    "    redistribute(\n",
    "        region_from=region.from_id(region_from_id),\n",
    "        region_through=region.from_id(region_through_id),\n",
    "        region_to=region.from_id(region_to_id),\n",
    "        **redistribute_kwargs,\n",
    "    )"
   ]
  },
  {
   "cell_type": "code",
   "execution_count": 26,
   "metadata": {},
   "outputs": [
    {
     "name": "stdout",
     "output_type": "stream",
     "text": [
      "shape: (2, 2)\n",
      "┌─────────┬──────┐\n",
      "│ l_and_r ┆ data │\n",
      "│ ---     ┆ ---  │\n",
      "│ str     ┆ i64  │\n",
      "╞═════════╪══════╡\n",
      "│ L       ┆ 32   │\n",
      "│ R       ┆ 64   │\n",
      "└─────────┴──────┘\n"
     ]
    },
    {
     "data": {
      "text/html": [
       "<div><style>\n",
       ".dataframe > thead > tr,\n",
       ".dataframe > tbody > tr {\n",
       "  text-align: right;\n",
       "  white-space: pre-wrap;\n",
       "}\n",
       "</style>\n",
       "<small>shape: (5, 2)</small><table border=\"1\" class=\"dataframe\"><thead><tr><th>quadrant</th><th>data</th></tr><tr><td>str</td><td>f64</td></tr></thead><tbody><tr><td>&quot;P&quot;</td><td>22.0</td></tr><tr><td>null</td><td>24.0</td></tr><tr><td>&quot;O&quot;</td><td>20.0</td></tr><tr><td>&quot;N&quot;</td><td>18.0</td></tr><tr><td>&quot;M&quot;</td><td>12.0</td></tr></tbody></table></div>"
      ],
      "text/plain": [
       "shape: (5, 2)\n",
       "┌──────────┬──────┐\n",
       "│ quadrant ┆ data │\n",
       "│ ---      ┆ ---  │\n",
       "│ str      ┆ f64  │\n",
       "╞══════════╪══════╡\n",
       "│ P        ┆ 22.0 │\n",
       "│ null     ┆ 24.0 │\n",
       "│ O        ┆ 20.0 │\n",
       "│ N        ┆ 18.0 │\n",
       "│ M        ┆ 12.0 │\n",
       "└──────────┴──────┘"
      ]
     },
     "execution_count": 26,
     "metadata": {},
     "output_type": "execute_result"
    }
   ],
   "source": [
    "data_by_from = pl.DataFrame({\"l_and_r\": [\"L\", \"R\"], \"data\": [32, 64]})\n",
    "print(data_by_from)\n",
    "redistribute(\n",
    "    data_by_from,\n",
    "    region_from=region_.l_and_r,\n",
    "    region_through=region_.triangle,\n",
    "    region_to=region_.quadrant,\n",
    "    mapping=\"intersection_area\",\n",
    "    redistribute_with_full=False,\n",
    ")"
   ]
  }
 ],
 "metadata": {
  "kernelspec": {
   "display_name": "Python 3",
   "language": "python",
   "name": "python3"
  },
  "language_info": {
   "codemirror_mode": {
    "name": "ipython",
    "version": 3
   },
   "file_extension": ".py",
   "mimetype": "text/x-python",
   "name": "python",
   "nbconvert_exporter": "python",
   "pygments_lexer": "ipython3",
   "version": "3.13.0"
  }
 },
 "nbformat": 4,
 "nbformat_minor": 2
}
