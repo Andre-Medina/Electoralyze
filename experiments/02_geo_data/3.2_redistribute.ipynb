{
 "cells": [
  {
   "cell_type": "code",
   "execution_count": null,
   "metadata": {},
   "outputs": [],
   "source": [
    "%load_ext autoreload\n",
    "%autoreload 2\n",
    "\n",
    "import geopandas as gpd\n",
    "import pandas as pd\n",
    "import polars as pl\n",
    "import polars_st as st\n",
    "import pyogrio\n",
    "from electoralyze import region\n",
    "from electoralyze.common import constants\n",
    "from electoralyze.common.geometry import to_geopandas, to_geopolars\n",
    "from electoralyze.common.testing.region_fixture import (\n",
    "    RegionMocked,\n",
    "    create_fake_regions,\n",
    "    read_true_geometry,\n",
    "    read_true_metadata,\n",
    ")\n",
    "from electoralyze.region.redistribute import redistribute\n",
    "from electoralyze.region.redistribute.mapping import (\n",
    "    _create_intersection_area_mapping,\n",
    "    _get_remaining_area,\n",
    "    create_region_mapping_base,\n",
    ")"
   ]
  },
  {
   "cell_type": "code",
   "execution_count": null,
   "metadata": {},
   "outputs": [],
   "source": [
    "intersection_area = _create_intersection_area_mapping(\n",
    "    geometry_from=read_true_geometry(\"region_b\"),\n",
    "    geometry_to=read_true_geometry(\"region_c\"),\n",
    ")\n",
    "intersection_area.pipe(print)"
   ]
  },
  {
   "cell_type": "code",
   "execution_count": null,
   "metadata": {},
   "outputs": [],
   "source": [
    "import shutil\n",
    "import tempfile\n",
    "\n",
    "temp_dir = tempfile.TemporaryDirectory(delete=False)\n",
    "region_ = create_fake_regions(temp_dir.name)\n",
    "region_\n",
    "region_.region_a.geometry\n",
    "region_.region_b.geometry\n",
    "region_.region_c.geometry\n",
    "shutil.rmtree(temp_dir.name)"
   ]
  },
  {
   "cell_type": "code",
   "execution_count": null,
   "metadata": {},
   "outputs": [],
   "source": []
  },
  {
   "cell_type": "code",
   "execution_count": null,
   "metadata": {},
   "outputs": [],
   "source": [
    "RegionMocked"
   ]
  },
  {
   "cell_type": "code",
   "execution_count": null,
   "metadata": {},
   "outputs": [],
   "source": [
    "data_by_from = pl.DataFrame({\"region_b\": [\"A\"], \"data\": [1]})\n",
    "print(data_by_from)\n",
    "redistribute(\n",
    "    data_by_from,\n",
    "    region_from=region_.region_b,\n",
    "    region_to=region_.region_a,\n",
    "    mapping=\"intersection_area\",\n",
    "    redistribute_with_full=False,\n",
    ")"
   ]
  },
  {
   "cell_type": "code",
   "execution_count": null,
   "metadata": {},
   "outputs": [],
   "source": [
    "data_by_from = pl.DataFrame({\"region_c\": [\"X\", \"Y\", \"Z\"], \"data\": [1, 1, 1]})\n",
    "print(data_by_from)\n",
    "redistribute(\n",
    "    data_by_from,\n",
    "    region_from=region_.region_c,\n",
    "    region_through=region_.region_a,\n",
    "    region_to=region_.region_b,\n",
    "    mapping=\"intersection_area\",\n",
    "    redistribute_with_full=False,\n",
    ")"
   ]
  },
  {
   "cell_type": "code",
   "execution_count": null,
   "metadata": {},
   "outputs": [],
   "source": []
  }
 ],
 "metadata": {
  "kernelspec": {
   "display_name": "Python 3",
   "language": "python",
   "name": "python3"
  },
  "language_info": {
   "codemirror_mode": {
    "name": "ipython",
    "version": 3
   },
   "file_extension": ".py",
   "mimetype": "text/x-python",
   "name": "python",
   "nbconvert_exporter": "python",
   "pygments_lexer": "ipython3",
   "version": "3.13.0"
  }
 },
 "nbformat": 4,
 "nbformat_minor": 2
}
