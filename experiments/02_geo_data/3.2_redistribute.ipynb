{
 "cells": [
  {
   "cell_type": "code",
   "execution_count": 2,
   "metadata": {},
   "outputs": [],
   "source": [
    "%load_ext autoreload\n",
    "%autoreload 2\n",
    "\n",
    "import geopandas as gpd\n",
    "import pandas as pd\n",
    "import polars as pl\n",
    "import polars_st as st\n",
    "import pyogrio\n",
    "from electoralyze import region\n",
    "from electoralyze.common import constants\n",
    "from electoralyze.common.geometry import to_geopandas, to_geopolars\n",
    "from electoralyze.common.testing.region_fixture import (\n",
    "    RegionMocked,\n",
    "    create_fake_regions,\n",
    "    read_true_geometry,\n",
    "    read_true_metadata,\n",
    ")\n",
    "from electoralyze.region.redistribute import redistribute\n",
    "from electoralyze.region.redistribute.mapping import (\n",
    "    _create_intersection_area_mapping,\n",
    "    _get_remaining_area,\n",
    "    create_region_mapping_base,\n",
    ")"
   ]
  },
  {
   "cell_type": "code",
   "execution_count": 3,
   "metadata": {},
   "outputs": [
    {
     "name": "stdout",
     "output_type": "stream",
     "text": [
      "shape: (11, 3)\n",
      "┌──────────┬──────────┬──────────┐\n",
      "│ region_b ┆ region_c ┆ mapping  │\n",
      "│ ---      ┆ ---      ┆ ---      │\n",
      "│ str      ┆ str      ┆ f64      │\n",
      "╞══════════╪══════════╪══════════╡\n",
      "│ A        ┆ X        ┆ 1.21875  │\n",
      "│ A        ┆ Y        ┆ 0.5      │\n",
      "│ A        ┆ Z        ┆ 0.28125  │\n",
      "│ B        ┆ X        ┆ 0.140625 │\n",
      "│ B        ┆ Y        ┆ 0.25     │\n",
      "│ …        ┆ …        ┆ …        │\n",
      "│ C        ┆ X        ┆ 0.140625 │\n",
      "│ C        ┆ Y        ┆ 0.25     │\n",
      "│ C        ┆ Z        ┆ 0.609375 │\n",
      "│ B        ┆ null     ┆ 1.0      │\n",
      "│ C        ┆ null     ┆ 1.0      │\n",
      "└──────────┴──────────┴──────────┘\n"
     ]
    }
   ],
   "source": [
    "intersection_area = _create_intersection_area_mapping(\n",
    "    geometry_from=read_true_geometry(\"region_b\"),\n",
    "    geometry_to=read_true_geometry(\"region_c\"),\n",
    ")\n",
    "intersection_area.pipe(print)"
   ]
  },
  {
   "cell_type": "code",
   "execution_count": 6,
   "metadata": {},
   "outputs": [
    {
     "name": "stderr",
     "output_type": "stream",
     "text": [
      "/home/andre/git/private/electoralyze/packages/electoralyze/electoralyze/common/testing/region_fixture.py:172: UserWarning: Column names longer than 10 characters will be truncated when saved to ESRI Shapefile.\n",
      "  region_a_gdf.pipe(to_geopandas).to_file(region_a_shape, driver=\"ESRI Shapefile\")\n",
      "/home/andre/git/private/electoralyze/.pixi/envs/default/lib/python3.13/site-packages/pyogrio/raw.py:723: RuntimeWarning: Normalized/laundered field name: 'region_a_name' to 'region_a_n'\n",
      "  ogr_write(\n",
      "/home/andre/git/private/electoralyze/packages/electoralyze/electoralyze/common/testing/region_fixture.py:174: UserWarning: Column names longer than 10 characters will be truncated when saved to ESRI Shapefile.\n",
      "  region_b_gdf.pipe(to_geopandas).to_file(region_b_shape, driver=\"ESRI Shapefile\")\n",
      "/home/andre/git/private/electoralyze/.pixi/envs/default/lib/python3.13/site-packages/pyogrio/raw.py:723: RuntimeWarning: Normalized/laundered field name: 'region_b_name' to 'region_b_n'\n",
      "  ogr_write(\n",
      "/home/andre/git/private/electoralyze/packages/electoralyze/electoralyze/common/testing/region_fixture.py:176: UserWarning: Column names longer than 10 characters will be truncated when saved to ESRI Shapefile.\n",
      "  region_c_gdf.pipe(to_geopandas).to_file(region_c_shape, driver=\"ESRI Shapefile\")\n",
      "/home/andre/git/private/electoralyze/.pixi/envs/default/lib/python3.13/site-packages/pyogrio/raw.py:723: RuntimeWarning: Normalized/laundered field name: 'region_c_name' to 'region_c_n'\n",
      "  ogr_write(\n"
     ]
    },
    {
     "name": "stdout",
     "output_type": "stream",
     "text": [
      "Loading raw...\n",
      "Extracting...\n",
      "Transforming...\n",
      "Saving...\n",
      "Done!\n",
      "Loading raw...\n",
      "Extracting...\n",
      "Transforming...\n",
      "Saving...\n",
      "Done!\n",
      "Loading raw...\n",
      "Extracting...\n",
      "Transforming...\n",
      "Saving...\n",
      "Done!\n"
     ]
    }
   ],
   "source": [
    "import shutil\n",
    "import tempfile\n",
    "\n",
    "temp_dir = tempfile.TemporaryDirectory(delete=False)\n",
    "region_ = create_fake_regions(temp_dir.name)\n",
    "region_\n",
    "region_.region_a.geometry\n",
    "region_.region_b.geometry\n",
    "region_.region_c.geometry\n",
    "shutil.rmtree(temp_dir.name)"
   ]
  },
  {
   "cell_type": "code",
   "execution_count": null,
   "metadata": {},
   "outputs": [],
   "source": []
  },
  {
   "cell_type": "code",
   "execution_count": 9,
   "metadata": {},
   "outputs": [
    {
     "data": {
      "text/plain": [
       "electoralyze.common.testing.region_fixture.RegionMocked"
      ]
     },
     "execution_count": 9,
     "metadata": {},
     "output_type": "execute_result"
    }
   ],
   "source": [
    "RegionMocked"
   ]
  },
  {
   "cell_type": "code",
   "execution_count": 12,
   "metadata": {},
   "outputs": [
    {
     "name": "stdout",
     "output_type": "stream",
     "text": [
      "shape: (1, 2)\n",
      "┌──────────┬──────┐\n",
      "│ region_b ┆ data │\n",
      "│ ---      ┆ ---  │\n",
      "│ str      ┆ i64  │\n",
      "╞══════════╪══════╡\n",
      "│ A        ┆ 1    │\n",
      "└──────────┴──────┘\n"
     ]
    },
    {
     "data": {
      "text/html": [
       "<div><style>\n",
       ".dataframe > thead > tr,\n",
       ".dataframe > tbody > tr {\n",
       "  text-align: right;\n",
       "  white-space: pre-wrap;\n",
       "}\n",
       "</style>\n",
       "<small>shape: (4, 2)</small><table border=\"1\" class=\"dataframe\"><thead><tr><th>region_a</th><th>data</th></tr><tr><td>str</td><td>f64</td></tr></thead><tbody><tr><td>&quot;N&quot;</td><td>0.125</td></tr><tr><td>&quot;O&quot;</td><td>0.375</td></tr><tr><td>&quot;M&quot;</td><td>0.125</td></tr><tr><td>&quot;P&quot;</td><td>0.375</td></tr></tbody></table></div>"
      ],
      "text/plain": [
       "shape: (4, 2)\n",
       "┌──────────┬───────┐\n",
       "│ region_a ┆ data  │\n",
       "│ ---      ┆ ---   │\n",
       "│ str      ┆ f64   │\n",
       "╞══════════╪═══════╡\n",
       "│ N        ┆ 0.125 │\n",
       "│ O        ┆ 0.375 │\n",
       "│ M        ┆ 0.125 │\n",
       "│ P        ┆ 0.375 │\n",
       "└──────────┴───────┘"
      ]
     },
     "execution_count": 12,
     "metadata": {},
     "output_type": "execute_result"
    }
   ],
   "source": [
    "data_by_from = pl.DataFrame({\"region_b\": [\"A\"], \"data\": [1]})\n",
    "print(data_by_from)\n",
    "redistribute(\n",
    "    data_by_from,\n",
    "    region_from=region_.region_b,\n",
    "    region_to=region_.region_a,\n",
    "    mapping=\"intersection_area\",\n",
    "    redistribute_with_full=False,\n",
    ")"
   ]
  },
  {
   "cell_type": "code",
   "execution_count": 13,
   "metadata": {},
   "outputs": [
    {
     "name": "stdout",
     "output_type": "stream",
     "text": [
      "shape: (3, 2)\n",
      "┌──────────┬──────┐\n",
      "│ region_c ┆ data │\n",
      "│ ---      ┆ ---  │\n",
      "│ str      ┆ i64  │\n",
      "╞══════════╪══════╡\n",
      "│ X        ┆ 1    │\n",
      "│ Y        ┆ 1    │\n",
      "│ Z        ┆ 1    │\n",
      "└──────────┴──────┘\n"
     ]
    },
    {
     "data": {
      "text/html": [
       "<div><style>\n",
       ".dataframe > thead > tr,\n",
       ".dataframe > tbody > tr {\n",
       "  text-align: right;\n",
       "  white-space: pre-wrap;\n",
       "}\n",
       "</style>\n",
       "<small>shape: (3, 2)</small><table border=\"1\" class=\"dataframe\"><thead><tr><th>region_b</th><th>data</th></tr><tr><td>str</td><td>f64</td></tr></thead><tbody><tr><td>&quot;C&quot;</td><td>0.75</td></tr><tr><td>&quot;B&quot;</td><td>0.75</td></tr><tr><td>&quot;A&quot;</td><td>1.5</td></tr></tbody></table></div>"
      ],
      "text/plain": [
       "shape: (3, 2)\n",
       "┌──────────┬──────┐\n",
       "│ region_b ┆ data │\n",
       "│ ---      ┆ ---  │\n",
       "│ str      ┆ f64  │\n",
       "╞══════════╪══════╡\n",
       "│ C        ┆ 0.75 │\n",
       "│ B        ┆ 0.75 │\n",
       "│ A        ┆ 1.5  │\n",
       "└──────────┴──────┘"
      ]
     },
     "execution_count": 13,
     "metadata": {},
     "output_type": "execute_result"
    }
   ],
   "source": [
    "data_by_from = pl.DataFrame({\"region_c\": [\"X\", \"Y\", \"Z\"], \"data\": [1, 1, 1]})\n",
    "print(data_by_from)\n",
    "redistribute(\n",
    "    data_by_from,\n",
    "    region_from=region_.region_c,\n",
    "    region_through=region_.region_a,\n",
    "    region_to=region_.region_b,\n",
    "    mapping=\"intersection_area\",\n",
    "    redistribute_with_full=False,\n",
    ")"
   ]
  },
  {
   "cell_type": "code",
   "execution_count": null,
   "metadata": {},
   "outputs": [],
   "source": []
  }
 ],
 "metadata": {
  "kernelspec": {
   "display_name": "Python 3",
   "language": "python",
   "name": "python3"
  },
  "language_info": {
   "codemirror_mode": {
    "name": "ipython",
    "version": 3
   },
   "file_extension": ".py",
   "mimetype": "text/x-python",
   "name": "python",
   "nbconvert_exporter": "python",
   "pygments_lexer": "ipython3",
   "version": "3.13.0"
  }
 },
 "nbformat": 4,
 "nbformat_minor": 2
}
