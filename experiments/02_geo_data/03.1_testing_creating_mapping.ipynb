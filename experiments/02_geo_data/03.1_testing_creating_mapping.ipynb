{
 "cells": [
  {
   "cell_type": "code",
   "execution_count": 1,
   "metadata": {},
   "outputs": [],
   "source": [
    "%load_ext autoreload\n",
    "%autoreload 2\n",
    "\n",
    "import geopandas as gpd\n",
    "import pandas as pd\n",
    "import polars as pl\n",
    "import polars_st as st\n",
    "import pyogrio\n",
    "from electoralyze import region\n",
    "from electoralyze.common import constants\n",
    "from electoralyze.common.geometry import to_geopandas, to_geopolars\n",
    "from electoralyze.common.testing.region_fixture import RegionMocked, read_true_geometry, read_true_metadata\n",
    "from electoralyze.region.redistribute.mapping import (\n",
    "    _create_intersection_area_mapping,\n",
    "    _get_remaining_area,\n",
    "    create_region_mapping_base,\n",
    ")"
   ]
  },
  {
   "cell_type": "code",
   "execution_count": 2,
   "metadata": {},
   "outputs": [],
   "source": [
    "# read_true_geometry(\"region_a\").pipe(to_geopandas).explore()"
   ]
  },
  {
   "cell_type": "code",
   "execution_count": null,
   "metadata": {},
   "outputs": [],
   "source": []
  },
  {
   "cell_type": "code",
   "execution_count": 10,
   "metadata": {},
   "outputs": [
    {
     "name": "stdout",
     "output_type": "stream",
     "text": [
      "shape: (11, 3)\n",
      "┌──────────┬──────────┬──────────┐\n",
      "│ region_b ┆ region_c ┆ mapping  │\n",
      "│ ---      ┆ ---      ┆ ---      │\n",
      "│ str      ┆ str      ┆ f64      │\n",
      "╞══════════╪══════════╪══════════╡\n",
      "│ A        ┆ X        ┆ 1.21875  │\n",
      "│ A        ┆ Y        ┆ 0.5      │\n",
      "│ A        ┆ Z        ┆ 0.28125  │\n",
      "│ B        ┆ X        ┆ 0.140625 │\n",
      "│ B        ┆ Y        ┆ 0.25     │\n",
      "│ …        ┆ …        ┆ …        │\n",
      "│ C        ┆ X        ┆ 0.140625 │\n",
      "│ C        ┆ Y        ┆ 0.25     │\n",
      "│ C        ┆ Z        ┆ 0.609375 │\n",
      "│ C        ┆ null     ┆ 1.0      │\n",
      "│ B        ┆ null     ┆ 1.0      │\n",
      "└──────────┴──────────┴──────────┘\n"
     ]
    }
   ],
   "source": [
    "intersection_area = _create_intersection_area_mapping(\n",
    "    geometry_from=read_true_geometry(\"region_b\"),\n",
    "    geometry_to=read_true_geometry(\"region_c\"),\n",
    ")\n",
    "intersection_area.pipe(print)"
   ]
  },
  {
   "cell_type": "code",
   "execution_count": 11,
   "metadata": {},
   "outputs": [
    {
     "data": {
      "text/plain": [
       "{'region_b': ['A', 'A', 'A', 'B', 'B', 'B', 'C', 'C', 'C', 'C', 'B'],\n",
       " 'region_c': ['X', 'Y', 'Z', 'X', 'Y', 'Z', 'X', 'Y', 'Z', None, None],\n",
       " 'mapping': [1.21875,\n",
       "  0.5,\n",
       "  0.28125,\n",
       "  0.140625,\n",
       "  0.25,\n",
       "  0.609375,\n",
       "  0.140625,\n",
       "  0.25,\n",
       "  0.609375,\n",
       "  1.0,\n",
       "  1.0]}"
      ]
     },
     "execution_count": 11,
     "metadata": {},
     "output_type": "execute_result"
    }
   ],
   "source": [
    "intersection_area.to_dict(as_series=False)"
   ]
  }
 ],
 "metadata": {
  "kernelspec": {
   "display_name": "Python 3",
   "language": "python",
   "name": "python3"
  },
  "language_info": {
   "codemirror_mode": {
    "name": "ipython",
    "version": 3
   },
   "file_extension": ".py",
   "mimetype": "text/x-python",
   "name": "python",
   "nbconvert_exporter": "python",
   "pygments_lexer": "ipython3",
   "version": "3.13.0"
  }
 },
 "nbformat": 4,
 "nbformat_minor": 2
}
