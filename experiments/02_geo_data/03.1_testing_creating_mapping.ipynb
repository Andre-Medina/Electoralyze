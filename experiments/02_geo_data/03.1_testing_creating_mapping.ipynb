{
 "cells": [
  {
   "cell_type": "code",
   "execution_count": 1,
   "metadata": {},
   "outputs": [],
   "source": [
    "%load_ext autoreload\n",
    "%autoreload 2\n",
    "\n",
    "import geopandas as gpd\n",
    "import pandas as pd\n",
    "import polars as pl\n",
    "import polars_st as st\n",
    "import pyogrio\n",
    "from electoralyze import region\n",
    "from electoralyze.common import constants\n",
    "from electoralyze.common.geometry import to_geopandas, to_geopolars\n",
    "from electoralyze.common.testing.region_fixture import RegionMocked, read_true_geometry, read_true_metadata\n",
    "from electoralyze.region.redistribute.mapping import (\n",
    "    _create_intersection_area_mapping,\n",
    "    _get_remaining_area,\n",
    "    create_region_mapping_base,\n",
    ")"
   ]
  },
  {
   "cell_type": "code",
   "execution_count": 2,
   "metadata": {},
   "outputs": [],
   "source": [
    "# read_true_geometry(\"region_a\").pipe(to_geopandas).explore()"
   ]
  },
  {
   "cell_type": "code",
   "execution_count": 15,
   "metadata": {},
   "outputs": [],
   "source": [
    "# read_true_geometry(\"region_a\").pipe(to_geopandas).explore()\n",
    "# read_true_geometry(\"region_b\").pipe(to_geopandas).explore()\n",
    "# read_true_geometry(\"region_c\").pipe(to_geopandas).explore()"
   ]
  },
  {
   "cell_type": "code",
   "execution_count": 23,
   "metadata": {},
   "outputs": [
    {
     "name": "stdout",
     "output_type": "stream",
     "text": [
      "shape: (11, 3)\n",
      "┌──────────┬──────────┬─────────┐\n",
      "│ region_b ┆ region_c ┆ mapping │\n",
      "│ ---      ┆ ---      ┆ ---     │\n",
      "│ str      ┆ str      ┆ f64     │\n",
      "╞══════════╪══════════╪═════════╡\n",
      "│ A        ┆ X        ┆ 14.0    │\n",
      "│ A        ┆ Y        ┆ 16.0    │\n",
      "│ A        ┆ Z        ┆ 2.0     │\n",
      "│ B        ┆ X        ┆ 1.0     │\n",
      "│ B        ┆ Y        ┆ 8.0     │\n",
      "│ …        ┆ …        ┆ …       │\n",
      "│ C        ┆ X        ┆ 1.0     │\n",
      "│ C        ┆ Y        ┆ 8.0     │\n",
      "│ C        ┆ Z        ┆ 7.0     │\n",
      "│ C        ┆ null     ┆ 16.0    │\n",
      "│ B        ┆ null     ┆ 16.0    │\n",
      "└──────────┴──────────┴─────────┘\n"
     ]
    },
    {
     "data": {
      "text/plain": [
       "[{'region_b': 'A', 'region_c': 'X', 'mapping': 14.0},\n",
       " {'region_b': 'A', 'region_c': 'Y', 'mapping': 16.0},\n",
       " {'region_b': 'A', 'region_c': 'Z', 'mapping': 2.0},\n",
       " {'region_b': 'B', 'region_c': 'X', 'mapping': 1.0},\n",
       " {'region_b': 'B', 'region_c': 'Y', 'mapping': 8.0},\n",
       " {'region_b': 'B', 'region_c': 'Z', 'mapping': 7.0},\n",
       " {'region_b': 'C', 'region_c': 'X', 'mapping': 1.0},\n",
       " {'region_b': 'C', 'region_c': 'Y', 'mapping': 8.0},\n",
       " {'region_b': 'C', 'region_c': 'Z', 'mapping': 7.0},\n",
       " {'region_b': 'C', 'region_c': None, 'mapping': 16.0},\n",
       " {'region_b': 'B', 'region_c': None, 'mapping': 16.0}]"
      ]
     },
     "execution_count": 23,
     "metadata": {},
     "output_type": "execute_result"
    }
   ],
   "source": [
    "intersection_area = _create_intersection_area_mapping(\n",
    "    geometry_from=read_true_geometry(\"region_b\"),\n",
    "    geometry_to=read_true_geometry(\"region_c\"),\n",
    ")\n",
    "intersection_area.pipe(print)\n",
    "intersection_area.rows(named=True)"
   ]
  },
  {
   "cell_type": "code",
   "execution_count": 21,
   "metadata": {},
   "outputs": [
    {
     "name": "stdout",
     "output_type": "stream",
     "text": [
      "shape: (8, 3)\n",
      "┌──────────┬──────────┬─────────┐\n",
      "│ region_a ┆ region_c ┆ mapping │\n",
      "│ ---      ┆ ---      ┆ ---     │\n",
      "│ str      ┆ str      ┆ f64     │\n",
      "╞══════════╪══════════╪═════════╡\n",
      "│ M        ┆ Y        ┆ 8.0     │\n",
      "│ M        ┆ Z        ┆ 8.0     │\n",
      "│ N        ┆ Y        ┆ 8.0     │\n",
      "│ N        ┆ Z        ┆ 8.0     │\n",
      "│ O        ┆ X        ┆ 8.0     │\n",
      "│ O        ┆ Y        ┆ 8.0     │\n",
      "│ P        ┆ X        ┆ 8.0     │\n",
      "│ P        ┆ Y        ┆ 8.0     │\n",
      "└──────────┴──────────┴─────────┘\n"
     ]
    },
    {
     "data": {
      "text/plain": [
       "[{'region_a': 'M', 'region_c': 'Y', 'mapping': 8.0},\n",
       " {'region_a': 'M', 'region_c': 'Z', 'mapping': 8.0},\n",
       " {'region_a': 'N', 'region_c': 'Y', 'mapping': 8.0},\n",
       " {'region_a': 'N', 'region_c': 'Z', 'mapping': 8.0},\n",
       " {'region_a': 'O', 'region_c': 'X', 'mapping': 8.0},\n",
       " {'region_a': 'O', 'region_c': 'Y', 'mapping': 8.0},\n",
       " {'region_a': 'P', 'region_c': 'X', 'mapping': 8.0},\n",
       " {'region_a': 'P', 'region_c': 'Y', 'mapping': 8.0}]"
      ]
     },
     "execution_count": 21,
     "metadata": {},
     "output_type": "execute_result"
    }
   ],
   "source": [
    "intersection_area = _create_intersection_area_mapping(\n",
    "    geometry_from=read_true_geometry(\"region_a\"),\n",
    "    geometry_to=read_true_geometry(\"region_c\"),\n",
    ")\n",
    "intersection_area.pipe(print)\n",
    "intersection_area.rows(named=True)"
   ]
  },
  {
   "cell_type": "code",
   "execution_count": 22,
   "metadata": {},
   "outputs": [
    {
     "name": "stdout",
     "output_type": "stream",
     "text": [
      "shape: (10, 3)\n",
      "┌──────────┬──────────┬─────────┐\n",
      "│ region_a ┆ region_b ┆ mapping │\n",
      "│ ---      ┆ ---      ┆ ---     │\n",
      "│ str      ┆ str      ┆ f64     │\n",
      "╞══════════╪══════════╪═════════╡\n",
      "│ M        ┆ A        ┆ 4.0     │\n",
      "│ M        ┆ B        ┆ 12.0    │\n",
      "│ N        ┆ A        ┆ 4.0     │\n",
      "│ N        ┆ C        ┆ 12.0    │\n",
      "│ O        ┆ A        ┆ 12.0    │\n",
      "│ O        ┆ B        ┆ 4.0     │\n",
      "│ P        ┆ A        ┆ 12.0    │\n",
      "│ P        ┆ C        ┆ 4.0     │\n",
      "│ null     ┆ B        ┆ 16.0    │\n",
      "│ null     ┆ C        ┆ 16.0    │\n",
      "└──────────┴──────────┴─────────┘\n"
     ]
    },
    {
     "data": {
      "text/plain": [
       "[{'region_a': 'M', 'region_b': 'A', 'mapping': 4.0},\n",
       " {'region_a': 'M', 'region_b': 'B', 'mapping': 12.0},\n",
       " {'region_a': 'N', 'region_b': 'A', 'mapping': 4.0},\n",
       " {'region_a': 'N', 'region_b': 'C', 'mapping': 12.0},\n",
       " {'region_a': 'O', 'region_b': 'A', 'mapping': 12.0},\n",
       " {'region_a': 'O', 'region_b': 'B', 'mapping': 4.0},\n",
       " {'region_a': 'P', 'region_b': 'A', 'mapping': 12.0},\n",
       " {'region_a': 'P', 'region_b': 'C', 'mapping': 4.0},\n",
       " {'region_a': None, 'region_b': 'B', 'mapping': 16.0},\n",
       " {'region_a': None, 'region_b': 'C', 'mapping': 16.0}]"
      ]
     },
     "execution_count": 22,
     "metadata": {},
     "output_type": "execute_result"
    }
   ],
   "source": [
    "intersection_area = _create_intersection_area_mapping(\n",
    "    geometry_from=read_true_geometry(\"region_a\"),\n",
    "    geometry_to=read_true_geometry(\"region_b\"),\n",
    ")\n",
    "intersection_area.pipe(print)\n",
    "intersection_area.rows(named=True)"
   ]
  },
  {
   "cell_type": "code",
   "execution_count": 4,
   "metadata": {},
   "outputs": [
    {
     "data": {
      "text/plain": [
       "{'region_b': ['A', 'A', 'A', 'B', 'B', 'B', 'C', 'C', 'C', 'B', 'C'],\n",
       " 'region_c': ['X', 'Y', 'Z', 'X', 'Y', 'Z', 'X', 'Y', 'Z', None, None],\n",
       " 'mapping': [1.21875,\n",
       "  0.5,\n",
       "  0.28125,\n",
       "  0.140625,\n",
       "  0.25,\n",
       "  0.609375,\n",
       "  0.140625,\n",
       "  0.25,\n",
       "  0.609375,\n",
       "  1.0,\n",
       "  1.0]}"
      ]
     },
     "execution_count": 4,
     "metadata": {},
     "output_type": "execute_result"
    }
   ],
   "source": [
    "intersection_area.to_dict(as_series=False)"
   ]
  }
 ],
 "metadata": {
  "kernelspec": {
   "display_name": "Python 3",
   "language": "python",
   "name": "python3"
  },
  "language_info": {
   "codemirror_mode": {
    "name": "ipython",
    "version": 3
   },
   "file_extension": ".py",
   "mimetype": "text/x-python",
   "name": "python",
   "nbconvert_exporter": "python",
   "pygments_lexer": "ipython3",
   "version": "3.13.0"
  }
 },
 "nbformat": 4,
 "nbformat_minor": 2
}
