{
 "cells": [
  {
   "cell_type": "code",
   "execution_count": null,
   "metadata": {},
   "outputs": [],
   "source": [
    "import pyogrio"
   ]
  },
  {
   "cell_type": "code",
   "execution_count": null,
   "metadata": {},
   "outputs": [],
   "source": [
    "import polars as pl\n",
    "import polars_st as st"
   ]
  },
  {
   "cell_type": "code",
   "execution_count": null,
   "metadata": {},
   "outputs": [],
   "source": [
    "import pytz"
   ]
  },
  {
   "cell_type": "code",
   "execution_count": null,
   "metadata": {},
   "outputs": [],
   "source": [
    "df = pl.Series(\n",
    "    \"geometry\",\n",
    "    [\n",
    "        \"POINT(0 0)\",\n",
    "        \"POINT(1 2)\",\n",
    "    ],\n",
    ").to_frame()\n",
    "df.select(st.from_wkt(\"geometry\")).st.to_geopandas().explore()"
   ]
  },
  {
   "cell_type": "code",
   "execution_count": null,
   "metadata": {},
   "outputs": [],
   "source": [
    "import polars as pl\n",
    "import polars_st as st\n",
    "\n",
    "df = pl.DataFrame(\n",
    "    {\n",
    "        \"geometry\": [\n",
    "            \"POLYGON ((0 0, 0 1, 1 1, 1 0, 0 0))\",\n",
    "            \"POLYGON ((0 0, 0 1, 1 1, 0 0))\",\n",
    "        ]\n",
    "    }\n",
    ")\n",
    "gdf = df.select(geometry=st.from_wkt(\"geometry\"))\n",
    "area = gdf.select(pl.col(\"geometry\").st.area())\n",
    "area"
   ]
  },
  {
   "cell_type": "code",
   "execution_count": null,
   "metadata": {},
   "outputs": [],
   "source": [
    "gdf.select(pl.col(\"geometry\").st.centroid()).st.to_geopandas()"
   ]
  },
  {
   "cell_type": "code",
   "execution_count": null,
   "metadata": {},
   "outputs": [],
   "source": [
    "gdf.st.to_geopandas().explore()"
   ]
  }
 ],
 "metadata": {
  "kernelspec": {
   "display_name": "Python 3",
   "language": "python",
   "name": "python3"
  },
  "language_info": {
   "codemirror_mode": {
    "name": "ipython",
    "version": 3
   },
   "file_extension": ".py",
   "mimetype": "text/x-python",
   "name": "python",
   "nbconvert_exporter": "python",
   "pygments_lexer": "ipython3",
   "version": "3.13.0"
  }
 },
 "nbformat": 4,
 "nbformat_minor": 2
}
