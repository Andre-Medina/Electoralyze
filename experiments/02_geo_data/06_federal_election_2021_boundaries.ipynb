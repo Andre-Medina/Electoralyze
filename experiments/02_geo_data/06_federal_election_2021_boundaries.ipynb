{
 "cells": [
  {
   "cell_type": "code",
   "execution_count": null,
   "metadata": {},
   "outputs": [],
   "source": [
    "import os\n",
    "\n",
    "import geopandas as gpd\n",
    "import polars as pl\n",
    "import polars_st as st\n",
    "import pyogrio\n",
    "import requests\n",
    "from electoralyze import region\n",
    "from electoralyze.common.constants import ROOT_DIR\n",
    "from electoralyze.common.geometry import to_geopandas, to_geopolars"
   ]
  },
  {
   "cell_type": "code",
   "execution_count": null,
   "metadata": {},
   "outputs": [],
   "source": [
    "region.Federal2021.download_data()"
   ]
  },
  {
   "cell_type": "code",
   "execution_count": null,
   "metadata": {},
   "outputs": [],
   "source": [
    "geometry_raw = region.Federal2021._get_geometry_raw()"
   ]
  },
  {
   "cell_type": "code",
   "execution_count": null,
   "metadata": {},
   "outputs": [],
   "source": [
    "geometry_raw"
   ]
  },
  {
   "cell_type": "code",
   "execution_count": null,
   "metadata": {},
   "outputs": [],
   "source": [
    "cls = region.Federal2021\n",
    "geometry_raw.select(\n",
    "    pl.col(\"Elect_div\").alias(cls.id),\n",
    "    pl.struct(\n",
    "        pl.col(\"Elect_div\").alias(cls.name),\n",
    "        pl.col(\"Sortname\").alias(\"short_name\"),\n",
    "        pl.col(\"Area_SqKm\").alias(\"area_sqkm\"),\n",
    "        pl.col(\"Actual\").alias(\"actual\"),\n",
    "    ).alias(\"metadata\"),\n",
    "    pl.col(\"geometry\"),\n",
    ").pipe(print)"
   ]
  },
  {
   "cell_type": "code",
   "execution_count": null,
   "metadata": {},
   "outputs": [],
   "source": [
    "region.Federal2021.process_raw(force_new=True)"
   ]
  },
  {
   "cell_type": "code",
   "execution_count": null,
   "metadata": {},
   "outputs": [],
   "source": [
    "region.Federal2021.geometry.pipe(to_geopandas).explore()"
   ]
  }
 ],
 "metadata": {
  "kernelspec": {
   "display_name": "Python 3",
   "language": "python",
   "name": "python3"
  },
  "language_info": {
   "codemirror_mode": {
    "name": "ipython",
    "version": 3
   },
   "file_extension": ".py",
   "mimetype": "text/x-python",
   "name": "python",
   "nbconvert_exporter": "python",
   "pygments_lexer": "ipython3",
   "version": "3.13.0"
  }
 },
 "nbformat": 4,
 "nbformat_minor": 2
}
