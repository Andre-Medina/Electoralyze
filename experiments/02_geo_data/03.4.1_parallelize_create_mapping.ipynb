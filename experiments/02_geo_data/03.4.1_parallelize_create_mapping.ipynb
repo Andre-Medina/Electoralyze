{
 "cells": [
  {
   "cell_type": "code",
   "execution_count": 1,
   "metadata": {},
   "outputs": [],
   "source": [
    "%load_ext autoreload\n",
    "%autoreload 2\n",
    "\n",
    "import geopandas as gpd\n",
    "import pandas as pd\n",
    "import polars as pl\n",
    "import polars_st as st\n",
    "import pyogrio\n",
    "from electoralyze import region\n",
    "from electoralyze.common import constants\n",
    "from electoralyze.common.geometry import to_geopandas, to_geopolars\n",
    "from electoralyze.common.testing.region_fixture import (\n",
    "    RegionMocked,\n",
    "    create_fake_regions,\n",
    "    read_true_geometry,\n",
    "    read_true_metadata,\n",
    ")\n",
    "from electoralyze.region.redistribute import redistribute\n",
    "from electoralyze.region.redistribute.mapping import (\n",
    "    _create_intersection_area_mapping,\n",
    "    _get_remaining_area,\n",
    "    get_region_mapping_base,\n",
    ")\n",
    "from polars import testing"
   ]
  },
  {
   "cell_type": "code",
   "execution_count": null,
   "metadata": {},
   "outputs": [],
   "source": []
  },
  {
   "cell_type": "code",
   "execution_count": 2,
   "metadata": {},
   "outputs": [
    {
     "data": {
      "text/plain": [
       "electoralyze.region.regions.federal_2022.Federal2022"
      ]
     },
     "execution_count": 2,
     "metadata": {},
     "output_type": "execute_result"
    }
   ],
   "source": [
    "region.Federal2022"
   ]
  },
  {
   "cell_type": "code",
   "execution_count": 3,
   "metadata": {},
   "outputs": [
    {
     "data": {
      "text/plain": [
       "electoralyze.region.regions.SA1_2021.SA1_2021"
      ]
     },
     "execution_count": 3,
     "metadata": {},
     "output_type": "execute_result"
    }
   ],
   "source": [
    "region.SA1_2021"
   ]
  },
  {
   "cell_type": "code",
   "execution_count": 4,
   "metadata": {},
   "outputs": [
    {
     "data": {
      "text/html": [
       "<div><style>\n",
       ".dataframe > thead > tr,\n",
       ".dataframe > tbody > tr {\n",
       "  text-align: right;\n",
       "  white-space: pre-wrap;\n",
       "}\n",
       "</style>\n",
       "<small>shape: (151, 2)</small><table border=\"1\" class=\"dataframe\"><thead><tr><th>federal_2022</th><th>geometry</th></tr><tr><td>str</td><td>binary</td></tr></thead><tbody><tr><td>&quot;adelaide&quot;</td><td>b&quot;\\x01\\x03\\x00\\x00\\xa0\\xe6\\x10\\x00\\x00\\x01\\x00\\x00\\x00W\\x00\\x00\\x00u\\x8e\\x01\\xd9kTa@\\x82\\xfd\\xd7\\xb9ioA\\xc0\\x00\\x00\\x00\\x00\\x00\\x00\\x00\\x00\\xd0\\x98I\\xd4\\x0bTa@\\x0a\\xd68\\x9b\\x8epA\\xc0\\x00\\x00\\x00&quot;…</td></tr><tr><td>&quot;aston&quot;</td><td>b&quot;\\x01\\x03\\x00\\x00\\xa0\\xe6\\x10\\x00\\x00\\x01\\x00\\x00\\x00\\xd0\\x02\\x00\\x00\\xfc\\x8e\\xe1\\xb1\\x1f+b@|\\xed\\x99%\\x01\\xeeB\\xc0\\x00\\x00\\x00\\x00\\x00\\x00\\x00\\x00;8\\xd8\\x9b\\x18+b@-\\xe8\\xbd1\\x04\\xeeB\\xc0\\x00\\x00\\x00&quot;…</td></tr><tr><td>&quot;ballarat&quot;</td><td>b&quot;\\x01\\x03\\x00\\x00\\xa0\\xe6\\x10\\x00\\x00\\x01\\x00\\x00\\x00D\\x09\\x00\\x00J\\xb2\\x0eGW\\xfaa@p\\xb071$\\x07C\\xc0\\x00\\x00\\x00\\x00\\x00\\x00\\x00\\x00\\x05\\xc0x\\x06\\x8d\\xfaa@\\xfa\\xd1p\\xca\\xdc\\x02C\\xc0\\x00\\x00\\x00&quot;…</td></tr><tr><td>&quot;banks&quot;</td><td>b&quot;\\x01\\x03\\x00\\x00\\xa0\\xe6\\x10\\x00\\x00\\x01\\x00\\x00\\x00\\x9b\\x00\\x00\\x00\\xab\\x07\\xccC&amp;\\xe4b@\\x96\\xaf\\xcb\\xf0\\x9f\\xfc@\\xc0\\x00\\x00\\x00\\x00\\x00\\x00\\x00\\x006#\\x83\\xdc\\xc5\\xe3b@\\xfc\\xdf\\x11\\x15\\xaa\\xfd@\\xc0\\x00\\x00\\x00&quot;…</td></tr><tr><td>&quot;barker&quot;</td><td>b&quot;\\x01\\x06\\x00\\x00\\xa0\\xe6\\x10\\x00\\x00\\x1b\\x00\\x00\\x00\\x01\\x03\\x00\\x00\\x80\\x01\\x00\\x00\\x00M\\x0d\\x00\\x00wj.7\\x18\\xa0a@\\xa3\\x05h[\\xcd\\x02A\\xc0\\x00\\x00\\x00\\x00\\x00\\x00\\x00\\x00\\xa0PO\\x1f\\x01\\xa0a@r7&quot;…</td></tr><tr><td>&hellip;</td><td>&hellip;</td></tr><tr><td>&quot;werriwa&quot;</td><td>b&quot;\\x01\\x03\\x00\\x00\\xa0\\xe6\\x10\\x00\\x00\\x01\\x00\\x00\\x00\\x1d\\x01\\x00\\x00*\\x8d\\x98\\xd9g\\xddb@\\xf7\\xe67L4\\xf8@\\xc0\\x00\\x00\\x00\\x00\\x00\\x00\\x00\\x00\\x1a\\x17\\x0e\\x84d\\xddb@G\\xc8@\\x9e]\\xf8@\\xc0\\x00\\x00\\x00&quot;…</td></tr><tr><td>&quot;whitlam&quot;</td><td>b&quot;\\x01\\x06\\x00\\x00\\xa0\\xe6\\x10\\x00\\x00\\x02\\x00\\x00\\x00\\x01\\x03\\x00\\x00\\x80\\x01\\x00\\x00\\x00\\xd9\\x04\\x00\\x00y\\x95\\xb5M\\xf1\\xdcb@\\x17a\\x8ariLA\\xc0\\x00\\x00\\x00\\x00\\x00\\x00\\x00\\x00\\xaf\\xb1KT\\xef\\xdcb@u\\x1e&quot;…</td></tr><tr><td>&quot;wide_bay&quot;</td><td>b&quot;\\x01\\x03\\x00\\x00\\xa0\\xe6\\x10\\x00\\x00\\x01\\x00\\x00\\x00d\\x0e\\x00\\x00\\x8b\\xe1\\xea\\x00\\x88+c@\\x01L\\x198\\xa0\\x019\\xc0\\x00\\x00\\x00\\x00\\x00\\x00\\x00\\x00\\xf7\\xb1\\x82\\xdf\\x86+c@6\\x93o\\xb6\\xb9\\x019\\xc0\\x00\\x00\\x00&quot;…</td></tr><tr><td>&quot;wills&quot;</td><td>b&quot;\\x01\\x03\\x00\\x00\\xa0\\xe6\\x10\\x00\\x00\\x01\\x00\\x00\\x00D\\x01\\x00\\x00\\x16\\x16\\xdc\\x0fx\\x1fb@\\xce\\xe2\\xc5\\xc2\\x10\\xe3B\\xc0\\x00\\x00\\x00\\x00\\x00\\x00\\x00\\x00\\x0c\\x02+\\x87\\x16\\x1fb@\\x84\\xf2&gt;\\x8e\\xe6\\xe2B\\xc0\\x00\\x00\\x00&quot;…</td></tr><tr><td>&quot;wright&quot;</td><td>b&quot;\\x01\\x03\\x00\\x00\\xa0\\xe6\\x10\\x00\\x00\\x01\\x00\\x00\\x00(\\x0b\\x00\\x00\\xf7\\xb0\\x17\\x0a\\xd8+c@\\x1c\\:\\xe6&lt;\\x1b&lt;\\xc0\\x00\\x00\\x00\\x00\\x00\\x00\\x00\\x00\\xab\\x087\\x19\\xd5+c@t\\xd0%\\x1cz\\x1b&lt;\\xc0\\x00\\x00\\x00&quot;…</td></tr></tbody></table></div>"
      ],
      "text/plain": [
       "shape: (151, 2)\n",
       "┌──────────────┬─────────────────────────────────┐\n",
       "│ federal_2022 ┆ geometry                        │\n",
       "│ ---          ┆ ---                             │\n",
       "│ str          ┆ binary                          │\n",
       "╞══════════════╪═════════════════════════════════╡\n",
       "│ adelaide     ┆ b\"\\x01\\x03\\x00\\x00\\xa0\\xe6\\x10… │\n",
       "│ aston        ┆ b\"\\x01\\x03\\x00\\x00\\xa0\\xe6\\x10… │\n",
       "│ ballarat     ┆ b\"\\x01\\x03\\x00\\x00\\xa0\\xe6\\x10… │\n",
       "│ banks        ┆ b\"\\x01\\x03\\x00\\x00\\xa0\\xe6\\x10… │\n",
       "│ barker       ┆ b\"\\x01\\x06\\x00\\x00\\xa0\\xe6\\x10… │\n",
       "│ …            ┆ …                               │\n",
       "│ werriwa      ┆ b\"\\x01\\x03\\x00\\x00\\xa0\\xe6\\x10… │\n",
       "│ whitlam      ┆ b\"\\x01\\x06\\x00\\x00\\xa0\\xe6\\x10… │\n",
       "│ wide_bay     ┆ b\"\\x01\\x03\\x00\\x00\\xa0\\xe6\\x10… │\n",
       "│ wills        ┆ b\"\\x01\\x03\\x00\\x00\\xa0\\xe6\\x10… │\n",
       "│ wright       ┆ b\"\\x01\\x03\\x00\\x00\\xa0\\xe6\\x10… │\n",
       "└──────────────┴─────────────────────────────────┘"
      ]
     },
     "execution_count": 4,
     "metadata": {},
     "output_type": "execute_result"
    }
   ],
   "source": [
    "region.Federal2022.geometry"
   ]
  },
  {
   "cell_type": "code",
   "execution_count": 5,
   "metadata": {},
   "outputs": [
    {
     "data": {
      "text/html": [
       "<div><style>\n",
       ".dataframe > thead > tr,\n",
       ".dataframe > tbody > tr {\n",
       "  text-align: right;\n",
       "  white-space: pre-wrap;\n",
       "}\n",
       "</style>\n",
       "<small>shape: (100, 2)</small><table border=\"1\" class=\"dataframe\"><thead><tr><th>SA1_2021</th><th>geometry</th></tr><tr><td>i64</td><td>binary</td></tr></thead><tbody><tr><td>10102100701</td><td>b&quot;\\x01\\x03\\x00\\x00\\x20\\xe6\\x10\\x00\\x00\\x01\\x00\\x00\\x00\\xc9\\x02\\x00\\x00]\\x16V\\xf6\\x80\\xbcb@`j&quot;\\xe5\\x88\\x8bA\\xc0K\\x07\\x81\\xbe\\x89\\xbcb@\\x98\\xe7[Du\\x8bA\\xc0\\xdc\\x8d\\x1c;\\x92\\xbcb@\\xa9X\\x94&quot;…</td></tr><tr><td>10102100702</td><td>b&quot;\\x01\\x03\\x00\\x00\\x20\\xe6\\x10\\x00\\x00\\x02\\x00\\x00\\x00\\x08\\x01\\x00\\x00Y\\xdc\\xe9\\xa6~\\xb7b@\\x9e\\xfb\\xe0\\x81\\x0c\\xafA\\xc0\\xb5Q\\xabKL\\xb8b@y\\x87\\xa0!}\\xafA\\xc0\\xdc\\xeb1\\x0bW\\xb8b@A\\xb6\\x8d&quot;…</td></tr><tr><td>10102100703</td><td>b&quot;\\x01\\x03\\x00\\x00\\x20\\xe6\\x10\\x00\\x00\\x01\\x00\\x00\\x00\\x1a\\x00\\x00\\x00\\x0f\\xf0N\\x9b\\xf5\\xb8b@\\xd60\\xf1\\x91g\\xb8A\\xc0u\\xc3C\\xa7\\xf2\\xb8b@G8\\xcb\\xb4+\\xb8A\\xc0B6\\xc1\\xac\\xfb\\xb8b@^p\\xe5&quot;…</td></tr><tr><td>10102100704</td><td>b&quot;\\x01\\x03\\x00\\x00\\x20\\xe6\\x10\\x00\\x00\\x01\\x00\\x00\\x00\\x1e\\x00\\x00\\x00\\x95\\x92\\x10&lt;}\\xb9b@7J\\xbb\\x9f\\x09\\xb9A\\xc0\\xca1\\xac\\xee\\x89\\xb9b@j\\x94\\xfc\\x020\\xb8A\\xc0RI\\xbet\\x8b\\xb9b@\\xc1\\xe3\\xb4&quot;…</td></tr><tr><td>10102100705</td><td>b&quot;\\x01\\x03\\x00\\x00\\x20\\xe6\\x10\\x00\\x00\\x01\\x00\\x00\\x00&quot;\\x00\\x00\\x00\\xdc\\xbc\\x02\\x88p\\xb9b@\\xfe\\x05l#y\\xb9A\\xc0g\\x10R\\x1cr\\xb9b@X.\\x07\\x8cy\\xb9A\\xc0\\x93\\xecfnt\\xb9b@Pc\\x1f&quot;…</td></tr><tr><td>&hellip;</td><td>&hellip;</td></tr><tr><td>10102101221</td><td>b&quot;\\x01\\x03\\x00\\x00\\x20\\xe6\\x10\\x00\\x00\\x01\\x00\\x00\\x00\\x10\\x00\\x00\\x005[\\xf6\\xe7\\x8d\\xa6b@\\xcb\\x87\\xf1u\\x05\\xaeA\\xc0\\xbbC\\x9a\\xa8\\x94\\xa6b@\\xb2K\\xa5Z\\xfb\\xadA\\xc0F\\xfd\\x19\\xd2\\x99\\xa6b@\\x03\\xaf\\xc8&quot;…</td></tr><tr><td>10102101222</td><td>b&quot;\\x01\\x03\\x00\\x00\\x20\\xe6\\x10\\x00\\x00\\x01\\x00\\x00\\x00\\x0e\\x00\\x00\\x00=\\xdaAU\\x91\\xa6b@s_\\xc0h)\\xb1A\\xc0\\x0d`\\xa0T\\x94\\xa6b@\\xbe\\xa4\\xab\\x17\\xf1\\xb0A\\xc0\\xc3\\xae@\\xbb\\xbe\\xa6b@@O\\x8a&quot;…</td></tr><tr><td>10102101223</td><td>b&quot;\\x01\\x03\\x00\\x00\\x20\\xe6\\x10\\x00\\x00\\x01\\x00\\x00\\x00\\x13\\x00\\x00\\x00\\x91\\x96\\xa2KN\\xa6b@y:\\\\xa0\\x8c\\xb1A\\xc0\\x9a\\xba\\xda\\xe8V\\xa6b@\\x02\\x17\\xdd@\\xe1\\xb0A\\xc0\\x00&amp;\\x14\\xe0d\\xa6b@r\\xdd\\xf7&quot;…</td></tr><tr><td>10102101224</td><td>b&quot;\\x01\\x03\\x00\\x00\\x20\\xe6\\x10\\x00\\x00\\x01\\x00\\x00\\x00\\x16\\x00\\x00\\x00NH\\xf4\\xec\\x9e\\xa6b@\\x9aY\\xbb\\xc8\\x15\\xb2A\\xc0B)\\xb7\\x0d\\x9a\\xa6b@\\xde1k\\xaf\\xf5\\xb1A\\xc0s\\xa8\\xce\\x8a\\x9f\\xa6b@@\\xfe\\xac&quot;…</td></tr><tr><td>10102101225</td><td>b&quot;\\x01\\x03\\x00\\x00\\x20\\xe6\\x10\\x00\\x00\\x01\\x00\\x00\\x00*\\x00\\x00\\x0074\\xcc\\xed\\xd9\\xa6b@&quot;$\\x14bX\\xb0A\\xc0j\\xcd\\xb2\\xaa\\xcb\\xa6b@\\xd6\\xf5\\x94pd\\xb0A\\xc0\\xe5R,\\xdf\\xc5\\xa6b@@Z\\xd1&quot;…</td></tr></tbody></table></div>"
      ],
      "text/plain": [
       "shape: (100, 2)\n",
       "┌─────────────┬─────────────────────────────────┐\n",
       "│ SA1_2021    ┆ geometry                        │\n",
       "│ ---         ┆ ---                             │\n",
       "│ i64         ┆ binary                          │\n",
       "╞═════════════╪═════════════════════════════════╡\n",
       "│ 10102100701 ┆ b\"\\x01\\x03\\x00\\x00\\x20\\xe6\\x10… │\n",
       "│ 10102100702 ┆ b\"\\x01\\x03\\x00\\x00\\x20\\xe6\\x10… │\n",
       "│ 10102100703 ┆ b\"\\x01\\x03\\x00\\x00\\x20\\xe6\\x10… │\n",
       "│ 10102100704 ┆ b\"\\x01\\x03\\x00\\x00\\x20\\xe6\\x10… │\n",
       "│ 10102100705 ┆ b\"\\x01\\x03\\x00\\x00\\x20\\xe6\\x10… │\n",
       "│ …           ┆ …                               │\n",
       "│ 10102101221 ┆ b\"\\x01\\x03\\x00\\x00\\x20\\xe6\\x10… │\n",
       "│ 10102101222 ┆ b\"\\x01\\x03\\x00\\x00\\x20\\xe6\\x10… │\n",
       "│ 10102101223 ┆ b\"\\x01\\x03\\x00\\x00\\x20\\xe6\\x10… │\n",
       "│ 10102101224 ┆ b\"\\x01\\x03\\x00\\x00\\x20\\xe6\\x10… │\n",
       "│ 10102101225 ┆ b\"\\x01\\x03\\x00\\x00\\x20\\xe6\\x10… │\n",
       "└─────────────┴─────────────────────────────────┘"
      ]
     },
     "execution_count": 5,
     "metadata": {},
     "output_type": "execute_result"
    }
   ],
   "source": [
    "region.SA1_2021.geometry.head(100)"
   ]
  },
  {
   "cell_type": "code",
   "execution_count": 6,
   "metadata": {},
   "outputs": [],
   "source": [
    "from electoralyze.region.redistribute.mapping import _get_intersection_area"
   ]
  },
  {
   "cell_type": "code",
   "execution_count": 38,
   "metadata": {},
   "outputs": [],
   "source": [
    "geometry_from = region.Federal2022.geometry\n",
    "geometry_to = region.SA1_2021.geometry"
   ]
  },
  {
   "cell_type": "markdown",
   "metadata": {},
   "source": [
    "# Using overlay"
   ]
  },
  {
   "cell_type": "code",
   "execution_count": 39,
   "metadata": {},
   "outputs": [
    {
     "name": "stderr",
     "output_type": "stream",
     "text": [
      "/tmp/ipykernel_17058/1710801322.py:2: UserWarning: Geometry is in a geographic CRS. Results from 'area' are likely incorrect. Use 'GeoSeries.to_crs()' to re-project geometries to a projected CRS before this operation.\n",
      "\n",
      "  intersection_area_new = intersections.assign(intersection_area = lambda df: df['geometry'].area).drop(\"geometry\", axis = 1).pipe(pl.DataFrame)\n"
     ]
    },
    {
     "data": {
      "text/html": [
       "<div><style>\n",
       ".dataframe > thead > tr,\n",
       ".dataframe > tbody > tr {\n",
       "  text-align: right;\n",
       "  white-space: pre-wrap;\n",
       "}\n",
       "</style>\n",
       "<small>shape: (68_294, 3)</small><table border=\"1\" class=\"dataframe\"><thead><tr><th>federal_2022</th><th>SA1_2021</th><th>intersection_area</th></tr><tr><td>str</td><td>i64</td><td>f64</td></tr></thead><tbody><tr><td>&quot;adelaide&quot;</td><td>40101100101</td><td>0.000014</td></tr><tr><td>&quot;adelaide&quot;</td><td>40101100102</td><td>0.000007</td></tr><tr><td>&quot;adelaide&quot;</td><td>40101100103</td><td>0.000009</td></tr><tr><td>&quot;adelaide&quot;</td><td>40101100104</td><td>0.000008</td></tr><tr><td>&quot;adelaide&quot;</td><td>40101100105</td><td>0.000009</td></tr><tr><td>&hellip;</td><td>&hellip;</td><td>&hellip;</td></tr><tr><td>&quot;wright&quot;</td><td>31701145412</td><td>1.6867e-7</td></tr><tr><td>&quot;wright&quot;</td><td>31701145415</td><td>1.9773e-7</td></tr><tr><td>&quot;wright&quot;</td><td>31701145521</td><td>3.4680e-7</td></tr><tr><td>&quot;wright&quot;</td><td>31701145725</td><td>6.3308e-8</td></tr><tr><td>&quot;wright&quot;</td><td>31701145726</td><td>7.9795e-7</td></tr></tbody></table></div>"
      ],
      "text/plain": [
       "shape: (68_294, 3)\n",
       "┌──────────────┬─────────────┬───────────────────┐\n",
       "│ federal_2022 ┆ SA1_2021    ┆ intersection_area │\n",
       "│ ---          ┆ ---         ┆ ---               │\n",
       "│ str          ┆ i64         ┆ f64               │\n",
       "╞══════════════╪═════════════╪═══════════════════╡\n",
       "│ adelaide     ┆ 40101100101 ┆ 0.000014          │\n",
       "│ adelaide     ┆ 40101100102 ┆ 0.000007          │\n",
       "│ adelaide     ┆ 40101100103 ┆ 0.000009          │\n",
       "│ adelaide     ┆ 40101100104 ┆ 0.000008          │\n",
       "│ adelaide     ┆ 40101100105 ┆ 0.000009          │\n",
       "│ …            ┆ …           ┆ …                 │\n",
       "│ wright       ┆ 31701145412 ┆ 1.6867e-7         │\n",
       "│ wright       ┆ 31701145415 ┆ 1.9773e-7         │\n",
       "│ wright       ┆ 31701145521 ┆ 3.4680e-7         │\n",
       "│ wright       ┆ 31701145725 ┆ 6.3308e-8         │\n",
       "│ wright       ┆ 31701145726 ┆ 7.9795e-7         │\n",
       "└──────────────┴─────────────┴───────────────────┘"
      ]
     },
     "execution_count": 39,
     "metadata": {},
     "output_type": "execute_result"
    }
   ],
   "source": [
    "intersections = geometry_from.pipe(to_geopandas).overlay(geometry_to.pipe(to_geopandas), how=\"intersection\")\n",
    "intersection_area_new = (\n",
    "    intersections.assign(intersection_area=lambda df: df[\"geometry\"].area).drop(\"geometry\", axis=1).pipe(pl.DataFrame)\n",
    ")\n",
    "intersection_area_new"
   ]
  },
  {
   "cell_type": "markdown",
   "metadata": {},
   "source": [
    "# other methods"
   ]
  },
  {
   "cell_type": "code",
   "execution_count": 40,
   "metadata": {},
   "outputs": [
    {
     "name": "stderr",
     "output_type": "stream",
     "text": [
      "/tmp/ipykernel_17058/2829525813.py:9: UserWarning: Geometry is in a geographic CRS. Results from 'area' are likely incorrect. Use 'GeoSeries.to_crs()' to re-project geometries to a projected CRS before this operation.\n",
      "\n",
      "  geometry_combined.assign(intersection_area=lambda df: df[\"geometry_from\"].intersection(df[\"geometry_to\"]).area)\n"
     ]
    },
    {
     "data": {
      "text/html": [
       "<div><style>\n",
       ".dataframe > thead > tr,\n",
       ".dataframe > tbody > tr {\n",
       "  text-align: right;\n",
       "  white-space: pre-wrap;\n",
       "}\n",
       "</style>\n",
       "<small>shape: (68_294, 3)</small><table border=\"1\" class=\"dataframe\"><thead><tr><th>federal_2022</th><th>SA1_2021</th><th>intersection_area</th></tr><tr><td>str</td><td>i64</td><td>f64</td></tr></thead><tbody><tr><td>&quot;adelaide&quot;</td><td>40101100101</td><td>0.000014</td></tr><tr><td>&quot;adelaide&quot;</td><td>40101100102</td><td>0.000007</td></tr><tr><td>&quot;adelaide&quot;</td><td>40101100103</td><td>0.000009</td></tr><tr><td>&quot;adelaide&quot;</td><td>40101100104</td><td>0.000008</td></tr><tr><td>&quot;adelaide&quot;</td><td>40101100105</td><td>0.000009</td></tr><tr><td>&hellip;</td><td>&hellip;</td><td>&hellip;</td></tr><tr><td>&quot;wright&quot;</td><td>31701145412</td><td>1.6867e-7</td></tr><tr><td>&quot;wright&quot;</td><td>31701145415</td><td>1.9773e-7</td></tr><tr><td>&quot;wright&quot;</td><td>31701145521</td><td>3.4680e-7</td></tr><tr><td>&quot;wright&quot;</td><td>31701145725</td><td>6.3308e-8</td></tr><tr><td>&quot;wright&quot;</td><td>31701145726</td><td>7.9795e-7</td></tr></tbody></table></div>"
      ],
      "text/plain": [
       "shape: (68_294, 3)\n",
       "┌──────────────┬─────────────┬───────────────────┐\n",
       "│ federal_2022 ┆ SA1_2021    ┆ intersection_area │\n",
       "│ ---          ┆ ---         ┆ ---               │\n",
       "│ str          ┆ i64         ┆ f64               │\n",
       "╞══════════════╪═════════════╪═══════════════════╡\n",
       "│ adelaide     ┆ 40101100101 ┆ 0.000014          │\n",
       "│ adelaide     ┆ 40101100102 ┆ 0.000007          │\n",
       "│ adelaide     ┆ 40101100103 ┆ 0.000009          │\n",
       "│ adelaide     ┆ 40101100104 ┆ 0.000008          │\n",
       "│ adelaide     ┆ 40101100105 ┆ 0.000009          │\n",
       "│ …            ┆ …           ┆ …                 │\n",
       "│ wright       ┆ 31701145412 ┆ 1.6867e-7         │\n",
       "│ wright       ┆ 31701145415 ┆ 1.9773e-7         │\n",
       "│ wright       ┆ 31701145521 ┆ 3.4680e-7         │\n",
       "│ wright       ┆ 31701145725 ┆ 6.3308e-8         │\n",
       "│ wright       ┆ 31701145726 ┆ 7.9795e-7         │\n",
       "└──────────────┴─────────────┴───────────────────┘"
      ]
     },
     "execution_count": 40,
     "metadata": {},
     "output_type": "execute_result"
    }
   ],
   "source": [
    "geometry_combined: gpd.GeoDataFrame = (\n",
    "    geometry_from.pipe(to_geopandas)\n",
    "    .rename(columns={\"geometry\": \"geometry_from\"})\n",
    "    .merge(geometry_to.pipe(to_geopandas).rename(columns={\"geometry\": \"geometry_to\"}), how=\"cross\")\n",
    ")\n",
    "geometry_combined\n",
    "\n",
    "intersection_area = (\n",
    "    geometry_combined.assign(intersection_area=lambda df: df[\"geometry_from\"].intersection(df[\"geometry_to\"]).area)\n",
    "    .drop([\"geometry_from\", \"geometry_to\"], axis=1)\n",
    "    .loc[lambda df: df[\"intersection_area\"] > 0]\n",
    "    .pipe(pl.DataFrame)\n",
    ")\n",
    "intersection_area"
   ]
  },
  {
   "cell_type": "code",
   "execution_count": 41,
   "metadata": {},
   "outputs": [],
   "source": [
    "pl.testing.assert_frame_equal(\n",
    "    intersection_area_new,\n",
    "    intersection_area,\n",
    ")"
   ]
  },
  {
   "cell_type": "markdown",
   "metadata": {},
   "source": [
    "### Multi threading"
   ]
  },
  {
   "cell_type": "code",
   "execution_count": 10,
   "metadata": {},
   "outputs": [],
   "source": [
    "from concurrent.futures import ThreadPoolExecutor\n",
    "from functools import partial\n",
    "\n",
    "import polars as pl\n",
    "\n",
    "\n",
    "def calculate_intersection(row):\n",
    "    \"\"\"Calculate intersection area for a single row.\"\"\"\n",
    "    return row[\"geometry_from\"].intersection(row[\"geometry_to\"]).area\n",
    "\n",
    "\n",
    "def parallel_intersection(df, max_workers=None):\n",
    "    \"\"\"\n",
    "    Calculate intersection areas using parallel processing.\n",
    "\n",
    "    Args:\n",
    "        df: Input DataFrame with geometry_from and geometry_to columns\n",
    "        max_workers: Number of threads to use. If None, uses default ThreadPoolExecutor value\n",
    "\n",
    "    Returns\n",
    "    -------\n",
    "        Polars DataFrame with intersection areas\n",
    "    \"\"\"\n",
    "    # Convert to pandas for easier row iteration if not already\n",
    "    if isinstance(df, pl.DataFrame):\n",
    "        df = df.to_pandas()\n",
    "\n",
    "    # Create ThreadPoolExecutor\n",
    "    with ThreadPoolExecutor(max_workers=max_workers) as executor:\n",
    "        # Calculate all intersection areas in parallel\n",
    "        intersection_areas = list(executor.map(calculate_intersection, (row for _, row in df.iterrows())))\n",
    "\n",
    "    # Create result DataFrame\n",
    "    result_df = df.drop([\"geometry_from\", \"geometry_to\"], axis=1)\n",
    "    result_df[\"intersection_area\"] = intersection_areas\n",
    "\n",
    "    # Convert to Polars DataFrame\n",
    "    return pl.from_pandas(result_df)\n",
    "\n",
    "\n",
    "# Usage example:\n",
    "intersection_area = parallel_intersection(geometry_combined)\n",
    "\n",
    "# If you want to specify the number of workers:\n",
    "# intersection_area = parallel_intersection(geometry_combined, max_workers=4)"
   ]
  }
 ],
 "metadata": {
  "kernelspec": {
   "display_name": "Python 3",
   "language": "python",
   "name": "python3"
  },
  "language_info": {
   "codemirror_mode": {
    "name": "ipython",
    "version": 3
   },
   "file_extension": ".py",
   "mimetype": "text/x-python",
   "name": "python",
   "nbconvert_exporter": "python",
   "pygments_lexer": "ipython3",
   "version": "3.13.0"
  }
 },
 "nbformat": 4,
 "nbformat_minor": 2
}
