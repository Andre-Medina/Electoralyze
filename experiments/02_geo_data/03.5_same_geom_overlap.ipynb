{
 "cells": [
  {
   "cell_type": "code",
   "execution_count": 1,
   "metadata": {},
   "outputs": [],
   "source": [
    "import geopandas as gpd"
   ]
  },
  {
   "cell_type": "code",
   "execution_count": 14,
   "metadata": {},
   "outputs": [
    {
     "name": "stdout",
     "output_type": "stream",
     "text": [
      "                            geometry_x                           geometry_y\n",
      "0  POLYGON ((1 0, 1 1, 0 1, 0 0, 1 0))  POLYGON ((1 0, 1 1, 0 1, 0 0, 1 0))\n"
     ]
    },
    {
     "data": {
      "text/html": [
       "<div>\n",
       "<style scoped>\n",
       "    .dataframe tbody tr th:only-of-type {\n",
       "        vertical-align: middle;\n",
       "    }\n",
       "\n",
       "    .dataframe tbody tr th {\n",
       "        vertical-align: top;\n",
       "    }\n",
       "\n",
       "    .dataframe thead th {\n",
       "        text-align: right;\n",
       "    }\n",
       "</style>\n",
       "<table border=\"1\" class=\"dataframe\">\n",
       "  <thead>\n",
       "    <tr style=\"text-align: right;\">\n",
       "      <th></th>\n",
       "      <th>geometry_x</th>\n",
       "      <th>geometry_y</th>\n",
       "      <th>area</th>\n",
       "    </tr>\n",
       "  </thead>\n",
       "  <tbody>\n",
       "    <tr>\n",
       "      <th>0</th>\n",
       "      <td>POLYGON ((1 0, 1 1, 0 1, 0 0, 1 0))</td>\n",
       "      <td>POLYGON ((1 0, 1 1, 0 1, 0 0, 1 0))</td>\n",
       "      <td>True</td>\n",
       "    </tr>\n",
       "  </tbody>\n",
       "</table>\n",
       "</div>"
      ],
      "text/plain": [
       "                            geometry_x                           geometry_y  \\\n",
       "0  POLYGON ((1 0, 1 1, 0 1, 0 0, 1 0))  POLYGON ((1 0, 1 1, 0 1, 0 0, 1 0))   \n",
       "\n",
       "   area  \n",
       "0  True  "
      ]
     },
     "execution_count": 14,
     "metadata": {},
     "output_type": "execute_result"
    }
   ],
   "source": [
    "from shapely.geometry import box\n",
    "\n",
    "# Create a square geometry (from coordinates 0,0 to 1,1)\n",
    "square = box(0, 0, 1, 1)\n",
    "\n",
    "# Create GeoDataFrame with the square\n",
    "gdf = gpd.GeoDataFrame(geometry=[square])\n",
    "gdf_ = gdf.merge(gdf, how=\"cross\")\n",
    "print(gdf_)\n",
    "gdf_.assign(area=lambda df: df[\"geometry_x\"].intersects(df[\"geometry_y\"]))"
   ]
  }
 ],
 "metadata": {
  "kernelspec": {
   "display_name": "Python 3",
   "language": "python",
   "name": "python3"
  },
  "language_info": {
   "codemirror_mode": {
    "name": "ipython",
    "version": 3
   },
   "file_extension": ".py",
   "mimetype": "text/x-python",
   "name": "python",
   "nbconvert_exporter": "python",
   "pygments_lexer": "ipython3",
   "version": "3.13.0"
  }
 },
 "nbformat": 4,
 "nbformat_minor": 2
}
