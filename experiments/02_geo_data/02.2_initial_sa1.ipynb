{
 "cells": [
  {
   "cell_type": "markdown",
   "metadata": {},
   "source": [
    "#### Census data:\n",
    "https://www.abs.gov.au/census/find-census-data/datapacks\n",
    "https://www.abs.gov.au/census/find-census-data/datapacks/download/2021_GCP_all_for_AUS_short-header.zip\n",
    "\n",
    "#### Geodata:\n",
    "https://www.abs.gov.au/statistics/standards/australian-statistical-geography-standard-asgs-edition-3\n",
    "https://www.abs.gov.au/statistics/standards/australian-statistical-geography-standard-asgs-edition-3/jul2021-jun2026/access-and-downloads/digital-boundary-files\n",
    "https://www.abs.gov.au/statistics/standards/australian-statistical-geography-standard-asgs-edition-3/jul2021-jun2026/access-and-downloads/digital-boundary-files/ASGS_2021_MAIN_STRUCTURE_GPKG_GDA2020.zip"
   ]
  },
  {
   "cell_type": "code",
   "execution_count": null,
   "metadata": {},
   "outputs": [],
   "source": [
    "import geopandas as gpd\n",
    "import polars as pl\n",
    "import polars_st as st\n",
    "import pyogrio"
   ]
  },
  {
   "cell_type": "code",
   "execution_count": null,
   "metadata": {},
   "outputs": [],
   "source": [
    "# ASGA_FILE_PATH = \"data/raw/ASGA/{year}/{region}/\"\n",
    "SA1_FILE_PATH = \"/home/andre/git/private/electoralyze/data/raw/ASGA/2021/SA1/SA1_2021_AUST_GDA2020.shp\"\n",
    "VIC_ELECTION = \"/home/andre/git/private/electoralyze/data/raw/AEC_boundary/federal/2024/VIC/E_VIC24_region.shp\""
   ]
  },
  {
   "cell_type": "code",
   "execution_count": null,
   "metadata": {},
   "outputs": [],
   "source": [
    "# st.read_file()"
   ]
  },
  {
   "cell_type": "code",
   "execution_count": null,
   "metadata": {},
   "outputs": [],
   "source": [
    "electorate = pyogrio.read_dataframe(VIC_ELECTION)\n",
    "type(electorate)"
   ]
  },
  {
   "cell_type": "code",
   "execution_count": null,
   "metadata": {},
   "outputs": [],
   "source": [
    "st.GeoDataFrame(electorate[[\"geometry\"]].to_dict(\"records\")).with_columns(\n",
    "    st.geom(\"geometry\").st.centroid()\n",
    ").st.to_geopandas().explore()"
   ]
  },
  {
   "cell_type": "code",
   "execution_count": null,
   "metadata": {},
   "outputs": [],
   "source": [
    "st.GeoSeries().st.centroid()"
   ]
  },
  {
   "cell_type": "code",
   "execution_count": null,
   "metadata": {},
   "outputs": [],
   "source": [
    "st.GeoDataFrame"
   ]
  },
  {
   "cell_type": "code",
   "execution_count": null,
   "metadata": {},
   "outputs": [],
   "source": [
    "# electorate.explore()\n",
    "# pyogrio.read_arrow(SA1_FILE_PATH)"
   ]
  },
  {
   "cell_type": "code",
   "execution_count": null,
   "metadata": {},
   "outputs": [],
   "source": [
    "sa1 = pyogrio.read_dataframe(SA1_FILE_PATH)\n",
    "sa1\n",
    "# sa1.explore()"
   ]
  },
  {
   "cell_type": "code",
   "execution_count": null,
   "metadata": {},
   "outputs": [],
   "source": [
    "sa1.head(600).explore()"
   ]
  },
  {
   "cell_type": "code",
   "execution_count": null,
   "metadata": {},
   "outputs": [],
   "source": [
    "sa1.to_crs(4326).tail(600).explore()"
   ]
  },
  {
   "cell_type": "code",
   "execution_count": null,
   "metadata": {},
   "outputs": [],
   "source": [
    "sa1_st = st.GeoDataFrame(\n",
    "    sa1[[\"SA1_CODE21\", \"geometry\"]]\n",
    "    .dropna()\n",
    "    .to_crs(4326)\n",
    "    .assign(SA1_CODE21=lambda df: df[\"SA1_CODE21\"].astype(float))\n",
    "    .to_dict(\"records\")\n",
    ")\n",
    "sa1_st"
   ]
  },
  {
   "cell_type": "code",
   "execution_count": null,
   "metadata": {},
   "outputs": [],
   "source": [
    "sa1_st_4326 = sa1_st.with_columns(st.geom(\"geometry\").st.set_srid(4326))"
   ]
  },
  {
   "cell_type": "code",
   "execution_count": null,
   "metadata": {},
   "outputs": [],
   "source": [
    "# sa1_st.write_parquet(\"sa1_processed.parquet\")\n",
    "# sa1_st.st.write_file(\"sa1_processed.csv\",geometry_type=\"Polygon\")\n",
    "sa1_gdf: gpd.GeoDataFrame = sa1_st_4326.st.to_geopandas().set_crs(4326)\n",
    "sa1_gdf.to_file(\"temp/sa1_processed.shp\")\n",
    "sa1_gdf.simplify(0.0001).to_file(\"temp/0_0001/sa1_processed.shp\")\n",
    "sa1_gdf.simplify(0.0005).to_file(\"temp/0_0005/sa1_processed.shp\")"
   ]
  },
  {
   "cell_type": "code",
   "execution_count": null,
   "metadata": {},
   "outputs": [],
   "source": [
    "sa1_gdf.head(600).explore()"
   ]
  },
  {
   "cell_type": "code",
   "execution_count": null,
   "metadata": {},
   "outputs": [],
   "source": [
    "sa1_st_ = st.from_geopandas(sa1[[\"SA1_CODE21\", \"geometry\"]].head(1000).dropna().to_crs(4326)).with_columns(\n",
    "    st.geom(\"geometry\").st.set_srid(4326)\n",
    ")\n",
    "sa1_gdf_ = sa1_st_.st.to_geopandas().set_crs(4326).simplify(0.0006)\n",
    "sa1_gdf_.head(600).explore()"
   ]
  },
  {
   "cell_type": "code",
   "execution_count": null,
   "metadata": {},
   "outputs": [],
   "source": [
    "sa1_gdf_.head(1000)"
   ]
  },
  {
   "cell_type": "code",
   "execution_count": null,
   "metadata": {},
   "outputs": [],
   "source": [
    "simple = pyogrio.read_dataframe(\"temp/sa1_processed.shp\").simplify(0.1)"
   ]
  },
  {
   "cell_type": "code",
   "execution_count": null,
   "metadata": {},
   "outputs": [],
   "source": [
    "pyogrio.read_dataframe(\"temp/sa1_processed.shp\")[\"geometry\"].loc[0]"
   ]
  },
  {
   "cell_type": "code",
   "execution_count": null,
   "metadata": {},
   "outputs": [],
   "source": [
    "pyogrio.read_dataframe(\"temp/sa1_processed.shp\").loc[0][\"geometry\"].simplify(0.001).area"
   ]
  },
  {
   "cell_type": "code",
   "execution_count": null,
   "metadata": {},
   "outputs": [],
   "source": [
    "# simple.explore()"
   ]
  },
  {
   "cell_type": "code",
   "execution_count": null,
   "metadata": {},
   "outputs": [],
   "source": [
    "st.GeoDataFrame(pyogrio.read_dataframe(\"temp/sa1_processed.shp\").to_dict(\"records\"))"
   ]
  },
  {
   "cell_type": "code",
   "execution_count": null,
   "metadata": {},
   "outputs": [],
   "source": [
    "sa1_st.head(10).st.to_geopandas().explore()"
   ]
  },
  {
   "cell_type": "code",
   "execution_count": null,
   "metadata": {},
   "outputs": [],
   "source": [
    "sa1_st_simple = sa1_st.with_columns(st.geom(\"geometry\").st.centroid())"
   ]
  },
  {
   "cell_type": "code",
   "execution_count": null,
   "metadata": {},
   "outputs": [],
   "source": [
    "# sa1_st_simple.st.to_geopandas().explore()"
   ]
  },
  {
   "cell_type": "code",
   "execution_count": null,
   "metadata": {},
   "outputs": [],
   "source": [
    "import os\n",
    "\n",
    "os.environ[\"PROJ_DEBUG\"] = \"3\""
   ]
  },
  {
   "cell_type": "code",
   "execution_count": null,
   "metadata": {},
   "outputs": [],
   "source": [
    "st.read_file(VIC_ELECTION).st.to_geopandas()"
   ]
  },
  {
   "cell_type": "code",
   "execution_count": null,
   "metadata": {},
   "outputs": [],
   "source": [
    "st.read_file(SA1_FILE_PATH)"
   ]
  }
 ],
 "metadata": {
  "kernelspec": {
   "display_name": "Python 3",
   "language": "python",
   "name": "python3"
  },
  "language_info": {
   "codemirror_mode": {
    "name": "ipython",
    "version": 3
   },
   "file_extension": ".py",
   "mimetype": "text/x-python",
   "name": "python",
   "nbconvert_exporter": "python",
   "pygments_lexer": "ipython3",
   "version": "3.13.0"
  }
 },
 "nbformat": 4,
 "nbformat_minor": 2
}
