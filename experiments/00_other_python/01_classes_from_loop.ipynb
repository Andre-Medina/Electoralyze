{
 "cells": [
  {
   "cell_type": "code",
   "execution_count": 7,
   "metadata": {},
   "outputs": [
    {
     "data": {
      "text/plain": [
       "{'asdf': 'asdf'}"
      ]
     },
     "execution_count": 7,
     "metadata": {},
     "output_type": "execute_result"
    }
   ],
   "source": [
    "custom = type(\n",
    "    \"name\",\n",
    "    (dict,),\n",
    "    {\n",
    "        \"id\": \"my id\",\n",
    "        \"add_one\": lambda x: x + 1,\n",
    "    },\n",
    ")\n",
    "custom.id\n",
    "my_custom = custom()\n",
    "my_custom[\"asdf\"] = \"asdf\"\n",
    "my_custom\n",
    "\n",
    "# my_custom.add_one(1)"
   ]
  },
  {
   "cell_type": "code",
   "execution_count": 14,
   "metadata": {},
   "outputs": [
    {
     "data": {
      "text/plain": [
       "{'asdf': 'asdf'}"
      ]
     },
     "execution_count": 14,
     "metadata": {},
     "output_type": "execute_result"
    }
   ],
   "source": [
    "def create_custom():\n",
    "    class custom(dict):\n",
    "        id = \"my id\"\n",
    "\n",
    "        @classmethod\n",
    "        def add_one(cls, x):\n",
    "            return x + 1\n",
    "\n",
    "    return custom\n",
    "\n",
    "\n",
    "custom = create_custom()()\n",
    "custom.id\n",
    "custom.add_one(1)\n",
    "custom[\"asdf\"] = \"asdf\"\n",
    "custom"
   ]
  },
  {
   "cell_type": "code",
   "execution_count": 24,
   "metadata": {},
   "outputs": [
    {
     "name": "stdout",
     "output_type": "stream",
     "text": [
      "my id 1\n",
      "9\n"
     ]
    }
   ],
   "source": [
    "customs = []\n",
    "for x in range(10):\n",
    "\n",
    "    class custom(dict):\n",
    "        id = f\"my id {x}\"\n",
    "\n",
    "        @classmethod\n",
    "        def func(cls):\n",
    "            return x  # noqa: B023\n",
    "\n",
    "        @classmethod\n",
    "        def add_one(cls, y):\n",
    "            return y + 1\n",
    "\n",
    "    customs.append(custom)\n",
    "\n",
    "index = 1\n",
    "print(customs[index].id)\n",
    "print(customs[index].func())"
   ]
  },
  {
   "cell_type": "code",
   "execution_count": 28,
   "metadata": {},
   "outputs": [
    {
     "name": "stdout",
     "output_type": "stream",
     "text": [
      "my id 4\n",
      "4\n"
     ]
    }
   ],
   "source": [
    "customs = []\n",
    "for x in range(10):\n",
    "\n",
    "    def make_custom(x_):\n",
    "        class custom(dict):\n",
    "            id = f\"my id {x_}\"\n",
    "\n",
    "            @classmethod\n",
    "            def func(cls):\n",
    "                return x_\n",
    "\n",
    "            @classmethod\n",
    "            def add_one(cls, y):\n",
    "                return y + 1\n",
    "\n",
    "        return custom\n",
    "\n",
    "    customs.append(make_custom(x))\n",
    "\n",
    "index = 4\n",
    "print(customs[index].id)\n",
    "print(customs[index].func())"
   ]
  },
  {
   "cell_type": "code",
   "execution_count": null,
   "metadata": {},
   "outputs": [],
   "source": []
  }
 ],
 "metadata": {
  "kernelspec": {
   "display_name": "Python 3",
   "language": "python",
   "name": "python3"
  },
  "language_info": {
   "codemirror_mode": {
    "name": "ipython",
    "version": 3
   },
   "file_extension": ".py",
   "mimetype": "text/x-python",
   "name": "python",
   "nbconvert_exporter": "python",
   "pygments_lexer": "ipython3",
   "version": "3.13.0"
  }
 },
 "nbformat": 4,
 "nbformat_minor": 2
}
