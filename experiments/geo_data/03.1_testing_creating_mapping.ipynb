{
 "cells": [
  {
   "cell_type": "code",
   "execution_count": 13,
   "metadata": {},
   "outputs": [
    {
     "name": "stdout",
     "output_type": "stream",
     "text": [
      "The autoreload extension is already loaded. To reload it, use:\n",
      "  %reload_ext autoreload\n"
     ]
    }
   ],
   "source": [
    "%load_ext autoreload\n",
    "%autoreload 2\n",
    "\n",
    "import geopandas as gpd\n",
    "import pandas as pd\n",
    "import polars as pl\n",
    "import polars_st as st\n",
    "import pyogrio\n",
    "from electoralyze import region\n",
    "from electoralyze.common import constants\n",
    "from electoralyze.common.geometry import to_geopandas, to_geopolars\n",
    "from electoralyze.common.testing.region_fixture import RegionMocked, read_true_geometry, read_true_metadata\n",
    "from electoralyze.region.redistribute.mapping import (\n",
    "    _create_intersection_area_mapping,\n",
    "    _get_remaining_area,\n",
    "    create_region_mapping_base,\n",
    ")"
   ]
  },
  {
   "cell_type": "code",
   "execution_count": 14,
   "metadata": {},
   "outputs": [],
   "source": [
    "# read_true_geometry(\"region_a\").pipe(to_geopandas).explore()"
   ]
  },
  {
   "cell_type": "code",
   "execution_count": null,
   "metadata": {},
   "outputs": [],
   "source": []
  },
  {
   "cell_type": "code",
   "execution_count": 27,
   "metadata": {},
   "outputs": [
    {
     "name": "stdout",
     "output_type": "stream",
     "text": [
      "shape: (10, 3)\n",
      "┌──────────┬──────────┬───────────────────┐\n",
      "│ region_a ┆ region_b ┆ intersection_area │\n",
      "│ ---      ┆ ---      ┆ ---               │\n",
      "│ str      ┆ str      ┆ f64               │\n",
      "╞══════════╪══════════╪═══════════════════╡\n",
      "│ M        ┆ A        ┆ 0.25              │\n",
      "│ M        ┆ B        ┆ 0.75              │\n",
      "│ N        ┆ A        ┆ 0.25              │\n",
      "│ N        ┆ C        ┆ 0.75              │\n",
      "│ O        ┆ A        ┆ 0.75              │\n",
      "│ O        ┆ B        ┆ 0.25              │\n",
      "│ P        ┆ A        ┆ 0.75              │\n",
      "│ P        ┆ C        ┆ 0.25              │\n",
      "│ null     ┆ C        ┆ 1.0               │\n",
      "│ null     ┆ B        ┆ 1.0               │\n",
      "└──────────┴──────────┴───────────────────┘\n"
     ]
    }
   ],
   "source": [
    "intersection_area = _create_intersection_area_mapping(\n",
    "    geometry_from=read_true_geometry(\"region_a\"),\n",
    "    geometry_to=read_true_geometry(\"region_b\"),\n",
    ")\n",
    "intersection_area.pipe(print)"
   ]
  },
  {
   "cell_type": "code",
   "execution_count": 29,
   "metadata": {},
   "outputs": [
    {
     "data": {
      "text/plain": [
       "{'region_a': ['M', 'M', 'N', 'N', 'O', 'O', 'P', 'P', None, None],\n",
       " 'region_b': ['A', 'B', 'A', 'C', 'A', 'B', 'A', 'C', 'C', 'B'],\n",
       " 'intersection_area': [0.25,\n",
       "  0.75,\n",
       "  0.25,\n",
       "  0.75,\n",
       "  0.75,\n",
       "  0.25,\n",
       "  0.75,\n",
       "  0.25,\n",
       "  1.0,\n",
       "  1.0]}"
      ]
     },
     "execution_count": 29,
     "metadata": {},
     "output_type": "execute_result"
    }
   ],
   "source": [
    "intersection_area.to_dict(as_series=False)"
   ]
  }
 ],
 "metadata": {
  "kernelspec": {
   "display_name": "Python 3",
   "language": "python",
   "name": "python3"
  },
  "language_info": {
   "codemirror_mode": {
    "name": "ipython",
    "version": 3
   },
   "file_extension": ".py",
   "mimetype": "text/x-python",
   "name": "python",
   "nbconvert_exporter": "python",
   "pygments_lexer": "ipython3",
   "version": "3.13.0"
  }
 },
 "nbformat": 4,
 "nbformat_minor": 2
}
