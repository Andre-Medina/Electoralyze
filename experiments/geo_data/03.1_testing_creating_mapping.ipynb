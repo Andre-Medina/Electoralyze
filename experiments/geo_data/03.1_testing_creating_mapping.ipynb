{
 "cells": [
  {
   "cell_type": "code",
   "execution_count": 12,
   "metadata": {},
   "outputs": [
    {
     "name": "stdout",
     "output_type": "stream",
     "text": [
      "The autoreload extension is already loaded. To reload it, use:\n",
      "  %reload_ext autoreload\n"
     ]
    }
   ],
   "source": [
    "%load_ext autoreload\n",
    "%autoreload 2\n",
    "\n",
    "import geopandas as gpd\n",
    "import pandas as pd\n",
    "import polars as pl\n",
    "import polars_st as st\n",
    "import pyogrio\n",
    "from electoralyze import region\n",
    "from electoralyze.common import constants\n",
    "from electoralyze.common.geometry import to_geopandas, to_geopolars\n",
    "from electoralyze.common.testing.region_fixture import RegionMocked, read_true_geometry, read_true_metadata\n",
    "from electoralyze.region.redistribute.mapping import (\n",
    "    _create_intersection_area_mapping,\n",
    "    _get_remaining_area,\n",
    "    create_region_mapping_base,\n",
    ")"
   ]
  },
  {
   "cell_type": "code",
   "execution_count": 5,
   "metadata": {},
   "outputs": [],
   "source": [
    "# read_true_geometry(\"region_a\").pipe(to_geopandas).explore()"
   ]
  },
  {
   "cell_type": "code",
   "execution_count": null,
   "metadata": {},
   "outputs": [],
   "source": []
  },
  {
   "cell_type": "code",
   "execution_count": 6,
   "metadata": {},
   "outputs": [
    {
     "data": {
      "text/html": [
       "<div><style>\n",
       ".dataframe > thead > tr,\n",
       ".dataframe > tbody > tr {\n",
       "  text-align: right;\n",
       "  white-space: pre-wrap;\n",
       "}\n",
       "</style>\n",
       "<small>shape: (8, 3)</small><table border=\"1\" class=\"dataframe\"><thead><tr><th>region_a</th><th>region_b</th><th>intersection_area</th></tr><tr><td>str</td><td>str</td><td>f64</td></tr></thead><tbody><tr><td>&quot;M&quot;</td><td>&quot;A&quot;</td><td>0.25</td></tr><tr><td>&quot;M&quot;</td><td>&quot;B&quot;</td><td>0.75</td></tr><tr><td>&quot;N&quot;</td><td>&quot;A&quot;</td><td>0.25</td></tr><tr><td>&quot;N&quot;</td><td>&quot;C&quot;</td><td>0.75</td></tr><tr><td>&quot;O&quot;</td><td>&quot;A&quot;</td><td>0.75</td></tr><tr><td>&quot;O&quot;</td><td>&quot;B&quot;</td><td>0.25</td></tr><tr><td>&quot;P&quot;</td><td>&quot;A&quot;</td><td>0.75</td></tr><tr><td>&quot;P&quot;</td><td>&quot;C&quot;</td><td>0.25</td></tr></tbody></table></div>"
      ],
      "text/plain": [
       "shape: (8, 3)\n",
       "┌──────────┬──────────┬───────────────────┐\n",
       "│ region_a ┆ region_b ┆ intersection_area │\n",
       "│ ---      ┆ ---      ┆ ---               │\n",
       "│ str      ┆ str      ┆ f64               │\n",
       "╞══════════╪══════════╪═══════════════════╡\n",
       "│ M        ┆ A        ┆ 0.25              │\n",
       "│ M        ┆ B        ┆ 0.75              │\n",
       "│ N        ┆ A        ┆ 0.25              │\n",
       "│ N        ┆ C        ┆ 0.75              │\n",
       "│ O        ┆ A        ┆ 0.75              │\n",
       "│ O        ┆ B        ┆ 0.25              │\n",
       "│ P        ┆ A        ┆ 0.75              │\n",
       "│ P        ┆ C        ┆ 0.25              │\n",
       "└──────────┴──────────┴───────────────────┘"
      ]
     },
     "execution_count": 6,
     "metadata": {},
     "output_type": "execute_result"
    }
   ],
   "source": [
    "intersection_area = _create_intersection_area_mapping(\n",
    "    geometry_from=read_true_geometry(\"region_a\"),\n",
    "    geometry_to=read_true_geometry(\"region_b\"),\n",
    ")\n",
    "intersection_area"
   ]
  },
  {
   "cell_type": "code",
   "execution_count": 11,
   "metadata": {},
   "outputs": [
    {
     "data": {
      "text/plain": [
       "{'region_b'}"
      ]
     },
     "execution_count": 11,
     "metadata": {},
     "output_type": "execute_result"
    }
   ],
   "source": [
    "set(intersection_area.columns) - set(read_true_geometry(\"region_a\").columns) - {\"intersection_area\"}"
   ]
  },
  {
   "cell_type": "code",
   "execution_count": 8,
   "metadata": {},
   "outputs": [
    {
     "data": {
      "text/html": [
       "<div><style>\n",
       ".dataframe > thead > tr,\n",
       ".dataframe > tbody > tr {\n",
       "  text-align: right;\n",
       "  white-space: pre-wrap;\n",
       "}\n",
       "</style>\n",
       "<small>shape: (3, 3)</small><table border=\"1\" class=\"dataframe\"><thead><tr><th>region_a</th><th>region_b</th><th>geometry</th></tr><tr><td>str</td><td>str</td><td>f64</td></tr></thead><tbody><tr><td>null</td><td>&quot;B&quot;</td><td>1.0</td></tr><tr><td>null</td><td>&quot;C&quot;</td><td>1.0</td></tr><tr><td>null</td><td>&quot;A&quot;</td><td>0.0</td></tr></tbody></table></div>"
      ],
      "text/plain": [
       "shape: (3, 3)\n",
       "┌──────────┬──────────┬──────────┐\n",
       "│ region_a ┆ region_b ┆ geometry │\n",
       "│ ---      ┆ ---      ┆ ---      │\n",
       "│ str      ┆ str      ┆ f64      │\n",
       "╞══════════╪══════════╪══════════╡\n",
       "│ null     ┆ B        ┆ 1.0      │\n",
       "│ null     ┆ C        ┆ 1.0      │\n",
       "│ null     ┆ A        ┆ 0.0      │\n",
       "└──────────┴──────────┴──────────┘"
      ]
     },
     "execution_count": 8,
     "metadata": {},
     "output_type": "execute_result"
    }
   ],
   "source": [
    "(\n",
    "    read_true_geometry(\"region_b\")\n",
    "    .with_columns(\n",
    "        st.geom(\"geometry\").st.area(),\n",
    "        pl.lit(None).cast(pl.String).alias(\"region_a\"),\n",
    "    )\n",
    "    .join(\n",
    "        intersection_area.group_by(\"region_b\").agg(pl.col(\"intersection_area\").sum().alias(\"intersected_area\")),\n",
    "        on=\"region_b\",\n",
    "    )\n",
    "    .select(pl.col(\"region_a\"), pl.col(\"region_b\"), pl.col(\"geometry\").sub(pl.col(\"intersected_area\")))\n",
    ")"
   ]
  }
 ],
 "metadata": {
  "kernelspec": {
   "display_name": "Python 3",
   "language": "python",
   "name": "python3"
  },
  "language_info": {
   "codemirror_mode": {
    "name": "ipython",
    "version": 3
   },
   "file_extension": ".py",
   "mimetype": "text/x-python",
   "name": "python",
   "nbconvert_exporter": "python",
   "pygments_lexer": "ipython3",
   "version": "3.13.0"
  }
 },
 "nbformat": 4,
 "nbformat_minor": 2
}
