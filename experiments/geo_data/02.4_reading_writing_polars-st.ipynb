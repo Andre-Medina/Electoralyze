{
 "cells": [
  {
   "cell_type": "code",
   "execution_count": null,
   "metadata": {},
   "outputs": [],
   "source": [
    "import geopandas as gpd\n",
    "import polars as pl\n",
    "import polars_st as st\n",
    "import pyogrio"
   ]
  },
  {
   "cell_type": "code",
   "execution_count": null,
   "metadata": {},
   "outputs": [],
   "source": [
    "# ASGA_FILE_PATH = \"data/raw/ASGA/{year}/{region}/\"\n",
    "SA1_FILE_PATH = \"/home/andre/git/private/electoralyze/data/raw/ASGA/2021/SA1/SA1_2021_AUST_GDA2020.shp\"\n",
    "VIC_ELECTION = \"/home/andre/git/private/electoralyze/data/raw/AEC_boundary/federal/2024/VIC/E_VIC24_region.shp\""
   ]
  },
  {
   "cell_type": "code",
   "execution_count": null,
   "metadata": {},
   "outputs": [],
   "source": [
    "sa1: gpd.GeoDataFrame = pyogrio.read_dataframe(SA1_FILE_PATH)\n",
    "sa1.sample(3)\n",
    "\n",
    "sa1_gpd = sa1[[\"SA1_CODE21\", \"geometry\"]].dropna().assign(geometry=lambda df: df[\"geometry\"].to_crs(4326))"
   ]
  },
  {
   "cell_type": "markdown",
   "metadata": {},
   "source": [
    "## GPD -> st"
   ]
  },
  {
   "cell_type": "code",
   "execution_count": null,
   "metadata": {},
   "outputs": [],
   "source": [
    "def to_geopolars(gdp_gdf: gpd.GeoDataFrame) -> st.GeoDataFrame:\n",
    "    st_gdf = st.from_geopandas(gdp_gdf.to_crs(4326)).with_columns(st.geom(\"geometry\").st.set_srid(4326))\n",
    "    return st_gdf\n",
    "\n",
    "\n",
    "sa1_st: st.GeoDataFrame = to_geopolars(sa1[[\"SA1_CODE21\", \"geometry\"]].dropna())\n",
    "sa1_st"
   ]
  },
  {
   "cell_type": "markdown",
   "metadata": {},
   "source": [
    "## Comparing simplification"
   ]
  },
  {
   "cell_type": "code",
   "execution_count": null,
   "metadata": {},
   "outputs": [],
   "source": [
    "sa1_gpd_simp = sa1_gpd.assign(geometry=lambda df: df[\"geometry\"].simplify(0.0005))"
   ]
  },
  {
   "cell_type": "code",
   "execution_count": null,
   "metadata": {},
   "outputs": [],
   "source": [
    "sa1_st_simp = sa1_st.with_columns(st.geom(\"geometry\").st.simplify(0.0005))"
   ]
  },
  {
   "cell_type": "code",
   "execution_count": null,
   "metadata": {},
   "outputs": [],
   "source": [
    "# sa1_gpd_simp.head(600).explore()"
   ]
  },
  {
   "cell_type": "code",
   "execution_count": null,
   "metadata": {},
   "outputs": [],
   "source": [
    "def to_geopandas(st_gdf: st.GeoDataFrame) -> gpd.GeoDataFrame:\n",
    "    gpd_gdf = st_gdf.st.to_geopandas().set_crs(4326)\n",
    "    return gpd_gdf\n",
    "\n",
    "\n",
    "sa1_gdf_ = sa1_st_simp.head(600).pipe(to_geopandas)\n",
    "# sa1_gdf_.explore()\n",
    "sa1_gdf_"
   ]
  },
  {
   "cell_type": "markdown",
   "metadata": {},
   "source": [
    "### Comparing centroids"
   ]
  },
  {
   "cell_type": "code",
   "execution_count": null,
   "metadata": {},
   "outputs": [],
   "source": [
    "%%timeit\n",
    "sa1_gpd.assign(geometry=lambda df: df[\"geometry\"].centroid)"
   ]
  },
  {
   "cell_type": "code",
   "execution_count": null,
   "metadata": {},
   "outputs": [],
   "source": [
    "%%timeit\n",
    "sa1_st.with_columns(st.geom(\"geometry\").st.centroid())"
   ]
  },
  {
   "cell_type": "markdown",
   "metadata": {},
   "source": [
    "## Writing"
   ]
  },
  {
   "cell_type": "code",
   "execution_count": null,
   "metadata": {},
   "outputs": [],
   "source": [
    "sa1_file = \"temp/sa1_processed.shp\"\n",
    "sa1_gdf: gpd.GeoDataFrame = sa1_st.pipe(to_geopandas)\n",
    "sa1_gdf.to_file(sa1_file)"
   ]
  },
  {
   "cell_type": "code",
   "execution_count": null,
   "metadata": {},
   "outputs": [],
   "source": [
    "pyogrio.read_dataframe(sa1_file).pipe(to_geopolars)"
   ]
  }
 ],
 "metadata": {
  "kernelspec": {
   "display_name": "Python 3",
   "language": "python",
   "name": "python3"
  },
  "language_info": {
   "codemirror_mode": {
    "name": "ipython",
    "version": 3
   },
   "file_extension": ".py",
   "mimetype": "text/x-python",
   "name": "python",
   "nbconvert_exporter": "python",
   "pygments_lexer": "ipython3",
   "version": "3.1.-1"
  }
 },
 "nbformat": 4,
 "nbformat_minor": 2
}
