{
 "cells": [
  {
   "cell_type": "code",
   "execution_count": null,
   "metadata": {},
   "outputs": [],
   "source": [
    "import geopandas as gpd\n",
    "import polars as pl\n",
    "import polars_st as st\n",
    "import pyogrio"
   ]
  },
  {
   "cell_type": "code",
   "execution_count": null,
   "metadata": {},
   "outputs": [],
   "source": [
    "# ASGA_FILE_PATH = \"data/raw/ASGA/{year}/{region}/\"\n",
    "SA1_FILE_PATH = \"/home/andre/git/private/electoralyze/data/raw/ASGA/2021/SA1/SA1_2021_AUST_GDA2020.shp\"\n",
    "VIC_ELECTION = \"/home/andre/git/private/electoralyze/data/raw/AEC_boundary/federal/2024/VIC/E_VIC24_region.shp\""
   ]
  },
  {
   "cell_type": "code",
   "execution_count": null,
   "metadata": {},
   "outputs": [],
   "source": [
    "sa1 = pyogrio.read_dataframe(SA1_FILE_PATH)\n",
    "sa1"
   ]
  },
  {
   "cell_type": "code",
   "execution_count": null,
   "metadata": {},
   "outputs": [],
   "source": [
    "sa1_st = st.GeoDataFrame(\n",
    "    sa1[[\"SA1_CODE21\", \"geometry\"]]\n",
    "    .dropna()\n",
    "    .to_crs(4326)\n",
    "    .assign(SA1_CODE21=lambda df: df[\"SA1_CODE21\"].astype(float))\n",
    "    .to_dict(\"records\")\n",
    ")\n",
    "sa1_st"
   ]
  },
  {
   "cell_type": "code",
   "execution_count": null,
   "metadata": {},
   "outputs": [],
   "source": [
    "sa1_st_4326 = sa1_st.with_columns(st.geom(\"geometry\").st.set_srid(4326))"
   ]
  },
  {
   "cell_type": "code",
   "execution_count": null,
   "metadata": {},
   "outputs": [],
   "source": [
    "sa1_gdf: gpd.GeoDataFrame = sa1_st_4326.st.to_geopandas().set_crs(4326)\n",
    "sa1_gdf.to_file(\"temp/100/sa1_processed.shp\")\n",
    "sa1_gdf.simplify(0.0001).to_file(\"temp/0_0001/sa1_processed.shp\")\n",
    "sa1_gdf.simplify(0.0005).to_file(\"temp/0_0005/sa1_processed.shp\")"
   ]
  },
  {
   "cell_type": "code",
   "execution_count": null,
   "metadata": {},
   "outputs": [],
   "source": [
    "sa1_gdf.simplify(0.0001).explore()"
   ]
  },
  {
   "cell_type": "code",
   "execution_count": null,
   "metadata": {},
   "outputs": [],
   "source": [
    "import os\n",
    "\n",
    "\n",
    "def get_folder_size(folder_path):\n",
    "    total_size = 0\n",
    "    for dirpath, _dirnames, filenames in os.walk(folder_path):\n",
    "        for file in filenames:\n",
    "            file_path = os.path.join(dirpath, file)\n",
    "            # Check if it's a file before getting its size\n",
    "            if os.path.isfile(file_path):\n",
    "                total_size += os.path.getsize(file_path)\n",
    "    return total_size"
   ]
  },
  {
   "cell_type": "code",
   "execution_count": 15,
   "metadata": {},
   "outputs": [
    {
     "name": "stdout",
     "output_type": "stream",
     "text": [
      "Folder size: 152.02 MB\n",
      "Folder size: 45.16 MB\n",
      "Folder size: 24.92 MB\n"
     ]
    }
   ],
   "source": [
    "print(f\"Folder size: {get_folder_size(\"temp/100\") / (1024 ** 2):.2f} MB\")  # Convert to MB\n",
    "print(f\"Folder size: {get_folder_size(\"temp/0_0001\") / (1024 ** 2):.2f} MB\")  # Convert to MB\n",
    "print(f\"Folder size: {get_folder_size(\"temp/0_0005\") / (1024 ** 2):.2f} MB\")  # Convert to MB"
   ]
  },
  {
   "cell_type": "code",
   "execution_count": null,
   "metadata": {},
   "outputs": [],
   "source": []
  }
 ],
 "metadata": {
  "kernelspec": {
   "display_name": "Python 3",
   "language": "python",
   "name": "python3"
  },
  "language_info": {
   "codemirror_mode": {
    "name": "ipython",
    "version": 3
   },
   "file_extension": ".py",
   "mimetype": "text/x-python",
   "name": "python",
   "nbconvert_exporter": "python",
   "pygments_lexer": "ipython3",
   "version": "3.13.0"
  }
 },
 "nbformat": 4,
 "nbformat_minor": 2
}
