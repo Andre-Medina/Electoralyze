{
 "cells": [
  {
   "cell_type": "code",
   "execution_count": null,
   "metadata": {},
   "outputs": [],
   "source": [
    "%load_ext autoreload\n",
    "%autoreload 2\n",
    "\n",
    "import geopandas as gpd\n",
    "import pandas as pd\n",
    "import polars as pl\n",
    "import polars_st as st\n",
    "import pyogrio\n",
    "from electoralyze import region\n",
    "from electoralyze.common import constants\n",
    "from electoralyze.common.geometry import to_gpd_gdf, to_st_gdf"
   ]
  },
  {
   "cell_type": "code",
   "execution_count": null,
   "metadata": {},
   "outputs": [],
   "source": [
    "sa1 = region.SA1_2021.get_raw_geometry()"
   ]
  },
  {
   "cell_type": "code",
   "execution_count": null,
   "metadata": {},
   "outputs": [],
   "source": [
    "list(region.SA1_2021.get_ids())[10000:10003]"
   ]
  },
  {
   "cell_type": "code",
   "execution_count": null,
   "metadata": {},
   "outputs": [],
   "source": [
    "cropped_list = sa1.filter(pl.col(region.SA1_2021.id).cast(pl.String).str.starts_with(12202)).with_columns(\n",
    "    pl.col(region.SA1_2021.id).cast(pl.String).str.slice(0, 9).alias(\"sa2\")\n",
    ")\n",
    "cropped_list  # .pipe(to_gpd_gdf).explore()"
   ]
  },
  {
   "cell_type": "code",
   "execution_count": null,
   "metadata": {},
   "outputs": [],
   "source": [
    "cropped_list.group_by(\"sa2\").agg(pl.col(\"geometry\").st.union_all()).sort(\"sa2\")"
   ]
  },
  {
   "cell_type": "code",
   "execution_count": null,
   "metadata": {},
   "outputs": [],
   "source": [
    "cropped_list.with_columns(st.geom(\"geometry\").st.union_all())"
   ]
  },
  {
   "cell_type": "code",
   "execution_count": null,
   "metadata": {},
   "outputs": [],
   "source": [
    "st.GeoDataFrame(\n",
    "    {\n",
    "        \"x\": [1],\n",
    "        \"geometry\": sa1.filter(pl.col(region.SA1_2021.id).cast(pl.String).str.starts_with(122021691))[\n",
    "            \"geometry\"\n",
    "        ].st.union_all(),\n",
    "    }\n",
    ")  # .pipe(to_gpd_gdf)#.explore()"
   ]
  }
 ],
 "metadata": {
  "kernelspec": {
   "display_name": "Python 3",
   "language": "python",
   "name": "python3"
  },
  "language_info": {
   "codemirror_mode": {
    "name": "ipython",
    "version": 3
   },
   "file_extension": ".py",
   "mimetype": "text/x-python",
   "name": "python",
   "nbconvert_exporter": "python",
   "pygments_lexer": "ipython3",
   "version": "3.13.0"
  }
 },
 "nbformat": 4,
 "nbformat_minor": 2
}
