{
 "cells": [
  {
   "cell_type": "code",
   "execution_count": null,
   "metadata": {},
   "outputs": [],
   "source": [
    "import geopandas as gpd\n",
    "import polars as pl\n",
    "import polars_st as st\n",
    "import pyogrio"
   ]
  },
  {
   "cell_type": "code",
   "execution_count": null,
   "metadata": {},
   "outputs": [],
   "source": [
    "def to_st_gdf(gdp_gdf: gpd.GeoDataFrame) -> st.GeoDataFrame:\n",
    "    st_gdf = st.from_geopandas(gdp_gdf.to_crs(4326)).with_columns(st.geom(\"geometry\").st.set_srid(4326))\n",
    "    return st_gdf\n",
    "\n",
    "\n",
    "def to_gpd_gdf(st_gdf: st.GeoDataFrame) -> gpd.GeoDataFrame:\n",
    "    gpd_gdf = st_gdf.st.to_geopandas().set_crs(4326)\n",
    "    return gpd_gdf"
   ]
  },
  {
   "cell_type": "code",
   "execution_count": null,
   "metadata": {},
   "outputs": [],
   "source": [
    "sa1_file = \"temp/sa1_processed.shp\"\n",
    "sa1 = (\n",
    "    pyogrio.read_dataframe(sa1_file)\n",
    "    .pipe(to_st_gdf)\n",
    "    .select(pl.col(\"SA1_CODE21\").cast(pl.UInt64).alias(\"sa1\"), \"geometry\")\n",
    ")"
   ]
  },
  {
   "cell_type": "code",
   "execution_count": null,
   "metadata": {},
   "outputs": [],
   "source": [
    "sa2 = (\n",
    "    sa1.with_columns(\n",
    "        pl.col(\"sa1\").cast(pl.String).str.slice(0, 9).alias(\"sa2\"),\n",
    "        pl.col(\"sa1\").cast(pl.String).str.slice(0, 5).alias(\"sa3\"),\n",
    "        pl.col(\"sa1\").cast(pl.String).str.slice(0, 3).alias(\"sa4\"),\n",
    "        pl.col(\"sa1\").cast(pl.String).str.slice(0, 1).alias(\"s/t\"),\n",
    "    )\n",
    "    .group_by(\"sa3\")\n",
    "    .agg(st.geom(\"geometry\").st.union_all())\n",
    ")\n",
    "sa2"
   ]
  },
  {
   "cell_type": "code",
   "execution_count": null,
   "metadata": {},
   "outputs": [],
   "source": [
    "sa2.pipe(to_gpd_gdf).explore()"
   ]
  }
 ],
 "metadata": {
  "kernelspec": {
   "display_name": "Python 3",
   "language": "python",
   "name": "python3"
  },
  "language_info": {
   "codemirror_mode": {
    "name": "ipython",
    "version": 3
   },
   "file_extension": ".py",
   "mimetype": "text/x-python",
   "name": "python",
   "nbconvert_exporter": "python",
   "pygments_lexer": "ipython3",
   "version": "3.13.0"
  }
 },
 "nbformat": 4,
 "nbformat_minor": 2
}
